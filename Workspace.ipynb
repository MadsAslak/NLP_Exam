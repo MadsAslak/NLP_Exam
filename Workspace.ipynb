{
 "cells": [
  {
   "cell_type": "code",
   "execution_count": 20,
   "metadata": {},
   "outputs": [],
   "source": [
    "import pandas as pd\n",
    "import json\n",
    "import re\n",
    "import nltk\n",
    "from nltk.corpus import stopwords\n",
    "from nltk.tokenize import word_tokenize\n",
    "from nltk.stem import WordNetLemmatizer\n",
    "from bs4 import BeautifulSoup\n",
    "from tqdm import tqdm"
   ]
  },
  {
   "cell_type": "code",
   "execution_count": null,
   "metadata": {},
   "outputs": [],
   "source": [
    "#nltk.download('punkt')\n",
    "#nltk.download('stopwords')\n",
    "#nltk.download('wordnet')"
   ]
  },
  {
   "cell_type": "code",
   "execution_count": 14,
   "metadata": {},
   "outputs": [
    {
     "name": "stdout",
     "output_type": "stream",
     "text": [
      "(1000, 3)\n",
      "                                                  article  \\\n",
      "121639  By . Daily Mail Reporter . PUBLISHED: . 07:34 ...   \n",
      "188289  By . Lizzie Parry for MailOnline . A young can...   \n",
      "75440   Rebels aided by al Qaeda-linked militants seiz...   \n",
      "49582   (CNN) -- Two rights groups launched a stinging...   \n",
      "50612   (CNN) -- Puffing on electronic cigarettes is a...   \n",
      "\n",
      "                                               highlights  \\\n",
      "121639  President Barack Obama's top national security...   \n",
      "188289  Sophie Walton was diagnosed with bone cancer i...   \n",
      "75440   The Israeli military has closed off the area a...   \n",
      "49582   NEW: Trial resumes of Kremlin critic Aleksei N...   \n",
      "50612   Government proposes to explicitly ban the use ...   \n",
      "\n",
      "                                              id  \n",
      "121639  1211a23db42e7dd52a43e564a899ebbf1b2d1251  \n",
      "188289  aff92aa2fc6e294efeeed70e9b0a0aefac32b030  \n",
      "75440   bb7757b7bf3d90ec4f1d1915a4699eecafc25d1a  \n",
      "49582   8f25b2c54cb563b98e1f2619401df7137a3f0c77  \n",
      "50612   daa6ca8fe860fa70bed00e2bfd05ab7414b7cb0e  \n"
     ]
    }
   ],
   "source": [
    "# Define the file paths\n",
    "file_paths = [\n",
    "    'C:/Users/Mads/Documents/NLP/cnn_dailymail/3.0.0/train-00000-of-00003.parquet',\n",
    "    'C:/Users/Mads/Documents/NLP/cnn_dailymail/3.0.0/train-00001-of-00003.parquet',\n",
    "    'C:/Users/Mads/Documents/NLP/cnn_dailymail/3.0.0/train-00002-of-00003.parquet',\n",
    "]\n",
    "\n",
    "# Load and concatenate the Parquet files\n",
    "train_df_list = [pd.read_parquet(file) for file in file_paths]\n",
    "train_df = pd.concat(train_df_list, ignore_index=True)\n",
    "\n",
    "# Randomly sample 150,000 rows\n",
    "sampled_df = train_df.sample(n=1000, random_state=1)\n",
    "\n",
    "# Display the shape and the first few rows of the sampled DataFrame\n",
    "print(sampled_df.shape)\n",
    "print(sampled_df.head())\n"
   ]
  },
  {
   "cell_type": "code",
   "execution_count": 15,
   "metadata": {},
   "outputs": [],
   "source": [
    "sampled_df.to_csv('sampled_df.csv', index=False)"
   ]
  },
  {
   "cell_type": "code",
   "execution_count": 21,
   "metadata": {},
   "outputs": [],
   "source": [
    "lemmatizer = WordNetLemmatizer()\n",
    "\n",
    "file_path = 'data.csv'\n",
    "df = pd.read_csv(file_path)\n",
    "\n",
    "# Define stop words\n",
    "stop_words = set(stopwords.words('english'))\n",
    "\n",
    "# Function to clean text\n",
    "def clean_text(text):\n",
    "    # Remove HTML tags\n",
    "    text = BeautifulSoup(text, \"html.parser\").get_text()\n",
    "    \n",
    "    # Remove punctuation and special characters\n",
    "    text = re.sub(r'[^a-zA-Z\\s]', '', text)\n",
    "    \n",
    "    # Convert to lowercase\n",
    "    text = text.lower()\n",
    "    \n",
    "    # Tokenize text\n",
    "    words = word_tokenize(text)\n",
    "    \n",
    "    # Remove stop words and lemmatize\n",
    "    cleaned_text = ' '.join([lemmatizer.lemmatize(word) for word in words if word not in stop_words])\n",
    "    \n",
    "    return cleaned_text\n",
    "\n",
    "# Apply the cleaning function with progress bars\n",
    "tqdm.pandas()"
   ]
  },
  {
   "cell_type": "code",
   "execution_count": 22,
   "metadata": {},
   "outputs": [
    {
     "name": "stderr",
     "output_type": "stream",
     "text": [
      "100%|██████████| 150000/150000 [08:42<00:00, 287.04it/s]\n"
     ]
    }
   ],
   "source": [
    "# Apply the cleaning function to both the 'article' and 'highlights' columns\n",
    "df['cleaned_article'] = df['article'].progress_apply(clean_text)"
   ]
  },
  {
   "cell_type": "code",
   "execution_count": 23,
   "metadata": {},
   "outputs": [
    {
     "name": "stderr",
     "output_type": "stream",
     "text": [
      "  0%|          | 0/150000 [00:00<?, ?it/s]C:\\Users\\Mads\\AppData\\Local\\Temp\\ipykernel_11968\\3075676461.py:12: MarkupResemblesLocatorWarning: The input looks more like a filename than markup. You may want to open this file and pass the filehandle into Beautiful Soup.\n",
      "  text = BeautifulSoup(text, \"html.parser\").get_text()\n",
      "100%|██████████| 150000/150000 [01:09<00:00, 2144.44it/s]\n"
     ]
    }
   ],
   "source": [
    "df['cleaned_highlights'] = df['highlights'].progress_apply(clean_text)"
   ]
  },
  {
   "cell_type": "code",
   "execution_count": 29,
   "metadata": {},
   "outputs": [],
   "source": [
    "cleaned_file_path = 'cleaned_data.csv'"
   ]
  },
  {
   "cell_type": "code",
   "execution_count": 28,
   "metadata": {},
   "outputs": [],
   "source": [
    "df.to_csv(cleaned_file_path, index=False)"
   ]
  },
  {
   "cell_type": "code",
   "execution_count": 27,
   "metadata": {},
   "outputs": [
    {
     "data": {
      "text/html": [
       "<div>\n",
       "<style scoped>\n",
       "    .dataframe tbody tr th:only-of-type {\n",
       "        vertical-align: middle;\n",
       "    }\n",
       "\n",
       "    .dataframe tbody tr th {\n",
       "        vertical-align: top;\n",
       "    }\n",
       "\n",
       "    .dataframe thead th {\n",
       "        text-align: right;\n",
       "    }\n",
       "</style>\n",
       "<table border=\"1\" class=\"dataframe\">\n",
       "  <thead>\n",
       "    <tr style=\"text-align: right;\">\n",
       "      <th></th>\n",
       "      <th>id</th>\n",
       "      <th>cleaned_article</th>\n",
       "      <th>cleaned_highlights</th>\n",
       "    </tr>\n",
       "  </thead>\n",
       "  <tbody>\n",
       "    <tr>\n",
       "      <th>0</th>\n",
       "      <td>1211a23db42e7dd52a43e564a899ebbf1b2d1251</td>\n",
       "      <td>daily mail reporter published est june updated...</td>\n",
       "      <td>president barack obamas top national security ...</td>\n",
       "    </tr>\n",
       "    <tr>\n",
       "      <th>1</th>\n",
       "      <td>aff92aa2fc6e294efeeed70e9b0a0aefac32b030</td>\n",
       "      <td>lizzie parry mailonline young cancer victim to...</td>\n",
       "      <td>sophie walton diagnosed bone cancer discoverin...</td>\n",
       "    </tr>\n",
       "    <tr>\n",
       "      <th>2</th>\n",
       "      <td>bb7757b7bf3d90ec4f1d1915a4699eecafc25d1a</td>\n",
       "      <td>rebel aided al qaedalinked militant seized con...</td>\n",
       "      <td>israeli military closed area around crossing o...</td>\n",
       "    </tr>\n",
       "    <tr>\n",
       "      <th>3</th>\n",
       "      <td>8f25b2c54cb563b98e1f2619401df7137a3f0c77</td>\n",
       "      <td>cnn two right group launched stinging critique...</td>\n",
       "      <td>new trial resume kremlin critic aleksei navaln...</td>\n",
       "    </tr>\n",
       "    <tr>\n",
       "      <th>4</th>\n",
       "      <td>daa6ca8fe860fa70bed00e2bfd05ab7414b7cb0e</td>\n",
       "      <td>cnn puffing electronic cigarette already nono ...</td>\n",
       "      <td>government proposes explicitly ban use electro...</td>\n",
       "    </tr>\n",
       "    <tr>\n",
       "      <th>5</th>\n",
       "      <td>c0cdf7175fc2032b547fafa8fb72c104886d38b7</td>\n",
       "      <td>barely half century since part thames declared...</td>\n",
       "      <td>million openair pool built middle thames centr...</td>\n",
       "    </tr>\n",
       "    <tr>\n",
       "      <th>6</th>\n",
       "      <td>efed3617e3c01ba45b090f6fc6a62a7e77131576</td>\n",
       "      <td>go history year social medium truly came selfi...</td>\n",
       "      <td>oscar selfie retweeted two million time broke ...</td>\n",
       "    </tr>\n",
       "    <tr>\n",
       "      <th>7</th>\n",
       "      <td>694eb1e7c38a77d5eabb0e630e4194f47fa0bb08</td>\n",
       "      <td>jailed grandmotheroftwo carla buckle sentenced...</td>\n",
       "      <td>carla buckle taken court paying council tax gr...</td>\n",
       "    </tr>\n",
       "    <tr>\n",
       "      <th>8</th>\n",
       "      <td>34964187fef7eb394d7d192f6197d315fcb7d852</td>\n",
       "      <td>baghdad cnn iraqi security force raided farm b...</td>\n",
       "      <td>new curfew imposed anbar province overnight st...</td>\n",
       "    </tr>\n",
       "    <tr>\n",
       "      <th>9</th>\n",
       "      <td>e1cffc79b05bd0a1a63137086ede6811762f3fc9</td>\n",
       "      <td>cnn china rallying around fallen hurdler liu x...</td>\n",
       "      <td>china rallying around hurdler liu xiang failed...</td>\n",
       "    </tr>\n",
       "  </tbody>\n",
       "</table>\n",
       "</div>"
      ],
      "text/plain": [
       "                                         id  \\\n",
       "0  1211a23db42e7dd52a43e564a899ebbf1b2d1251   \n",
       "1  aff92aa2fc6e294efeeed70e9b0a0aefac32b030   \n",
       "2  bb7757b7bf3d90ec4f1d1915a4699eecafc25d1a   \n",
       "3  8f25b2c54cb563b98e1f2619401df7137a3f0c77   \n",
       "4  daa6ca8fe860fa70bed00e2bfd05ab7414b7cb0e   \n",
       "5  c0cdf7175fc2032b547fafa8fb72c104886d38b7   \n",
       "6  efed3617e3c01ba45b090f6fc6a62a7e77131576   \n",
       "7  694eb1e7c38a77d5eabb0e630e4194f47fa0bb08   \n",
       "8  34964187fef7eb394d7d192f6197d315fcb7d852   \n",
       "9  e1cffc79b05bd0a1a63137086ede6811762f3fc9   \n",
       "\n",
       "                                     cleaned_article  \\\n",
       "0  daily mail reporter published est june updated...   \n",
       "1  lizzie parry mailonline young cancer victim to...   \n",
       "2  rebel aided al qaedalinked militant seized con...   \n",
       "3  cnn two right group launched stinging critique...   \n",
       "4  cnn puffing electronic cigarette already nono ...   \n",
       "5  barely half century since part thames declared...   \n",
       "6  go history year social medium truly came selfi...   \n",
       "7  jailed grandmotheroftwo carla buckle sentenced...   \n",
       "8  baghdad cnn iraqi security force raided farm b...   \n",
       "9  cnn china rallying around fallen hurdler liu x...   \n",
       "\n",
       "                                  cleaned_highlights  \n",
       "0  president barack obamas top national security ...  \n",
       "1  sophie walton diagnosed bone cancer discoverin...  \n",
       "2  israeli military closed area around crossing o...  \n",
       "3  new trial resume kremlin critic aleksei navaln...  \n",
       "4  government proposes explicitly ban use electro...  \n",
       "5  million openair pool built middle thames centr...  \n",
       "6  oscar selfie retweeted two million time broke ...  \n",
       "7  carla buckle taken court paying council tax gr...  \n",
       "8  new curfew imposed anbar province overnight st...  \n",
       "9  china rallying around hurdler liu xiang failed...  "
      ]
     },
     "execution_count": 27,
     "metadata": {},
     "output_type": "execute_result"
    }
   ],
   "source": [
    "df.head(10)"
   ]
  }
 ],
 "metadata": {
  "kernelspec": {
   "display_name": "Python 3",
   "language": "python",
   "name": "python3"
  },
  "language_info": {
   "codemirror_mode": {
    "name": "ipython",
    "version": 3
   },
   "file_extension": ".py",
   "mimetype": "text/x-python",
   "name": "python",
   "nbconvert_exporter": "python",
   "pygments_lexer": "ipython3",
   "version": "3.11.9"
  }
 },
 "nbformat": 4,
 "nbformat_minor": 2
}
