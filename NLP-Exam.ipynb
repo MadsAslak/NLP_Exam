{
 "cells": [
  {
   "cell_type": "code",
   "execution_count": 1,
   "metadata": {},
   "outputs": [],
   "source": [
    "!pip install --quiet nltk\n",
    "!pip install --quiet bs4\n",
    "!pip install --quiet tqdm"
   ]
  },
  {
   "cell_type": "code",
   "execution_count": 2,
   "metadata": {},
   "outputs": [],
   "source": [
    "import pandas as pd\n",
    "import json\n",
    "import re\n",
    "import nltk\n",
    "from nltk.corpus import stopwords\n",
    "from nltk.tokenize import word_tokenize\n",
    "from nltk.stem import WordNetLemmatizer\n",
    "from bs4 import BeautifulSoup\n",
    "from tqdm import tqdm"
   ]
  },
  {
   "cell_type": "code",
   "execution_count": 3,
   "metadata": {},
   "outputs": [
    {
     "name": "stderr",
     "output_type": "stream",
     "text": [
      "[nltk_data] Downloading package punkt to /home/ucloud/nltk_data...\n",
      "[nltk_data]   Unzipping tokenizers/punkt.zip.\n",
      "[nltk_data] Downloading package stopwords to /home/ucloud/nltk_data...\n",
      "[nltk_data]   Unzipping corpora/stopwords.zip.\n",
      "[nltk_data] Downloading package wordnet to /home/ucloud/nltk_data...\n"
     ]
    },
    {
     "data": {
      "text/plain": [
       "True"
      ]
     },
     "execution_count": 3,
     "metadata": {},
     "output_type": "execute_result"
    }
   ],
   "source": [
    "nltk.download('punkt')\n",
    "nltk.download('stopwords')\n",
    "nltk.download('wordnet')"
   ]
  },
  {
   "cell_type": "markdown",
   "metadata": {},
   "source": [
    "## Loading in the data and preprocessing"
   ]
  },
  {
   "cell_type": "code",
   "execution_count": 14,
   "metadata": {},
   "outputs": [
    {
     "name": "stdout",
     "output_type": "stream",
     "text": [
      "(1000, 3)\n",
      "                                                  article  \\\n",
      "121639  By . Daily Mail Reporter . PUBLISHED: . 07:34 ...   \n",
      "188289  By . Lizzie Parry for MailOnline . A young can...   \n",
      "75440   Rebels aided by al Qaeda-linked militants seiz...   \n",
      "49582   (CNN) -- Two rights groups launched a stinging...   \n",
      "50612   (CNN) -- Puffing on electronic cigarettes is a...   \n",
      "\n",
      "                                               highlights  \\\n",
      "121639  President Barack Obama's top national security...   \n",
      "188289  Sophie Walton was diagnosed with bone cancer i...   \n",
      "75440   The Israeli military has closed off the area a...   \n",
      "49582   NEW: Trial resumes of Kremlin critic Aleksei N...   \n",
      "50612   Government proposes to explicitly ban the use ...   \n",
      "\n",
      "                                              id  \n",
      "121639  1211a23db42e7dd52a43e564a899ebbf1b2d1251  \n",
      "188289  aff92aa2fc6e294efeeed70e9b0a0aefac32b030  \n",
      "75440   bb7757b7bf3d90ec4f1d1915a4699eecafc25d1a  \n",
      "49582   8f25b2c54cb563b98e1f2619401df7137a3f0c77  \n",
      "50612   daa6ca8fe860fa70bed00e2bfd05ab7414b7cb0e  \n"
     ]
    }
   ],
   "source": [
    "# Define the file paths\n",
    "file_paths = [\n",
    "    'C:/Users/Mads/Documents/NLP/cnn_dailymail/3.0.0/train-00000-of-00003.parquet',\n",
    "    'C:/Users/Mads/Documents/NLP/cnn_dailymail/3.0.0/train-00001-of-00003.parquet',\n",
    "    'C:/Users/Mads/Documents/NLP/cnn_dailymail/3.0.0/train-00002-of-00003.parquet',\n",
    "]\n",
    "\n",
    "# Load and concatenate the Parquet files\n",
    "train_df_list = [pd.read_parquet(file) for file in file_paths]\n",
    "train_df = pd.concat(train_df_list, ignore_index=True)\n",
    "\n",
    "# Randomly sample 150,000 rows\n",
    "sampled_df = train_df.sample(n=1000, random_state=1)\n",
    "\n",
    "# Display the shape and the first few rows of the sampled DataFrame\n",
    "print(sampled_df.shape)\n",
    "print(sampled_df.head())\n"
   ]
  },
  {
   "cell_type": "code",
   "execution_count": 15,
   "metadata": {},
   "outputs": [],
   "source": [
    "sampled_df.to_csv('sampled_df.csv', index=False)"
   ]
  },
  {
   "cell_type": "code",
   "execution_count": 21,
   "metadata": {},
   "outputs": [],
   "source": [
    "lemmatizer = WordNetLemmatizer()\n",
    "\n",
    "file_path = 'data.csv'\n",
    "df = pd.read_csv(file_path)\n",
    "\n",
    "# Define stop words\n",
    "stop_words = set(stopwords.words('english'))\n",
    "\n",
    "# Function to clean text\n",
    "def clean_text(text):\n",
    "    # Remove HTML tags\n",
    "    text = BeautifulSoup(text, \"html.parser\").get_text()\n",
    "    \n",
    "    # Remove punctuation and special characters\n",
    "    text = re.sub(r'[^a-zA-Z\\s]', '', text)\n",
    "    \n",
    "    # Convert to lowercase\n",
    "    text = text.lower()\n",
    "    \n",
    "    # Tokenize text\n",
    "    words = word_tokenize(text)\n",
    "    \n",
    "    # Remove stop words and lemmatize\n",
    "    cleaned_text = ' '.join([lemmatizer.lemmatize(word) for word in words if word not in stop_words])\n",
    "    \n",
    "    return cleaned_text\n",
    "\n",
    "# Apply the cleaning function with progress bars\n",
    "tqdm.pandas()"
   ]
  },
  {
   "cell_type": "code",
   "execution_count": 22,
   "metadata": {},
   "outputs": [
    {
     "name": "stderr",
     "output_type": "stream",
     "text": [
      "100%|██████████| 150000/150000 [08:42<00:00, 287.04it/s]\n"
     ]
    }
   ],
   "source": [
    "# Apply the cleaning function to both the 'article' and 'highlights' columns\n",
    "df['cleaned_article'] = df['article'].progress_apply(clean_text)"
   ]
  },
  {
   "cell_type": "code",
   "execution_count": 23,
   "metadata": {},
   "outputs": [
    {
     "name": "stderr",
     "output_type": "stream",
     "text": [
      "  0%|          | 0/150000 [00:00<?, ?it/s]C:\\Users\\Mads\\AppData\\Local\\Temp\\ipykernel_11968\\3075676461.py:12: MarkupResemblesLocatorWarning: The input looks more like a filename than markup. You may want to open this file and pass the filehandle into Beautiful Soup.\n",
      "  text = BeautifulSoup(text, \"html.parser\").get_text()\n",
      "100%|██████████| 150000/150000 [01:09<00:00, 2144.44it/s]\n"
     ]
    }
   ],
   "source": [
    "df['cleaned_highlights'] = df['highlights'].progress_apply(clean_text)"
   ]
  },
  {
   "cell_type": "code",
   "execution_count": 29,
   "metadata": {},
   "outputs": [],
   "source": [
    "cleaned_file_path = 'cleaned_data.csv'"
   ]
  },
  {
   "cell_type": "code",
   "execution_count": 28,
   "metadata": {},
   "outputs": [],
   "source": [
    "df.to_csv(cleaned_file_path, index=False)"
   ]
  },
  {
   "cell_type": "markdown",
   "metadata": {},
   "source": [
    "## Loading in our preprocessed df"
   ]
  },
  {
   "cell_type": "markdown",
   "metadata": {},
   "source": [
    "ubuntu commands required to load in the file uploaded to github using the large file system.\n",
    "sudo apt-get update\n",
    "sudo apt-get install git-lfs\n",
    "git lfs install\n",
    "git lfs pull\n"
   ]
  },
  {
   "cell_type": "code",
   "execution_count": 4,
   "metadata": {},
   "outputs": [
    {
     "data": {
      "text/html": [
       "<div>\n",
       "<style scoped>\n",
       "    .dataframe tbody tr th:only-of-type {\n",
       "        vertical-align: middle;\n",
       "    }\n",
       "\n",
       "    .dataframe tbody tr th {\n",
       "        vertical-align: top;\n",
       "    }\n",
       "\n",
       "    .dataframe thead th {\n",
       "        text-align: right;\n",
       "    }\n",
       "</style>\n",
       "<table border=\"1\" class=\"dataframe\">\n",
       "  <thead>\n",
       "    <tr style=\"text-align: right;\">\n",
       "      <th></th>\n",
       "      <th>id</th>\n",
       "      <th>cleaned_article</th>\n",
       "      <th>cleaned_highlights</th>\n",
       "    </tr>\n",
       "  </thead>\n",
       "  <tbody>\n",
       "    <tr>\n",
       "      <th>0</th>\n",
       "      <td>1211a23db42e7dd52a43e564a899ebbf1b2d1251</td>\n",
       "      <td>daily mail reporter published est june updated...</td>\n",
       "      <td>president barack obamas top national security ...</td>\n",
       "    </tr>\n",
       "    <tr>\n",
       "      <th>1</th>\n",
       "      <td>aff92aa2fc6e294efeeed70e9b0a0aefac32b030</td>\n",
       "      <td>lizzie parry mailonline young cancer victim to...</td>\n",
       "      <td>sophie walton diagnosed bone cancer discoverin...</td>\n",
       "    </tr>\n",
       "    <tr>\n",
       "      <th>2</th>\n",
       "      <td>bb7757b7bf3d90ec4f1d1915a4699eecafc25d1a</td>\n",
       "      <td>rebel aided al qaedalinked militant seized con...</td>\n",
       "      <td>israeli military closed area around crossing o...</td>\n",
       "    </tr>\n",
       "    <tr>\n",
       "      <th>3</th>\n",
       "      <td>8f25b2c54cb563b98e1f2619401df7137a3f0c77</td>\n",
       "      <td>cnn two right group launched stinging critique...</td>\n",
       "      <td>new trial resume kremlin critic aleksei navaln...</td>\n",
       "    </tr>\n",
       "    <tr>\n",
       "      <th>4</th>\n",
       "      <td>daa6ca8fe860fa70bed00e2bfd05ab7414b7cb0e</td>\n",
       "      <td>cnn puffing electronic cigarette already nono ...</td>\n",
       "      <td>government proposes explicitly ban use electro...</td>\n",
       "    </tr>\n",
       "  </tbody>\n",
       "</table>\n",
       "</div>"
      ],
      "text/plain": [
       "                                         id  \\\n",
       "0  1211a23db42e7dd52a43e564a899ebbf1b2d1251   \n",
       "1  aff92aa2fc6e294efeeed70e9b0a0aefac32b030   \n",
       "2  bb7757b7bf3d90ec4f1d1915a4699eecafc25d1a   \n",
       "3  8f25b2c54cb563b98e1f2619401df7137a3f0c77   \n",
       "4  daa6ca8fe860fa70bed00e2bfd05ab7414b7cb0e   \n",
       "\n",
       "                                     cleaned_article  \\\n",
       "0  daily mail reporter published est june updated...   \n",
       "1  lizzie parry mailonline young cancer victim to...   \n",
       "2  rebel aided al qaedalinked militant seized con...   \n",
       "3  cnn two right group launched stinging critique...   \n",
       "4  cnn puffing electronic cigarette already nono ...   \n",
       "\n",
       "                                  cleaned_highlights  \n",
       "0  president barack obamas top national security ...  \n",
       "1  sophie walton diagnosed bone cancer discoverin...  \n",
       "2  israeli military closed area around crossing o...  \n",
       "3  new trial resume kremlin critic aleksei navaln...  \n",
       "4  government proposes explicitly ban use electro...  "
      ]
     },
     "execution_count": 4,
     "metadata": {},
     "output_type": "execute_result"
    }
   ],
   "source": [
    "df = pd.read_csv('cleaned_data.csv')\n",
    "df.head()"
   ]
  },
  {
   "cell_type": "code",
   "execution_count": 5,
   "metadata": {},
   "outputs": [],
   "source": [
    "!pip install --quiet tensorflow"
   ]
  },
  {
   "cell_type": "code",
   "execution_count": 19,
   "metadata": {},
   "outputs": [],
   "source": [
    "from tensorflow.keras.preprocessing.text import Tokenizer\n",
    "from tensorflow.keras.preprocessing.sequence import pad_sequences"
   ]
  },
  {
   "cell_type": "code",
   "execution_count": 12,
   "metadata": {},
   "outputs": [
    {
     "data": {
      "text/plain": [
       "13408"
      ]
     },
     "execution_count": 12,
     "metadata": {},
     "output_type": "execute_result"
    }
   ],
   "source": [
    "max(len(sequences) for sequences in df.cleaned_article)"
   ]
  },
  {
   "cell_type": "code",
   "execution_count": 65,
   "metadata": {},
   "outputs": [],
   "source": [
    "# Tokenizer\n",
    "tokenizer_article = Tokenizer(num_words = 10000, oov_token='<OOV>')\n",
    "tokenizer_article.fit_on_texts(df.cleaned_article)\n",
    "\n",
    "tokenizer_summary = Tokenizer(num_words = 10000, oov_token='<OOV>')\n",
    "tokenizer_summary.fit_on_texts(df.cleaned_highlights)\n",
    "\n",
    "tokenized_article = tokenizer_article.texts_to_sequences(df.cleaned_article)\n",
    "tokenized_summary = tokenizer_summary.texts_to_sequences(df.cleaned_highlights)"
   ]
  },
  {
   "cell_type": "markdown",
   "metadata": {},
   "source": [
    "### Potential outlier detection"
   ]
  },
  {
   "cell_type": "code",
   "execution_count": 66,
   "metadata": {},
   "outputs": [
    {
     "name": "stdout",
     "output_type": "stream",
     "text": [
      "1828 717\n"
     ]
    }
   ],
   "source": [
    "max_article_len = max(len(sequence) for sequence in tokenized_article)\n",
    "max_summary_len = max(len(sequence) for sequence in tokenized_summary)\n",
    "\n",
    "print(max_article_len, max_summary_len)"
   ]
  },
  {
   "cell_type": "code",
   "execution_count": 67,
   "metadata": {},
   "outputs": [
    {
     "name": "stderr",
     "output_type": "stream",
     "text": [
      "/tmp/ipykernel_240/844912644.py:22: FutureWarning: \n",
      "\n",
      "Passing `palette` without assigning `hue` is deprecated and will be removed in v0.14.0. Assign the `x` variable to `hue` and set `legend=False` for the same effect.\n",
      "\n",
      "  sns.boxplot(y='Article Length', data=lengths_df, palette='Set2')\n",
      "/tmp/ipykernel_240/844912644.py:29: FutureWarning: \n",
      "\n",
      "Passing `palette` without assigning `hue` is deprecated and will be removed in v0.14.0. Assign the `x` variable to `hue` and set `legend=False` for the same effect.\n",
      "\n",
      "  sns.boxplot(y='Summary Length', data=lengths_df, palette='Set2')\n"
     ]
    },
    {
     "data": {
      "image/png": "[encoded data removed]",
      "text/plain": [
       "<Figure size 1400x1200 with 2 Axes>"
      ]
     },
     "metadata": {},
     "output_type": "display_data"
    }
   ],
   "source": [
    "import matplotlib.pyplot as plt\n",
    "!pip install --quiet seaborn\n",
    "import seaborn as sns\n",
    "\n",
    "article_lengths = [len(sequence) for sequence in tokenized_article]\n",
    "summary_lengths = [len(sequence) for sequence in tokenized_summary]\n",
    "\n",
    "# Create a DataFrame for plotting\n",
    "lengths_df = pd.DataFrame({\n",
    "    'Article Length': article_lengths,\n",
    "    'Summary Length': summary_lengths\n",
    "})\n",
    "\n",
    "# Melt the DataFrame to a long format\n",
    "lengths_df_melted = lengths_df.melt(var_name='Type', value_name='Length')\n",
    "\n",
    "# Plot violin plots using Seaborn\n",
    "plt.figure(figsize=(14, 12))\n",
    "\n",
    "# Violin plot for Article Lengths\n",
    "plt.subplot(1, 2, 1)\n",
    "sns.boxplot(y='Article Length', data=lengths_df, palette='Set2')\n",
    "plt.title('Violin Plot of Article Lengths')\n",
    "plt.xlabel('')\n",
    "plt.ylabel('Length')\n",
    "\n",
    "# Violin plot for Summary Lengths\n",
    "plt.subplot(1, 2, 2)\n",
    "sns.boxplot(y='Summary Length', data=lengths_df, palette='Set2')\n",
    "plt.title('Violin Plot of Summary Lengths')\n",
    "plt.xlabel('')\n",
    "plt.ylabel('Length')\n",
    "\n",
    "plt.tight_layout()\n",
    "plt.show()"
   ]
  },
  {
   "cell_type": "code",
   "execution_count": 68,
   "metadata": {},
   "outputs": [
    {
     "name": "stdout",
     "output_type": "stream",
     "text": [
      "Instances remove:  40\n"
     ]
    }
   ],
   "source": [
    "#removing outliers:\n",
    "# Identify indices of summaries longer than 150 tokens\n",
    "indices_to_remove = [i for i, length in enumerate(summary_lengths) if length > 150]\n",
    "print(\"Instances remove: \", len(indices_to_remove))\n",
    "\n",
    "# Remove the corresponding articles and summaries\n",
    "filtered_articles = [article for i, article in enumerate(tokenized_article) if i not in indices_to_remove]\n",
    "filtered_summaries = [summary for i, summary in enumerate(tokenized_summary) if i not in indices_to_remove]\n"
   ]
  },
  {
   "cell_type": "code",
   "execution_count": 71,
   "metadata": {},
   "outputs": [
    {
     "name": "stdout",
     "output_type": "stream",
     "text": [
      "Instances removed:  3\n"
     ]
    }
   ],
   "source": [
    "article_lengths = [len(sequence) for sequence in filtered_articles]\n",
    "summary_lengths = [len(sequence) for sequence in filtered_summaries]\n",
    "#indetify indices of articles longer than 1200 tokens\n",
    "indices_to_remove = [i for i, length in enumerate(article_lengths) if length > 1200]\n",
    "print(\"Instances removed: \", len(indices_to_remove))\n",
    "\n",
    "# remove the corresponding articles and summaries\n",
    "filtered_articles = [article for i, article in enumerate(filtered_articles) if i not in indices_to_remove]\n",
    "filtered_summaries = [summary for i, summary in enumerate(filtered_summaries) if i not in indices_to_remove]"
   ]
  },
  {
   "cell_type": "code",
   "execution_count": 72,
   "metadata": {},
   "outputs": [
    {
     "name": "stdout",
     "output_type": "stream",
     "text": [
      "149957 149957\n"
     ]
    }
   ],
   "source": [
    "print(len(filtered_articles), len(filtered_summaries))"
   ]
  },
  {
   "cell_type": "markdown",
   "metadata": {},
   "source": [
    "## Padding to ensure that our text-sequences are of the same length"
   ]
  },
  {
   "cell_type": "code",
   "execution_count": 74,
   "metadata": {},
   "outputs": [
    {
     "name": "stdout",
     "output_type": "stream",
     "text": [
      "1184 149\n"
     ]
    },
    {
     "name": "stderr",
     "output_type": "stream",
     "text": [
      "/tmp/ipykernel_240/3070405093.py:21: FutureWarning: \n",
      "\n",
      "Passing `palette` without assigning `hue` is deprecated and will be removed in v0.14.0. Assign the `x` variable to `hue` and set `legend=False` for the same effect.\n",
      "\n",
      "  sns.boxplot(y='Article Length', data=new_lengths_df, palette='Set2')\n",
      "/tmp/ipykernel_240/3070405093.py:28: FutureWarning: \n",
      "\n",
      "Passing `palette` without assigning `hue` is deprecated and will be removed in v0.14.0. Assign the `x` variable to `hue` and set `legend=False` for the same effect.\n",
      "\n",
      "  sns.boxplot(y='Summary Length', data=new_lengths_df, palette='Set2')\n"
     ]
    },
    {
     "data": {
      "image/png": "[encoded data removed]",
      "text/plain": [
       "<Figure size 1400x1200 with 2 Axes>"
      ]
     },
     "metadata": {},
     "output_type": "display_data"
    }
   ],
   "source": [
    "max_article_len = max(len(sequence) for sequence in filtered_articles)\n",
    "max_summary_len = max(len(sequence) for sequence in filtered_summaries)\n",
    "\n",
    "print(max_article_len, max_summary_len)\n",
    "\n",
    "# Plot new distributions\n",
    "new_article_lengths = [len(sequence) for sequence in filtered_articles]\n",
    "new_summary_lengths = [len(sequence) for sequence in filtered_summaries]\n",
    "\n",
    "# Create a new DataFrame for plotting\n",
    "new_lengths_df = pd.DataFrame({\n",
    "    'Article Length': new_article_lengths,\n",
    "    'Summary Length': new_summary_lengths\n",
    "})\n",
    "\n",
    "# Plot new box plots\n",
    "plt.figure(figsize=(14, 12))\n",
    "\n",
    "# Box plot for new Article Lengths\n",
    "plt.subplot(1, 2, 1)\n",
    "sns.boxplot(y='Article Length', data=new_lengths_df, palette='Set2')\n",
    "plt.title('Box Plot of Article Lengths After Outlier Removal')\n",
    "plt.xlabel('')\n",
    "plt.ylabel('Length')\n",
    "\n",
    "# Box plot for new Summary Lengths\n",
    "plt.subplot(1, 2, 2)\n",
    "sns.boxplot(y='Summary Length', data=new_lengths_df, palette='Set2')\n",
    "plt.title('Box Plot of Summary Lengths After Outlier Removal')\n",
    "plt.xlabel('')\n",
    "plt.ylabel('Length')\n",
    "\n",
    "plt.tight_layout()\n",
    "plt.show()"
   ]
  },
  {
   "cell_type": "code",
   "execution_count": 75,
   "metadata": {},
   "outputs": [],
   "source": [
    "from tensorflow.keras.preprocessing.sequence import pad_sequences\n",
    "padded_article_sequences = pad_sequences(filtered_articles, max_article_len, padding='post', truncating='post')\n",
    "padded_summary_sequences = pad_sequences(filtered_summaries, max_summary_len, padding = 'post', truncating = 'post')"
   ]
  },
  {
   "cell_type": "markdown",
   "metadata": {},
   "source": [
    "## Building our network"
   ]
  },
  {
   "cell_type": "code",
   "execution_count": 85,
   "metadata": {},
   "outputs": [],
   "source": [
    "!pip install --quiet keras-tuner"
   ]
  },
  {
   "cell_type": "code",
   "execution_count": 86,
   "metadata": {},
   "outputs": [],
   "source": [
    "import keras_tuner as kt\n",
    "from tensorflow.keras.models import Sequential\n",
    "from tensorflow.keras.layers import LSTM, Dense, Embedding, Dropout\n",
    "from tensorflow.keras.optimizers import Adam\n",
    "\n",
    "def build_model(hp):\n",
    "    # Encoder\n",
    "    encoder_inputs = Input(shape=(max_article_len,))\n",
    "    encoder_embedding = Embedding(input_dim=10000, output_dim=hp.Int('embedding_dim', min_value=100, max_value=300, step=50))(encoder_inputs)\n",
    "    encoder_lstm = LSTM(units=hp.Int('encoder_lstm_units', min_value=50, max_value=200, step=50), return_state=True, \n",
    "                       dropout=hp.Float('encoder_dropout', 0.0, 0.5, step=0.1))\n",
    "    encoder_outputs, state_h, state_c = encoder_lstm(encoder_embedding)\n",
    "    encoder_states = [state_h, state_c]\n",
    "\n",
    "    # Decoder\n",
    "    decoder_inputs = Input(shape=(None,))\n",
    "    decoder_embedding = Embedding(input_dim=10000, output_dim=hp.Int('embedding_dim', min_value=100, max_value=300, step=50))(decoder_inputs)\n",
    "    decoder_lstm = LSTM(units=hp.Int('decoder_lstm_units', min_value=50, max_value=200, step=50), return_sequences=True, return_state=True,\n",
    "                       dropout=hp.Float('encoder_dropout', 0.0, 0.5, step=0.1))\n",
    "    decoder_outputs, _, _ = decoder_lstm(decoder_embedding, initial_state=encoder_states)\n",
    "    decoder_dense = Dense(vocab_size, activation='softmax')\n",
    "    decoder_outputs = decoder_dense(decoder_outputs)\n",
    "    \n",
    "    # Compile the model\n",
    "    model = Model([encoder_inputs, decoder_inputs], decoder_outputs)\n",
    "    optimizer = Adam(learning_rate=hp.Choice('learning_rate', values=[1e-2, 1e-3, 1e-4]))\n",
    "    model.compile(optimizer=optimizer, loss='sparse_categorical_crossentropy', metrics=['accuracy'])\n",
    "    \n",
    "    return model\n"
   ]
  },
  {
   "cell_type": "code",
   "execution_count": 93,
   "metadata": {},
   "outputs": [],
   "source": [
    "# Create decoder input sequences by right-shifting the padded summary sequences\n",
    "!pip install --quiet scikit-learn\n",
    "from sklearn.model_selection import train_test_split\n",
    "# Create decoder input sequences by right-shifting the padded summary sequences\n",
    "decoder_input_sequences = np.zeros_like(padded_summary_sequences)\n",
    "decoder_input_sequences[:, 1:] = padded_summary_sequences[:, :-1]\n",
    "decoder_input_sequences[:, 0] = 0  # Use padding token (0) as the start token\n",
    "\n",
    "labels = padded_summary_sequences\n",
    "\n",
    "# Combine encoder inputs, decoder inputs, and labels for consistent splitting\n",
    "data_combined = list(zip(padded_article_sequences, decoder_input_sequences))\n",
    "labels_combined = labels\n",
    "\n",
    "# Split the data\n",
    "X_train_combined, X_val_combined, y_train, y_val = train_test_split(data_combined, labels_combined, test_size=0.2, random_state=42)\n",
    "\n",
    "# Separate encoder and decoder inputs after splitting\n",
    "X_train_encoder, X_train_decoder = zip(*X_train_combined)\n",
    "X_val_encoder, X_val_decoder = zip(*X_val_combined)\n",
    "\n",
    "# Convert tuples back to numpy arrays\n",
    "X_train_encoder = np.array(X_train_encoder)\n",
    "X_train_decoder = np.array(X_train_decoder)\n",
    "X_val_encoder = np.array(X_val_encoder)\n",
    "X_val_decoder = np.array(X_val_decoder)\n"
   ]
  },
  {
   "cell_type": "code",
   "execution_count": null,
   "metadata": {},
   "outputs": [],
   "source": []
  },
  {
   "cell_type": "code",
   "execution_count": 102,
   "metadata": {},
   "outputs": [
    {
     "name": "stdout",
     "output_type": "stream",
     "text": [
      "Requirement already satisfied: scipy in /opt/conda/lib/python3.10/site-packages (1.13.1)\n",
      "Requirement already satisfied: scikit-learn in /opt/conda/lib/python3.10/site-packages (1.5.0)\n",
      "Requirement already satisfied: keras-tuner in /opt/conda/lib/python3.10/site-packages (1.4.7)\n",
      "Requirement already satisfied: numpy<2.3,>=1.22.4 in /opt/conda/lib/python3.10/site-packages (from scipy) (1.26.4)\n",
      "Requirement already satisfied: joblib>=1.2.0 in /opt/conda/lib/python3.10/site-packages (from scikit-learn) (1.4.2)\n",
      "Requirement already satisfied: threadpoolctl>=3.1.0 in /opt/conda/lib/python3.10/site-packages (from scikit-learn) (3.5.0)\n",
      "Requirement already satisfied: keras in /opt/conda/lib/python3.10/site-packages (from keras-tuner) (3.3.3)\n",
      "Requirement already satisfied: packaging in /opt/conda/lib/python3.10/site-packages (from keras-tuner) (24.0)\n",
      "Requirement already satisfied: requests in /opt/conda/lib/python3.10/site-packages (from keras-tuner) (2.31.0)\n",
      "Requirement already satisfied: kt-legacy in /opt/conda/lib/python3.10/site-packages (from keras-tuner) (1.0.5)\n",
      "Requirement already satisfied: absl-py in /opt/conda/lib/python3.10/site-packages (from keras->keras-tuner) (2.1.0)\n",
      "Requirement already satisfied: rich in /opt/conda/lib/python3.10/site-packages (from keras->keras-tuner) (13.7.1)\n",
      "Requirement already satisfied: namex in /opt/conda/lib/python3.10/site-packages (from keras->keras-tuner) (0.0.8)\n",
      "Requirement already satisfied: h5py in /opt/conda/lib/python3.10/site-packages (from keras->keras-tuner) (3.11.0)\n",
      "Requirement already satisfied: optree in /opt/conda/lib/python3.10/site-packages (from keras->keras-tuner) (0.11.0)\n",
      "Requirement already satisfied: ml-dtypes in /opt/conda/lib/python3.10/site-packages (from keras->keras-tuner) (0.3.2)\n",
      "Requirement already satisfied: charset-normalizer<4,>=2 in /opt/conda/lib/python3.10/site-packages (from requests->keras-tuner) (3.3.2)\n",
      "Requirement already satisfied: idna<4,>=2.5 in /opt/conda/lib/python3.10/site-packages (from requests->keras-tuner) (3.6)\n",
      "Requirement already satisfied: urllib3<3,>=1.21.1 in /opt/conda/lib/python3.10/site-packages (from requests->keras-tuner) (2.2.1)\n",
      "Requirement already satisfied: certifi>=2017.4.17 in /opt/conda/lib/python3.10/site-packages (from requests->keras-tuner) (2024.2.2)\n",
      "Requirement already satisfied: typing-extensions>=4.0.0 in /opt/conda/lib/python3.10/site-packages (from optree->keras->keras-tuner) (4.11.0)\n",
      "Requirement already satisfied: markdown-it-py>=2.2.0 in /opt/conda/lib/python3.10/site-packages (from rich->keras->keras-tuner) (3.0.0)\n",
      "Requirement already satisfied: pygments<3.0.0,>=2.13.0 in /opt/conda/lib/python3.10/site-packages (from rich->keras->keras-tuner) (2.18.0)\n",
      "Requirement already satisfied: mdurl~=0.1 in /opt/conda/lib/python3.10/site-packages (from markdown-it-py>=2.2.0->rich->keras->keras-tuner) (0.1.2)\n",
      "Requirement already satisfied: keras-tuner[bayesian] in /opt/conda/lib/python3.10/site-packages (1.4.7)\n",
      "Requirement already satisfied: keras in /opt/conda/lib/python3.10/site-packages (from keras-tuner[bayesian]) (3.3.3)\n",
      "Requirement already satisfied: packaging in /opt/conda/lib/python3.10/site-packages (from keras-tuner[bayesian]) (24.0)\n",
      "Requirement already satisfied: requests in /opt/conda/lib/python3.10/site-packages (from keras-tuner[bayesian]) (2.31.0)\n",
      "Requirement already satisfied: kt-legacy in /opt/conda/lib/python3.10/site-packages (from keras-tuner[bayesian]) (1.0.5)\n",
      "Requirement already satisfied: scikit-learn in /opt/conda/lib/python3.10/site-packages (from keras-tuner[bayesian]) (1.5.0)\n",
      "Requirement already satisfied: scipy in /opt/conda/lib/python3.10/site-packages (from keras-tuner[bayesian]) (1.13.1)\n",
      "Requirement already satisfied: absl-py in /opt/conda/lib/python3.10/site-packages (from keras->keras-tuner[bayesian]) (2.1.0)\n",
      "Requirement already satisfied: numpy in /opt/conda/lib/python3.10/site-packages (from keras->keras-tuner[bayesian]) (1.26.4)\n",
      "Requirement already satisfied: rich in /opt/conda/lib/python3.10/site-packages (from keras->keras-tuner[bayesian]) (13.7.1)\n",
      "Requirement already satisfied: namex in /opt/conda/lib/python3.10/site-packages (from keras->keras-tuner[bayesian]) (0.0.8)\n",
      "Requirement already satisfied: h5py in /opt/conda/lib/python3.10/site-packages (from keras->keras-tuner[bayesian]) (3.11.0)\n",
      "Requirement already satisfied: optree in /opt/conda/lib/python3.10/site-packages (from keras->keras-tuner[bayesian]) (0.11.0)\n",
      "Requirement already satisfied: ml-dtypes in /opt/conda/lib/python3.10/site-packages (from keras->keras-tuner[bayesian]) (0.3.2)\n",
      "Requirement already satisfied: charset-normalizer<4,>=2 in /opt/conda/lib/python3.10/site-packages (from requests->keras-tuner[bayesian]) (3.3.2)\n",
      "Requirement already satisfied: idna<4,>=2.5 in /opt/conda/lib/python3.10/site-packages (from requests->keras-tuner[bayesian]) (3.6)\n",
      "Requirement already satisfied: urllib3<3,>=1.21.1 in /opt/conda/lib/python3.10/site-packages (from requests->keras-tuner[bayesian]) (2.2.1)\n",
      "Requirement already satisfied: certifi>=2017.4.17 in /opt/conda/lib/python3.10/site-packages (from requests->keras-tuner[bayesian]) (2024.2.2)\n",
      "Requirement already satisfied: joblib>=1.2.0 in /opt/conda/lib/python3.10/site-packages (from scikit-learn->keras-tuner[bayesian]) (1.4.2)\n",
      "Requirement already satisfied: threadpoolctl>=3.1.0 in /opt/conda/lib/python3.10/site-packages (from scikit-learn->keras-tuner[bayesian]) (3.5.0)\n",
      "Requirement already satisfied: typing-extensions>=4.0.0 in /opt/conda/lib/python3.10/site-packages (from optree->keras->keras-tuner[bayesian]) (4.11.0)\n",
      "Requirement already satisfied: markdown-it-py>=2.2.0 in /opt/conda/lib/python3.10/site-packages (from rich->keras->keras-tuner[bayesian]) (3.0.0)\n",
      "Requirement already satisfied: pygments<3.0.0,>=2.13.0 in /opt/conda/lib/python3.10/site-packages (from rich->keras->keras-tuner[bayesian]) (2.18.0)\n",
      "Requirement already satisfied: mdurl~=0.1 in /opt/conda/lib/python3.10/site-packages (from markdown-it-py>=2.2.0->rich->keras->keras-tuner[bayesian]) (0.1.2)\n"
     ]
    }
   ],
   "source": [
    "!pip install scipy scikit-learn keras-tuner\n",
    "!pip install keras-tuner[bayesian]"
   ]
  },
  {
   "cell_type": "code",
   "execution_count": 101,
   "metadata": {},
   "outputs": [
    {
     "ename": "ImportError",
     "evalue": "Please install scipy before using the `BayesianOptimization` with `pip install keras-tuner[bayesian]`.",
     "output_type": "error",
     "traceback": [
      "\u001b[0;31m---------------------------------------------------------------------------\u001b[0m",
      "\u001b[0;31mImportError\u001b[0m                               Traceback (most recent call last)",
      "Cell \u001b[0;32mIn[101], line 2\u001b[0m\n\u001b[1;32m      1\u001b[0m \u001b[38;5;66;03m# Define the tuner\u001b[39;00m\n\u001b[0;32m----> 2\u001b[0m tuner \u001b[38;5;241m=\u001b[39m \u001b[43mkt\u001b[49m\u001b[38;5;241;43m.\u001b[39;49m\u001b[43mBayesianOptimization\u001b[49m\u001b[43m(\u001b[49m\n\u001b[1;32m      3\u001b[0m \u001b[43m    \u001b[49m\u001b[43mbuild_model\u001b[49m\u001b[43m,\u001b[49m\n\u001b[1;32m      4\u001b[0m \u001b[43m    \u001b[49m\u001b[43mobjective\u001b[49m\u001b[38;5;241;43m=\u001b[39;49m\u001b[38;5;124;43m'\u001b[39;49m\u001b[38;5;124;43mval_accuracy\u001b[39;49m\u001b[38;5;124;43m'\u001b[39;49m\u001b[43m,\u001b[49m\n\u001b[1;32m      5\u001b[0m \u001b[43m    \u001b[49m\u001b[43mmax_trials\u001b[49m\u001b[38;5;241;43m=\u001b[39;49m\u001b[38;5;241;43m20\u001b[39;49m\u001b[43m,\u001b[49m\u001b[43m  \u001b[49m\u001b[38;5;66;43;03m# Increase trials to explore more combinations\u001b[39;49;00m\n\u001b[1;32m      6\u001b[0m \u001b[43m    \u001b[49m\u001b[43mexecutions_per_trial\u001b[49m\u001b[38;5;241;43m=\u001b[39;49m\u001b[38;5;241;43m2\u001b[39;49m\u001b[43m,\u001b[49m\n\u001b[1;32m      7\u001b[0m \u001b[43m    \u001b[49m\u001b[43mdirectory\u001b[49m\u001b[38;5;241;43m=\u001b[39;49m\u001b[38;5;124;43m'\u001b[39;49m\u001b[38;5;124;43mmy_dir\u001b[39;49m\u001b[38;5;124;43m'\u001b[39;49m\u001b[43m,\u001b[49m\n\u001b[1;32m      8\u001b[0m \u001b[43m    \u001b[49m\u001b[43mproject_name\u001b[49m\u001b[38;5;241;43m=\u001b[39;49m\u001b[38;5;124;43m'\u001b[39;49m\u001b[38;5;124;43marticle_summary_tuning\u001b[39;49m\u001b[38;5;124;43m'\u001b[39;49m\n\u001b[1;32m      9\u001b[0m \u001b[43m)\u001b[49m\n\u001b[1;32m     11\u001b[0m \u001b[38;5;66;03m# Setup TensorBoard\u001b[39;00m\n\u001b[1;32m     12\u001b[0m log_dir \u001b[38;5;241m=\u001b[39m \u001b[38;5;124m\"\u001b[39m\u001b[38;5;124mlogs/fit/\u001b[39m\u001b[38;5;124m\"\u001b[39m \u001b[38;5;241m+\u001b[39m datetime\u001b[38;5;241m.\u001b[39mdatetime\u001b[38;5;241m.\u001b[39mnow()\u001b[38;5;241m.\u001b[39mstrftime(\u001b[38;5;124m\"\u001b[39m\u001b[38;5;124m%\u001b[39m\u001b[38;5;124mY\u001b[39m\u001b[38;5;124m%\u001b[39m\u001b[38;5;124mm\u001b[39m\u001b[38;5;132;01m%d\u001b[39;00m\u001b[38;5;124m-\u001b[39m\u001b[38;5;124m%\u001b[39m\u001b[38;5;124mH\u001b[39m\u001b[38;5;124m%\u001b[39m\u001b[38;5;124mM\u001b[39m\u001b[38;5;124m%\u001b[39m\u001b[38;5;124mS\u001b[39m\u001b[38;5;124m\"\u001b[39m)\n",
      "File \u001b[0;32m/opt/conda/lib/python3.10/site-packages/keras_tuner/src/tuners/bayesian.py:381\u001b[0m, in \u001b[0;36mBayesianOptimization.__init__\u001b[0;34m(self, hypermodel, objective, max_trials, num_initial_points, alpha, beta, seed, hyperparameters, tune_new_entries, allow_new_entries, max_retries_per_trial, max_consecutive_failed_trials, **kwargs)\u001b[0m\n\u001b[1;32m    365\u001b[0m \u001b[38;5;28;01mdef\u001b[39;00m \u001b[38;5;21m__init__\u001b[39m(\n\u001b[1;32m    366\u001b[0m     \u001b[38;5;28mself\u001b[39m,\n\u001b[1;32m    367\u001b[0m     hypermodel\u001b[38;5;241m=\u001b[39m\u001b[38;5;28;01mNone\u001b[39;00m,\n\u001b[0;32m   (...)\u001b[0m\n\u001b[1;32m    379\u001b[0m     \u001b[38;5;241m*\u001b[39m\u001b[38;5;241m*\u001b[39mkwargs\n\u001b[1;32m    380\u001b[0m ):\n\u001b[0;32m--> 381\u001b[0m     oracle \u001b[38;5;241m=\u001b[39m \u001b[43mBayesianOptimizationOracle\u001b[49m\u001b[43m(\u001b[49m\n\u001b[1;32m    382\u001b[0m \u001b[43m        \u001b[49m\u001b[43mobjective\u001b[49m\u001b[38;5;241;43m=\u001b[39;49m\u001b[43mobjective\u001b[49m\u001b[43m,\u001b[49m\n\u001b[1;32m    383\u001b[0m \u001b[43m        \u001b[49m\u001b[43mmax_trials\u001b[49m\u001b[38;5;241;43m=\u001b[39;49m\u001b[43mmax_trials\u001b[49m\u001b[43m,\u001b[49m\n\u001b[1;32m    384\u001b[0m \u001b[43m        \u001b[49m\u001b[43mnum_initial_points\u001b[49m\u001b[38;5;241;43m=\u001b[39;49m\u001b[43mnum_initial_points\u001b[49m\u001b[43m,\u001b[49m\n\u001b[1;32m    385\u001b[0m \u001b[43m        \u001b[49m\u001b[43malpha\u001b[49m\u001b[38;5;241;43m=\u001b[39;49m\u001b[43malpha\u001b[49m\u001b[43m,\u001b[49m\n\u001b[1;32m    386\u001b[0m \u001b[43m        \u001b[49m\u001b[43mbeta\u001b[49m\u001b[38;5;241;43m=\u001b[39;49m\u001b[43mbeta\u001b[49m\u001b[43m,\u001b[49m\n\u001b[1;32m    387\u001b[0m \u001b[43m        \u001b[49m\u001b[43mseed\u001b[49m\u001b[38;5;241;43m=\u001b[39;49m\u001b[43mseed\u001b[49m\u001b[43m,\u001b[49m\n\u001b[1;32m    388\u001b[0m \u001b[43m        \u001b[49m\u001b[43mhyperparameters\u001b[49m\u001b[38;5;241;43m=\u001b[39;49m\u001b[43mhyperparameters\u001b[49m\u001b[43m,\u001b[49m\n\u001b[1;32m    389\u001b[0m \u001b[43m        \u001b[49m\u001b[43mtune_new_entries\u001b[49m\u001b[38;5;241;43m=\u001b[39;49m\u001b[43mtune_new_entries\u001b[49m\u001b[43m,\u001b[49m\n\u001b[1;32m    390\u001b[0m \u001b[43m        \u001b[49m\u001b[43mallow_new_entries\u001b[49m\u001b[38;5;241;43m=\u001b[39;49m\u001b[43mallow_new_entries\u001b[49m\u001b[43m,\u001b[49m\n\u001b[1;32m    391\u001b[0m \u001b[43m        \u001b[49m\u001b[43mmax_retries_per_trial\u001b[49m\u001b[38;5;241;43m=\u001b[39;49m\u001b[43mmax_retries_per_trial\u001b[49m\u001b[43m,\u001b[49m\n\u001b[1;32m    392\u001b[0m \u001b[43m        \u001b[49m\u001b[43mmax_consecutive_failed_trials\u001b[49m\u001b[38;5;241;43m=\u001b[39;49m\u001b[43mmax_consecutive_failed_trials\u001b[49m\u001b[43m,\u001b[49m\n\u001b[1;32m    393\u001b[0m \u001b[43m    \u001b[49m\u001b[43m)\u001b[49m\n\u001b[1;32m    394\u001b[0m     \u001b[38;5;28msuper\u001b[39m()\u001b[38;5;241m.\u001b[39m\u001b[38;5;21m__init__\u001b[39m(oracle\u001b[38;5;241m=\u001b[39moracle, hypermodel\u001b[38;5;241m=\u001b[39mhypermodel, \u001b[38;5;241m*\u001b[39m\u001b[38;5;241m*\u001b[39mkwargs)\n",
      "File \u001b[0;32m/opt/conda/lib/python3.10/site-packages/keras_tuner/src/tuners/bayesian.py:104\u001b[0m, in \u001b[0;36mBayesianOptimizationOracle.__init__\u001b[0;34m(self, objective, max_trials, num_initial_points, alpha, beta, seed, hyperparameters, allow_new_entries, tune_new_entries, max_retries_per_trial, max_consecutive_failed_trials)\u001b[0m\n\u001b[1;32m     89\u001b[0m \u001b[38;5;28;01mdef\u001b[39;00m \u001b[38;5;21m__init__\u001b[39m(\n\u001b[1;32m     90\u001b[0m     \u001b[38;5;28mself\u001b[39m,\n\u001b[1;32m     91\u001b[0m     objective\u001b[38;5;241m=\u001b[39m\u001b[38;5;28;01mNone\u001b[39;00m,\n\u001b[0;32m   (...)\u001b[0m\n\u001b[1;32m    101\u001b[0m     max_consecutive_failed_trials\u001b[38;5;241m=\u001b[39m\u001b[38;5;241m3\u001b[39m,\n\u001b[1;32m    102\u001b[0m ):\n\u001b[1;32m    103\u001b[0m     \u001b[38;5;28;01mif\u001b[39;00m scipy \u001b[38;5;129;01mis\u001b[39;00m \u001b[38;5;28;01mNone\u001b[39;00m:\n\u001b[0;32m--> 104\u001b[0m         \u001b[38;5;28;01mraise\u001b[39;00m \u001b[38;5;167;01mImportError\u001b[39;00m(\n\u001b[1;32m    105\u001b[0m             \u001b[38;5;124m\"\u001b[39m\u001b[38;5;124mPlease install scipy before using the `BayesianOptimization` \u001b[39m\u001b[38;5;124m\"\u001b[39m\n\u001b[1;32m    106\u001b[0m             \u001b[38;5;124m\"\u001b[39m\u001b[38;5;124mwith `pip install keras-tuner[bayesian]`.\u001b[39m\u001b[38;5;124m\"\u001b[39m\n\u001b[1;32m    107\u001b[0m         )\n\u001b[1;32m    109\u001b[0m     \u001b[38;5;28;01mif\u001b[39;00m sklearn \u001b[38;5;129;01mis\u001b[39;00m \u001b[38;5;28;01mNone\u001b[39;00m:\n\u001b[1;32m    110\u001b[0m         \u001b[38;5;28;01mraise\u001b[39;00m \u001b[38;5;167;01mImportError\u001b[39;00m(\n\u001b[1;32m    111\u001b[0m             \u001b[38;5;124m\"\u001b[39m\u001b[38;5;124mPlease install scikit-learn (sklearn) before using the \u001b[39m\u001b[38;5;124m\"\u001b[39m\n\u001b[1;32m    112\u001b[0m             \u001b[38;5;124m\"\u001b[39m\u001b[38;5;124m`BayesianOptimization` with \u001b[39m\u001b[38;5;124m\"\u001b[39m\n\u001b[1;32m    113\u001b[0m             \u001b[38;5;124m\"\u001b[39m\u001b[38;5;124m`pip install keras-tuner[bayesian]`.\u001b[39m\u001b[38;5;124m\"\u001b[39m\n\u001b[1;32m    114\u001b[0m         )\n",
      "\u001b[0;31mImportError\u001b[0m: Please install scipy before using the `BayesianOptimization` with `pip install keras-tuner[bayesian]`."
     ]
    }
   ],
   "source": [
    "# Define the tuner\n",
    "tuner = kt.BayesianOptimization(\n",
    "    build_model,\n",
    "    objective='val_accuracy',\n",
    "    max_trials=20,  # Increase trials to explore more combinations\n",
    "    executions_per_trial=2,\n",
    "    directory='my_dir',\n",
    "    project_name='article_summary_tuning'\n",
    ")\n",
    "\n",
    "# Setup TensorBoard\n",
    "log_dir = \"logs/fit/\" + datetime.datetime.now().strftime(\"%Y%m%d-%H%M%S\")\n",
    "tensorboard_callback = TensorBoard(log_dir=log_dir, histogram_freq=1)\n",
    "\n",
    "# Run the tuner\n",
    "tuner.search([X_train_encoder, X_train_decoder], y_train, epochs=10, validation_data=([X_val_encoder, X_val_decoder], y_val), callbacks=[tensorboard_callback])\n",
    "\n",
    "# Get the optimal hyperparameters\n",
    "best_hps = tuner.get_best_hyperparameters(num_trials=1)[0]\n",
    "\n",
    "# Print the best hyperparameters\n",
    "print(f\"\"\"\n",
    "The optimal number of units in the encoder LSTM layer is {best_hps.get('encoder_lstm_units')} and \n",
    "in the decoder LSTM layer is {best_hps.get('decoder_lstm_units')}. The optimal embedding dimension is {best_hps.get('embedding_dim')}, \n",
    "the optimal encoder dropout rate is {best_hps.get('encoder_dropout')}, the optimal decoder dropout rate is {best_hps.get('decoder_dropout')},\n",
    "and the optimal learning rate for the optimizer is {best_hps.get('learning_rate')}.\n",
    "\"\"\")\n",
    "\n",
    "# Build the model with the optimal hyperparameters\n",
    "model = tuner.hypermodel.build(best_hps)\n",
    "\n",
    "# Setup TensorBoard for the final model training\n",
    "log_dir = \"logs/fit/\" + datetime.datetime.now().strftime(\"%Y%m%d-%H%M%S\") + \"_final\"\n",
    "tensorboard_callback_final = TensorBoard(log_dir=log_dir, histogram_freq=1)\n",
    "\n",
    "# Train the model with the optimal hyperparameters\n",
    "history = model.fit([X_train_encoder, X_train_decoder], y_train, epochs=10, validation_data=([X_val_encoder, X_val_decoder], y_val), callbacks=[tensorboard_callback_final])\n"
   ]
  },
  {
   "cell_type": "code",
   "execution_count": null,
   "metadata": {},
   "outputs": [],
   "source": []
  }
 ],
 "metadata": {
  "kernelspec": {
   "display_name": "Python 3 ",
   "language": "python",
   "name": "python3"
  },
  "language_info": {
   "codemirror_mode": {
    "name": "ipython",
    "version": 3
   },
   "file_extension": ".py",
   "mimetype": "text/x-python",
   "name": "python",
   "nbconvert_exporter": "python",
   "pygments_lexer": "ipython3",
   "version": "3.10.14"
  }
 },
 "nbformat": 4,
 "nbformat_minor": 4
}
