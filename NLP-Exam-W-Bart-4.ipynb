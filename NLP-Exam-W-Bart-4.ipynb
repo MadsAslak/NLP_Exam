{
 "cells": [
  {
   "cell_type": "code",
   "execution_count": null,
   "metadata": {},
   "outputs": [],
   "source": [
    "!pip install --quiet nltk\n",
    "!pip install --quiet bs4\n",
    "!pip install --quiet tqdm\n",
    "!pip install --quiet scipy scikit-learn keras-tuner\n",
    "!pip install --quiet keras-tuner"
   ]
  },
  {
   "cell_type": "code",
   "execution_count": null,
   "metadata": {},
   "outputs": [],
   "source": [
    "import pandas as pd\n",
    "import json\n",
    "import re\n",
    "import nltk\n",
    "from nltk.corpus import stopwords\n",
    "from nltk.tokenize import word_tokenize\n",
    "from nltk.stem import WordNetLemmatizer\n",
    "from bs4 import BeautifulSoup\n",
    "from tqdm import tqdm\n",
    "import numpy as np"
   ]
  },
  {
   "cell_type": "code",
   "execution_count": null,
   "metadata": {},
   "outputs": [],
   "source": [
    "nltk.download('punkt')\n",
    "nltk.download('stopwords')\n",
    "nltk.download('wordnet')"
   ]
  },
  {
   "cell_type": "markdown",
   "metadata": {},
   "source": [
    "## Loading in the data and preprocessing"
   ]
  },
  {
   "cell_type": "code",
   "execution_count": null,
   "metadata": {
    "scrolled": true
   },
   "outputs": [],
   "source": [
    "# Define the file paths\n",
    "file_paths = [\n",
    "    'C:/Users/Mads/Documents/NLP/cnn_dailymail/3.0.0/train-00000-of-00003.parquet',\n",
    "    'C:/Users/Mads/Documents/NLP/cnn_dailymail/3.0.0/train-00001-of-00003.parquet',\n",
    "    'C:/Users/Mads/Documents/NLP/cnn_dailymail/3.0.0/train-00002-of-00003.parquet',\n",
    "]\n",
    "\n",
    "# Load and concatenate the Parquet files\n",
    "train_df_list = [pd.read_parquet(file) for file in file_paths]\n",
    "train_df = pd.concat(train_df_list, ignore_index=True)\n",
    "\n",
    "# Randomly sample 150,000 rows\n",
    "sampled_df = train_df.sample(n=1000, random_state=1)\n",
    "\n",
    "# Display the shape and the first few rows of the sampled DataFrame\n",
    "print(sampled_df.shape)\n",
    "print(sampled_df.head())\n"
   ]
  },
  {
   "cell_type": "code",
   "execution_count": null,
   "metadata": {},
   "outputs": [],
   "source": [
    "sampled_df.to_csv('sampled_df.csv', index=False)"
   ]
  },
  {
   "cell_type": "code",
   "execution_count": null,
   "metadata": {},
   "outputs": [],
   "source": [
    "lemmatizer = WordNetLemmatizer()\n",
    "\n",
    "file_path = 'data.csv'\n",
    "df = pd.read_csv(file_path)\n",
    "\n",
    "# Define stop words\n",
    "stop_words = set(stopwords.words('english'))\n",
    "\n",
    "# Function to clean text\n",
    "def clean_text(text):\n",
    "    # Remove HTML tags\n",
    "    text = BeautifulSoup(text, \"html.parser\").get_text()\n",
    "    \n",
    "    # Remove punctuation and special characters\n",
    "    text = re.sub(r'[^a-zA-Z\\s]', '', text)\n",
    "    \n",
    "    # Convert to lowercase\n",
    "    text = text.lower()\n",
    "    \n",
    "    # Tokenize text\n",
    "    words = word_tokenize(text)\n",
    "    \n",
    "    # Remove stop words and lemmatize\n",
    "    cleaned_text = ' '.join([lemmatizer.lemmatize(word) for word in words if word not in stop_words])\n",
    "    \n",
    "    return cleaned_text\n",
    "\n",
    "# Apply the cleaning function with progress bars\n",
    "tqdm.pandas()"
   ]
  },
  {
   "cell_type": "code",
   "execution_count": null,
   "metadata": {},
   "outputs": [],
   "source": [
    "# Apply the cleaning function to both the 'article' and 'highlights' columns\n",
    "df['cleaned_article'] = df['article'].progress_apply(clean_text)"
   ]
  },
  {
   "cell_type": "code",
   "execution_count": null,
   "metadata": {},
   "outputs": [],
   "source": [
    "df['cleaned_highlights'] = df['highlights'].progress_apply(clean_text)"
   ]
  },
  {
   "cell_type": "code",
   "execution_count": null,
   "metadata": {},
   "outputs": [],
   "source": [
    "cleaned_file_path = 'cleaned_data.csv'"
   ]
  },
  {
   "cell_type": "code",
   "execution_count": null,
   "metadata": {},
   "outputs": [],
   "source": [
    "df.to_csv(cleaned_file_path, index=False)"
   ]
  },
  {
   "cell_type": "markdown",
   "metadata": {},
   "source": [
    "## Loading in our preprocessed df"
   ]
  },
  {
   "cell_type": "markdown",
   "metadata": {},
   "source": [
    "ubuntu commands required to load in the file uploaded to github using the large file system.\n",
    "sudo apt-get update\n",
    "sudo apt-get install git-lfs\n",
    "git lfs install\n",
    "git lfs pull\n"
   ]
  },
  {
   "cell_type": "code",
   "execution_count": null,
   "metadata": {},
   "outputs": [],
   "source": [
    "df = pd.read_csv('cleaned_data.csv')\n",
    "df.head()"
   ]
  },
  {
   "cell_type": "code",
   "execution_count": null,
   "metadata": {},
   "outputs": [],
   "source": [
    "!pip install --quiet tensorflow"
   ]
  },
  {
   "cell_type": "code",
   "execution_count": null,
   "metadata": {},
   "outputs": [],
   "source": [
    "from tensorflow.keras.preprocessing.text import Tokenizer\n",
    "from tensorflow.keras.preprocessing.sequence import pad_sequences"
   ]
  },
  {
   "cell_type": "markdown",
   "metadata": {},
   "source": [
    "## Mapping words onto numbers using the Tensorflow Tokenizer"
   ]
  },
  {
   "cell_type": "markdown",
   "metadata": {},
   "source": [
    "What should the vocab_size be?"
   ]
  },
  {
   "cell_type": "code",
   "execution_count": null,
   "metadata": {},
   "outputs": [],
   "source": [
    "combined_texts = df.cleaned_article.tolist() + df.cleaned_highlights.tolist()"
   ]
  },
  {
   "cell_type": "code",
   "execution_count": 37,
   "metadata": {},
   "outputs": [],
   "source": [
    "from collections import Counter\n",
    "def count_oov_in_text(tokenized_text, oov_token_index):\n",
    "    return sum(1 for token in tokenized_text if token == oov_token_index)\n",
    "\n",
    "def calculate_metrics(vocab_size):\n",
    "    tokenizer = Tokenizer(num_words=vocab_size, oov_token='<OOV>')\n",
    "    tokenizer.fit_on_texts(combined_texts)\n",
    "    \n",
    "    # Tokenize articles and summaries with the tokenizer\n",
    "    tokenized_articles = tokenizer.texts_to_sequences(df.cleaned_article)\n",
    "    tokenized_summaries = tokenizer.texts_to_sequences(df.cleaned_highlights)\n",
    "    \n",
    "    word_counts = tokenizer.word_counts\n",
    "    total_words = sum(word_counts.values())\n",
    "    \n",
    "    most_common_words = Counter(word_counts).most_common(vocab_size)\n",
    "    coverage = sum([count for word, count in most_common_words]) / total_words\n",
    "    \n",
    "    oov_token_index = tokenizer.word_index.get('<OOV>')\n",
    "    \n",
    "    oov_counts_articles = [count_oov_in_text(text, oov_token_index) for text in tokenized_articles]\n",
    "    oov_counts_summaries = [count_oov_in_text(text, oov_token_index) for text in tokenized_summaries]\n",
    "    \n",
    "    # OOV proportions\n",
    "    total_count_articles = sum(len(seq) for seq in tokenized_articles)\n",
    "    total_count_summaries = sum(len(seq) for seq in tokenized_summaries)\n",
    "    oov_count_articles = sum(oov_counts_articles)\n",
    "    oov_count_summaries = sum(oov_counts_summaries)\n",
    "    \n",
    "    oov_proportion_articles = oov_count_articles / total_count_articles\n",
    "    oov_proportion_summaries = oov_count_summaries / total_count_summaries\n",
    "    \n",
    "    # Overall OOV proportion\n",
    "    total_oov_count = oov_count_articles + oov_count_summaries\n",
    "    total_token_count = total_count_articles + total_count_summaries\n",
    "    overall_oov_proportion = total_oov_count / total_token_count\n",
    "    \n",
    "    avg_oov_articles = np.mean(oov_counts_articles)\n",
    "    avg_oov_summaries = np.mean(oov_counts_summaries)\n",
    "    \n",
    "    return {\n",
    "        \"vocab_size\": vocab_size,\n",
    "        \"coverage\": coverage,\n",
    "        \"oov_proportion_articles\": oov_proportion_articles,\n",
    "        \"oov_proportion_summaries\": oov_proportion_summaries,\n",
    "        \"overall_oov_proportion\": overall_oov_proportion,\n",
    "        \"avg_oov_articles\": avg_oov_articles,\n",
    "        \"avg_oov_summaries\": avg_oov_summaries\n",
    "    }\n",
    "\n",
    "vocab_sizes = [10000, 15000, 20000]\n",
    "\n",
    "# Calculate metrics for each vocab size\n",
    "results = []\n",
    "for vocab_size in vocab_sizes:\n",
    "    metrics = calculate_metrics(vocab_size)\n",
    "    results.append(metrics)\n",
    "\n",
    "results_df = pd.DataFrame(results)"
   ]
  },
  {
   "cell_type": "code",
   "execution_count": 38,
   "metadata": {},
   "outputs": [
    {
     "data": {
      "text/html": [
       "<div>\n",
       "<style scoped>\n",
       "    .dataframe tbody tr th:only-of-type {\n",
       "        vertical-align: middle;\n",
       "    }\n",
       "\n",
       "    .dataframe tbody tr th {\n",
       "        vertical-align: top;\n",
       "    }\n",
       "\n",
       "    .dataframe thead th {\n",
       "        text-align: right;\n",
       "    }\n",
       "</style>\n",
       "<table border=\"1\" class=\"dataframe\">\n",
       "  <thead>\n",
       "    <tr style=\"text-align: right;\">\n",
       "      <th></th>\n",
       "      <th>vocab_size</th>\n",
       "      <th>coverage</th>\n",
       "      <th>oov_proportion_articles</th>\n",
       "      <th>oov_proportion_summaries</th>\n",
       "      <th>overall_oov_proportion</th>\n",
       "      <th>avg_oov_articles</th>\n",
       "      <th>avg_oov_summaries</th>\n",
       "    </tr>\n",
       "  </thead>\n",
       "  <tbody>\n",
       "    <tr>\n",
       "      <th>0</th>\n",
       "      <td>10000</td>\n",
       "      <td>0.884090</td>\n",
       "      <td>0.115653</td>\n",
       "      <td>0.119431</td>\n",
       "      <td>0.115929</td>\n",
       "      <td>43.896080</td>\n",
       "      <td>3.564533</td>\n",
       "    </tr>\n",
       "    <tr>\n",
       "      <th>1</th>\n",
       "      <td>15000</td>\n",
       "      <td>0.918553</td>\n",
       "      <td>0.081367</td>\n",
       "      <td>0.082596</td>\n",
       "      <td>0.081457</td>\n",
       "      <td>30.882813</td>\n",
       "      <td>2.465167</td>\n",
       "    </tr>\n",
       "    <tr>\n",
       "      <th>2</th>\n",
       "      <td>20000</td>\n",
       "      <td>0.937588</td>\n",
       "      <td>0.062432</td>\n",
       "      <td>0.062236</td>\n",
       "      <td>0.062418</td>\n",
       "      <td>23.696067</td>\n",
       "      <td>1.857480</td>\n",
       "    </tr>\n",
       "  </tbody>\n",
       "</table>\n",
       "</div>"
      ],
      "text/plain": [
       "   vocab_size  coverage  oov_proportion_articles  oov_proportion_summaries  \\\n",
       "0       10000  0.884090                 0.115653                  0.119431   \n",
       "1       15000  0.918553                 0.081367                  0.082596   \n",
       "2       20000  0.937588                 0.062432                  0.062236   \n",
       "\n",
       "   overall_oov_proportion  avg_oov_articles  avg_oov_summaries  \n",
       "0                0.115929         43.896080           3.564533  \n",
       "1                0.081457         30.882813           2.465167  \n",
       "2                0.062418         23.696067           1.857480  "
      ]
     },
     "execution_count": 38,
     "metadata": {},
     "output_type": "execute_result"
    }
   ],
   "source": [
    "results_df"
   ]
  },
  {
   "cell_type": "code",
   "execution_count": null,
   "metadata": {},
   "outputs": [],
   "source": [
    "vocab_size = 16500\n",
    "shared_tokenizer = Tokenizer(num_words=vocab_size, oov_token='<OOV>')\n",
    "shared_tokenizer.fit_on_texts(combined_texts)\n",
    "\n",
    "# Tokenize articles and summaries with the shared tokenizer\n",
    "tokenized_article = shared_tokenizer.texts_to_sequences(df.cleaned_article)\n",
    "tokenized_summary = shared_tokenizer.texts_to_sequences(df.cleaned_highlights)"
   ]
  },
  {
   "cell_type": "markdown",
   "metadata": {},
   "source": [
    "### Potential outlier detection"
   ]
  },
  {
   "cell_type": "code",
   "execution_count": null,
   "metadata": {},
   "outputs": [],
   "source": [
    "max_article_len = max(len(sequence) for sequence in tokenized_article)\n",
    "max_summary_len = max(len(sequence) for sequence in tokenized_summary)\n",
    "\n",
    "print(max_article_len, max_summary_len)"
   ]
  },
  {
   "cell_type": "code",
   "execution_count": null,
   "metadata": {},
   "outputs": [],
   "source": [
    "import matplotlib.pyplot as plt\n",
    "!pip install --quiet seaborn\n",
    "import seaborn as sns\n",
    "\n",
    "article_lengths = [len(sequence) for sequence in tokenized_article]\n",
    "summary_lengths = [len(sequence) for sequence in tokenized_summary]\n",
    "\n",
    "# Create a DataFrame for plotting\n",
    "lengths_df = pd.DataFrame({\n",
    "    'Article Length': article_lengths,\n",
    "    'Summary Length': summary_lengths\n",
    "})\n",
    "\n",
    "# Melt the DataFrame to a long format\n",
    "lengths_df_melted = lengths_df.melt(var_name='Type', value_name='Length')\n",
    "\n",
    "# Plot violin plots using Seaborn\n",
    "plt.figure(figsize=(10, 8))\n",
    "\n",
    "# Violin plot for Article Lengths\n",
    "plt.subplot(1, 2, 1)\n",
    "sns.boxplot(y='Article Length', data=lengths_df, palette='Set2')\n",
    "plt.title('Violin Plot of Article Lengths')\n",
    "plt.xlabel('')\n",
    "plt.ylabel('Length')\n",
    "\n",
    "# Violin plot for Summary Lengths\n",
    "plt.subplot(1, 2, 2)\n",
    "sns.boxplot(y='Summary Length', data=lengths_df, palette='Set2')\n",
    "plt.title('Box-plot of Summary Lengths')\n",
    "plt.xlabel('')\n",
    "plt.ylabel('Length')\n",
    "\n",
    "plt.tight_layout()\n",
    "plt.show()"
   ]
  },
  {
   "cell_type": "code",
   "execution_count": null,
   "metadata": {},
   "outputs": [],
   "source": [
    "# Calculate IQR for article lengths\n",
    "article_q1 = np.percentile(article_lengths, 25)\n",
    "article_q3 = np.percentile(article_lengths, 75)\n",
    "article_iqr = article_q3 - article_q1\n",
    "\n",
    "# Calculate IQR for summary lengths\n",
    "summary_q1 = np.percentile(summary_lengths, 25)\n",
    "summary_q3 = np.percentile(summary_lengths, 75)\n",
    "summary_iqr = summary_q3 - summary_q1"
   ]
  },
  {
   "cell_type": "code",
   "execution_count": null,
   "metadata": {},
   "outputs": [],
   "source": [
    "# Identify indices of articles outside the IQR and below 50 tokens\n",
    "indices_to_remove_articles = [i for i, length in enumerate(article_lengths) \n",
    "                              if length < 50 or length < (article_q1 - 1.5 * article_iqr) or length > (article_q3 + 1.5 * article_iqr)]\n",
    "print(\"Instances removed (articles): \", len(indices_to_remove_articles))\n",
    "\n",
    "# Remove the corresponding articles and summaries based on article criteria\n",
    "filtered_articles = [article for i, article in enumerate(tokenized_article) if i not in indices_to_remove_articles]\n",
    "filtered_summaries = [summary for i, summary in enumerate(tokenized_summary) if i not in indices_to_remove_articles]\n"
   ]
  },
  {
   "cell_type": "code",
   "execution_count": null,
   "metadata": {},
   "outputs": [],
   "source": [
    "# Recalculate lengths of filtered summaries\n",
    "filtered_summary_lengths = [len(sequence) for sequence in filtered_summaries]\n",
    "\n",
    "# Identify indices of summaries outside the IQR and below 5 tokens\n",
    "indices_to_remove_summaries = [i for i, length in enumerate(filtered_summary_lengths) \n",
    "                               if length < 5 or length < (summary_q1 - 1.5 * summary_iqr) or length > (summary_q3 + 1.5 * summary_iqr)]\n",
    "print(\"Instances removed (summaries): \", len(indices_to_remove_summaries))\n",
    "\n",
    "# Remove the corresponding articles and summaries based on summary criteria\n",
    "filtered_articles = [article for i, article in enumerate(filtered_articles) if i not in indices_to_remove_summaries]\n",
    "filtered_summaries = [summary for i, summary in enumerate(filtered_summaries) if i not in indices_to_remove_summaries]\n",
    "\n",
    "# Print the number of remaining instances\n",
    "print(\"Remaining instances: \", len(filtered_articles))"
   ]
  },
  {
   "cell_type": "code",
   "execution_count": null,
   "metadata": {},
   "outputs": [],
   "source": [
    "print(len(filtered_articles), len(filtered_summaries))"
   ]
  },
  {
   "cell_type": "markdown",
   "metadata": {},
   "source": [
    "## Padding to ensure that our text-sequences are of the same length"
   ]
  },
  {
   "cell_type": "code",
   "execution_count": null,
   "metadata": {},
   "outputs": [],
   "source": [
    "from tensorflow.keras.preprocessing.sequence import pad_sequences\n",
    "padded_article_sequences = pad_sequences(filtered_articles, max_article_len, padding='post', truncating='post')\n",
    "padded_summary_sequences = pad_sequences(filtered_summaries, max_summary_len, padding = 'post', truncating = 'post')"
   ]
  },
  {
   "cell_type": "markdown",
   "metadata": {},
   "source": [
    "## Building our network"
   ]
  },
  {
   "cell_type": "code",
   "execution_count": null,
   "metadata": {},
   "outputs": [],
   "source": [
    "!pip install --quiet scikit-learn\n",
    "from sklearn.model_selection import train_test_split\n",
    "# Create decoder input sequences by right-shifting the padded summary sequences\n",
    "decoder_input_sequences = np.zeros_like(padded_summary_sequences)\n",
    "decoder_input_sequences[:, 1:] = padded_summary_sequences[:, :-1]\n",
    "decoder_input_sequences[:, 0] = 0  # Use padding token (0) as the start token\n",
    "\n",
    "labels = padded_summary_sequences\n",
    "\n",
    "# Combine encoder inputs, decoder inputs, and labels for consistent splitting\n",
    "data_combined = list(zip(padded_article_sequences, decoder_input_sequences))\n",
    "labels_combined = labels\n",
    "\n",
    "# Split the data into training (125,000) and test sets (15,000)\n",
    "X_train_combined, X_test_combined, y_train, y_test = train_test_split(data_combined, labels_combined, test_size=15000, random_state=42)\n",
    "# Split the data with indices\n",
    "data_with_indices = list(enumerate(data_combined))\n",
    "X_train_combined_with_indices, X_test_combined_with_indices, y_train, y_test = train_test_split(data_with_indices, labels_combined, test_size=15000, random_state=42)\n",
    "\n",
    "# Extract indices of the test set\n",
    "test_indices = [index for index, _ in X_test_combined_with_indices]\n",
    "\n",
    "# Further split the training data into training and validation sets (80-20 split of 125,000)\n",
    "X_train_combined, X_val_combined, y_train, y_val = train_test_split(X_train_combined, y_train, test_size=0.2, random_state=42)\n",
    "\n",
    "# Separate encoder and decoder inputs after splitting\n",
    "X_train_encoder, X_train_decoder = zip(*X_train_combined)\n",
    "X_val_encoder, X_val_decoder = zip(*X_val_combined)\n",
    "X_test_encoder, X_test_decoder = zip(*X_test_combined)\n",
    "\n",
    "# Convert tuples back to numpy arrays\n",
    "X_train_encoder = np.array(X_train_encoder)\n",
    "X_train_decoder = np.array(X_train_decoder)\n",
    "X_val_encoder = np.array(X_val_encoder)\n",
    "X_val_decoder = np.array(X_val_decoder)\n",
    "X_test_encoder = np.array(X_test_encoder)\n",
    "X_test_decoder = np.array(X_test_decoder)"
   ]
  },
  {
   "cell_type": "code",
   "execution_count": null,
   "metadata": {},
   "outputs": [],
   "source": [
    "import tensorflow as tf\n",
    "from tensorflow.keras.models import Model\n",
    "from tensorflow.keras.layers import Input, LSTM, Dense, Embedding, Dropout\n",
    "from tensorflow.keras.optimizers import Adam\n",
    "from tensorflow.keras.callbacks import EarlyStopping, ModelCheckpoint\n",
    "\n",
    "# Fixed hyperparameters\n",
    "lstm_units = 150  \n",
    "embedding_dim = 250  \n",
    "dropout_rate = 0.2  \n",
    "\n",
    "\n",
    "# Build the model\n",
    "def build_model():\n",
    "    # Encoder\n",
    "    encoder_inputs = Input(shape=(max_article_len,))\n",
    "    encoder_embedding = Embedding(input_dim=vocab_size, output_dim=embedding_dim)(encoder_inputs)\n",
    "    encoder_lstm = LSTM(units=lstm_units, return_state=True, dropout=dropout_rate)\n",
    "    encoder_outputs, state_h, state_c = encoder_lstm(encoder_embedding)\n",
    "    encoder_states = [state_h, state_c]\n",
    "\n",
    "    # Decoder\n",
    "    decoder_inputs = Input(shape=(max_summary_len,))\n",
    "    decoder_embedding = Embedding(input_dim=vocab_size, output_dim=embedding_dim)(decoder_inputs)\n",
    "    decoder_lstm = LSTM(units=lstm_units, return_sequences=True, return_state=True, dropout=dropout_rate)\n",
    "    decoder_outputs, _, _ = decoder_lstm(decoder_embedding, initial_state=encoder_states)\n",
    "    decoder_dense = Dense(vocab_size, activation='softmax')\n",
    "    decoder_outputs = decoder_dense(decoder_outputs)\n",
    "    \n",
    "    # Compile the model\n",
    "    model = Model([encoder_inputs, decoder_inputs], decoder_outputs)\n",
    "    optimizer = Adam(learning_rate=1e-3)\n",
    "    model.compile(optimizer=optimizer, loss='sparse_categorical_crossentropy', metrics=['accuracy'])\n",
    "    \n",
    "    return model\n",
    "\n",
    "# Build the model\n",
    "model = build_model()\n",
    "\n",
    "# Define early stopping callback\n",
    "early_stopping = EarlyStopping(monitor='val_loss', patience=1, restore_best_weights=True, min_delta=0.01)\n",
    "\n",
    "# Define model checkpoint callback\n",
    "checkpoint = ModelCheckpoint('best_model2.keras', monitor='val_loss', save_best_only=True, mode='min')\n",
    "\n",
    "# Train the model with early stopping and model checkpoint\n",
    "history = model.fit(\n",
    "    [X_train_encoder, X_train_decoder], y_train,\n",
    "    epochs=5,\n",
    "    validation_data=([X_val_encoder, X_val_decoder], y_val),\n",
    "    batch_size=170,\n",
    "    callbacks=[early_stopping, checkpoint]\n",
    ")\n",
    "model.save('final_model.keras')"
   ]
  },
  {
   "cell_type": "code",
   "execution_count": null,
   "metadata": {},
   "outputs": [],
   "source": [
    "model.save('model2.keras')"
   ]
  },
  {
   "cell_type": "markdown",
   "metadata": {},
   "source": [
    "## Bart"
   ]
  },
  {
   "cell_type": "code",
   "execution_count": 14,
   "metadata": {},
   "outputs": [],
   "source": [
    "!pip install --quiet --upgrade transformers sentencepiece datasets torch accelerate\n",
    "\n",
    "import pandas as pd\n",
    "from transformers import BartTokenizer, BartForConditionalGeneration, pipeline\n",
    "from datasets import load_metric"
   ]
  },
  {
   "cell_type": "code",
   "execution_count": null,
   "metadata": {},
   "outputs": [],
   "source": [
    "!pip install --quiet tf-keras"
   ]
  },
  {
   "cell_type": "code",
   "execution_count": 62,
   "metadata": {},
   "outputs": [],
   "source": [
    "# Initialize the BART summarization pipeline\n",
    "summarizer = pipeline(\"summarization\", model=\"facebook/bart-large-cnn\", tokenizer=\"facebook/bart-large-cnn\")\n",
    "\n",
    "# Use the same test indices to filter the original DataFrame\n",
    "test_df = df.iloc[test_indices].reset_index(drop=True)"
   ]
  },
  {
   "cell_type": "code",
   "execution_count": 67,
   "metadata": {},
   "outputs": [],
   "source": [
    "reference_summaries = test_df.cleaned_highlights\n",
    "df_test = pd.DataFrame(test_df.cleaned_article)"
   ]
  },
  {
   "cell_type": "code",
   "execution_count": 69,
   "metadata": {
    "scrolled": true
   },
   "outputs": [
    {
     "name": "stderr",
     "output_type": "stream",
     "text": [
      "  0%|          | 9/15000 [00:24<11:57:44,  2.87s/it]"
     ]
    },
    {
     "name": "stdout",
     "output_type": "stream",
     "text": [
      "Error processing article: index out of range in self\n"
     ]
    },
    {
     "name": "stderr",
     "output_type": "stream",
     "text": [
      "  1%|          | 94/15000 [04:25<12:05:48,  2.92s/it]"
     ]
    },
    {
     "name": "stdout",
     "output_type": "stream",
     "text": [
      "Error processing article: index out of range in self\n"
     ]
    },
    {
     "name": "stderr",
     "output_type": "stream",
     "text": [
      "  1%|          | 120/15000 [05:35<11:48:21,  2.86s/it]"
     ]
    },
    {
     "name": "stdout",
     "output_type": "stream",
     "text": [
      "Error processing article: index out of range in self\n"
     ]
    },
    {
     "name": "stderr",
     "output_type": "stream",
     "text": [
      "  1%|          | 142/15000 [06:37<11:20:14,  2.75s/it]"
     ]
    },
    {
     "name": "stdout",
     "output_type": "stream",
     "text": [
      "Error processing article: index out of range in self\n"
     ]
    },
    {
     "name": "stderr",
     "output_type": "stream",
     "text": [
      "  1%|▏         | 212/15000 [09:56<11:30:35,  2.80s/it]"
     ]
    },
    {
     "name": "stdout",
     "output_type": "stream",
     "text": [
      "Error processing article: index out of range in self\n"
     ]
    },
    {
     "name": "stderr",
     "output_type": "stream",
     "text": [
      "  2%|▏         | 244/15000 [11:21<12:41:11,  3.10s/it]"
     ]
    },
    {
     "name": "stdout",
     "output_type": "stream",
     "text": [
      "Error processing article: index out of range in self\n"
     ]
    },
    {
     "name": "stderr",
     "output_type": "stream",
     "text": [
      "  2%|▏         | 285/15000 [13:11<11:20:23,  2.77s/it]"
     ]
    },
    {
     "name": "stdout",
     "output_type": "stream",
     "text": [
      "Error processing article: index out of range in self\n"
     ]
    },
    {
     "name": "stderr",
     "output_type": "stream",
     "text": [
      "  2%|▏         | 303/15000 [14:00<13:23:08,  3.28s/it]"
     ]
    },
    {
     "name": "stdout",
     "output_type": "stream",
     "text": [
      "Error processing article: index out of range in self\n"
     ]
    },
    {
     "name": "stderr",
     "output_type": "stream",
     "text": [
      "  2%|▏         | 313/15000 [14:24<9:26:10,  2.31s/it] "
     ]
    },
    {
     "name": "stdout",
     "output_type": "stream",
     "text": [
      "Error processing article: index out of range in self\n"
     ]
    },
    {
     "name": "stderr",
     "output_type": "stream",
     "text": [
      "  2%|▏         | 334/15000 [15:20<11:15:00,  2.76s/it]"
     ]
    },
    {
     "name": "stdout",
     "output_type": "stream",
     "text": [
      "Error processing article: index out of range in self\n"
     ]
    },
    {
     "name": "stderr",
     "output_type": "stream",
     "text": [
      "  3%|▎         | 429/15000 [19:28<16:01:31,  3.96s/it]"
     ]
    },
    {
     "name": "stdout",
     "output_type": "stream",
     "text": [
      "Error processing article: index out of range in self\n"
     ]
    },
    {
     "name": "stderr",
     "output_type": "stream",
     "text": [
      "  3%|▎         | 445/15000 [20:08<11:02:54,  2.73s/it]"
     ]
    },
    {
     "name": "stdout",
     "output_type": "stream",
     "text": [
      "Error processing article: index out of range in self\n"
     ]
    },
    {
     "name": "stderr",
     "output_type": "stream",
     "text": [
      "  3%|▎         | 476/15000 [21:27<9:28:56,  2.35s/it] "
     ]
    },
    {
     "name": "stdout",
     "output_type": "stream",
     "text": [
      "Error processing article: index out of range in self\n"
     ]
    },
    {
     "name": "stderr",
     "output_type": "stream",
     "text": [
      "  4%|▎         | 538/15000 [24:11<11:08:05,  2.77s/it]"
     ]
    },
    {
     "name": "stdout",
     "output_type": "stream",
     "text": [
      "Error processing article: index out of range in self\n"
     ]
    },
    {
     "name": "stderr",
     "output_type": "stream",
     "text": [
      "  4%|▍         | 647/15000 [29:10<9:47:40,  2.46s/it] "
     ]
    },
    {
     "name": "stdout",
     "output_type": "stream",
     "text": [
      "Error processing article: index out of range in self\n"
     ]
    },
    {
     "name": "stderr",
     "output_type": "stream",
     "text": [
      "  5%|▍         | 724/15000 [32:24<11:29:46,  2.90s/it]"
     ]
    },
    {
     "name": "stdout",
     "output_type": "stream",
     "text": [
      "Error processing article: index out of range in self\n"
     ]
    },
    {
     "name": "stderr",
     "output_type": "stream",
     "text": [
      "  5%|▌         | 755/15000 [33:40<10:02:18,  2.54s/it]"
     ]
    },
    {
     "name": "stdout",
     "output_type": "stream",
     "text": [
      "Error processing article: index out of range in self\n"
     ]
    },
    {
     "name": "stderr",
     "output_type": "stream",
     "text": [
      "  5%|▌         | 793/15000 [35:24<10:51:33,  2.75s/it]"
     ]
    },
    {
     "name": "stdout",
     "output_type": "stream",
     "text": [
      "Error processing article: index out of range in self\n"
     ]
    },
    {
     "name": "stderr",
     "output_type": "stream",
     "text": [
      "  5%|▌         | 802/15000 [35:42<9:30:24,  2.41s/it] "
     ]
    },
    {
     "name": "stdout",
     "output_type": "stream",
     "text": [
      "Error processing article: index out of range in self\n"
     ]
    },
    {
     "name": "stderr",
     "output_type": "stream",
     "text": [
      "  5%|▌         | 814/15000 [36:16<12:47:46,  3.25s/it]"
     ]
    },
    {
     "name": "stdout",
     "output_type": "stream",
     "text": [
      "Error processing article: index out of range in self\n"
     ]
    },
    {
     "name": "stderr",
     "output_type": "stream",
     "text": [
      "  6%|▌         | 835/15000 [37:12<11:12:55,  2.85s/it]"
     ]
    },
    {
     "name": "stdout",
     "output_type": "stream",
     "text": [
      "Error processing article: index out of range in self\n"
     ]
    },
    {
     "name": "stderr",
     "output_type": "stream",
     "text": [
      "  6%|▌         | 862/15000 [38:19<8:43:28,  2.22s/it] "
     ]
    },
    {
     "name": "stdout",
     "output_type": "stream",
     "text": [
      "Error processing article: index out of range in self\n"
     ]
    },
    {
     "name": "stderr",
     "output_type": "stream",
     "text": [
      "  6%|▌         | 873/15000 [38:42<9:34:43,  2.44s/it] "
     ]
    },
    {
     "name": "stdout",
     "output_type": "stream",
     "text": [
      "Error processing article: index out of range in self\n"
     ]
    },
    {
     "name": "stderr",
     "output_type": "stream",
     "text": [
      "  6%|▌         | 897/15000 [39:45<10:23:22,  2.65s/it]"
     ]
    },
    {
     "name": "stdout",
     "output_type": "stream",
     "text": [
      "Error processing article: index out of range in self\n"
     ]
    },
    {
     "name": "stderr",
     "output_type": "stream",
     "text": [
      "  6%|▌         | 920/15000 [40:49<11:50:26,  3.03s/it]"
     ]
    },
    {
     "name": "stdout",
     "output_type": "stream",
     "text": [
      "Error processing article: index out of range in self\n"
     ]
    },
    {
     "name": "stderr",
     "output_type": "stream",
     "text": [
      "  7%|▋         | 991/15000 [44:14<12:36:39,  3.24s/it]"
     ]
    },
    {
     "name": "stdout",
     "output_type": "stream",
     "text": [
      "Error processing article: index out of range in self\n"
     ]
    },
    {
     "name": "stderr",
     "output_type": "stream",
     "text": [
      "  7%|▋         | 1021/15000 [45:47<10:28:11,  2.70s/it]Your max_length is set to 50, but your input_length is only 39. Since this is a summarization task, where outputs shorter than the input are typically wanted, you might consider decreasing max_length manually, e.g. summarizer('...', max_length=19)\n",
      "  7%|▋         | 1055/15000 [47:15<9:25:13,  2.43s/it] "
     ]
    },
    {
     "name": "stdout",
     "output_type": "stream",
     "text": [
      "Error processing article: index out of range in self\n"
     ]
    },
    {
     "name": "stderr",
     "output_type": "stream",
     "text": [
      "  7%|▋         | 1065/15000 [47:41<11:19:30,  2.93s/it]"
     ]
    },
    {
     "name": "stdout",
     "output_type": "stream",
     "text": [
      "Error processing article: index out of range in self\n"
     ]
    },
    {
     "name": "stderr",
     "output_type": "stream",
     "text": [
      "  7%|▋         | 1086/15000 [48:38<12:07:31,  3.14s/it]"
     ]
    },
    {
     "name": "stdout",
     "output_type": "stream",
     "text": [
      "Error processing article: index out of range in self\n"
     ]
    },
    {
     "name": "stderr",
     "output_type": "stream",
     "text": [
      "  7%|▋         | 1102/15000 [49:20<10:29:23,  2.72s/it]"
     ]
    },
    {
     "name": "stdout",
     "output_type": "stream",
     "text": [
      "Error processing article: index out of range in self\n"
     ]
    },
    {
     "name": "stderr",
     "output_type": "stream",
     "text": [
      "  7%|▋         | 1121/15000 [50:12<13:09:25,  3.41s/it]"
     ]
    },
    {
     "name": "stdout",
     "output_type": "stream",
     "text": [
      "Error processing article: index out of range in self\n"
     ]
    },
    {
     "name": "stderr",
     "output_type": "stream",
     "text": [
      "  8%|▊         | 1144/15000 [51:12<8:48:57,  2.29s/it] "
     ]
    },
    {
     "name": "stdout",
     "output_type": "stream",
     "text": [
      "Error processing article: index out of range in self\n"
     ]
    },
    {
     "name": "stderr",
     "output_type": "stream",
     "text": [
      "  8%|▊         | 1163/15000 [52:08<10:54:50,  2.84s/it]"
     ]
    },
    {
     "name": "stdout",
     "output_type": "stream",
     "text": [
      "Error processing article: index out of range in self\n"
     ]
    },
    {
     "name": "stderr",
     "output_type": "stream",
     "text": [
      "  8%|▊         | 1184/15000 [53:06<10:55:42,  2.85s/it]"
     ]
    },
    {
     "name": "stdout",
     "output_type": "stream",
     "text": [
      "Error processing article: index out of range in self\n"
     ]
    },
    {
     "name": "stderr",
     "output_type": "stream",
     "text": [
      "  8%|▊         | 1199/15000 [53:42<8:44:50,  2.28s/it] "
     ]
    },
    {
     "name": "stdout",
     "output_type": "stream",
     "text": [
      "Error processing article: index out of range in self\n"
     ]
    },
    {
     "name": "stderr",
     "output_type": "stream",
     "text": [
      "  8%|▊         | 1209/15000 [54:11<13:11:54,  3.45s/it]"
     ]
    },
    {
     "name": "stdout",
     "output_type": "stream",
     "text": [
      "Error processing article: index out of range in self\n"
     ]
    },
    {
     "name": "stderr",
     "output_type": "stream",
     "text": [
      "  8%|▊         | 1212/15000 [54:16<8:46:04,  2.29s/it] "
     ]
    },
    {
     "name": "stdout",
     "output_type": "stream",
     "text": [
      "Error processing article: index out of range in self\n"
     ]
    },
    {
     "name": "stderr",
     "output_type": "stream",
     "text": [
      "  8%|▊         | 1215/15000 [54:19<6:37:00,  1.73s/it]"
     ]
    },
    {
     "name": "stdout",
     "output_type": "stream",
     "text": [
      "Error processing article: index out of range in self\n"
     ]
    },
    {
     "name": "stderr",
     "output_type": "stream",
     "text": [
      "  9%|▊         | 1284/15000 [57:45<10:38:01,  2.79s/it]"
     ]
    },
    {
     "name": "stdout",
     "output_type": "stream",
     "text": [
      "Error processing article: index out of range in self\n"
     ]
    },
    {
     "name": "stderr",
     "output_type": "stream",
     "text": [
      "  9%|▉         | 1342/15000 [1:00:35<13:24:23,  3.53s/it]"
     ]
    },
    {
     "name": "stdout",
     "output_type": "stream",
     "text": [
      "Error processing article: index out of range in self\n"
     ]
    },
    {
     "name": "stderr",
     "output_type": "stream",
     "text": [
      "  9%|▉         | 1345/15000 [1:00:39<8:33:22,  2.26s/it] "
     ]
    },
    {
     "name": "stdout",
     "output_type": "stream",
     "text": [
      "Error processing article: index out of range in self\n"
     ]
    },
    {
     "name": "stderr",
     "output_type": "stream",
     "text": [
      "  9%|▉         | 1353/15000 [1:01:00<10:00:20,  2.64s/it]"
     ]
    },
    {
     "name": "stdout",
     "output_type": "stream",
     "text": [
      "Error processing article: index out of range in self\n"
     ]
    },
    {
     "name": "stderr",
     "output_type": "stream",
     "text": [
      " 10%|▉         | 1432/15000 [1:04:54<14:25:43,  3.83s/it]"
     ]
    },
    {
     "name": "stdout",
     "output_type": "stream",
     "text": [
      "Error processing article: index out of range in self\n"
     ]
    },
    {
     "name": "stderr",
     "output_type": "stream",
     "text": [
      " 10%|▉         | 1435/15000 [1:05:03<12:39:49,  3.36s/it]"
     ]
    },
    {
     "name": "stdout",
     "output_type": "stream",
     "text": [
      "Error processing article: index out of range in self\n"
     ]
    },
    {
     "name": "stderr",
     "output_type": "stream",
     "text": [
      " 10%|▉         | 1479/15000 [1:07:05<10:37:04,  2.83s/it]"
     ]
    },
    {
     "name": "stdout",
     "output_type": "stream",
     "text": [
      "Error processing article: index out of range in self\n"
     ]
    },
    {
     "name": "stderr",
     "output_type": "stream",
     "text": [
      " 10%|█         | 1507/15000 [1:08:22<9:40:01,  2.58s/it] "
     ]
    },
    {
     "name": "stdout",
     "output_type": "stream",
     "text": [
      "Error processing article: index out of range in self\n"
     ]
    },
    {
     "name": "stderr",
     "output_type": "stream",
     "text": [
      " 10%|█         | 1556/15000 [1:10:50<12:42:44,  3.40s/it]"
     ]
    },
    {
     "name": "stdout",
     "output_type": "stream",
     "text": [
      "Error processing article: index out of range in self\n"
     ]
    },
    {
     "name": "stderr",
     "output_type": "stream",
     "text": [
      " 11%|█         | 1616/15000 [1:13:48<10:13:13,  2.75s/it]"
     ]
    },
    {
     "name": "stdout",
     "output_type": "stream",
     "text": [
      "Error processing article: index out of range in self\n"
     ]
    },
    {
     "name": "stderr",
     "output_type": "stream",
     "text": [
      " 11%|█         | 1657/15000 [1:15:51<14:04:43,  3.80s/it]"
     ]
    },
    {
     "name": "stdout",
     "output_type": "stream",
     "text": [
      "Error processing article: index out of range in self\n"
     ]
    },
    {
     "name": "stderr",
     "output_type": "stream",
     "text": [
      " 11%|█         | 1664/15000 [1:16:09<10:06:21,  2.73s/it]"
     ]
    },
    {
     "name": "stdout",
     "output_type": "stream",
     "text": [
      "Error processing article: index out of range in self\n"
     ]
    },
    {
     "name": "stderr",
     "output_type": "stream",
     "text": [
      " 11%|█         | 1686/15000 [1:17:03<8:46:09,  2.37s/it] "
     ]
    },
    {
     "name": "stdout",
     "output_type": "stream",
     "text": [
      "Error processing article: index out of range in self\n"
     ]
    },
    {
     "name": "stderr",
     "output_type": "stream",
     "text": [
      " 11%|█▏        | 1694/15000 [1:17:24<10:44:59,  2.91s/it]"
     ]
    },
    {
     "name": "stdout",
     "output_type": "stream",
     "text": [
      "Error processing article: index out of range in self\n"
     ]
    },
    {
     "name": "stderr",
     "output_type": "stream",
     "text": [
      " 12%|█▏        | 1771/15000 [1:20:55<8:51:02,  2.41s/it] "
     ]
    },
    {
     "name": "stdout",
     "output_type": "stream",
     "text": [
      "Error processing article: index out of range in self\n"
     ]
    },
    {
     "name": "stderr",
     "output_type": "stream",
     "text": [
      " 12%|█▏        | 1804/15000 [1:22:33<11:56:12,  3.26s/it]"
     ]
    },
    {
     "name": "stdout",
     "output_type": "stream",
     "text": [
      "Error processing article: index out of range in self\n"
     ]
    },
    {
     "name": "stderr",
     "output_type": "stream",
     "text": [
      " 12%|█▏        | 1847/15000 [1:24:42<9:58:12,  2.73s/it] "
     ]
    },
    {
     "name": "stdout",
     "output_type": "stream",
     "text": [
      "Error processing article: index out of range in self\n"
     ]
    },
    {
     "name": "stderr",
     "output_type": "stream",
     "text": [
      " 13%|█▎        | 1953/15000 [1:30:13<12:54:57,  3.56s/it]"
     ]
    },
    {
     "name": "stdout",
     "output_type": "stream",
     "text": [
      "Error processing article: index out of range in self\n"
     ]
    },
    {
     "name": "stderr",
     "output_type": "stream",
     "text": [
      " 13%|█▎        | 1998/15000 [1:32:15<10:23:40,  2.88s/it]"
     ]
    },
    {
     "name": "stdout",
     "output_type": "stream",
     "text": [
      "Error processing article: index out of range in self\n"
     ]
    },
    {
     "name": "stderr",
     "output_type": "stream",
     "text": [
      " 13%|█▎        | 2021/15000 [1:33:24<10:28:41,  2.91s/it]"
     ]
    },
    {
     "name": "stdout",
     "output_type": "stream",
     "text": [
      "Error processing article: index out of range in self\n"
     ]
    },
    {
     "name": "stderr",
     "output_type": "stream",
     "text": [
      " 13%|█▎        | 2024/15000 [1:33:29<8:44:16,  2.42s/it] "
     ]
    },
    {
     "name": "stdout",
     "output_type": "stream",
     "text": [
      "Error processing article: index out of range in self\n"
     ]
    },
    {
     "name": "stderr",
     "output_type": "stream",
     "text": [
      " 14%|█▎        | 2061/15000 [1:35:14<12:02:45,  3.35s/it]"
     ]
    },
    {
     "name": "stdout",
     "output_type": "stream",
     "text": [
      "Error processing article: index out of range in self\n"
     ]
    },
    {
     "name": "stderr",
     "output_type": "stream",
     "text": [
      " 14%|█▍        | 2091/15000 [1:36:37<9:23:24,  2.62s/it] "
     ]
    },
    {
     "name": "stdout",
     "output_type": "stream",
     "text": [
      "Error processing article: index out of range in self\n"
     ]
    },
    {
     "name": "stderr",
     "output_type": "stream",
     "text": [
      " 14%|█▍        | 2097/15000 [1:36:52<10:51:52,  3.03s/it]"
     ]
    },
    {
     "name": "stdout",
     "output_type": "stream",
     "text": [
      "Error processing article: index out of range in self\n"
     ]
    },
    {
     "name": "stderr",
     "output_type": "stream",
     "text": [
      " 14%|█▍        | 2125/15000 [1:38:06<11:00:31,  3.08s/it]"
     ]
    },
    {
     "name": "stdout",
     "output_type": "stream",
     "text": [
      "Error processing article: index out of range in self\n"
     ]
    },
    {
     "name": "stderr",
     "output_type": "stream",
     "text": [
      " 14%|█▍        | 2171/15000 [1:40:30<10:38:11,  2.98s/it]Your max_length is set to 50, but your input_length is only 39. Since this is a summarization task, where outputs shorter than the input are typically wanted, you might consider decreasing max_length manually, e.g. summarizer('...', max_length=19)\n",
      " 15%|█▍        | 2189/15000 [1:41:20<13:12:45,  3.71s/it]"
     ]
    },
    {
     "name": "stdout",
     "output_type": "stream",
     "text": [
      "Error processing article: index out of range in self\n"
     ]
    },
    {
     "name": "stderr",
     "output_type": "stream",
     "text": [
      " 15%|█▍        | 2204/15000 [1:42:01<11:50:26,  3.33s/it]"
     ]
    },
    {
     "name": "stdout",
     "output_type": "stream",
     "text": [
      "Error processing article: index out of range in self\n"
     ]
    },
    {
     "name": "stderr",
     "output_type": "stream",
     "text": [
      " 15%|█▌        | 2260/15000 [1:44:46<8:55:42,  2.52s/it] "
     ]
    },
    {
     "name": "stdout",
     "output_type": "stream",
     "text": [
      "Error processing article: index out of range in self\n",
      "Error processing article: index out of range in self\n"
     ]
    },
    {
     "name": "stderr",
     "output_type": "stream",
     "text": [
      " 15%|█▌        | 2287/15000 [1:46:06<8:03:12,  2.28s/it] "
     ]
    },
    {
     "name": "stdout",
     "output_type": "stream",
     "text": [
      "Error processing article: index out of range in self\n"
     ]
    },
    {
     "name": "stderr",
     "output_type": "stream",
     "text": [
      " 15%|█▌        | 2302/15000 [1:46:48<11:35:05,  3.28s/it]"
     ]
    },
    {
     "name": "stdout",
     "output_type": "stream",
     "text": [
      "Error processing article: index out of range in self\n"
     ]
    },
    {
     "name": "stderr",
     "output_type": "stream",
     "text": [
      " 16%|█▌        | 2348/15000 [1:48:52<8:05:14,  2.30s/it] "
     ]
    },
    {
     "name": "stdout",
     "output_type": "stream",
     "text": [
      "Error processing article: index out of range in self\n"
     ]
    },
    {
     "name": "stderr",
     "output_type": "stream",
     "text": [
      " 16%|█▌        | 2416/15000 [1:52:31<10:25:48,  2.98s/it]"
     ]
    },
    {
     "name": "stdout",
     "output_type": "stream",
     "text": [
      "Error processing article: index out of range in self\n"
     ]
    },
    {
     "name": "stderr",
     "output_type": "stream",
     "text": [
      " 17%|█▋        | 2493/15000 [1:56:26<13:21:29,  3.85s/it]"
     ]
    },
    {
     "name": "stdout",
     "output_type": "stream",
     "text": [
      "Error processing article: index out of range in self\n"
     ]
    },
    {
     "name": "stderr",
     "output_type": "stream",
     "text": [
      " 17%|█▋        | 2496/15000 [1:56:32<10:04:27,  2.90s/it]"
     ]
    },
    {
     "name": "stdout",
     "output_type": "stream",
     "text": [
      "Error processing article: index out of range in self\n"
     ]
    },
    {
     "name": "stderr",
     "output_type": "stream",
     "text": [
      " 17%|█▋        | 2537/15000 [1:58:37<8:24:29,  2.43s/it] "
     ]
    },
    {
     "name": "stdout",
     "output_type": "stream",
     "text": [
      "Error processing article: index out of range in self\n"
     ]
    },
    {
     "name": "stderr",
     "output_type": "stream",
     "text": [
      " 17%|█▋        | 2544/15000 [1:58:54<9:39:14,  2.79s/it] "
     ]
    },
    {
     "name": "stdout",
     "output_type": "stream",
     "text": [
      "Error processing article: index out of range in self\n"
     ]
    },
    {
     "name": "stderr",
     "output_type": "stream",
     "text": [
      " 17%|█▋        | 2548/15000 [1:59:02<7:42:53,  2.23s/it]"
     ]
    },
    {
     "name": "stdout",
     "output_type": "stream",
     "text": [
      "Error processing article: index out of range in self\n"
     ]
    },
    {
     "name": "stderr",
     "output_type": "stream",
     "text": [
      " 17%|█▋        | 2559/15000 [1:59:31<8:46:24,  2.54s/it] "
     ]
    },
    {
     "name": "stdout",
     "output_type": "stream",
     "text": [
      "Error processing article: index out of range in self\n"
     ]
    },
    {
     "name": "stderr",
     "output_type": "stream",
     "text": [
      " 17%|█▋        | 2581/15000 [2:00:31<8:48:12,  2.55s/it] "
     ]
    },
    {
     "name": "stdout",
     "output_type": "stream",
     "text": [
      "Error processing article: index out of range in self\n"
     ]
    },
    {
     "name": "stderr",
     "output_type": "stream",
     "text": [
      " 18%|█▊        | 2626/15000 [2:02:40<10:00:49,  2.91s/it]"
     ]
    },
    {
     "name": "stdout",
     "output_type": "stream",
     "text": [
      "Error processing article: index out of range in self\n"
     ]
    },
    {
     "name": "stderr",
     "output_type": "stream",
     "text": [
      " 18%|█▊        | 2629/15000 [2:02:46<9:17:19,  2.70s/it] "
     ]
    },
    {
     "name": "stdout",
     "output_type": "stream",
     "text": [
      "Error processing article: index out of range in self\n"
     ]
    },
    {
     "name": "stderr",
     "output_type": "stream",
     "text": [
      " 18%|█▊        | 2643/15000 [2:03:27<10:08:13,  2.95s/it]"
     ]
    },
    {
     "name": "stdout",
     "output_type": "stream",
     "text": [
      "Error processing article: index out of range in self\n"
     ]
    },
    {
     "name": "stderr",
     "output_type": "stream",
     "text": [
      " 18%|█▊        | 2668/15000 [2:04:26<7:36:10,  2.22s/it] "
     ]
    },
    {
     "name": "stdout",
     "output_type": "stream",
     "text": [
      "Error processing article: index out of range in self\n"
     ]
    },
    {
     "name": "stderr",
     "output_type": "stream",
     "text": [
      " 18%|█▊        | 2732/15000 [2:07:28<12:13:23,  3.59s/it]"
     ]
    },
    {
     "name": "stdout",
     "output_type": "stream",
     "text": [
      "Error processing article: index out of range in self\n"
     ]
    },
    {
     "name": "stderr",
     "output_type": "stream",
     "text": [
      " 18%|█▊        | 2745/15000 [2:08:01<9:02:01,  2.65s/it] "
     ]
    },
    {
     "name": "stdout",
     "output_type": "stream",
     "text": [
      "Error processing article: index out of range in self\n"
     ]
    },
    {
     "name": "stderr",
     "output_type": "stream",
     "text": [
      " 19%|█▊        | 2797/15000 [2:10:42<11:36:25,  3.42s/it]"
     ]
    },
    {
     "name": "stdout",
     "output_type": "stream",
     "text": [
      "Error processing article: index out of range in self\n"
     ]
    },
    {
     "name": "stderr",
     "output_type": "stream",
     "text": [
      " 19%|█▉        | 2851/15000 [2:13:27<10:37:06,  3.15s/it]"
     ]
    },
    {
     "name": "stdout",
     "output_type": "stream",
     "text": [
      "Error processing article: index out of range in self\n"
     ]
    },
    {
     "name": "stderr",
     "output_type": "stream",
     "text": [
      " 19%|█▉        | 2880/15000 [2:14:46<8:23:29,  2.49s/it] "
     ]
    },
    {
     "name": "stdout",
     "output_type": "stream",
     "text": [
      "Error processing article: index out of range in self\n"
     ]
    },
    {
     "name": "stderr",
     "output_type": "stream",
     "text": [
      " 19%|█▉        | 2882/15000 [2:14:49<6:46:20,  2.01s/it]"
     ]
    },
    {
     "name": "stdout",
     "output_type": "stream",
     "text": [
      "Error processing article: index out of range in self\n"
     ]
    },
    {
     "name": "stderr",
     "output_type": "stream",
     "text": [
      " 19%|█▉        | 2918/15000 [2:16:31<8:24:42,  2.51s/it] "
     ]
    },
    {
     "name": "stdout",
     "output_type": "stream",
     "text": [
      "Error processing article: index out of range in self\n"
     ]
    },
    {
     "name": "stderr",
     "output_type": "stream",
     "text": [
      " 20%|█▉        | 2964/15000 [2:18:54<11:33:05,  3.46s/it]"
     ]
    },
    {
     "name": "stdout",
     "output_type": "stream",
     "text": [
      "Error processing article: index out of range in self\n"
     ]
    },
    {
     "name": "stderr",
     "output_type": "stream",
     "text": [
      " 20%|█▉        | 2971/15000 [2:19:12<9:27:47,  2.83s/it] "
     ]
    },
    {
     "name": "stdout",
     "output_type": "stream",
     "text": [
      "Error processing article: index out of range in self\n"
     ]
    },
    {
     "name": "stderr",
     "output_type": "stream",
     "text": [
      " 20%|█▉        | 2998/15000 [2:20:29<8:25:58,  2.53s/it] "
     ]
    },
    {
     "name": "stdout",
     "output_type": "stream",
     "text": [
      "Error processing article: index out of range in self\n"
     ]
    },
    {
     "name": "stderr",
     "output_type": "stream",
     "text": [
      " 21%|██        | 3081/15000 [2:24:46<10:21:07,  3.13s/it]"
     ]
    },
    {
     "name": "stdout",
     "output_type": "stream",
     "text": [
      "Error processing article: index out of range in self\n"
     ]
    },
    {
     "name": "stderr",
     "output_type": "stream",
     "text": [
      " 21%|██        | 3096/15000 [2:25:28<8:55:36,  2.70s/it] "
     ]
    },
    {
     "name": "stdout",
     "output_type": "stream",
     "text": [
      "Error processing article: index out of range in self\n"
     ]
    },
    {
     "name": "stderr",
     "output_type": "stream",
     "text": [
      " 21%|██        | 3101/15000 [2:25:39<8:02:03,  2.43s/it]"
     ]
    },
    {
     "name": "stdout",
     "output_type": "stream",
     "text": [
      "Error processing article: index out of range in self\n"
     ]
    },
    {
     "name": "stderr",
     "output_type": "stream",
     "text": [
      " 21%|██        | 3125/15000 [2:26:57<10:55:53,  3.31s/it]"
     ]
    },
    {
     "name": "stdout",
     "output_type": "stream",
     "text": [
      "Error processing article: index out of range in self\n"
     ]
    },
    {
     "name": "stderr",
     "output_type": "stream",
     "text": [
      " 21%|██▏       | 3197/15000 [2:30:43<8:12:31,  2.50s/it] "
     ]
    },
    {
     "name": "stdout",
     "output_type": "stream",
     "text": [
      "Error processing article: index out of range in self\n",
      "Error processing article: index out of range in self\n"
     ]
    },
    {
     "name": "stderr",
     "output_type": "stream",
     "text": [
      " 22%|██▏       | 3291/15000 [2:35:29<9:26:37,  2.90s/it] "
     ]
    },
    {
     "name": "stdout",
     "output_type": "stream",
     "text": [
      "Error processing article: index out of range in self\n"
     ]
    },
    {
     "name": "stderr",
     "output_type": "stream",
     "text": [
      " 22%|██▏       | 3331/15000 [2:37:34<8:54:22,  2.75s/it] "
     ]
    },
    {
     "name": "stdout",
     "output_type": "stream",
     "text": [
      "Error processing article: index out of range in self\n"
     ]
    },
    {
     "name": "stderr",
     "output_type": "stream",
     "text": [
      " 23%|██▎       | 3377/15000 [2:39:51<8:49:06,  2.73s/it] "
     ]
    },
    {
     "name": "stdout",
     "output_type": "stream",
     "text": [
      "Error processing article: index out of range in self\n"
     ]
    },
    {
     "name": "stderr",
     "output_type": "stream",
     "text": [
      " 23%|██▎       | 3380/15000 [2:39:58<8:26:56,  2.62s/it]"
     ]
    },
    {
     "name": "stdout",
     "output_type": "stream",
     "text": [
      "Error processing article: index out of range in self\n"
     ]
    },
    {
     "name": "stderr",
     "output_type": "stream",
     "text": [
      " 23%|██▎       | 3416/15000 [2:41:41<10:28:10,  3.25s/it]"
     ]
    },
    {
     "name": "stdout",
     "output_type": "stream",
     "text": [
      "Error processing article: index out of range in self\n"
     ]
    },
    {
     "name": "stderr",
     "output_type": "stream",
     "text": [
      " 23%|██▎       | 3436/15000 [2:42:40<8:58:24,  2.79s/it] "
     ]
    },
    {
     "name": "stdout",
     "output_type": "stream",
     "text": [
      "Error processing article: index out of range in self\n"
     ]
    },
    {
     "name": "stderr",
     "output_type": "stream",
     "text": [
      " 23%|██▎       | 3506/15000 [2:46:03<10:08:07,  3.17s/it]"
     ]
    },
    {
     "name": "stdout",
     "output_type": "stream",
     "text": [
      "Error processing article: index out of range in self\n"
     ]
    },
    {
     "name": "stderr",
     "output_type": "stream",
     "text": [
      " 23%|██▎       | 3518/15000 [2:46:35<9:42:59,  3.05s/it] "
     ]
    },
    {
     "name": "stdout",
     "output_type": "stream",
     "text": [
      "Error processing article: index out of range in self\n"
     ]
    },
    {
     "name": "stderr",
     "output_type": "stream",
     "text": [
      " 24%|██▎       | 3538/15000 [2:47:29<8:41:46,  2.73s/it] "
     ]
    },
    {
     "name": "stdout",
     "output_type": "stream",
     "text": [
      "Error processing article: index out of range in self\n"
     ]
    },
    {
     "name": "stderr",
     "output_type": "stream",
     "text": [
      " 24%|██▍       | 3600/15000 [2:50:31<8:23:47,  2.65s/it] "
     ]
    },
    {
     "name": "stdout",
     "output_type": "stream",
     "text": [
      "Error processing article: index out of range in self\n"
     ]
    },
    {
     "name": "stderr",
     "output_type": "stream",
     "text": [
      " 24%|██▍       | 3646/15000 [2:52:50<10:39:35,  3.38s/it]"
     ]
    },
    {
     "name": "stdout",
     "output_type": "stream",
     "text": [
      "Error processing article: index out of range in self\n"
     ]
    },
    {
     "name": "stderr",
     "output_type": "stream",
     "text": [
      " 24%|██▍       | 3665/15000 [2:53:41<7:50:09,  2.49s/it] "
     ]
    },
    {
     "name": "stdout",
     "output_type": "stream",
     "text": [
      "Error processing article: index out of range in self\n"
     ]
    },
    {
     "name": "stderr",
     "output_type": "stream",
     "text": [
      " 25%|██▍       | 3696/15000 [2:55:16<8:52:27,  2.83s/it] "
     ]
    },
    {
     "name": "stdout",
     "output_type": "stream",
     "text": [
      "Error processing article: index out of range in self\n"
     ]
    },
    {
     "name": "stderr",
     "output_type": "stream",
     "text": [
      " 25%|██▍       | 3702/15000 [2:55:29<7:41:34,  2.45s/it]"
     ]
    },
    {
     "name": "stdout",
     "output_type": "stream",
     "text": [
      "Error processing article: index out of range in self\n"
     ]
    },
    {
     "name": "stderr",
     "output_type": "stream",
     "text": [
      " 25%|██▍       | 3734/15000 [2:57:03<10:31:22,  3.36s/it]"
     ]
    },
    {
     "name": "stdout",
     "output_type": "stream",
     "text": [
      "Error processing article: index out of range in self\n"
     ]
    },
    {
     "name": "stderr",
     "output_type": "stream",
     "text": [
      " 25%|██▌       | 3757/15000 [2:58:05<9:58:35,  3.19s/it] "
     ]
    },
    {
     "name": "stdout",
     "output_type": "stream",
     "text": [
      "Error processing article: index out of range in self\n"
     ]
    },
    {
     "name": "stderr",
     "output_type": "stream",
     "text": [
      " 25%|██▌       | 3808/15000 [3:00:43<9:29:41,  3.05s/it] "
     ]
    },
    {
     "name": "stdout",
     "output_type": "stream",
     "text": [
      "Error processing article: index out of range in self\n"
     ]
    },
    {
     "name": "stderr",
     "output_type": "stream",
     "text": [
      " 26%|██▌       | 3825/15000 [3:01:34<9:39:04,  3.11s/it] "
     ]
    },
    {
     "name": "stdout",
     "output_type": "stream",
     "text": [
      "Error processing article: index out of range in self\n"
     ]
    },
    {
     "name": "stderr",
     "output_type": "stream",
     "text": [
      " 26%|██▌       | 3926/15000 [3:06:54<10:51:17,  3.53s/it]"
     ]
    },
    {
     "name": "stdout",
     "output_type": "stream",
     "text": [
      "Error processing article: index out of range in self\n"
     ]
    },
    {
     "name": "stderr",
     "output_type": "stream",
     "text": [
      " 26%|██▋       | 3957/15000 [3:08:29<8:29:03,  2.77s/it] "
     ]
    },
    {
     "name": "stdout",
     "output_type": "stream",
     "text": [
      "Error processing article: index out of range in self\n"
     ]
    },
    {
     "name": "stderr",
     "output_type": "stream",
     "text": [
      " 26%|██▋       | 3964/15000 [3:08:50<9:33:00,  3.12s/it]"
     ]
    },
    {
     "name": "stdout",
     "output_type": "stream",
     "text": [
      "Error processing article: index out of range in self\n"
     ]
    },
    {
     "name": "stderr",
     "output_type": "stream",
     "text": [
      " 27%|██▋       | 4012/15000 [3:11:25<9:38:52,  3.16s/it] "
     ]
    },
    {
     "name": "stdout",
     "output_type": "stream",
     "text": [
      "Error processing article: index out of range in self\n"
     ]
    },
    {
     "name": "stderr",
     "output_type": "stream",
     "text": [
      " 27%|██▋       | 4039/15000 [3:12:45<8:08:24,  2.67s/it] "
     ]
    },
    {
     "name": "stdout",
     "output_type": "stream",
     "text": [
      "Error processing article: index out of range in self\n"
     ]
    },
    {
     "name": "stderr",
     "output_type": "stream",
     "text": [
      " 28%|██▊       | 4173/15000 [3:19:27<8:05:46,  2.69s/it] "
     ]
    },
    {
     "name": "stdout",
     "output_type": "stream",
     "text": [
      "Error processing article: index out of range in self\n"
     ]
    },
    {
     "name": "stderr",
     "output_type": "stream",
     "text": [
      " 28%|██▊       | 4182/15000 [3:19:46<7:15:52,  2.42s/it]"
     ]
    },
    {
     "name": "stdout",
     "output_type": "stream",
     "text": [
      "Error processing article: index out of range in self\n"
     ]
    },
    {
     "name": "stderr",
     "output_type": "stream",
     "text": [
      " 28%|██▊       | 4204/15000 [3:20:53<10:24:03,  3.47s/it]"
     ]
    },
    {
     "name": "stdout",
     "output_type": "stream",
     "text": [
      "Error processing article: index out of range in self\n"
     ]
    },
    {
     "name": "stderr",
     "output_type": "stream",
     "text": [
      " 29%|██▊       | 4308/15000 [3:26:06<10:22:56,  3.50s/it]"
     ]
    },
    {
     "name": "stdout",
     "output_type": "stream",
     "text": [
      "Error processing article: index out of range in self\n"
     ]
    },
    {
     "name": "stderr",
     "output_type": "stream",
     "text": [
      " 29%|██▉       | 4321/15000 [3:26:43<9:28:46,  3.20s/it] "
     ]
    },
    {
     "name": "stdout",
     "output_type": "stream",
     "text": [
      "Error processing article: index out of range in self\n"
     ]
    },
    {
     "name": "stderr",
     "output_type": "stream",
     "text": [
      " 29%|██▉       | 4350/15000 [3:28:13<9:14:35,  3.12s/it] "
     ]
    },
    {
     "name": "stdout",
     "output_type": "stream",
     "text": [
      "Error processing article: index out of range in self\n"
     ]
    },
    {
     "name": "stderr",
     "output_type": "stream",
     "text": [
      " 29%|██▉       | 4352/15000 [3:28:16<7:17:30,  2.47s/it]"
     ]
    },
    {
     "name": "stdout",
     "output_type": "stream",
     "text": [
      "Error processing article: index out of range in self\n"
     ]
    },
    {
     "name": "stderr",
     "output_type": "stream",
     "text": [
      " 29%|██▉       | 4374/15000 [3:29:18<12:40:29,  4.29s/it]"
     ]
    },
    {
     "name": "stdout",
     "output_type": "stream",
     "text": [
      "Error processing article: index out of range in self\n",
      "Error processing article: index out of range in self\n"
     ]
    },
    {
     "name": "stderr",
     "output_type": "stream",
     "text": [
      " 29%|██▉       | 4423/15000 [3:31:53<7:37:49,  2.60s/it] "
     ]
    },
    {
     "name": "stdout",
     "output_type": "stream",
     "text": [
      "Error processing article: index out of range in self\n"
     ]
    },
    {
     "name": "stderr",
     "output_type": "stream",
     "text": [
      " 30%|██▉       | 4432/15000 [3:32:17<6:48:51,  2.32s/it]"
     ]
    },
    {
     "name": "stdout",
     "output_type": "stream",
     "text": [
      "Error processing article: index out of range in self\n"
     ]
    },
    {
     "name": "stderr",
     "output_type": "stream",
     "text": [
      " 30%|███       | 4522/15000 [3:36:58<9:14:50,  3.18s/it] "
     ]
    },
    {
     "name": "stdout",
     "output_type": "stream",
     "text": [
      "Error processing article: index out of range in self\n"
     ]
    },
    {
     "name": "stderr",
     "output_type": "stream",
     "text": [
      " 30%|███       | 4539/15000 [3:37:52<9:10:30,  3.16s/it] "
     ]
    },
    {
     "name": "stdout",
     "output_type": "stream",
     "text": [
      "Error processing article: index out of range in self\n"
     ]
    },
    {
     "name": "stderr",
     "output_type": "stream",
     "text": [
      " 30%|███       | 4548/15000 [3:38:16<8:59:46,  3.10s/it]"
     ]
    },
    {
     "name": "stdout",
     "output_type": "stream",
     "text": [
      "Error processing article: index out of range in self\n"
     ]
    },
    {
     "name": "stderr",
     "output_type": "stream",
     "text": [
      " 30%|███       | 4558/15000 [3:38:39<8:20:21,  2.88s/it]"
     ]
    },
    {
     "name": "stdout",
     "output_type": "stream",
     "text": [
      "Error processing article: index out of range in self\n"
     ]
    },
    {
     "name": "stderr",
     "output_type": "stream",
     "text": [
      " 30%|███       | 4565/15000 [3:38:59<9:50:11,  3.39s/it]"
     ]
    },
    {
     "name": "stdout",
     "output_type": "stream",
     "text": [
      "Error processing article: index out of range in self\n"
     ]
    },
    {
     "name": "stderr",
     "output_type": "stream",
     "text": [
      " 31%|███       | 4584/15000 [3:39:55<7:30:33,  2.60s/it] "
     ]
    },
    {
     "name": "stdout",
     "output_type": "stream",
     "text": [
      "Error processing article: index out of range in self\n"
     ]
    },
    {
     "name": "stderr",
     "output_type": "stream",
     "text": [
      " 31%|███▏      | 4694/15000 [3:45:46<9:00:32,  3.15s/it] "
     ]
    },
    {
     "name": "stdout",
     "output_type": "stream",
     "text": [
      "Error processing article: index out of range in self\n"
     ]
    },
    {
     "name": "stderr",
     "output_type": "stream",
     "text": [
      " 31%|███▏      | 4706/15000 [3:46:15<6:55:53,  2.42s/it]"
     ]
    },
    {
     "name": "stdout",
     "output_type": "stream",
     "text": [
      "Error processing article: index out of range in self\n"
     ]
    },
    {
     "name": "stderr",
     "output_type": "stream",
     "text": [
      " 31%|███▏      | 4709/15000 [3:46:19<5:15:31,  1.84s/it]"
     ]
    },
    {
     "name": "stdout",
     "output_type": "stream",
     "text": [
      "Error processing article: index out of range in self\n"
     ]
    },
    {
     "name": "stderr",
     "output_type": "stream",
     "text": [
      " 31%|███▏      | 4713/15000 [3:46:26<5:41:42,  1.99s/it]"
     ]
    },
    {
     "name": "stdout",
     "output_type": "stream",
     "text": [
      "Error processing article: index out of range in self\n"
     ]
    },
    {
     "name": "stderr",
     "output_type": "stream",
     "text": [
      " 31%|███▏      | 4716/15000 [3:46:32<5:44:55,  2.01s/it]"
     ]
    },
    {
     "name": "stdout",
     "output_type": "stream",
     "text": [
      "Error processing article: index out of range in self\n"
     ]
    },
    {
     "name": "stderr",
     "output_type": "stream",
     "text": [
      " 31%|███▏      | 4721/15000 [3:46:44<7:42:37,  2.70s/it]"
     ]
    },
    {
     "name": "stdout",
     "output_type": "stream",
     "text": [
      "Error processing article: index out of range in self\n"
     ]
    },
    {
     "name": "stderr",
     "output_type": "stream",
     "text": [
      " 32%|███▏      | 4753/15000 [3:48:27<8:18:48,  2.92s/it] "
     ]
    },
    {
     "name": "stdout",
     "output_type": "stream",
     "text": [
      "Error processing article: index out of range in self\n"
     ]
    },
    {
     "name": "stderr",
     "output_type": "stream",
     "text": [
      " 32%|███▏      | 4757/15000 [3:48:35<7:17:45,  2.56s/it]"
     ]
    },
    {
     "name": "stdout",
     "output_type": "stream",
     "text": [
      "Error processing article: index out of range in self\n"
     ]
    },
    {
     "name": "stderr",
     "output_type": "stream",
     "text": [
      " 32%|███▏      | 4770/15000 [3:49:14<9:45:27,  3.43s/it] "
     ]
    },
    {
     "name": "stdout",
     "output_type": "stream",
     "text": [
      "Error processing article: index out of range in self\n"
     ]
    },
    {
     "name": "stderr",
     "output_type": "stream",
     "text": [
      " 32%|███▏      | 4820/15000 [3:51:46<9:10:21,  3.24s/it] "
     ]
    },
    {
     "name": "stdout",
     "output_type": "stream",
     "text": [
      "Error processing article: index out of range in self\n"
     ]
    },
    {
     "name": "stderr",
     "output_type": "stream",
     "text": [
      " 32%|███▏      | 4829/15000 [3:52:11<9:10:16,  3.25s/it]"
     ]
    },
    {
     "name": "stdout",
     "output_type": "stream",
     "text": [
      "Error processing article: index out of range in self\n"
     ]
    },
    {
     "name": "stderr",
     "output_type": "stream",
     "text": [
      " 32%|███▏      | 4856/15000 [3:53:39<10:51:08,  3.85s/it]"
     ]
    },
    {
     "name": "stdout",
     "output_type": "stream",
     "text": [
      "Error processing article: index out of range in self\n"
     ]
    },
    {
     "name": "stderr",
     "output_type": "stream",
     "text": [
      " 33%|███▎      | 4906/15000 [3:56:11<9:36:17,  3.43s/it] "
     ]
    },
    {
     "name": "stdout",
     "output_type": "stream",
     "text": [
      "Error processing article: index out of range in self\n"
     ]
    },
    {
     "name": "stderr",
     "output_type": "stream",
     "text": [
      " 33%|███▎      | 4913/15000 [3:56:28<7:43:01,  2.75s/it]"
     ]
    },
    {
     "name": "stdout",
     "output_type": "stream",
     "text": [
      "Error processing article: index out of range in self\n"
     ]
    },
    {
     "name": "stderr",
     "output_type": "stream",
     "text": [
      " 33%|███▎      | 4976/15000 [3:59:26<8:30:07,  3.05s/it] Your max_length is set to 50, but your input_length is only 45. Since this is a summarization task, where outputs shorter than the input are typically wanted, you might consider decreasing max_length manually, e.g. summarizer('...', max_length=22)\n",
      " 33%|███▎      | 5006/15000 [4:01:01<6:14:19,  2.25s/it] "
     ]
    },
    {
     "name": "stdout",
     "output_type": "stream",
     "text": [
      "Error processing article: index out of range in self\n"
     ]
    },
    {
     "name": "stderr",
     "output_type": "stream",
     "text": [
      " 33%|███▎      | 5019/15000 [4:01:51<9:57:43,  3.59s/it] "
     ]
    },
    {
     "name": "stdout",
     "output_type": "stream",
     "text": [
      "Error processing article: index out of range in self\n"
     ]
    },
    {
     "name": "stderr",
     "output_type": "stream",
     "text": [
      " 34%|███▍      | 5073/15000 [4:04:31<9:14:05,  3.35s/it] "
     ]
    },
    {
     "name": "stdout",
     "output_type": "stream",
     "text": [
      "Error processing article: index out of range in self\n"
     ]
    },
    {
     "name": "stderr",
     "output_type": "stream",
     "text": [
      " 34%|███▍      | 5104/15000 [4:05:57<8:59:53,  3.27s/it] "
     ]
    },
    {
     "name": "stdout",
     "output_type": "stream",
     "text": [
      "Error processing article: index out of range in self\n"
     ]
    },
    {
     "name": "stderr",
     "output_type": "stream",
     "text": [
      " 34%|███▍      | 5152/15000 [4:08:18<7:46:14,  2.84s/it] "
     ]
    },
    {
     "name": "stdout",
     "output_type": "stream",
     "text": [
      "Error processing article: index out of range in self\n"
     ]
    },
    {
     "name": "stderr",
     "output_type": "stream",
     "text": [
      " 34%|███▍      | 5158/15000 [4:08:34<7:20:49,  2.69s/it]"
     ]
    },
    {
     "name": "stdout",
     "output_type": "stream",
     "text": [
      "Error processing article: index out of range in self\n"
     ]
    },
    {
     "name": "stderr",
     "output_type": "stream",
     "text": [
      " 34%|███▍      | 5163/15000 [4:08:47<7:11:21,  2.63s/it]"
     ]
    },
    {
     "name": "stdout",
     "output_type": "stream",
     "text": [
      "Error processing article: index out of range in self\n"
     ]
    },
    {
     "name": "stderr",
     "output_type": "stream",
     "text": [
      " 34%|███▍      | 5167/15000 [4:08:54<5:43:58,  2.10s/it]"
     ]
    },
    {
     "name": "stdout",
     "output_type": "stream",
     "text": [
      "Error processing article: index out of range in self\n"
     ]
    },
    {
     "name": "stderr",
     "output_type": "stream",
     "text": [
      " 35%|███▍      | 5217/15000 [4:11:24<8:03:25,  2.96s/it] "
     ]
    },
    {
     "name": "stdout",
     "output_type": "stream",
     "text": [
      "Error processing article: index out of range in self\n"
     ]
    },
    {
     "name": "stderr",
     "output_type": "stream",
     "text": [
      " 35%|███▍      | 5227/15000 [4:11:46<6:17:03,  2.31s/it]"
     ]
    },
    {
     "name": "stdout",
     "output_type": "stream",
     "text": [
      "Error processing article: index out of range in self\n"
     ]
    },
    {
     "name": "stderr",
     "output_type": "stream",
     "text": [
      " 36%|███▌      | 5421/15000 [4:21:18<6:54:08,  2.59s/it] "
     ]
    },
    {
     "name": "stdout",
     "output_type": "stream",
     "text": [
      "Error processing article: index out of range in self\n"
     ]
    },
    {
     "name": "stderr",
     "output_type": "stream",
     "text": [
      " 37%|███▋      | 5489/15000 [4:24:45<7:18:44,  2.77s/it] "
     ]
    },
    {
     "name": "stdout",
     "output_type": "stream",
     "text": [
      "Error processing article: index out of range in self\n"
     ]
    },
    {
     "name": "stderr",
     "output_type": "stream",
     "text": [
      " 37%|███▋      | 5514/15000 [4:25:53<6:59:32,  2.65s/it] "
     ]
    },
    {
     "name": "stdout",
     "output_type": "stream",
     "text": [
      "Error processing article: index out of range in self\n"
     ]
    },
    {
     "name": "stderr",
     "output_type": "stream",
     "text": [
      " 37%|███▋      | 5523/15000 [4:26:17<7:28:40,  2.84s/it]"
     ]
    },
    {
     "name": "stdout",
     "output_type": "stream",
     "text": [
      "Error processing article: index out of range in self\n"
     ]
    },
    {
     "name": "stderr",
     "output_type": "stream",
     "text": [
      " 37%|███▋      | 5555/15000 [4:28:00<9:20:01,  3.56s/it] "
     ]
    },
    {
     "name": "stdout",
     "output_type": "stream",
     "text": [
      "Error processing article: index out of range in self\n"
     ]
    },
    {
     "name": "stderr",
     "output_type": "stream",
     "text": [
      " 37%|███▋      | 5589/15000 [4:29:40<7:15:31,  2.78s/it] "
     ]
    },
    {
     "name": "stdout",
     "output_type": "stream",
     "text": [
      "Error processing article: index out of range in self\n"
     ]
    },
    {
     "name": "stderr",
     "output_type": "stream",
     "text": [
      " 37%|███▋      | 5602/15000 [4:30:16<7:15:11,  2.78s/it]"
     ]
    },
    {
     "name": "stdout",
     "output_type": "stream",
     "text": [
      "Error processing article: index out of range in self\n"
     ]
    },
    {
     "name": "stderr",
     "output_type": "stream",
     "text": [
      " 38%|███▊      | 5661/15000 [4:32:55<7:17:01,  2.81s/it]"
     ]
    },
    {
     "name": "stdout",
     "output_type": "stream",
     "text": [
      "Error processing article: index out of range in self\n"
     ]
    },
    {
     "name": "stderr",
     "output_type": "stream",
     "text": [
      " 38%|███▊      | 5663/15000 [4:32:58<5:47:28,  2.23s/it]"
     ]
    },
    {
     "name": "stdout",
     "output_type": "stream",
     "text": [
      "Error processing article: index out of range in self\n"
     ]
    },
    {
     "name": "stderr",
     "output_type": "stream",
     "text": [
      " 38%|███▊      | 5668/15000 [4:33:13<7:34:00,  2.92s/it]"
     ]
    },
    {
     "name": "stdout",
     "output_type": "stream",
     "text": [
      "Error processing article: index out of range in self\n"
     ]
    },
    {
     "name": "stderr",
     "output_type": "stream",
     "text": [
      " 38%|███▊      | 5755/15000 [4:37:31<7:01:02,  2.73s/it]"
     ]
    },
    {
     "name": "stdout",
     "output_type": "stream",
     "text": [
      "Error processing article: index out of range in self\n"
     ]
    },
    {
     "name": "stderr",
     "output_type": "stream",
     "text": [
      " 39%|███▉      | 5820/15000 [4:40:31<6:28:15,  2.54s/it] "
     ]
    },
    {
     "name": "stdout",
     "output_type": "stream",
     "text": [
      "Error processing article: index out of range in self\n"
     ]
    },
    {
     "name": "stderr",
     "output_type": "stream",
     "text": [
      " 39%|███▉      | 5880/15000 [4:43:38<6:55:09,  2.73s/it] "
     ]
    },
    {
     "name": "stdout",
     "output_type": "stream",
     "text": [
      "Error processing article: index out of range in self\n"
     ]
    },
    {
     "name": "stderr",
     "output_type": "stream",
     "text": [
      " 40%|███▉      | 5941/15000 [4:46:32<6:10:28,  2.45s/it] "
     ]
    },
    {
     "name": "stdout",
     "output_type": "stream",
     "text": [
      "Error processing article: index out of range in self\n"
     ]
    },
    {
     "name": "stderr",
     "output_type": "stream",
     "text": [
      " 40%|███▉      | 5948/15000 [4:46:49<7:10:18,  2.85s/it]"
     ]
    },
    {
     "name": "stdout",
     "output_type": "stream",
     "text": [
      "Error processing article: index out of range in self\n"
     ]
    },
    {
     "name": "stderr",
     "output_type": "stream",
     "text": [
      " 40%|███▉      | 5997/15000 [4:49:00<5:31:44,  2.21s/it]"
     ]
    },
    {
     "name": "stdout",
     "output_type": "stream",
     "text": [
      "Error processing article: index out of range in self\n"
     ]
    },
    {
     "name": "stderr",
     "output_type": "stream",
     "text": [
      " 40%|████      | 6017/15000 [4:49:48<5:56:09,  2.38s/it]"
     ]
    },
    {
     "name": "stdout",
     "output_type": "stream",
     "text": [
      "Error processing article: index out of range in self\n"
     ]
    },
    {
     "name": "stderr",
     "output_type": "stream",
     "text": [
      " 40%|████      | 6062/15000 [4:51:54<7:40:52,  3.09s/it] "
     ]
    },
    {
     "name": "stdout",
     "output_type": "stream",
     "text": [
      "Error processing article: index out of range in self\n"
     ]
    },
    {
     "name": "stderr",
     "output_type": "stream",
     "text": [
      " 41%|████      | 6081/15000 [4:52:41<6:18:40,  2.55s/it]"
     ]
    },
    {
     "name": "stdout",
     "output_type": "stream",
     "text": [
      "Error processing article: index out of range in self\n"
     ]
    },
    {
     "name": "stderr",
     "output_type": "stream",
     "text": [
      " 41%|████      | 6087/15000 [4:52:53<5:29:11,  2.22s/it]"
     ]
    },
    {
     "name": "stdout",
     "output_type": "stream",
     "text": [
      "Error processing article: index out of range in self\n",
      "Error processing article: index out of range in self\n"
     ]
    },
    {
     "name": "stderr",
     "output_type": "stream",
     "text": [
      " 41%|████▏     | 6211/15000 [4:58:28<7:40:33,  3.14s/it]"
     ]
    },
    {
     "name": "stdout",
     "output_type": "stream",
     "text": [
      "Error processing article: index out of range in self\n"
     ]
    },
    {
     "name": "stderr",
     "output_type": "stream",
     "text": [
      " 42%|████▏     | 6237/15000 [4:59:37<6:14:12,  2.56s/it]"
     ]
    },
    {
     "name": "stdout",
     "output_type": "stream",
     "text": [
      "Error processing article: index out of range in self\n"
     ]
    },
    {
     "name": "stderr",
     "output_type": "stream",
     "text": [
      " 42%|████▏     | 6278/15000 [5:01:37<7:58:29,  3.29s/it] "
     ]
    },
    {
     "name": "stdout",
     "output_type": "stream",
     "text": [
      "Error processing article: index out of range in self\n"
     ]
    },
    {
     "name": "stderr",
     "output_type": "stream",
     "text": [
      " 42%|████▏     | 6287/15000 [5:02:00<6:23:45,  2.64s/it]"
     ]
    },
    {
     "name": "stdout",
     "output_type": "stream",
     "text": [
      "Error processing article: index out of range in self\n"
     ]
    },
    {
     "name": "stderr",
     "output_type": "stream",
     "text": [
      " 42%|████▏     | 6290/15000 [5:02:04<4:56:08,  2.04s/it]"
     ]
    },
    {
     "name": "stdout",
     "output_type": "stream",
     "text": [
      "Error processing article: index out of range in self\n"
     ]
    },
    {
     "name": "stderr",
     "output_type": "stream",
     "text": [
      " 42%|████▏     | 6303/15000 [5:02:47<8:20:22,  3.45s/it]"
     ]
    },
    {
     "name": "stdout",
     "output_type": "stream",
     "text": [
      "Error processing article: index out of range in self\n"
     ]
    },
    {
     "name": "stderr",
     "output_type": "stream",
     "text": [
      " 43%|████▎     | 6404/15000 [5:07:20<5:15:59,  2.21s/it]"
     ]
    },
    {
     "name": "stdout",
     "output_type": "stream",
     "text": [
      "Error processing article: index out of range in self\n"
     ]
    },
    {
     "name": "stderr",
     "output_type": "stream",
     "text": [
      " 43%|████▎     | 6429/15000 [5:08:27<8:06:38,  3.41s/it]"
     ]
    },
    {
     "name": "stdout",
     "output_type": "stream",
     "text": [
      "Error processing article: index out of range in self\n"
     ]
    },
    {
     "name": "stderr",
     "output_type": "stream",
     "text": [
      " 43%|████▎     | 6433/15000 [5:08:37<7:36:58,  3.20s/it]"
     ]
    },
    {
     "name": "stdout",
     "output_type": "stream",
     "text": [
      "Error processing article: index out of range in self\n"
     ]
    },
    {
     "name": "stderr",
     "output_type": "stream",
     "text": [
      " 43%|████▎     | 6499/15000 [5:11:36<6:42:43,  2.84s/it]"
     ]
    },
    {
     "name": "stdout",
     "output_type": "stream",
     "text": [
      "Error processing article: index out of range in self\n"
     ]
    },
    {
     "name": "stderr",
     "output_type": "stream",
     "text": [
      " 44%|████▎     | 6525/15000 [5:12:47<7:06:08,  3.02s/it]"
     ]
    },
    {
     "name": "stdout",
     "output_type": "stream",
     "text": [
      "Error processing article: index out of range in self\n"
     ]
    },
    {
     "name": "stderr",
     "output_type": "stream",
     "text": [
      " 44%|████▎     | 6551/15000 [5:14:02<7:04:13,  3.01s/it]"
     ]
    },
    {
     "name": "stdout",
     "output_type": "stream",
     "text": [
      "Error processing article: index out of range in self\n"
     ]
    },
    {
     "name": "stderr",
     "output_type": "stream",
     "text": [
      " 44%|████▎     | 6561/15000 [5:14:27<6:38:43,  2.83s/it]"
     ]
    },
    {
     "name": "stdout",
     "output_type": "stream",
     "text": [
      "Error processing article: index out of range in self\n"
     ]
    },
    {
     "name": "stderr",
     "output_type": "stream",
     "text": [
      " 44%|████▍     | 6582/15000 [5:15:21<5:23:59,  2.31s/it]"
     ]
    },
    {
     "name": "stdout",
     "output_type": "stream",
     "text": [
      "Error processing article: index out of range in self\n"
     ]
    },
    {
     "name": "stderr",
     "output_type": "stream",
     "text": [
      " 44%|████▍     | 6592/15000 [5:15:48<6:49:06,  2.92s/it]"
     ]
    },
    {
     "name": "stdout",
     "output_type": "stream",
     "text": [
      "Error processing article: index out of range in self\n"
     ]
    },
    {
     "name": "stderr",
     "output_type": "stream",
     "text": [
      " 44%|████▍     | 6603/15000 [5:16:17<7:08:07,  3.06s/it]"
     ]
    },
    {
     "name": "stdout",
     "output_type": "stream",
     "text": [
      "Error processing article: index out of range in self\n"
     ]
    },
    {
     "name": "stderr",
     "output_type": "stream",
     "text": [
      " 44%|████▍     | 6629/15000 [5:17:35<5:54:08,  2.54s/it]"
     ]
    },
    {
     "name": "stdout",
     "output_type": "stream",
     "text": [
      "Error processing article: index out of range in self\n"
     ]
    },
    {
     "name": "stderr",
     "output_type": "stream",
     "text": [
      " 45%|████▍     | 6679/15000 [5:19:55<6:57:54,  3.01s/it]"
     ]
    },
    {
     "name": "stdout",
     "output_type": "stream",
     "text": [
      "Error processing article: index out of range in self\n"
     ]
    },
    {
     "name": "stderr",
     "output_type": "stream",
     "text": [
      " 45%|████▍     | 6687/15000 [5:20:17<6:36:42,  2.86s/it]"
     ]
    },
    {
     "name": "stdout",
     "output_type": "stream",
     "text": [
      "Error processing article: index out of range in self\n"
     ]
    },
    {
     "name": "stderr",
     "output_type": "stream",
     "text": [
      " 45%|████▍     | 6705/15000 [5:21:02<5:48:01,  2.52s/it]"
     ]
    },
    {
     "name": "stdout",
     "output_type": "stream",
     "text": [
      "Error processing article: index out of range in self\n"
     ]
    },
    {
     "name": "stderr",
     "output_type": "stream",
     "text": [
      " 45%|████▌     | 6756/15000 [5:23:23<7:03:50,  3.08s/it]"
     ]
    },
    {
     "name": "stdout",
     "output_type": "stream",
     "text": [
      "Error processing article: index out of range in self\n"
     ]
    },
    {
     "name": "stderr",
     "output_type": "stream",
     "text": [
      " 46%|████▌     | 6885/15000 [5:29:17<6:33:33,  2.91s/it]"
     ]
    },
    {
     "name": "stdout",
     "output_type": "stream",
     "text": [
      "Error processing article: index out of range in self\n"
     ]
    },
    {
     "name": "stderr",
     "output_type": "stream",
     "text": [
      " 46%|████▌     | 6917/15000 [5:30:39<6:30:43,  2.90s/it]"
     ]
    },
    {
     "name": "stdout",
     "output_type": "stream",
     "text": [
      "Error processing article: index out of range in self\n"
     ]
    },
    {
     "name": "stderr",
     "output_type": "stream",
     "text": [
      " 46%|████▌     | 6926/15000 [5:30:59<6:04:16,  2.71s/it]"
     ]
    },
    {
     "name": "stdout",
     "output_type": "stream",
     "text": [
      "Error processing article: index out of range in self\n"
     ]
    },
    {
     "name": "stderr",
     "output_type": "stream",
     "text": [
      " 46%|████▌     | 6935/15000 [5:31:30<7:38:19,  3.41s/it]"
     ]
    },
    {
     "name": "stdout",
     "output_type": "stream",
     "text": [
      "Error processing article: index out of range in self\n"
     ]
    },
    {
     "name": "stderr",
     "output_type": "stream",
     "text": [
      " 47%|████▋     | 6977/15000 [5:33:32<6:08:09,  2.75s/it]"
     ]
    },
    {
     "name": "stdout",
     "output_type": "stream",
     "text": [
      "Error processing article: index out of range in self\n"
     ]
    },
    {
     "name": "stderr",
     "output_type": "stream",
     "text": [
      " 47%|████▋     | 6980/15000 [5:33:37<4:49:22,  2.16s/it]"
     ]
    },
    {
     "name": "stdout",
     "output_type": "stream",
     "text": [
      "Error processing article: index out of range in self\n"
     ]
    },
    {
     "name": "stderr",
     "output_type": "stream",
     "text": [
      " 47%|████▋     | 7092/15000 [5:38:33<6:03:25,  2.76s/it]"
     ]
    },
    {
     "name": "stdout",
     "output_type": "stream",
     "text": [
      "Error processing article: index out of range in self\n"
     ]
    },
    {
     "name": "stderr",
     "output_type": "stream",
     "text": [
      " 48%|████▊     | 7141/15000 [5:40:54<4:56:38,  2.26s/it]"
     ]
    },
    {
     "name": "stdout",
     "output_type": "stream",
     "text": [
      "Error processing article: index out of range in self\n"
     ]
    },
    {
     "name": "stderr",
     "output_type": "stream",
     "text": [
      " 48%|████▊     | 7153/15000 [5:41:22<5:19:42,  2.44s/it]"
     ]
    },
    {
     "name": "stdout",
     "output_type": "stream",
     "text": [
      "Error processing article: index out of range in self\n"
     ]
    },
    {
     "name": "stderr",
     "output_type": "stream",
     "text": [
      " 48%|████▊     | 7181/15000 [5:42:47<6:57:14,  3.20s/it]"
     ]
    },
    {
     "name": "stdout",
     "output_type": "stream",
     "text": [
      "Error processing article: index out of range in self\n"
     ]
    },
    {
     "name": "stderr",
     "output_type": "stream",
     "text": [
      " 49%|████▊     | 7300/15000 [5:49:02<6:20:08,  2.96s/it] Your max_length is set to 50, but your input_length is only 27. Since this is a summarization task, where outputs shorter than the input are typically wanted, you might consider decreasing max_length manually, e.g. summarizer('...', max_length=13)\n",
      " 49%|████▉     | 7333/15000 [5:50:48<6:57:20,  3.27s/it] "
     ]
    },
    {
     "name": "stdout",
     "output_type": "stream",
     "text": [
      "Error processing article: index out of range in self\n"
     ]
    },
    {
     "name": "stderr",
     "output_type": "stream",
     "text": [
      " 49%|████▉     | 7393/15000 [5:53:48<7:57:14,  3.76s/it]"
     ]
    },
    {
     "name": "stdout",
     "output_type": "stream",
     "text": [
      "Error processing article: index out of range in self\n"
     ]
    },
    {
     "name": "stderr",
     "output_type": "stream",
     "text": [
      " 50%|████▉     | 7434/15000 [5:55:53<6:32:05,  3.11s/it]"
     ]
    },
    {
     "name": "stdout",
     "output_type": "stream",
     "text": [
      "Error processing article: index out of range in self\n"
     ]
    },
    {
     "name": "stderr",
     "output_type": "stream",
     "text": [
      " 50%|████▉     | 7445/15000 [5:56:26<6:27:15,  3.08s/it]"
     ]
    },
    {
     "name": "stdout",
     "output_type": "stream",
     "text": [
      "Error processing article: index out of range in self\n"
     ]
    },
    {
     "name": "stderr",
     "output_type": "stream",
     "text": [
      " 50%|█████     | 7508/15000 [5:59:37<6:12:45,  2.99s/it]"
     ]
    },
    {
     "name": "stdout",
     "output_type": "stream",
     "text": [
      "Error processing article: index out of range in self\n"
     ]
    },
    {
     "name": "stderr",
     "output_type": "stream",
     "text": [
      " 50%|█████     | 7533/15000 [6:01:02<9:49:25,  4.74s/it]"
     ]
    },
    {
     "name": "stdout",
     "output_type": "stream",
     "text": [
      "Error processing article: index out of range in self\n"
     ]
    },
    {
     "name": "stderr",
     "output_type": "stream",
     "text": [
      " 50%|█████     | 7546/15000 [6:01:39<7:11:18,  3.47s/it]"
     ]
    },
    {
     "name": "stdout",
     "output_type": "stream",
     "text": [
      "Error processing article: index out of range in self\n"
     ]
    },
    {
     "name": "stderr",
     "output_type": "stream",
     "text": [
      " 51%|█████     | 7595/15000 [6:04:06<6:30:48,  3.17s/it]"
     ]
    },
    {
     "name": "stdout",
     "output_type": "stream",
     "text": [
      "Error processing article: index out of range in self\n",
      "Error processing article: index out of range in self\n",
      "Error processing article: index out of range in self\n"
     ]
    },
    {
     "name": "stderr",
     "output_type": "stream",
     "text": [
      " 51%|█████     | 7604/15000 [6:04:26<6:01:42,  2.93s/it]"
     ]
    },
    {
     "name": "stdout",
     "output_type": "stream",
     "text": [
      "Error processing article: index out of range in self\n"
     ]
    },
    {
     "name": "stderr",
     "output_type": "stream",
     "text": [
      " 51%|█████     | 7620/15000 [6:05:10<6:34:03,  3.20s/it]"
     ]
    },
    {
     "name": "stdout",
     "output_type": "stream",
     "text": [
      "Error processing article: index out of range in self\n"
     ]
    },
    {
     "name": "stderr",
     "output_type": "stream",
     "text": [
      " 51%|█████     | 7643/15000 [6:06:19<6:02:15,  2.95s/it]"
     ]
    },
    {
     "name": "stdout",
     "output_type": "stream",
     "text": [
      "Error processing article: index out of range in self\n"
     ]
    },
    {
     "name": "stderr",
     "output_type": "stream",
     "text": [
      " 51%|█████     | 7648/15000 [6:06:31<5:48:17,  2.84s/it]"
     ]
    },
    {
     "name": "stdout",
     "output_type": "stream",
     "text": [
      "Error processing article: index out of range in self\n"
     ]
    },
    {
     "name": "stderr",
     "output_type": "stream",
     "text": [
      " 51%|█████     | 7677/15000 [6:07:56<6:38:17,  3.26s/it]"
     ]
    },
    {
     "name": "stdout",
     "output_type": "stream",
     "text": [
      "Error processing article: index out of range in self\n"
     ]
    },
    {
     "name": "stderr",
     "output_type": "stream",
     "text": [
      " 51%|█████▏    | 7709/15000 [6:09:38<7:22:36,  3.64s/it]"
     ]
    },
    {
     "name": "stdout",
     "output_type": "stream",
     "text": [
      "Error processing article: index out of range in self\n"
     ]
    },
    {
     "name": "stderr",
     "output_type": "stream",
     "text": [
      " 52%|█████▏    | 7756/15000 [6:11:51<6:18:08,  3.13s/it]"
     ]
    },
    {
     "name": "stdout",
     "output_type": "stream",
     "text": [
      "Error processing article: index out of range in self\n"
     ]
    },
    {
     "name": "stderr",
     "output_type": "stream",
     "text": [
      " 52%|█████▏    | 7793/15000 [6:13:34<6:13:41,  3.11s/it]"
     ]
    },
    {
     "name": "stdout",
     "output_type": "stream",
     "text": [
      "Error processing article: index out of range in self\n"
     ]
    },
    {
     "name": "stderr",
     "output_type": "stream",
     "text": [
      " 52%|█████▏    | 7796/15000 [6:13:39<4:35:56,  2.30s/it]"
     ]
    },
    {
     "name": "stdout",
     "output_type": "stream",
     "text": [
      "Error processing article: index out of range in self\n"
     ]
    },
    {
     "name": "stderr",
     "output_type": "stream",
     "text": [
      " 52%|█████▏    | 7822/15000 [6:14:56<6:14:05,  3.13s/it]"
     ]
    },
    {
     "name": "stdout",
     "output_type": "stream",
     "text": [
      "Error processing article: index out of range in self\n"
     ]
    },
    {
     "name": "stderr",
     "output_type": "stream",
     "text": [
      " 52%|█████▏    | 7858/15000 [6:16:57<6:48:39,  3.43s/it]"
     ]
    },
    {
     "name": "stdout",
     "output_type": "stream",
     "text": [
      "Error processing article: index out of range in self\n"
     ]
    },
    {
     "name": "stderr",
     "output_type": "stream",
     "text": [
      " 53%|█████▎    | 8011/15000 [6:24:43<5:49:00,  3.00s/it]"
     ]
    },
    {
     "name": "stdout",
     "output_type": "stream",
     "text": [
      "Error processing article: index out of range in self\n"
     ]
    },
    {
     "name": "stderr",
     "output_type": "stream",
     "text": [
      " 54%|█████▎    | 8047/15000 [6:26:26<6:05:08,  3.15s/it]"
     ]
    },
    {
     "name": "stdout",
     "output_type": "stream",
     "text": [
      "Error processing article: index out of range in self\n"
     ]
    },
    {
     "name": "stderr",
     "output_type": "stream",
     "text": [
      " 54%|█████▎    | 8053/15000 [6:26:38<4:11:41,  2.17s/it]"
     ]
    },
    {
     "name": "stdout",
     "output_type": "stream",
     "text": [
      "Error processing article: index out of range in self\n"
     ]
    },
    {
     "name": "stderr",
     "output_type": "stream",
     "text": [
      " 54%|█████▍    | 8064/15000 [6:27:04<5:03:35,  2.63s/it]"
     ]
    },
    {
     "name": "stdout",
     "output_type": "stream",
     "text": [
      "Error processing article: index out of range in self\n"
     ]
    },
    {
     "name": "stderr",
     "output_type": "stream",
     "text": [
      " 54%|█████▍    | 8071/15000 [6:27:21<5:16:46,  2.74s/it]"
     ]
    },
    {
     "name": "stdout",
     "output_type": "stream",
     "text": [
      "Error processing article: index out of range in self\n"
     ]
    },
    {
     "name": "stderr",
     "output_type": "stream",
     "text": [
      " 54%|█████▍    | 8093/15000 [6:28:23<6:04:39,  3.17s/it]"
     ]
    },
    {
     "name": "stdout",
     "output_type": "stream",
     "text": [
      "Error processing article: index out of range in self\n"
     ]
    },
    {
     "name": "stderr",
     "output_type": "stream",
     "text": [
      " 54%|█████▍    | 8100/15000 [6:28:46<6:55:31,  3.61s/it]"
     ]
    },
    {
     "name": "stdout",
     "output_type": "stream",
     "text": [
      "Error processing article: index out of range in self\n"
     ]
    },
    {
     "name": "stderr",
     "output_type": "stream",
     "text": [
      " 55%|█████▍    | 8201/15000 [6:33:51<5:40:17,  3.00s/it] "
     ]
    },
    {
     "name": "stdout",
     "output_type": "stream",
     "text": [
      "Error processing article: index out of range in self\n"
     ]
    },
    {
     "name": "stderr",
     "output_type": "stream",
     "text": [
      " 55%|█████▍    | 8223/15000 [6:34:52<6:50:25,  3.63s/it]"
     ]
    },
    {
     "name": "stdout",
     "output_type": "stream",
     "text": [
      "Error processing article: index out of range in self\n"
     ]
    },
    {
     "name": "stderr",
     "output_type": "stream",
     "text": [
      " 55%|█████▌    | 8262/15000 [6:36:34<5:39:01,  3.02s/it]"
     ]
    },
    {
     "name": "stdout",
     "output_type": "stream",
     "text": [
      "Error processing article: index out of range in self\n"
     ]
    },
    {
     "name": "stderr",
     "output_type": "stream",
     "text": [
      " 55%|█████▌    | 8296/15000 [6:38:05<4:18:08,  2.31s/it]"
     ]
    },
    {
     "name": "stdout",
     "output_type": "stream",
     "text": [
      "Error processing article: index out of range in self\n"
     ]
    },
    {
     "name": "stderr",
     "output_type": "stream",
     "text": [
      " 55%|█████▌    | 8304/15000 [6:38:24<5:10:28,  2.78s/it]"
     ]
    },
    {
     "name": "stdout",
     "output_type": "stream",
     "text": [
      "Error processing article: index out of range in self\n"
     ]
    },
    {
     "name": "stderr",
     "output_type": "stream",
     "text": [
      " 55%|█████▌    | 8312/15000 [6:38:43<4:58:15,  2.68s/it]"
     ]
    },
    {
     "name": "stdout",
     "output_type": "stream",
     "text": [
      "Error processing article: index out of range in self\n"
     ]
    },
    {
     "name": "stderr",
     "output_type": "stream",
     "text": [
      " 56%|█████▌    | 8331/15000 [6:39:41<6:23:41,  3.45s/it]"
     ]
    },
    {
     "name": "stdout",
     "output_type": "stream",
     "text": [
      "Error processing article: index out of range in self\n"
     ]
    },
    {
     "name": "stderr",
     "output_type": "stream",
     "text": [
      " 56%|█████▌    | 8339/15000 [6:40:03<5:53:12,  3.18s/it]"
     ]
    },
    {
     "name": "stdout",
     "output_type": "stream",
     "text": [
      "Error processing article: index out of range in self\n"
     ]
    },
    {
     "name": "stderr",
     "output_type": "stream",
     "text": [
      " 56%|█████▌    | 8363/15000 [6:41:09<5:21:35,  2.91s/it]"
     ]
    },
    {
     "name": "stdout",
     "output_type": "stream",
     "text": [
      "Error processing article: index out of range in self\n"
     ]
    },
    {
     "name": "stderr",
     "output_type": "stream",
     "text": [
      " 56%|█████▌    | 8368/15000 [6:41:19<4:22:33,  2.38s/it]"
     ]
    },
    {
     "name": "stdout",
     "output_type": "stream",
     "text": [
      "Error processing article: index out of range in self\n"
     ]
    },
    {
     "name": "stderr",
     "output_type": "stream",
     "text": [
      " 56%|█████▌    | 8431/15000 [6:44:25<5:31:35,  3.03s/it]"
     ]
    },
    {
     "name": "stdout",
     "output_type": "stream",
     "text": [
      "Error processing article: index out of range in self\n"
     ]
    },
    {
     "name": "stderr",
     "output_type": "stream",
     "text": [
      " 56%|█████▋    | 8444/15000 [6:44:58<5:24:34,  2.97s/it]"
     ]
    },
    {
     "name": "stdout",
     "output_type": "stream",
     "text": [
      "Error processing article: index out of range in self\n"
     ]
    },
    {
     "name": "stderr",
     "output_type": "stream",
     "text": [
      " 57%|█████▋    | 8507/15000 [6:48:20<5:53:06,  3.26s/it] "
     ]
    },
    {
     "name": "stdout",
     "output_type": "stream",
     "text": [
      "Error processing article: index out of range in self\n"
     ]
    },
    {
     "name": "stderr",
     "output_type": "stream",
     "text": [
      " 57%|█████▋    | 8515/15000 [6:48:40<4:35:29,  2.55s/it]"
     ]
    },
    {
     "name": "stdout",
     "output_type": "stream",
     "text": [
      "Error processing article: index out of range in self\n"
     ]
    },
    {
     "name": "stderr",
     "output_type": "stream",
     "text": [
      " 57%|█████▋    | 8569/15000 [6:51:33<5:43:27,  3.20s/it]"
     ]
    },
    {
     "name": "stdout",
     "output_type": "stream",
     "text": [
      "Error processing article: index out of range in self\n"
     ]
    },
    {
     "name": "stderr",
     "output_type": "stream",
     "text": [
      " 57%|█████▋    | 8584/15000 [6:52:13<5:17:28,  2.97s/it]"
     ]
    },
    {
     "name": "stdout",
     "output_type": "stream",
     "text": [
      "Error processing article: index out of range in self\n"
     ]
    },
    {
     "name": "stderr",
     "output_type": "stream",
     "text": [
      " 58%|█████▊    | 8712/15000 [6:58:30<5:41:42,  3.26s/it]"
     ]
    },
    {
     "name": "stdout",
     "output_type": "stream",
     "text": [
      "Error processing article: index out of range in self\n"
     ]
    },
    {
     "name": "stderr",
     "output_type": "stream",
     "text": [
      " 58%|█████▊    | 8738/15000 [6:59:45<4:47:04,  2.75s/it]"
     ]
    },
    {
     "name": "stdout",
     "output_type": "stream",
     "text": [
      "Error processing article: index out of range in self\n"
     ]
    },
    {
     "name": "stderr",
     "output_type": "stream",
     "text": [
      " 58%|█████▊    | 8775/15000 [7:01:46<5:38:50,  3.27s/it]"
     ]
    },
    {
     "name": "stdout",
     "output_type": "stream",
     "text": [
      "Error processing article: index out of range in self\n"
     ]
    },
    {
     "name": "stderr",
     "output_type": "stream",
     "text": [
      " 59%|█████▉    | 8913/15000 [7:08:58<4:35:06,  2.71s/it]"
     ]
    },
    {
     "name": "stdout",
     "output_type": "stream",
     "text": [
      "Error processing article: index out of range in self\n"
     ]
    },
    {
     "name": "stderr",
     "output_type": "stream",
     "text": [
      " 60%|█████▉    | 8968/15000 [7:11:45<4:41:56,  2.80s/it]"
     ]
    },
    {
     "name": "stdout",
     "output_type": "stream",
     "text": [
      "Error processing article: index out of range in self\n"
     ]
    },
    {
     "name": "stderr",
     "output_type": "stream",
     "text": [
      " 60%|██████    | 9067/15000 [7:16:33<4:53:56,  2.97s/it]"
     ]
    },
    {
     "name": "stdout",
     "output_type": "stream",
     "text": [
      "Error processing article: index out of range in self\n"
     ]
    },
    {
     "name": "stderr",
     "output_type": "stream",
     "text": [
      " 61%|██████    | 9177/15000 [7:21:49<3:57:19,  2.45s/it]"
     ]
    },
    {
     "name": "stdout",
     "output_type": "stream",
     "text": [
      "Error processing article: index out of range in self\n"
     ]
    },
    {
     "name": "stderr",
     "output_type": "stream",
     "text": [
      " 62%|██████▏   | 9273/15000 [7:26:48<3:44:20,  2.35s/it]"
     ]
    },
    {
     "name": "stdout",
     "output_type": "stream",
     "text": [
      "Error processing article: index out of range in self\n"
     ]
    },
    {
     "name": "stderr",
     "output_type": "stream",
     "text": [
      " 62%|██████▏   | 9275/15000 [7:26:52<3:23:47,  2.14s/it]"
     ]
    },
    {
     "name": "stdout",
     "output_type": "stream",
     "text": [
      "Error processing article: index out of range in self\n"
     ]
    },
    {
     "name": "stderr",
     "output_type": "stream",
     "text": [
      " 62%|██████▏   | 9282/15000 [7:27:08<3:40:15,  2.31s/it]"
     ]
    },
    {
     "name": "stdout",
     "output_type": "stream",
     "text": [
      "Error processing article: index out of range in self\n",
      "Error processing article: index out of range in self\n"
     ]
    },
    {
     "name": "stderr",
     "output_type": "stream",
     "text": [
      " 62%|██████▏   | 9302/15000 [7:28:02<3:49:04,  2.41s/it]"
     ]
    },
    {
     "name": "stdout",
     "output_type": "stream",
     "text": [
      "Error processing article: index out of range in self\n"
     ]
    },
    {
     "name": "stderr",
     "output_type": "stream",
     "text": [
      " 62%|██████▏   | 9327/15000 [7:29:14<5:49:01,  3.69s/it]"
     ]
    },
    {
     "name": "stdout",
     "output_type": "stream",
     "text": [
      "Error processing article: index out of range in self\n",
      "Error processing article: index out of range in self\n"
     ]
    },
    {
     "name": "stderr",
     "output_type": "stream",
     "text": [
      " 62%|██████▏   | 9347/15000 [7:30:15<5:51:20,  3.73s/it]"
     ]
    },
    {
     "name": "stdout",
     "output_type": "stream",
     "text": [
      "Error processing article: index out of range in self\n"
     ]
    },
    {
     "name": "stderr",
     "output_type": "stream",
     "text": [
      " 62%|██████▏   | 9356/15000 [7:30:37<3:57:14,  2.52s/it]"
     ]
    },
    {
     "name": "stdout",
     "output_type": "stream",
     "text": [
      "Error processing article: index out of range in self\n"
     ]
    },
    {
     "name": "stderr",
     "output_type": "stream",
     "text": [
      " 63%|██████▎   | 9424/15000 [7:33:51<4:11:45,  2.71s/it]"
     ]
    },
    {
     "name": "stdout",
     "output_type": "stream",
     "text": [
      "Error processing article: index out of range in self\n"
     ]
    },
    {
     "name": "stderr",
     "output_type": "stream",
     "text": [
      " 63%|██████▎   | 9434/15000 [7:34:14<3:54:45,  2.53s/it]"
     ]
    },
    {
     "name": "stdout",
     "output_type": "stream",
     "text": [
      "Error processing article: index out of range in self\n"
     ]
    },
    {
     "name": "stderr",
     "output_type": "stream",
     "text": [
      " 63%|██████▎   | 9456/15000 [7:35:14<5:04:44,  3.30s/it]"
     ]
    },
    {
     "name": "stdout",
     "output_type": "stream",
     "text": [
      "Error processing article: index out of range in self\n"
     ]
    },
    {
     "name": "stderr",
     "output_type": "stream",
     "text": [
      " 63%|██████▎   | 9483/15000 [7:36:31<4:29:41,  2.93s/it]"
     ]
    },
    {
     "name": "stdout",
     "output_type": "stream",
     "text": [
      "Error processing article: index out of range in self\n"
     ]
    },
    {
     "name": "stderr",
     "output_type": "stream",
     "text": [
      " 63%|██████▎   | 9500/15000 [7:37:15<4:00:57,  2.63s/it]"
     ]
    },
    {
     "name": "stdout",
     "output_type": "stream",
     "text": [
      "Error processing article: index out of range in self\n"
     ]
    },
    {
     "name": "stderr",
     "output_type": "stream",
     "text": [
      " 64%|██████▍   | 9606/15000 [7:42:15<3:27:19,  2.31s/it]"
     ]
    },
    {
     "name": "stdout",
     "output_type": "stream",
     "text": [
      "Error processing article: index out of range in self\n"
     ]
    },
    {
     "name": "stderr",
     "output_type": "stream",
     "text": [
      " 64%|██████▍   | 9623/15000 [7:42:54<3:42:39,  2.48s/it]"
     ]
    },
    {
     "name": "stdout",
     "output_type": "stream",
     "text": [
      "Error processing article: index out of range in self\n"
     ]
    },
    {
     "name": "stderr",
     "output_type": "stream",
     "text": [
      " 65%|██████▍   | 9693/15000 [7:46:03<3:17:56,  2.24s/it]"
     ]
    },
    {
     "name": "stdout",
     "output_type": "stream",
     "text": [
      "Error processing article: index out of range in self\n"
     ]
    },
    {
     "name": "stderr",
     "output_type": "stream",
     "text": [
      " 65%|██████▍   | 9724/15000 [7:47:32<5:01:49,  3.43s/it]"
     ]
    },
    {
     "name": "stdout",
     "output_type": "stream",
     "text": [
      "Error processing article: index out of range in self\n"
     ]
    },
    {
     "name": "stderr",
     "output_type": "stream",
     "text": [
      " 65%|██████▌   | 9803/15000 [7:51:13<3:59:20,  2.76s/it]"
     ]
    },
    {
     "name": "stdout",
     "output_type": "stream",
     "text": [
      "Error processing article: index out of range in self\n"
     ]
    },
    {
     "name": "stderr",
     "output_type": "stream",
     "text": [
      " 66%|██████▌   | 9884/15000 [7:54:58<3:51:00,  2.71s/it]"
     ]
    },
    {
     "name": "stdout",
     "output_type": "stream",
     "text": [
      "Error processing article: index out of range in self\n"
     ]
    },
    {
     "name": "stderr",
     "output_type": "stream",
     "text": [
      " 67%|██████▋   | 9981/15000 [7:59:21<4:02:10,  2.90s/it]"
     ]
    },
    {
     "name": "stdout",
     "output_type": "stream",
     "text": [
      "Error processing article: index out of range in self\n"
     ]
    },
    {
     "name": "stderr",
     "output_type": "stream",
     "text": [
      " 67%|██████▋   | 9998/15000 [8:00:00<3:51:04,  2.77s/it]"
     ]
    },
    {
     "name": "stdout",
     "output_type": "stream",
     "text": [
      "Error processing article: index out of range in self\n"
     ]
    },
    {
     "name": "stderr",
     "output_type": "stream",
     "text": [
      " 67%|██████▋   | 10091/15000 [8:04:28<4:07:14,  3.02s/it]"
     ]
    },
    {
     "name": "stdout",
     "output_type": "stream",
     "text": [
      "Error processing article: index out of range in self\n"
     ]
    },
    {
     "name": "stderr",
     "output_type": "stream",
     "text": [
      " 67%|██████▋   | 10107/15000 [8:05:16<4:05:19,  3.01s/it]"
     ]
    },
    {
     "name": "stdout",
     "output_type": "stream",
     "text": [
      "Error processing article: index out of range in self\n"
     ]
    },
    {
     "name": "stderr",
     "output_type": "stream",
     "text": [
      " 68%|██████▊   | 10138/15000 [8:06:40<3:31:41,  2.61s/it]"
     ]
    },
    {
     "name": "stdout",
     "output_type": "stream",
     "text": [
      "Error processing article: index out of range in self\n"
     ]
    },
    {
     "name": "stderr",
     "output_type": "stream",
     "text": [
      " 68%|██████▊   | 10162/15000 [8:07:48<3:55:06,  2.92s/it]"
     ]
    },
    {
     "name": "stdout",
     "output_type": "stream",
     "text": [
      "Error processing article: index out of range in self\n"
     ]
    },
    {
     "name": "stderr",
     "output_type": "stream",
     "text": [
      " 68%|██████▊   | 10173/15000 [8:08:15<3:06:09,  2.31s/it]"
     ]
    },
    {
     "name": "stdout",
     "output_type": "stream",
     "text": [
      "Error processing article: index out of range in self\n"
     ]
    },
    {
     "name": "stderr",
     "output_type": "stream",
     "text": [
      " 68%|██████▊   | 10182/15000 [8:08:39<4:05:38,  3.06s/it]"
     ]
    },
    {
     "name": "stdout",
     "output_type": "stream",
     "text": [
      "Error processing article: index out of range in self\n"
     ]
    },
    {
     "name": "stderr",
     "output_type": "stream",
     "text": [
      " 68%|██████▊   | 10238/15000 [8:11:19<3:49:54,  2.90s/it]"
     ]
    },
    {
     "name": "stdout",
     "output_type": "stream",
     "text": [
      "Error processing article: index out of range in self\n"
     ]
    },
    {
     "name": "stderr",
     "output_type": "stream",
     "text": [
      " 68%|██████▊   | 10247/15000 [8:11:41<3:59:19,  3.02s/it]"
     ]
    },
    {
     "name": "stdout",
     "output_type": "stream",
     "text": [
      "Error processing article: index out of range in self\n"
     ]
    },
    {
     "name": "stderr",
     "output_type": "stream",
     "text": [
      " 69%|██████▊   | 10280/15000 [8:13:28<4:01:52,  3.07s/it]"
     ]
    },
    {
     "name": "stdout",
     "output_type": "stream",
     "text": [
      "Error processing article: index out of range in self\n"
     ]
    },
    {
     "name": "stderr",
     "output_type": "stream",
     "text": [
      " 69%|██████▊   | 10312/15000 [8:14:52<4:05:39,  3.14s/it]"
     ]
    },
    {
     "name": "stdout",
     "output_type": "stream",
     "text": [
      "Error processing article: index out of range in self\n"
     ]
    },
    {
     "name": "stderr",
     "output_type": "stream",
     "text": [
      " 69%|██████▉   | 10318/15000 [8:15:05<3:14:56,  2.50s/it]"
     ]
    },
    {
     "name": "stdout",
     "output_type": "stream",
     "text": [
      "Error processing article: index out of range in self\n"
     ]
    },
    {
     "name": "stderr",
     "output_type": "stream",
     "text": [
      " 69%|██████▉   | 10330/15000 [8:15:38<3:39:54,  2.83s/it]"
     ]
    },
    {
     "name": "stdout",
     "output_type": "stream",
     "text": [
      "Error processing article: index out of range in self\n"
     ]
    },
    {
     "name": "stderr",
     "output_type": "stream",
     "text": [
      " 69%|██████▉   | 10332/15000 [8:15:40<2:35:07,  1.99s/it]"
     ]
    },
    {
     "name": "stdout",
     "output_type": "stream",
     "text": [
      "Error processing article: index out of range in self\n"
     ]
    },
    {
     "name": "stderr",
     "output_type": "stream",
     "text": [
      " 69%|██████▉   | 10361/15000 [8:16:59<3:54:45,  3.04s/it]"
     ]
    },
    {
     "name": "stdout",
     "output_type": "stream",
     "text": [
      "Error processing article: index out of range in self\n"
     ]
    },
    {
     "name": "stderr",
     "output_type": "stream",
     "text": [
      " 69%|██████▉   | 10386/15000 [8:18:15<3:31:20,  2.75s/it]"
     ]
    },
    {
     "name": "stdout",
     "output_type": "stream",
     "text": [
      "Error processing article: index out of range in self\n"
     ]
    },
    {
     "name": "stderr",
     "output_type": "stream",
     "text": [
      " 69%|██████▉   | 10405/15000 [8:19:03<3:44:14,  2.93s/it]"
     ]
    },
    {
     "name": "stdout",
     "output_type": "stream",
     "text": [
      "Error processing article: index out of range in self\n"
     ]
    },
    {
     "name": "stderr",
     "output_type": "stream",
     "text": [
      " 69%|██████▉   | 10417/15000 [8:19:37<3:37:30,  2.85s/it]"
     ]
    },
    {
     "name": "stdout",
     "output_type": "stream",
     "text": [
      "Error processing article: index out of range in self\n"
     ]
    },
    {
     "name": "stderr",
     "output_type": "stream",
     "text": [
      " 70%|██████▉   | 10489/15000 [8:23:11<4:05:20,  3.26s/it]"
     ]
    },
    {
     "name": "stdout",
     "output_type": "stream",
     "text": [
      "Error processing article: index out of range in self\n"
     ]
    },
    {
     "name": "stderr",
     "output_type": "stream",
     "text": [
      " 70%|███████   | 10534/15000 [8:25:24<3:37:20,  2.92s/it]"
     ]
    },
    {
     "name": "stdout",
     "output_type": "stream",
     "text": [
      "Error processing article: index out of range in self\n"
     ]
    },
    {
     "name": "stderr",
     "output_type": "stream",
     "text": [
      " 71%|███████▏  | 10697/15000 [8:33:11<5:48:21,  4.86s/it]"
     ]
    },
    {
     "name": "stdout",
     "output_type": "stream",
     "text": [
      "Error processing article: index out of range in self\n"
     ]
    },
    {
     "name": "stderr",
     "output_type": "stream",
     "text": [
      " 71%|███████▏  | 10702/15000 [8:33:21<3:09:52,  2.65s/it]"
     ]
    },
    {
     "name": "stdout",
     "output_type": "stream",
     "text": [
      "Error processing article: index out of range in self\n"
     ]
    },
    {
     "name": "stderr",
     "output_type": "stream",
     "text": [
      " 71%|███████▏  | 10717/15000 [8:34:00<4:00:13,  3.37s/it]"
     ]
    },
    {
     "name": "stdout",
     "output_type": "stream",
     "text": [
      "Error processing article: index out of range in self\n"
     ]
    },
    {
     "name": "stderr",
     "output_type": "stream",
     "text": [
      " 73%|███████▎  | 10899/15000 [8:42:51<2:57:39,  2.60s/it]"
     ]
    },
    {
     "name": "stdout",
     "output_type": "stream",
     "text": [
      "Error processing article: index out of range in self\n"
     ]
    },
    {
     "name": "stderr",
     "output_type": "stream",
     "text": [
      " 73%|███████▎  | 10904/15000 [8:43:04<3:05:34,  2.72s/it]"
     ]
    },
    {
     "name": "stdout",
     "output_type": "stream",
     "text": [
      "Error processing article: index out of range in self\n"
     ]
    },
    {
     "name": "stderr",
     "output_type": "stream",
     "text": [
      " 73%|███████▎  | 10914/15000 [8:43:27<2:46:13,  2.44s/it]"
     ]
    },
    {
     "name": "stdout",
     "output_type": "stream",
     "text": [
      "Error processing article: index out of range in self\n"
     ]
    },
    {
     "name": "stderr",
     "output_type": "stream",
     "text": [
      " 73%|███████▎  | 10967/15000 [8:46:06<2:35:30,  2.31s/it]"
     ]
    },
    {
     "name": "stdout",
     "output_type": "stream",
     "text": [
      "Error processing article: index out of range in self\n"
     ]
    },
    {
     "name": "stderr",
     "output_type": "stream",
     "text": [
      " 73%|███████▎  | 10974/15000 [8:46:25<3:13:02,  2.88s/it]"
     ]
    },
    {
     "name": "stdout",
     "output_type": "stream",
     "text": [
      "Error processing article: index out of range in self\n"
     ]
    },
    {
     "name": "stderr",
     "output_type": "stream",
     "text": [
      " 73%|███████▎  | 10991/15000 [8:47:12<3:30:25,  3.15s/it]"
     ]
    },
    {
     "name": "stdout",
     "output_type": "stream",
     "text": [
      "Error processing article: index out of range in self\n"
     ]
    },
    {
     "name": "stderr",
     "output_type": "stream",
     "text": [
      " 73%|███████▎  | 11000/15000 [8:47:37<3:04:19,  2.76s/it]"
     ]
    },
    {
     "name": "stdout",
     "output_type": "stream",
     "text": [
      "Error processing article: index out of range in self\n"
     ]
    },
    {
     "name": "stderr",
     "output_type": "stream",
     "text": [
      " 74%|███████▍  | 11065/15000 [8:50:36<3:38:16,  3.33s/it]"
     ]
    },
    {
     "name": "stdout",
     "output_type": "stream",
     "text": [
      "Error processing article: index out of range in self\n"
     ]
    },
    {
     "name": "stderr",
     "output_type": "stream",
     "text": [
      " 74%|███████▍  | 11068/15000 [8:50:43<3:06:29,  2.85s/it]"
     ]
    },
    {
     "name": "stdout",
     "output_type": "stream",
     "text": [
      "Error processing article: index out of range in self\n"
     ]
    },
    {
     "name": "stderr",
     "output_type": "stream",
     "text": [
      " 74%|███████▍  | 11123/15000 [8:53:29<3:23:29,  3.15s/it]"
     ]
    },
    {
     "name": "stdout",
     "output_type": "stream",
     "text": [
      "Error processing article: index out of range in self\n"
     ]
    },
    {
     "name": "stderr",
     "output_type": "stream",
     "text": [
      " 74%|███████▍  | 11155/15000 [8:54:49<2:37:34,  2.46s/it]"
     ]
    },
    {
     "name": "stdout",
     "output_type": "stream",
     "text": [
      "Error processing article: index out of range in self\n"
     ]
    },
    {
     "name": "stderr",
     "output_type": "stream",
     "text": [
      " 75%|███████▍  | 11211/15000 [8:57:27<3:02:15,  2.89s/it]"
     ]
    },
    {
     "name": "stdout",
     "output_type": "stream",
     "text": [
      "Error processing article: index out of range in self\n"
     ]
    },
    {
     "name": "stderr",
     "output_type": "stream",
     "text": [
      " 75%|███████▍  | 11213/15000 [8:57:29<2:07:53,  2.03s/it]"
     ]
    },
    {
     "name": "stdout",
     "output_type": "stream",
     "text": [
      "Error processing article: index out of range in self\n"
     ]
    },
    {
     "name": "stderr",
     "output_type": "stream",
     "text": [
      " 75%|███████▍  | 11221/15000 [8:57:45<2:22:17,  2.26s/it]"
     ]
    },
    {
     "name": "stdout",
     "output_type": "stream",
     "text": [
      "Error processing article: index out of range in self\n"
     ]
    },
    {
     "name": "stderr",
     "output_type": "stream",
     "text": [
      " 75%|███████▍  | 11230/15000 [8:58:07<2:42:09,  2.58s/it]"
     ]
    },
    {
     "name": "stdout",
     "output_type": "stream",
     "text": [
      "Error processing article: index out of range in self\n"
     ]
    },
    {
     "name": "stderr",
     "output_type": "stream",
     "text": [
      " 75%|███████▍  | 11244/15000 [8:58:40<2:53:36,  2.77s/it]"
     ]
    },
    {
     "name": "stdout",
     "output_type": "stream",
     "text": [
      "Error processing article: index out of range in self\n"
     ]
    },
    {
     "name": "stderr",
     "output_type": "stream",
     "text": [
      " 75%|███████▌  | 11293/15000 [9:00:58<3:46:52,  3.67s/it]"
     ]
    },
    {
     "name": "stdout",
     "output_type": "stream",
     "text": [
      "Error processing article: index out of range in self\n"
     ]
    },
    {
     "name": "stderr",
     "output_type": "stream",
     "text": [
      " 75%|███████▌  | 11313/15000 [9:01:58<3:13:47,  3.15s/it]"
     ]
    },
    {
     "name": "stdout",
     "output_type": "stream",
     "text": [
      "Error processing article: index out of range in self\n"
     ]
    },
    {
     "name": "stderr",
     "output_type": "stream",
     "text": [
      " 75%|███████▌  | 11321/15000 [9:02:14<2:35:21,  2.53s/it]"
     ]
    },
    {
     "name": "stdout",
     "output_type": "stream",
     "text": [
      "Error processing article: index out of range in self\n"
     ]
    },
    {
     "name": "stderr",
     "output_type": "stream",
     "text": [
      " 76%|███████▌  | 11342/15000 [9:03:25<3:25:03,  3.36s/it]"
     ]
    },
    {
     "name": "stdout",
     "output_type": "stream",
     "text": [
      "Error processing article: index out of range in self\n"
     ]
    },
    {
     "name": "stderr",
     "output_type": "stream",
     "text": [
      " 76%|███████▌  | 11417/15000 [9:06:57<2:25:37,  2.44s/it]"
     ]
    },
    {
     "name": "stdout",
     "output_type": "stream",
     "text": [
      "Error processing article: index out of range in self\n"
     ]
    },
    {
     "name": "stderr",
     "output_type": "stream",
     "text": [
      " 77%|███████▋  | 11501/15000 [9:11:14<2:57:45,  3.05s/it]"
     ]
    },
    {
     "name": "stdout",
     "output_type": "stream",
     "text": [
      "Error processing article: index out of range in self\n"
     ]
    },
    {
     "name": "stderr",
     "output_type": "stream",
     "text": [
      " 77%|███████▋  | 11508/15000 [9:11:32<3:11:12,  3.29s/it]"
     ]
    },
    {
     "name": "stdout",
     "output_type": "stream",
     "text": [
      "Error processing article: index out of range in self\n"
     ]
    },
    {
     "name": "stderr",
     "output_type": "stream",
     "text": [
      " 77%|███████▋  | 11528/15000 [9:12:31<2:57:41,  3.07s/it]"
     ]
    },
    {
     "name": "stdout",
     "output_type": "stream",
     "text": [
      "Error processing article: index out of range in self\n"
     ]
    },
    {
     "name": "stderr",
     "output_type": "stream",
     "text": [
      " 77%|███████▋  | 11533/15000 [9:12:43<2:26:04,  2.53s/it]"
     ]
    },
    {
     "name": "stdout",
     "output_type": "stream",
     "text": [
      "Error processing article: index out of range in self\n"
     ]
    },
    {
     "name": "stderr",
     "output_type": "stream",
     "text": [
      " 77%|███████▋  | 11579/15000 [9:14:46<2:33:43,  2.70s/it]"
     ]
    },
    {
     "name": "stdout",
     "output_type": "stream",
     "text": [
      "Error processing article: index out of range in self\n"
     ]
    },
    {
     "name": "stderr",
     "output_type": "stream",
     "text": [
      " 78%|███████▊  | 11640/15000 [9:17:27<2:44:02,  2.93s/it]"
     ]
    },
    {
     "name": "stdout",
     "output_type": "stream",
     "text": [
      "Error processing article: index out of range in self\n"
     ]
    },
    {
     "name": "stderr",
     "output_type": "stream",
     "text": [
      " 78%|███████▊  | 11695/15000 [9:20:05<2:58:11,  3.23s/it]"
     ]
    },
    {
     "name": "stdout",
     "output_type": "stream",
     "text": [
      "Error processing article: index out of range in self\n"
     ]
    },
    {
     "name": "stderr",
     "output_type": "stream",
     "text": [
      " 78%|███████▊  | 11743/15000 [9:22:24<2:31:25,  2.79s/it]"
     ]
    },
    {
     "name": "stdout",
     "output_type": "stream",
     "text": [
      "Error processing article: index out of range in self\n"
     ]
    },
    {
     "name": "stderr",
     "output_type": "stream",
     "text": [
      " 78%|███████▊  | 11755/15000 [9:22:54<2:26:32,  2.71s/it]"
     ]
    },
    {
     "name": "stdout",
     "output_type": "stream",
     "text": [
      "Error processing article: index out of range in self\n"
     ]
    },
    {
     "name": "stderr",
     "output_type": "stream",
     "text": [
      " 79%|███████▊  | 11782/15000 [9:24:11<2:29:19,  2.78s/it]"
     ]
    },
    {
     "name": "stdout",
     "output_type": "stream",
     "text": [
      "Error processing article: index out of range in self\n"
     ]
    },
    {
     "name": "stderr",
     "output_type": "stream",
     "text": [
      " 79%|███████▉  | 11846/15000 [9:27:45<3:07:04,  3.56s/it]"
     ]
    },
    {
     "name": "stdout",
     "output_type": "stream",
     "text": [
      "Error processing article: index out of range in self\n"
     ]
    },
    {
     "name": "stderr",
     "output_type": "stream",
     "text": [
      " 79%|███████▉  | 11858/15000 [9:28:23<3:28:21,  3.98s/it]"
     ]
    },
    {
     "name": "stdout",
     "output_type": "stream",
     "text": [
      "Error processing article: index out of range in self\n"
     ]
    },
    {
     "name": "stderr",
     "output_type": "stream",
     "text": [
      " 79%|███████▉  | 11886/15000 [9:29:46<2:50:18,  3.28s/it]"
     ]
    },
    {
     "name": "stdout",
     "output_type": "stream",
     "text": [
      "Error processing article: index out of range in self\n"
     ]
    },
    {
     "name": "stderr",
     "output_type": "stream",
     "text": [
      " 80%|███████▉  | 11939/15000 [9:32:26<2:36:42,  3.07s/it]"
     ]
    },
    {
     "name": "stdout",
     "output_type": "stream",
     "text": [
      "Error processing article: index out of range in self\n"
     ]
    },
    {
     "name": "stderr",
     "output_type": "stream",
     "text": [
      " 80%|███████▉  | 11980/15000 [9:34:41<2:40:29,  3.19s/it]"
     ]
    },
    {
     "name": "stdout",
     "output_type": "stream",
     "text": [
      "Error processing article: index out of range in self\n"
     ]
    },
    {
     "name": "stderr",
     "output_type": "stream",
     "text": [
      " 80%|████████  | 12007/15000 [9:36:09<3:03:18,  3.67s/it]"
     ]
    },
    {
     "name": "stdout",
     "output_type": "stream",
     "text": [
      "Error processing article: index out of range in self\n"
     ]
    },
    {
     "name": "stderr",
     "output_type": "stream",
     "text": [
      " 80%|████████  | 12011/15000 [9:36:18<2:13:18,  2.68s/it]"
     ]
    },
    {
     "name": "stdout",
     "output_type": "stream",
     "text": [
      "Error processing article: index out of range in self\n"
     ]
    },
    {
     "name": "stderr",
     "output_type": "stream",
     "text": [
      " 81%|████████  | 12088/15000 [9:40:14<2:28:51,  3.07s/it]"
     ]
    },
    {
     "name": "stdout",
     "output_type": "stream",
     "text": [
      "Error processing article: index out of range in self\n"
     ]
    },
    {
     "name": "stderr",
     "output_type": "stream",
     "text": [
      " 81%|████████  | 12096/15000 [9:40:35<2:07:16,  2.63s/it]"
     ]
    },
    {
     "name": "stdout",
     "output_type": "stream",
     "text": [
      "Error processing article: index out of range in self\n"
     ]
    },
    {
     "name": "stderr",
     "output_type": "stream",
     "text": [
      " 81%|████████  | 12111/15000 [9:41:15<2:31:59,  3.16s/it]"
     ]
    },
    {
     "name": "stdout",
     "output_type": "stream",
     "text": [
      "Error processing article: index out of range in self\n"
     ]
    },
    {
     "name": "stderr",
     "output_type": "stream",
     "text": [
      " 81%|████████  | 12133/15000 [9:42:15<2:10:12,  2.73s/it]"
     ]
    },
    {
     "name": "stdout",
     "output_type": "stream",
     "text": [
      "Error processing article: index out of range in self\n"
     ]
    },
    {
     "name": "stderr",
     "output_type": "stream",
     "text": [
      " 81%|████████▏ | 12203/15000 [9:46:00<2:33:59,  3.30s/it]"
     ]
    },
    {
     "name": "stdout",
     "output_type": "stream",
     "text": [
      "Error processing article: index out of range in self\n"
     ]
    },
    {
     "name": "stderr",
     "output_type": "stream",
     "text": [
      " 82%|████████▏ | 12263/15000 [9:48:53<2:10:11,  2.85s/it]"
     ]
    },
    {
     "name": "stdout",
     "output_type": "stream",
     "text": [
      "Error processing article: index out of range in self\n"
     ]
    },
    {
     "name": "stderr",
     "output_type": "stream",
     "text": [
      " 82%|████████▏ | 12267/15000 [9:49:01<1:46:05,  2.33s/it]"
     ]
    },
    {
     "name": "stdout",
     "output_type": "stream",
     "text": [
      "Error processing article: index out of range in self\n"
     ]
    },
    {
     "name": "stderr",
     "output_type": "stream",
     "text": [
      " 82%|████████▏ | 12310/15000 [9:51:19<1:50:52,  2.47s/it]"
     ]
    },
    {
     "name": "stdout",
     "output_type": "stream",
     "text": [
      "Error processing article: index out of range in self\n"
     ]
    },
    {
     "name": "stderr",
     "output_type": "stream",
     "text": [
      " 83%|████████▎ | 12417/15000 [9:56:39<2:16:00,  3.16s/it]"
     ]
    },
    {
     "name": "stdout",
     "output_type": "stream",
     "text": [
      "Error processing article: index out of range in self\n"
     ]
    },
    {
     "name": "stderr",
     "output_type": "stream",
     "text": [
      " 83%|████████▎ | 12445/15000 [9:58:01<2:07:47,  3.00s/it]"
     ]
    },
    {
     "name": "stdout",
     "output_type": "stream",
     "text": [
      "Error processing article: index out of range in self\n"
     ]
    },
    {
     "name": "stderr",
     "output_type": "stream",
     "text": [
      " 83%|████████▎ | 12489/15000 [10:00:22<3:09:55,  4.54s/it]"
     ]
    },
    {
     "name": "stdout",
     "output_type": "stream",
     "text": [
      "Error processing article: index out of range in self\n"
     ]
    },
    {
     "name": "stderr",
     "output_type": "stream",
     "text": [
      " 83%|████████▎ | 12520/15000 [10:01:45<2:08:15,  3.10s/it]"
     ]
    },
    {
     "name": "stdout",
     "output_type": "stream",
     "text": [
      "Error processing article: index out of range in self\n"
     ]
    },
    {
     "name": "stderr",
     "output_type": "stream",
     "text": [
      " 84%|████████▎ | 12547/15000 [10:03:09<2:14:56,  3.30s/it]"
     ]
    },
    {
     "name": "stdout",
     "output_type": "stream",
     "text": [
      "Error processing article: index out of range in self\n"
     ]
    },
    {
     "name": "stderr",
     "output_type": "stream",
     "text": [
      " 84%|████████▍ | 12567/15000 [10:04:10<2:03:38,  3.05s/it]"
     ]
    },
    {
     "name": "stdout",
     "output_type": "stream",
     "text": [
      "Error processing article: index out of range in self\n"
     ]
    },
    {
     "name": "stderr",
     "output_type": "stream",
     "text": [
      " 84%|████████▍ | 12630/15000 [10:07:28<2:14:33,  3.41s/it]"
     ]
    },
    {
     "name": "stdout",
     "output_type": "stream",
     "text": [
      "Error processing article: index out of range in self\n"
     ]
    },
    {
     "name": "stderr",
     "output_type": "stream",
     "text": [
      " 85%|████████▍ | 12730/15000 [10:12:19<1:41:03,  2.67s/it]"
     ]
    },
    {
     "name": "stdout",
     "output_type": "stream",
     "text": [
      "Error processing article: index out of range in self\n"
     ]
    },
    {
     "name": "stderr",
     "output_type": "stream",
     "text": [
      " 85%|████████▌ | 12823/15000 [10:17:08<1:48:31,  2.99s/it]"
     ]
    },
    {
     "name": "stdout",
     "output_type": "stream",
     "text": [
      "Error processing article: index out of range in self\n"
     ]
    },
    {
     "name": "stderr",
     "output_type": "stream",
     "text": [
      " 86%|████████▌ | 12825/15000 [10:17:10<1:18:24,  2.16s/it]"
     ]
    },
    {
     "name": "stdout",
     "output_type": "stream",
     "text": [
      "Error processing article: index out of range in self\n"
     ]
    },
    {
     "name": "stderr",
     "output_type": "stream",
     "text": [
      " 86%|████████▌ | 12869/15000 [10:19:16<2:02:57,  3.46s/it]"
     ]
    },
    {
     "name": "stdout",
     "output_type": "stream",
     "text": [
      "Error processing article: index out of range in self\n"
     ]
    },
    {
     "name": "stderr",
     "output_type": "stream",
     "text": [
      " 86%|████████▋ | 12944/15000 [10:22:53<1:39:06,  2.89s/it]"
     ]
    },
    {
     "name": "stdout",
     "output_type": "stream",
     "text": [
      "Error processing article: index out of range in self\n"
     ]
    },
    {
     "name": "stderr",
     "output_type": "stream",
     "text": [
      " 86%|████████▋ | 12955/15000 [10:23:32<1:58:23,  3.47s/it]"
     ]
    },
    {
     "name": "stdout",
     "output_type": "stream",
     "text": [
      "Error processing article: index out of range in self\n"
     ]
    },
    {
     "name": "stderr",
     "output_type": "stream",
     "text": [
      " 87%|████████▋ | 12989/15000 [10:25:10<1:34:40,  2.82s/it]"
     ]
    },
    {
     "name": "stdout",
     "output_type": "stream",
     "text": [
      "Error processing article: index out of range in self\n"
     ]
    },
    {
     "name": "stderr",
     "output_type": "stream",
     "text": [
      " 87%|████████▋ | 13018/15000 [10:26:34<1:45:39,  3.20s/it]"
     ]
    },
    {
     "name": "stdout",
     "output_type": "stream",
     "text": [
      "Error processing article: index out of range in self\n"
     ]
    },
    {
     "name": "stderr",
     "output_type": "stream",
     "text": [
      " 87%|████████▋ | 13068/15000 [10:29:05<1:30:09,  2.80s/it]"
     ]
    },
    {
     "name": "stdout",
     "output_type": "stream",
     "text": [
      "Error processing article: index out of range in self\n"
     ]
    },
    {
     "name": "stderr",
     "output_type": "stream",
     "text": [
      " 87%|████████▋ | 13081/15000 [10:29:49<1:45:54,  3.31s/it]"
     ]
    },
    {
     "name": "stdout",
     "output_type": "stream",
     "text": [
      "Error processing article: index out of range in self\n"
     ]
    },
    {
     "name": "stderr",
     "output_type": "stream",
     "text": [
      " 88%|████████▊ | 13137/15000 [10:32:37<1:22:32,  2.66s/it]"
     ]
    },
    {
     "name": "stdout",
     "output_type": "stream",
     "text": [
      "Error processing article: index out of range in self\n"
     ]
    },
    {
     "name": "stderr",
     "output_type": "stream",
     "text": [
      " 88%|████████▊ | 13160/15000 [10:33:47<1:45:53,  3.45s/it]"
     ]
    },
    {
     "name": "stdout",
     "output_type": "stream",
     "text": [
      "Error processing article: index out of range in self\n"
     ]
    },
    {
     "name": "stderr",
     "output_type": "stream",
     "text": [
      " 88%|████████▊ | 13255/15000 [10:38:19<1:28:34,  3.05s/it]"
     ]
    },
    {
     "name": "stdout",
     "output_type": "stream",
     "text": [
      "Error processing article: index out of range in self\n"
     ]
    },
    {
     "name": "stderr",
     "output_type": "stream",
     "text": [
      " 88%|████████▊ | 13265/15000 [10:38:46<1:34:18,  3.26s/it]"
     ]
    },
    {
     "name": "stdout",
     "output_type": "stream",
     "text": [
      "Error processing article: index out of range in self\n"
     ]
    },
    {
     "name": "stderr",
     "output_type": "stream",
     "text": [
      " 88%|████████▊ | 13275/15000 [10:39:13<1:29:23,  3.11s/it]"
     ]
    },
    {
     "name": "stdout",
     "output_type": "stream",
     "text": [
      "Error processing article: index out of range in self\n"
     ]
    },
    {
     "name": "stderr",
     "output_type": "stream",
     "text": [
      " 89%|████████▊ | 13287/15000 [10:39:55<1:41:18,  3.55s/it]"
     ]
    },
    {
     "name": "stdout",
     "output_type": "stream",
     "text": [
      "Error processing article: index out of range in self\n"
     ]
    },
    {
     "name": "stderr",
     "output_type": "stream",
     "text": [
      " 89%|████████▊ | 13298/15000 [10:40:20<1:17:23,  2.73s/it]"
     ]
    },
    {
     "name": "stdout",
     "output_type": "stream",
     "text": [
      "Error processing article: index out of range in self\n"
     ]
    },
    {
     "name": "stderr",
     "output_type": "stream",
     "text": [
      " 89%|████████▉ | 13328/15000 [10:42:01<1:55:13,  4.14s/it]"
     ]
    },
    {
     "name": "stdout",
     "output_type": "stream",
     "text": [
      "Error processing article: index out of range in self\n"
     ]
    },
    {
     "name": "stderr",
     "output_type": "stream",
     "text": [
      " 89%|████████▉ | 13348/15000 [10:42:58<1:14:32,  2.71s/it]"
     ]
    },
    {
     "name": "stdout",
     "output_type": "stream",
     "text": [
      "Error processing article: index out of range in self\n"
     ]
    },
    {
     "name": "stderr",
     "output_type": "stream",
     "text": [
      " 89%|████████▉ | 13356/15000 [10:43:23<1:25:39,  3.13s/it]"
     ]
    },
    {
     "name": "stdout",
     "output_type": "stream",
     "text": [
      "Error processing article: index out of range in self\n"
     ]
    },
    {
     "name": "stderr",
     "output_type": "stream",
     "text": [
      " 89%|████████▉ | 13361/15000 [10:43:35<1:14:19,  2.72s/it]"
     ]
    },
    {
     "name": "stdout",
     "output_type": "stream",
     "text": [
      "Error processing article: index out of range in self\n"
     ]
    },
    {
     "name": "stderr",
     "output_type": "stream",
     "text": [
      " 90%|████████▉ | 13451/15000 [10:48:13<1:21:15,  3.15s/it]"
     ]
    },
    {
     "name": "stdout",
     "output_type": "stream",
     "text": [
      "Error processing article: index out of range in self\n"
     ]
    },
    {
     "name": "stderr",
     "output_type": "stream",
     "text": [
      " 90%|█████████ | 13526/15000 [10:52:06<1:06:36,  2.71s/it]"
     ]
    },
    {
     "name": "stdout",
     "output_type": "stream",
     "text": [
      "Error processing article: index out of range in self\n"
     ]
    },
    {
     "name": "stderr",
     "output_type": "stream",
     "text": [
      " 90%|█████████ | 13569/15000 [10:54:17<1:23:05,  3.48s/it]"
     ]
    },
    {
     "name": "stdout",
     "output_type": "stream",
     "text": [
      "Error processing article: index out of range in self\n"
     ]
    },
    {
     "name": "stderr",
     "output_type": "stream",
     "text": [
      " 91%|█████████ | 13673/15000 [10:59:21<1:03:28,  2.87s/it]"
     ]
    },
    {
     "name": "stdout",
     "output_type": "stream",
     "text": [
      "Error processing article: index out of range in self\n"
     ]
    },
    {
     "name": "stderr",
     "output_type": "stream",
     "text": [
      " 92%|█████████▏| 13728/15000 [11:02:20<1:14:15,  3.50s/it]"
     ]
    },
    {
     "name": "stdout",
     "output_type": "stream",
     "text": [
      "Error processing article: index out of range in self\n"
     ]
    },
    {
     "name": "stderr",
     "output_type": "stream",
     "text": [
      " 92%|█████████▏| 13745/15000 [11:03:09<1:09:57,  3.34s/it]"
     ]
    },
    {
     "name": "stdout",
     "output_type": "stream",
     "text": [
      "Error processing article: index out of range in self\n"
     ]
    },
    {
     "name": "stderr",
     "output_type": "stream",
     "text": [
      " 92%|█████████▏| 13760/15000 [11:03:54<1:10:15,  3.40s/it]"
     ]
    },
    {
     "name": "stdout",
     "output_type": "stream",
     "text": [
      "Error processing article: index out of range in self\n",
      "Error processing article: index out of range in self\n"
     ]
    },
    {
     "name": "stderr",
     "output_type": "stream",
     "text": [
      " 92%|█████████▏| 13794/15000 [11:05:26<56:32,  2.81s/it]  "
     ]
    },
    {
     "name": "stdout",
     "output_type": "stream",
     "text": [
      "Error processing article: index out of range in self\n"
     ]
    },
    {
     "name": "stderr",
     "output_type": "stream",
     "text": [
      " 92%|█████████▏| 13806/15000 [11:06:00<47:19,  2.38s/it]  "
     ]
    },
    {
     "name": "stdout",
     "output_type": "stream",
     "text": [
      "Error processing article: index out of range in self\n"
     ]
    },
    {
     "name": "stderr",
     "output_type": "stream",
     "text": [
      " 92%|█████████▏| 13835/15000 [11:07:36<58:53,  3.03s/it]  "
     ]
    },
    {
     "name": "stdout",
     "output_type": "stream",
     "text": [
      "Error processing article: index out of range in self\n"
     ]
    },
    {
     "name": "stderr",
     "output_type": "stream",
     "text": [
      " 92%|█████████▏| 13860/15000 [11:09:02<1:13:00,  3.84s/it]"
     ]
    },
    {
     "name": "stdout",
     "output_type": "stream",
     "text": [
      "Error processing article: index out of range in self\n"
     ]
    },
    {
     "name": "stderr",
     "output_type": "stream",
     "text": [
      " 93%|█████████▎| 13938/15000 [11:12:59<52:27,  2.96s/it]  "
     ]
    },
    {
     "name": "stdout",
     "output_type": "stream",
     "text": [
      "Error processing article: index out of range in self\n"
     ]
    },
    {
     "name": "stderr",
     "output_type": "stream",
     "text": [
      " 93%|█████████▎| 13986/15000 [11:15:24<55:55,  3.31s/it]  "
     ]
    },
    {
     "name": "stdout",
     "output_type": "stream",
     "text": [
      "Error processing article: index out of range in self\n",
      "Error processing article: index out of range in self\n"
     ]
    },
    {
     "name": "stderr",
     "output_type": "stream",
     "text": [
      " 93%|█████████▎| 14005/15000 [11:16:10<42:53,  2.59s/it]"
     ]
    },
    {
     "name": "stdout",
     "output_type": "stream",
     "text": [
      "Error processing article: index out of range in self\n"
     ]
    },
    {
     "name": "stderr",
     "output_type": "stream",
     "text": [
      " 94%|█████████▍| 14080/15000 [11:19:52<47:28,  3.10s/it]  "
     ]
    },
    {
     "name": "stdout",
     "output_type": "stream",
     "text": [
      "Error processing article: index out of range in self\n"
     ]
    },
    {
     "name": "stderr",
     "output_type": "stream",
     "text": [
      " 94%|█████████▍| 14165/15000 [11:24:17<34:05,  2.45s/it]  "
     ]
    },
    {
     "name": "stdout",
     "output_type": "stream",
     "text": [
      "Error processing article: index out of range in self\n"
     ]
    },
    {
     "name": "stderr",
     "output_type": "stream",
     "text": [
      " 95%|█████████▍| 14215/15000 [11:26:43<40:49,  3.12s/it]"
     ]
    },
    {
     "name": "stdout",
     "output_type": "stream",
     "text": [
      "Error processing article: index out of range in self\n"
     ]
    },
    {
     "name": "stderr",
     "output_type": "stream",
     "text": [
      " 95%|█████████▌| 14262/15000 [11:29:02<34:18,  2.79s/it]"
     ]
    },
    {
     "name": "stdout",
     "output_type": "stream",
     "text": [
      "Error processing article: index out of range in self\n"
     ]
    },
    {
     "name": "stderr",
     "output_type": "stream",
     "text": [
      " 95%|█████████▌| 14280/15000 [11:29:57<35:32,  2.96s/it]"
     ]
    },
    {
     "name": "stdout",
     "output_type": "stream",
     "text": [
      "Error processing article: index out of range in self\n"
     ]
    },
    {
     "name": "stderr",
     "output_type": "stream",
     "text": [
      " 95%|█████████▌| 14282/15000 [11:30:00<28:02,  2.34s/it]"
     ]
    },
    {
     "name": "stdout",
     "output_type": "stream",
     "text": [
      "Error processing article: index out of range in self\n"
     ]
    },
    {
     "name": "stderr",
     "output_type": "stream",
     "text": [
      " 95%|█████████▌| 14293/15000 [11:30:33<39:53,  3.39s/it]"
     ]
    },
    {
     "name": "stdout",
     "output_type": "stream",
     "text": [
      "Error processing article: index out of range in self\n"
     ]
    },
    {
     "name": "stderr",
     "output_type": "stream",
     "text": [
      " 95%|█████████▌| 14311/15000 [11:31:21<38:39,  3.37s/it]"
     ]
    },
    {
     "name": "stdout",
     "output_type": "stream",
     "text": [
      "Error processing article: index out of range in self\n"
     ]
    },
    {
     "name": "stderr",
     "output_type": "stream",
     "text": [
      " 96%|█████████▌| 14379/15000 [11:34:49<32:44,  3.16s/it]  "
     ]
    },
    {
     "name": "stdout",
     "output_type": "stream",
     "text": [
      "Error processing article: index out of range in self\n"
     ]
    },
    {
     "name": "stderr",
     "output_type": "stream",
     "text": [
      " 96%|█████████▌| 14401/15000 [11:35:57<33:30,  3.36s/it]"
     ]
    },
    {
     "name": "stdout",
     "output_type": "stream",
     "text": [
      "Error processing article: index out of range in self\n"
     ]
    },
    {
     "name": "stderr",
     "output_type": "stream",
     "text": [
      " 97%|█████████▋| 14513/15000 [11:41:19<21:18,  2.62s/it]"
     ]
    },
    {
     "name": "stdout",
     "output_type": "stream",
     "text": [
      "Error processing article: index out of range in self\n"
     ]
    },
    {
     "name": "stderr",
     "output_type": "stream",
     "text": [
      " 97%|█████████▋| 14537/15000 [11:42:29<26:05,  3.38s/it]"
     ]
    },
    {
     "name": "stdout",
     "output_type": "stream",
     "text": [
      "Error processing article: index out of range in self\n"
     ]
    },
    {
     "name": "stderr",
     "output_type": "stream",
     "text": [
      " 97%|█████████▋| 14572/15000 [11:44:15<21:44,  3.05s/it]"
     ]
    },
    {
     "name": "stdout",
     "output_type": "stream",
     "text": [
      "Error processing article: index out of range in self\n"
     ]
    },
    {
     "name": "stderr",
     "output_type": "stream",
     "text": [
      " 97%|█████████▋| 14614/15000 [11:46:21<20:54,  3.25s/it]"
     ]
    },
    {
     "name": "stdout",
     "output_type": "stream",
     "text": [
      "Error processing article: index out of range in self\n"
     ]
    },
    {
     "name": "stderr",
     "output_type": "stream",
     "text": [
      " 98%|█████████▊| 14635/15000 [11:47:15<16:08,  2.65s/it]"
     ]
    },
    {
     "name": "stdout",
     "output_type": "stream",
     "text": [
      "Error processing article: index out of range in self\n"
     ]
    },
    {
     "name": "stderr",
     "output_type": "stream",
     "text": [
      " 98%|█████████▊| 14676/15000 [11:49:18<17:45,  3.29s/it]"
     ]
    },
    {
     "name": "stdout",
     "output_type": "stream",
     "text": [
      "Error processing article: index out of range in self\n"
     ]
    },
    {
     "name": "stderr",
     "output_type": "stream",
     "text": [
      " 98%|█████████▊| 14720/15000 [11:51:33<13:25,  2.88s/it]"
     ]
    },
    {
     "name": "stdout",
     "output_type": "stream",
     "text": [
      "Error processing article: index out of range in self\n"
     ]
    },
    {
     "name": "stderr",
     "output_type": "stream",
     "text": [
      " 98%|█████████▊| 14759/15000 [11:53:34<11:44,  2.92s/it]"
     ]
    },
    {
     "name": "stdout",
     "output_type": "stream",
     "text": [
      "Error processing article: index out of range in self\n"
     ]
    },
    {
     "name": "stderr",
     "output_type": "stream",
     "text": [
      " 99%|█████████▊| 14787/15000 [11:55:04<10:19,  2.91s/it]"
     ]
    },
    {
     "name": "stdout",
     "output_type": "stream",
     "text": [
      "Error processing article: index out of range in self\n"
     ]
    },
    {
     "name": "stderr",
     "output_type": "stream",
     "text": [
      " 99%|█████████▉| 14834/15000 [11:57:56<09:57,  3.60s/it]"
     ]
    },
    {
     "name": "stdout",
     "output_type": "stream",
     "text": [
      "Error processing article: index out of range in self\n"
     ]
    },
    {
     "name": "stderr",
     "output_type": "stream",
     "text": [
      " 99%|█████████▉| 14874/15000 [11:59:53<05:27,  2.60s/it]"
     ]
    },
    {
     "name": "stdout",
     "output_type": "stream",
     "text": [
      "Error processing article: index out of range in self\n"
     ]
    },
    {
     "name": "stderr",
     "output_type": "stream",
     "text": [
      " 99%|█████████▉| 14877/15000 [11:59:58<04:10,  2.04s/it]"
     ]
    },
    {
     "name": "stdout",
     "output_type": "stream",
     "text": [
      "Error processing article: index out of range in self\n"
     ]
    },
    {
     "name": "stderr",
     "output_type": "stream",
     "text": [
      " 99%|█████████▉| 14880/15000 [12:00:04<04:09,  2.08s/it]"
     ]
    },
    {
     "name": "stdout",
     "output_type": "stream",
     "text": [
      "Error processing article: index out of range in self\n"
     ]
    },
    {
     "name": "stderr",
     "output_type": "stream",
     "text": [
      " 99%|█████████▉| 14884/15000 [12:00:14<04:28,  2.31s/it]"
     ]
    },
    {
     "name": "stdout",
     "output_type": "stream",
     "text": [
      "Error processing article: index out of range in self\n"
     ]
    },
    {
     "name": "stderr",
     "output_type": "stream",
     "text": [
      " 99%|█████████▉| 14896/15000 [12:00:51<05:15,  3.04s/it]"
     ]
    },
    {
     "name": "stdout",
     "output_type": "stream",
     "text": [
      "Error processing article: index out of range in self\n"
     ]
    },
    {
     "name": "stderr",
     "output_type": "stream",
     "text": [
      "100%|█████████▉| 14925/15000 [12:02:14<03:45,  3.01s/it]"
     ]
    },
    {
     "name": "stdout",
     "output_type": "stream",
     "text": [
      "Error processing article: index out of range in self\n"
     ]
    },
    {
     "name": "stderr",
     "output_type": "stream",
     "text": [
      "100%|█████████▉| 14992/15000 [12:05:59<00:23,  2.91s/it]"
     ]
    },
    {
     "name": "stdout",
     "output_type": "stream",
     "text": [
      "Error processing article: index out of range in self\n"
     ]
    },
    {
     "name": "stderr",
     "output_type": "stream",
     "text": [
      "100%|██████████| 15000/15000 [12:06:22<00:00,  2.91s/it]\n"
     ]
    }
   ],
   "source": [
    "!pip install --quiet tqdm\n",
    "from tqdm import tqdm\n",
    "tqdm.pandas()\n",
    "# Generate summaries using the BART model with progress bar\n",
    "def generate_summary(text, summarizer):\n",
    "    try:\n",
    "        input_length = len(summarizer.tokenizer.tokenize(text))\n",
    "        max_length = min(max(50, input_length // 2), 512)  # Ensure max_length is within reasonable limits and less than input_length\n",
    "        return summarizer(text, max_length=max_length, min_length=30, do_sample=False)[0]['summary_text']\n",
    "    except Exception as e:\n",
    "        print(f\"Error processing article: {e}\")\n",
    "        return \"\"\n",
    "\n",
    "df_test['bart_summary'] = df_test['cleaned_article'].progress_apply(lambda x: generate_summary(x, summarizer))\n"
   ]
  },
  {
   "cell_type": "code",
   "execution_count": 70,
   "metadata": {},
   "outputs": [],
   "source": [
    "# Export the DataFrame to a CSV file\n",
    "df_test.to_csv('df_test_with_summaries.csv', index=False)"
   ]
  },
  {
   "cell_type": "code",
   "execution_count": null,
   "metadata": {
    "scrolled": true
   },
   "outputs": [
    {
     "name": "stdout",
     "output_type": "stream",
     "text": [
      "Article 1 ROUGE scores:\n",
      "{'rouge1': AggregateScore(low=Score(precision=0.21818181818181817, recall=0.5454545454545454, fmeasure=0.3116883116883117), mid=Score(precision=0.21818181818181817, recall=0.5454545454545454, fmeasure=0.3116883116883117), high=Score(precision=0.21818181818181817, recall=0.5454545454545454, fmeasure=0.3116883116883117)), 'rouge2': AggregateScore(low=Score(precision=0.037037037037037035, recall=0.09523809523809523, fmeasure=0.05333333333333334), mid=Score(precision=0.037037037037037035, recall=0.09523809523809523, fmeasure=0.05333333333333334), high=Score(precision=0.037037037037037035, recall=0.09523809523809523, fmeasure=0.05333333333333334)), 'rougeL': AggregateScore(low=Score(precision=0.14545454545454545, recall=0.36363636363636365, fmeasure=0.2077922077922078), mid=Score(precision=0.14545454545454545, recall=0.36363636363636365, fmeasure=0.2077922077922078), high=Score(precision=0.14545454545454545, recall=0.36363636363636365, fmeasure=0.2077922077922078)), 'rougeLsum': AggregateScore(low=Score(precision=0.14545454545454545, recall=0.36363636363636365, fmeasure=0.2077922077922078), mid=Score(precision=0.14545454545454545, recall=0.36363636363636365, fmeasure=0.2077922077922078), high=Score(precision=0.14545454545454545, recall=0.36363636363636365, fmeasure=0.2077922077922078))}\n",
      "\n",
      "================================================================================\n",
      "\n",
      "Article 2 ROUGE scores:\n",
      "{'rouge1': AggregateScore(low=Score(precision=0.19672131147540983, recall=0.375, fmeasure=0.25806451612903225), mid=Score(precision=0.19672131147540983, recall=0.375, fmeasure=0.25806451612903225), high=Score(precision=0.19672131147540983, recall=0.375, fmeasure=0.25806451612903225)), 'rouge2': AggregateScore(low=Score(precision=0.1, recall=0.1935483870967742, fmeasure=0.13186813186813187), mid=Score(precision=0.1, recall=0.1935483870967742, fmeasure=0.13186813186813187), high=Score(precision=0.1, recall=0.1935483870967742, fmeasure=0.13186813186813187)), 'rougeL': AggregateScore(low=Score(precision=0.18032786885245902, recall=0.34375, fmeasure=0.23655913978494625), mid=Score(precision=0.18032786885245902, recall=0.34375, fmeasure=0.23655913978494625), high=Score(precision=0.18032786885245902, recall=0.34375, fmeasure=0.23655913978494625)), 'rougeLsum': AggregateScore(low=Score(precision=0.18032786885245902, recall=0.34375, fmeasure=0.23655913978494625), mid=Score(precision=0.18032786885245902, recall=0.34375, fmeasure=0.23655913978494625), high=Score(precision=0.18032786885245902, recall=0.34375, fmeasure=0.23655913978494625))}\n",
      "\n",
      "================================================================================\n",
      "\n",
      "Article 3 ROUGE scores:\n",
      "{'rouge1': AggregateScore(low=Score(precision=0.1794871794871795, recall=0.23333333333333334, fmeasure=0.20289855072463772), mid=Score(precision=0.1794871794871795, recall=0.23333333333333334, fmeasure=0.20289855072463772), high=Score(precision=0.1794871794871795, recall=0.23333333333333334, fmeasure=0.20289855072463772)), 'rouge2': AggregateScore(low=Score(precision=0.05263157894736842, recall=0.06896551724137931, fmeasure=0.05970149253731343), mid=Score(precision=0.05263157894736842, recall=0.06896551724137931, fmeasure=0.05970149253731343), high=Score(precision=0.05263157894736842, recall=0.06896551724137931, fmeasure=0.05970149253731343)), 'rougeL': AggregateScore(low=Score(precision=0.1282051282051282, recall=0.16666666666666666, fmeasure=0.14492753623188406), mid=Score(precision=0.1282051282051282, recall=0.16666666666666666, fmeasure=0.14492753623188406), high=Score(precision=0.1282051282051282, recall=0.16666666666666666, fmeasure=0.14492753623188406)), 'rougeLsum': AggregateScore(low=Score(precision=0.1282051282051282, recall=0.16666666666666666, fmeasure=0.14492753623188406), mid=Score(precision=0.1282051282051282, recall=0.16666666666666666, fmeasure=0.14492753623188406), high=Score(precision=0.1282051282051282, recall=0.16666666666666666, fmeasure=0.14492753623188406))}\n",
      "\n",
      "================================================================================\n",
      "\n",
      "Article 4 ROUGE scores:\n",
      "{'rouge1': AggregateScore(low=Score(precision=0.19607843137254902, recall=0.4166666666666667, fmeasure=0.26666666666666666), mid=Score(precision=0.19607843137254902, recall=0.4166666666666667, fmeasure=0.26666666666666666), high=Score(precision=0.19607843137254902, recall=0.4166666666666667, fmeasure=0.26666666666666666)), 'rouge2': AggregateScore(low=Score(precision=0.02, recall=0.043478260869565216, fmeasure=0.0273972602739726), mid=Score(precision=0.02, recall=0.043478260869565216, fmeasure=0.0273972602739726), high=Score(precision=0.02, recall=0.043478260869565216, fmeasure=0.0273972602739726)), 'rougeL': AggregateScore(low=Score(precision=0.09803921568627451, recall=0.20833333333333334, fmeasure=0.13333333333333333), mid=Score(precision=0.09803921568627451, recall=0.20833333333333334, fmeasure=0.13333333333333333), high=Score(precision=0.09803921568627451, recall=0.20833333333333334, fmeasure=0.13333333333333333)), 'rougeLsum': AggregateScore(low=Score(precision=0.09803921568627451, recall=0.20833333333333334, fmeasure=0.13333333333333333), mid=Score(precision=0.09803921568627451, recall=0.20833333333333334, fmeasure=0.13333333333333333), high=Score(precision=0.09803921568627451, recall=0.20833333333333334, fmeasure=0.13333333333333333))}\n",
      "\n",
      "================================================================================\n",
      "\n",
      "Article 5 ROUGE scores:\n",
      "{'rouge1': AggregateScore(low=Score(precision=0.3972602739726027, recall=0.7837837837837838, fmeasure=0.5272727272727272), mid=Score(precision=0.3972602739726027, recall=0.7837837837837838, fmeasure=0.5272727272727272), high=Score(precision=0.3972602739726027, recall=0.7837837837837838, fmeasure=0.5272727272727272)), 'rouge2': AggregateScore(low=Score(precision=0.2777777777777778, recall=0.5555555555555556, fmeasure=0.3703703703703704), mid=Score(precision=0.2777777777777778, recall=0.5555555555555556, fmeasure=0.3703703703703704), high=Score(precision=0.2777777777777778, recall=0.5555555555555556, fmeasure=0.3703703703703704)), 'rougeL': AggregateScore(low=Score(precision=0.3561643835616438, recall=0.7027027027027027, fmeasure=0.4727272727272727), mid=Score(precision=0.3561643835616438, recall=0.7027027027027027, fmeasure=0.4727272727272727), high=Score(precision=0.3561643835616438, recall=0.7027027027027027, fmeasure=0.4727272727272727)), 'rougeLsum': AggregateScore(low=Score(precision=0.3561643835616438, recall=0.7027027027027027, fmeasure=0.4727272727272727), mid=Score(precision=0.3561643835616438, recall=0.7027027027027027, fmeasure=0.4727272727272727), high=Score(precision=0.3561643835616438, recall=0.7027027027027027, fmeasure=0.4727272727272727))}\n",
      "\n",
      "================================================================================\n",
      "\n",
      "Article 6 ROUGE scores:\n",
      "{'rouge1': AggregateScore(low=Score(precision=0.11864406779661017, recall=0.21875, fmeasure=0.15384615384615383), mid=Score(precision=0.11864406779661017, recall=0.21875, fmeasure=0.15384615384615383), high=Score(precision=0.11864406779661017, recall=0.21875, fmeasure=0.15384615384615383)), 'rouge2': AggregateScore(low=Score(precision=0.05172413793103448, recall=0.0967741935483871, fmeasure=0.06741573033707866), mid=Score(precision=0.05172413793103448, recall=0.0967741935483871, fmeasure=0.06741573033707866), high=Score(precision=0.05172413793103448, recall=0.0967741935483871, fmeasure=0.06741573033707866)), 'rougeL': AggregateScore(low=Score(precision=0.1016949152542373, recall=0.1875, fmeasure=0.13186813186813187), mid=Score(precision=0.1016949152542373, recall=0.1875, fmeasure=0.13186813186813187), high=Score(precision=0.1016949152542373, recall=0.1875, fmeasure=0.13186813186813187)), 'rougeLsum': AggregateScore(low=Score(precision=0.1016949152542373, recall=0.1875, fmeasure=0.13186813186813187), mid=Score(precision=0.1016949152542373, recall=0.1875, fmeasure=0.13186813186813187), high=Score(precision=0.1016949152542373, recall=0.1875, fmeasure=0.13186813186813187))}\n",
      "\n",
      "================================================================================\n",
      "\n",
      "Article 7 ROUGE scores:\n",
      "{'rouge1': AggregateScore(low=Score(precision=0.25, recall=0.2631578947368421, fmeasure=0.25641025641025644), mid=Score(precision=0.25, recall=0.2631578947368421, fmeasure=0.25641025641025644), high=Score(precision=0.25, recall=0.2631578947368421, fmeasure=0.25641025641025644)), 'rouge2': AggregateScore(low=Score(precision=0.10256410256410256, recall=0.10810810810810811, fmeasure=0.10526315789473684), mid=Score(precision=0.10256410256410256, recall=0.10810810810810811, fmeasure=0.10526315789473684), high=Score(precision=0.10256410256410256, recall=0.10810810810810811, fmeasure=0.10526315789473684)), 'rougeL': AggregateScore(low=Score(precision=0.225, recall=0.23684210526315788, fmeasure=0.23076923076923078), mid=Score(precision=0.225, recall=0.23684210526315788, fmeasure=0.23076923076923078), high=Score(precision=0.225, recall=0.23684210526315788, fmeasure=0.23076923076923078)), 'rougeLsum': AggregateScore(low=Score(precision=0.225, recall=0.23684210526315788, fmeasure=0.23076923076923078), mid=Score(precision=0.225, recall=0.23684210526315788, fmeasure=0.23076923076923078), high=Score(precision=0.225, recall=0.23684210526315788, fmeasure=0.23076923076923078))}\n",
      "\n",
      "================================================================================\n",
      "\n",
      "Article 8 ROUGE scores:\n",
      "{'rouge1': AggregateScore(low=Score(precision=0.4528301886792453, recall=0.8571428571428571, fmeasure=0.5925925925925926), mid=Score(precision=0.4528301886792453, recall=0.8571428571428571, fmeasure=0.5925925925925926), high=Score(precision=0.4528301886792453, recall=0.8571428571428571, fmeasure=0.5925925925925926)), 'rouge2': AggregateScore(low=Score(precision=0.3076923076923077, recall=0.5925925925925926, fmeasure=0.40506329113924056), mid=Score(precision=0.3076923076923077, recall=0.5925925925925926, fmeasure=0.40506329113924056), high=Score(precision=0.3076923076923077, recall=0.5925925925925926, fmeasure=0.40506329113924056)), 'rougeL': AggregateScore(low=Score(precision=0.39622641509433965, recall=0.75, fmeasure=0.5185185185185185), mid=Score(precision=0.39622641509433965, recall=0.75, fmeasure=0.5185185185185185), high=Score(precision=0.39622641509433965, recall=0.75, fmeasure=0.5185185185185185)), 'rougeLsum': AggregateScore(low=Score(precision=0.39622641509433965, recall=0.75, fmeasure=0.5185185185185185), mid=Score(precision=0.39622641509433965, recall=0.75, fmeasure=0.5185185185185185), high=Score(precision=0.39622641509433965, recall=0.75, fmeasure=0.5185185185185185))}\n",
      "\n",
      "================================================================================\n",
      "\n",
      "Article 9 ROUGE scores:\n",
      "{'rouge1': AggregateScore(low=Score(precision=0.0, recall=0.0, fmeasure=0.0), mid=Score(precision=0.0, recall=0.0, fmeasure=0.0), high=Score(precision=0.0, recall=0.0, fmeasure=0.0)), 'rouge2': AggregateScore(low=Score(precision=0.0, recall=0.0, fmeasure=0.0), mid=Score(precision=0.0, recall=0.0, fmeasure=0.0), high=Score(precision=0.0, recall=0.0, fmeasure=0.0)), 'rougeL': AggregateScore(low=Score(precision=0.0, recall=0.0, fmeasure=0.0), mid=Score(precision=0.0, recall=0.0, fmeasure=0.0), high=Score(precision=0.0, recall=0.0, fmeasure=0.0)), 'rougeLsum': AggregateScore(low=Score(precision=0.0, recall=0.0, fmeasure=0.0), mid=Score(precision=0.0, recall=0.0, fmeasure=0.0), high=Score(precision=0.0, recall=0.0, fmeasure=0.0))}\n",
      "\n",
      "================================================================================\n",
      "\n",
      "Article 10 ROUGE scores:\n",
      "{'rouge1': AggregateScore(low=Score(precision=0.13953488372093023, recall=0.375, fmeasure=0.20338983050847456), mid=Score(precision=0.13953488372093023, recall=0.375, fmeasure=0.20338983050847456), high=Score(precision=0.13953488372093023, recall=0.375, fmeasure=0.20338983050847456)), 'rouge2': AggregateScore(low=Score(precision=0.047619047619047616, recall=0.13333333333333333, fmeasure=0.07017543859649122), mid=Score(precision=0.047619047619047616, recall=0.13333333333333333, fmeasure=0.07017543859649122), high=Score(precision=0.047619047619047616, recall=0.13333333333333333, fmeasure=0.07017543859649122)), 'rougeL': AggregateScore(low=Score(precision=0.09302325581395349, recall=0.25, fmeasure=0.13559322033898305), mid=Score(precision=0.09302325581395349, recall=0.25, fmeasure=0.13559322033898305), high=Score(precision=0.09302325581395349, recall=0.25, fmeasure=0.13559322033898305)), 'rougeLsum': AggregateScore(low=Score(precision=0.09302325581395349, recall=0.25, fmeasure=0.13559322033898305), mid=Score(precision=0.09302325581395349, recall=0.25, fmeasure=0.13559322033898305), high=Score(precision=0.09302325581395349, recall=0.25, fmeasure=0.13559322033898305))}\n",
      "\n",
      "================================================================================\n",
      "\n",
      "Article 11 ROUGE scores:\n",
      "{'rouge1': AggregateScore(low=Score(precision=0.21153846153846154, recall=0.44, fmeasure=0.2857142857142857), mid=Score(precision=0.21153846153846154, recall=0.44, fmeasure=0.2857142857142857), high=Score(precision=0.21153846153846154, recall=0.44, fmeasure=0.2857142857142857)), 'rouge2': AggregateScore(low=Score(precision=0.0392156862745098, recall=0.08333333333333333, fmeasure=0.05333333333333333), mid=Score(precision=0.0392156862745098, recall=0.08333333333333333, fmeasure=0.05333333333333333), high=Score(precision=0.0392156862745098, recall=0.08333333333333333, fmeasure=0.05333333333333333)), 'rougeL': AggregateScore(low=Score(precision=0.15384615384615385, recall=0.32, fmeasure=0.2077922077922078), mid=Score(precision=0.15384615384615385, recall=0.32, fmeasure=0.2077922077922078), high=Score(precision=0.15384615384615385, recall=0.32, fmeasure=0.2077922077922078)), 'rougeLsum': AggregateScore(low=Score(precision=0.15384615384615385, recall=0.32, fmeasure=0.2077922077922078), mid=Score(precision=0.15384615384615385, recall=0.32, fmeasure=0.2077922077922078), high=Score(precision=0.15384615384615385, recall=0.32, fmeasure=0.2077922077922078))}\n",
      "\n",
      "================================================================================\n",
      "\n",
      "Article 12 ROUGE scores:\n",
      "{'rouge1': AggregateScore(low=Score(precision=0.08888888888888889, recall=0.17391304347826086, fmeasure=0.11764705882352941), mid=Score(precision=0.08888888888888889, recall=0.17391304347826086, fmeasure=0.11764705882352941), high=Score(precision=0.08888888888888889, recall=0.17391304347826086, fmeasure=0.11764705882352941)), 'rouge2': AggregateScore(low=Score(precision=0.022727272727272728, recall=0.045454545454545456, fmeasure=0.030303030303030307), mid=Score(precision=0.022727272727272728, recall=0.045454545454545456, fmeasure=0.030303030303030307), high=Score(precision=0.022727272727272728, recall=0.045454545454545456, fmeasure=0.030303030303030307)), 'rougeL': AggregateScore(low=Score(precision=0.06666666666666667, recall=0.13043478260869565, fmeasure=0.08823529411764705), mid=Score(precision=0.06666666666666667, recall=0.13043478260869565, fmeasure=0.08823529411764705), high=Score(precision=0.06666666666666667, recall=0.13043478260869565, fmeasure=0.08823529411764705)), 'rougeLsum': AggregateScore(low=Score(precision=0.06666666666666667, recall=0.13043478260869565, fmeasure=0.08823529411764705), mid=Score(precision=0.06666666666666667, recall=0.13043478260869565, fmeasure=0.08823529411764705), high=Score(precision=0.06666666666666667, recall=0.13043478260869565, fmeasure=0.08823529411764705))}\n",
      "\n",
      "================================================================================\n",
      "\n",
      "Article 13 ROUGE scores:\n",
      "{'rouge1': AggregateScore(low=Score(precision=0.14, recall=0.2916666666666667, fmeasure=0.1891891891891892), mid=Score(precision=0.14, recall=0.2916666666666667, fmeasure=0.1891891891891892), high=Score(precision=0.14, recall=0.2916666666666667, fmeasure=0.1891891891891892)), 'rouge2': AggregateScore(low=Score(precision=0.02040816326530612, recall=0.043478260869565216, fmeasure=0.02777777777777778), mid=Score(precision=0.02040816326530612, recall=0.043478260869565216, fmeasure=0.02777777777777778), high=Score(precision=0.02040816326530612, recall=0.043478260869565216, fmeasure=0.02777777777777778)), 'rougeL': AggregateScore(low=Score(precision=0.08, recall=0.16666666666666666, fmeasure=0.10810810810810811), mid=Score(precision=0.08, recall=0.16666666666666666, fmeasure=0.10810810810810811), high=Score(precision=0.08, recall=0.16666666666666666, fmeasure=0.10810810810810811)), 'rougeLsum': AggregateScore(low=Score(precision=0.08, recall=0.16666666666666666, fmeasure=0.10810810810810811), mid=Score(precision=0.08, recall=0.16666666666666666, fmeasure=0.10810810810810811), high=Score(precision=0.08, recall=0.16666666666666666, fmeasure=0.10810810810810811))}\n",
      "\n",
      "================================================================================\n",
      "\n",
      "Article 14 ROUGE scores:\n",
      "{'rouge1': AggregateScore(low=Score(precision=0.14, recall=0.2692307692307692, fmeasure=0.18421052631578946), mid=Score(precision=0.14, recall=0.2692307692307692, fmeasure=0.18421052631578946), high=Score(precision=0.14, recall=0.2692307692307692, fmeasure=0.18421052631578946)), 'rouge2': AggregateScore(low=Score(precision=0.02040816326530612, recall=0.04, fmeasure=0.02702702702702702), mid=Score(precision=0.02040816326530612, recall=0.04, fmeasure=0.02702702702702702), high=Score(precision=0.02040816326530612, recall=0.04, fmeasure=0.02702702702702702)), 'rougeL': AggregateScore(low=Score(precision=0.1, recall=0.19230769230769232, fmeasure=0.13157894736842105), mid=Score(precision=0.1, recall=0.19230769230769232, fmeasure=0.13157894736842105), high=Score(precision=0.1, recall=0.19230769230769232, fmeasure=0.13157894736842105)), 'rougeLsum': AggregateScore(low=Score(precision=0.1, recall=0.19230769230769232, fmeasure=0.13157894736842105), mid=Score(precision=0.1, recall=0.19230769230769232, fmeasure=0.13157894736842105), high=Score(precision=0.1, recall=0.19230769230769232, fmeasure=0.13157894736842105))}\n",
      "\n",
      "================================================================================\n",
      "\n",
      "Article 15 ROUGE scores:\n",
      "{'rouge1': AggregateScore(low=Score(precision=0.2553191489361702, recall=0.35294117647058826, fmeasure=0.2962962962962963), mid=Score(precision=0.2553191489361702, recall=0.35294117647058826, fmeasure=0.2962962962962963), high=Score(precision=0.2553191489361702, recall=0.35294117647058826, fmeasure=0.2962962962962963)), 'rouge2': AggregateScore(low=Score(precision=0.10869565217391304, recall=0.15151515151515152, fmeasure=0.12658227848101267), mid=Score(precision=0.10869565217391304, recall=0.15151515151515152, fmeasure=0.12658227848101267), high=Score(precision=0.10869565217391304, recall=0.15151515151515152, fmeasure=0.12658227848101267)), 'rougeL': AggregateScore(low=Score(precision=0.14893617021276595, recall=0.20588235294117646, fmeasure=0.1728395061728395), mid=Score(precision=0.14893617021276595, recall=0.20588235294117646, fmeasure=0.1728395061728395), high=Score(precision=0.14893617021276595, recall=0.20588235294117646, fmeasure=0.1728395061728395)), 'rougeLsum': AggregateScore(low=Score(precision=0.14893617021276595, recall=0.20588235294117646, fmeasure=0.1728395061728395), mid=Score(precision=0.14893617021276595, recall=0.20588235294117646, fmeasure=0.1728395061728395), high=Score(precision=0.14893617021276595, recall=0.20588235294117646, fmeasure=0.1728395061728395))}\n",
      "\n",
      "================================================================================\n",
      "\n",
      "Article 16 ROUGE scores:\n",
      "{'rouge1': AggregateScore(low=Score(precision=0.3793103448275862, recall=0.34375, fmeasure=0.36065573770491804), mid=Score(precision=0.3793103448275862, recall=0.34375, fmeasure=0.36065573770491804), high=Score(precision=0.3793103448275862, recall=0.34375, fmeasure=0.36065573770491804)), 'rouge2': AggregateScore(low=Score(precision=0.10714285714285714, recall=0.0967741935483871, fmeasure=0.10169491525423728), mid=Score(precision=0.10714285714285714, recall=0.0967741935483871, fmeasure=0.10169491525423728), high=Score(precision=0.10714285714285714, recall=0.0967741935483871, fmeasure=0.10169491525423728)), 'rougeL': AggregateScore(low=Score(precision=0.2413793103448276, recall=0.21875, fmeasure=0.22950819672131145), mid=Score(precision=0.2413793103448276, recall=0.21875, fmeasure=0.22950819672131145), high=Score(precision=0.2413793103448276, recall=0.21875, fmeasure=0.22950819672131145)), 'rougeLsum': AggregateScore(low=Score(precision=0.2413793103448276, recall=0.21875, fmeasure=0.22950819672131145), mid=Score(precision=0.2413793103448276, recall=0.21875, fmeasure=0.22950819672131145), high=Score(precision=0.2413793103448276, recall=0.21875, fmeasure=0.22950819672131145))}\n",
      "\n",
      "================================================================================\n",
      "\n",
      "Article 17 ROUGE scores:\n",
      "{'rouge1': AggregateScore(low=Score(precision=0.14035087719298245, recall=0.24242424242424243, fmeasure=0.17777777777777776), mid=Score(precision=0.14035087719298245, recall=0.24242424242424243, fmeasure=0.17777777777777776), high=Score(precision=0.14035087719298245, recall=0.24242424242424243, fmeasure=0.17777777777777776)), 'rouge2': AggregateScore(low=Score(precision=0.017857142857142856, recall=0.03125, fmeasure=0.022727272727272728), mid=Score(precision=0.017857142857142856, recall=0.03125, fmeasure=0.022727272727272728), high=Score(precision=0.017857142857142856, recall=0.03125, fmeasure=0.022727272727272728)), 'rougeL': AggregateScore(low=Score(precision=0.10526315789473684, recall=0.18181818181818182, fmeasure=0.13333333333333333), mid=Score(precision=0.10526315789473684, recall=0.18181818181818182, fmeasure=0.13333333333333333), high=Score(precision=0.10526315789473684, recall=0.18181818181818182, fmeasure=0.13333333333333333)), 'rougeLsum': AggregateScore(low=Score(precision=0.10526315789473684, recall=0.18181818181818182, fmeasure=0.13333333333333333), mid=Score(precision=0.10526315789473684, recall=0.18181818181818182, fmeasure=0.13333333333333333), high=Score(precision=0.10526315789473684, recall=0.18181818181818182, fmeasure=0.13333333333333333))}\n",
      "\n",
      "================================================================================\n",
      "\n",
      "Article 18 ROUGE scores:\n",
      "{'rouge1': AggregateScore(low=Score(precision=0.07692307692307693, recall=0.14285714285714285, fmeasure=0.1), mid=Score(precision=0.07692307692307693, recall=0.14285714285714285, fmeasure=0.1), high=Score(precision=0.07692307692307693, recall=0.14285714285714285, fmeasure=0.1)), 'rouge2': AggregateScore(low=Score(precision=0.0, recall=0.0, fmeasure=0.0), mid=Score(precision=0.0, recall=0.0, fmeasure=0.0), high=Score(precision=0.0, recall=0.0, fmeasure=0.0)), 'rougeL': AggregateScore(low=Score(precision=0.057692307692307696, recall=0.10714285714285714, fmeasure=0.075), mid=Score(precision=0.057692307692307696, recall=0.10714285714285714, fmeasure=0.075), high=Score(precision=0.057692307692307696, recall=0.10714285714285714, fmeasure=0.075)), 'rougeLsum': AggregateScore(low=Score(precision=0.057692307692307696, recall=0.10714285714285714, fmeasure=0.075), mid=Score(precision=0.057692307692307696, recall=0.10714285714285714, fmeasure=0.075), high=Score(precision=0.057692307692307696, recall=0.10714285714285714, fmeasure=0.075))}\n",
      "\n",
      "================================================================================\n",
      "\n",
      "Article 19 ROUGE scores:\n",
      "{'rouge1': AggregateScore(low=Score(precision=0.2978723404255319, recall=0.6363636363636364, fmeasure=0.40579710144927533), mid=Score(precision=0.2978723404255319, recall=0.6363636363636364, fmeasure=0.40579710144927533), high=Score(precision=0.2978723404255319, recall=0.6363636363636364, fmeasure=0.40579710144927533)), 'rouge2': AggregateScore(low=Score(precision=0.13043478260869565, recall=0.2857142857142857, fmeasure=0.17910447761194026), mid=Score(precision=0.13043478260869565, recall=0.2857142857142857, fmeasure=0.17910447761194026), high=Score(precision=0.13043478260869565, recall=0.2857142857142857, fmeasure=0.17910447761194026)), 'rougeL': AggregateScore(low=Score(precision=0.1702127659574468, recall=0.36363636363636365, fmeasure=0.23188405797101447), mid=Score(precision=0.1702127659574468, recall=0.36363636363636365, fmeasure=0.23188405797101447), high=Score(precision=0.1702127659574468, recall=0.36363636363636365, fmeasure=0.23188405797101447)), 'rougeLsum': AggregateScore(low=Score(precision=0.1702127659574468, recall=0.36363636363636365, fmeasure=0.23188405797101447), mid=Score(precision=0.1702127659574468, recall=0.36363636363636365, fmeasure=0.23188405797101447), high=Score(precision=0.1702127659574468, recall=0.36363636363636365, fmeasure=0.23188405797101447))}\n",
      "\n",
      "================================================================================\n",
      "\n",
      "Article 20 ROUGE scores:\n",
      "{'rouge1': AggregateScore(low=Score(precision=0.19298245614035087, recall=0.3548387096774194, fmeasure=0.24999999999999994), mid=Score(precision=0.19298245614035087, recall=0.3548387096774194, fmeasure=0.24999999999999994), high=Score(precision=0.19298245614035087, recall=0.3548387096774194, fmeasure=0.24999999999999994)), 'rouge2': AggregateScore(low=Score(precision=0.07142857142857142, recall=0.13333333333333333, fmeasure=0.09302325581395349), mid=Score(precision=0.07142857142857142, recall=0.13333333333333333, fmeasure=0.09302325581395349), high=Score(precision=0.07142857142857142, recall=0.13333333333333333, fmeasure=0.09302325581395349)), 'rougeL': AggregateScore(low=Score(precision=0.12280701754385964, recall=0.22580645161290322, fmeasure=0.1590909090909091), mid=Score(precision=0.12280701754385964, recall=0.22580645161290322, fmeasure=0.1590909090909091), high=Score(precision=0.12280701754385964, recall=0.22580645161290322, fmeasure=0.1590909090909091)), 'rougeLsum': AggregateScore(low=Score(precision=0.12280701754385964, recall=0.22580645161290322, fmeasure=0.1590909090909091), mid=Score(precision=0.12280701754385964, recall=0.22580645161290322, fmeasure=0.1590909090909091), high=Score(precision=0.12280701754385964, recall=0.22580645161290322, fmeasure=0.1590909090909091))}\n",
      "\n",
      "================================================================================\n",
      "\n",
      "Article 21 ROUGE scores:\n",
      "{'rouge1': AggregateScore(low=Score(precision=0.20689655172413793, recall=0.3, fmeasure=0.24489795918367346), mid=Score(precision=0.20689655172413793, recall=0.3, fmeasure=0.24489795918367346), high=Score(precision=0.20689655172413793, recall=0.3, fmeasure=0.24489795918367346)), 'rouge2': AggregateScore(low=Score(precision=0.05263157894736842, recall=0.07692307692307693, fmeasure=0.0625), mid=Score(precision=0.05263157894736842, recall=0.07692307692307693, fmeasure=0.0625), high=Score(precision=0.05263157894736842, recall=0.07692307692307693, fmeasure=0.0625)), 'rougeL': AggregateScore(low=Score(precision=0.13793103448275862, recall=0.2, fmeasure=0.16326530612244897), mid=Score(precision=0.13793103448275862, recall=0.2, fmeasure=0.16326530612244897), high=Score(precision=0.13793103448275862, recall=0.2, fmeasure=0.16326530612244897)), 'rougeLsum': AggregateScore(low=Score(precision=0.13793103448275862, recall=0.2, fmeasure=0.16326530612244897), mid=Score(precision=0.13793103448275862, recall=0.2, fmeasure=0.16326530612244897), high=Score(precision=0.13793103448275862, recall=0.2, fmeasure=0.16326530612244897))}\n",
      "\n",
      "================================================================================\n",
      "\n",
      "Article 22 ROUGE scores:\n",
      "{'rouge1': AggregateScore(low=Score(precision=0.18055555555555555, recall=0.65, fmeasure=0.2826086956521739), mid=Score(precision=0.18055555555555555, recall=0.65, fmeasure=0.2826086956521739), high=Score(precision=0.18055555555555555, recall=0.65, fmeasure=0.2826086956521739)), 'rouge2': AggregateScore(low=Score(precision=0.11267605633802817, recall=0.42105263157894735, fmeasure=0.17777777777777778), mid=Score(precision=0.11267605633802817, recall=0.42105263157894735, fmeasure=0.17777777777777778), high=Score(precision=0.11267605633802817, recall=0.42105263157894735, fmeasure=0.17777777777777778)), 'rougeL': AggregateScore(low=Score(precision=0.18055555555555555, recall=0.65, fmeasure=0.2826086956521739), mid=Score(precision=0.18055555555555555, recall=0.65, fmeasure=0.2826086956521739), high=Score(precision=0.18055555555555555, recall=0.65, fmeasure=0.2826086956521739)), 'rougeLsum': AggregateScore(low=Score(precision=0.18055555555555555, recall=0.65, fmeasure=0.2826086956521739), mid=Score(precision=0.18055555555555555, recall=0.65, fmeasure=0.2826086956521739), high=Score(precision=0.18055555555555555, recall=0.65, fmeasure=0.2826086956521739))}\n",
      "\n",
      "================================================================================\n",
      "\n",
      "Article 23 ROUGE scores:\n",
      "{'rouge1': AggregateScore(low=Score(precision=0.11594202898550725, recall=0.34782608695652173, fmeasure=0.17391304347826086), mid=Score(precision=0.11594202898550725, recall=0.34782608695652173, fmeasure=0.17391304347826086), high=Score(precision=0.11594202898550725, recall=0.34782608695652173, fmeasure=0.17391304347826086)), 'rouge2': AggregateScore(low=Score(precision=0.04411764705882353, recall=0.13636363636363635, fmeasure=0.06666666666666667), mid=Score(precision=0.04411764705882353, recall=0.13636363636363635, fmeasure=0.06666666666666667), high=Score(precision=0.04411764705882353, recall=0.13636363636363635, fmeasure=0.06666666666666667)), 'rougeL': AggregateScore(low=Score(precision=0.08695652173913043, recall=0.2608695652173913, fmeasure=0.13043478260869565), mid=Score(precision=0.08695652173913043, recall=0.2608695652173913, fmeasure=0.13043478260869565), high=Score(precision=0.08695652173913043, recall=0.2608695652173913, fmeasure=0.13043478260869565)), 'rougeLsum': AggregateScore(low=Score(precision=0.08695652173913043, recall=0.2608695652173913, fmeasure=0.13043478260869565), mid=Score(precision=0.08695652173913043, recall=0.2608695652173913, fmeasure=0.13043478260869565), high=Score(precision=0.08695652173913043, recall=0.2608695652173913, fmeasure=0.13043478260869565))}\n",
      "\n",
      "================================================================================\n",
      "\n",
      "Article 24 ROUGE scores:\n",
      "{'rouge1': AggregateScore(low=Score(precision=0.0759493670886076, recall=0.15789473684210525, fmeasure=0.10256410256410256), mid=Score(precision=0.0759493670886076, recall=0.15789473684210525, fmeasure=0.10256410256410256), high=Score(precision=0.0759493670886076, recall=0.15789473684210525, fmeasure=0.10256410256410256)), 'rouge2': AggregateScore(low=Score(precision=0.0, recall=0.0, fmeasure=0.0), mid=Score(precision=0.0, recall=0.0, fmeasure=0.0), high=Score(precision=0.0, recall=0.0, fmeasure=0.0)), 'rougeL': AggregateScore(low=Score(precision=0.05063291139240506, recall=0.10526315789473684, fmeasure=0.06837606837606837), mid=Score(precision=0.05063291139240506, recall=0.10526315789473684, fmeasure=0.06837606837606837), high=Score(precision=0.05063291139240506, recall=0.10526315789473684, fmeasure=0.06837606837606837)), 'rougeLsum': AggregateScore(low=Score(precision=0.05063291139240506, recall=0.10526315789473684, fmeasure=0.06837606837606837), mid=Score(precision=0.05063291139240506, recall=0.10526315789473684, fmeasure=0.06837606837606837), high=Score(precision=0.05063291139240506, recall=0.10526315789473684, fmeasure=0.06837606837606837))}\n",
      "\n",
      "================================================================================\n",
      "\n",
      "Article 25 ROUGE scores:\n",
      "{'rouge1': AggregateScore(low=Score(precision=0.18333333333333332, recall=0.5238095238095238, fmeasure=0.2716049382716049), mid=Score(precision=0.18333333333333332, recall=0.5238095238095238, fmeasure=0.2716049382716049), high=Score(precision=0.18333333333333332, recall=0.5238095238095238, fmeasure=0.2716049382716049)), 'rouge2': AggregateScore(low=Score(precision=0.0847457627118644, recall=0.25, fmeasure=0.12658227848101267), mid=Score(precision=0.0847457627118644, recall=0.25, fmeasure=0.12658227848101267), high=Score(precision=0.0847457627118644, recall=0.25, fmeasure=0.12658227848101267)), 'rougeL': AggregateScore(low=Score(precision=0.08333333333333333, recall=0.23809523809523808, fmeasure=0.1234567901234568), mid=Score(precision=0.08333333333333333, recall=0.23809523809523808, fmeasure=0.1234567901234568), high=Score(precision=0.08333333333333333, recall=0.23809523809523808, fmeasure=0.1234567901234568)), 'rougeLsum': AggregateScore(low=Score(precision=0.08333333333333333, recall=0.23809523809523808, fmeasure=0.1234567901234568), mid=Score(precision=0.08333333333333333, recall=0.23809523809523808, fmeasure=0.1234567901234568), high=Score(precision=0.08333333333333333, recall=0.23809523809523808, fmeasure=0.1234567901234568))}\n",
      "\n",
      "================================================================================\n",
      "\n",
      "Article 26 ROUGE scores:\n",
      "{'rouge1': AggregateScore(low=Score(precision=0.2564102564102564, recall=0.4, fmeasure=0.3125), mid=Score(precision=0.2564102564102564, recall=0.4, fmeasure=0.3125), high=Score(precision=0.2564102564102564, recall=0.4, fmeasure=0.3125)), 'rouge2': AggregateScore(low=Score(precision=0.10526315789473684, recall=0.16666666666666666, fmeasure=0.12903225806451615), mid=Score(precision=0.10526315789473684, recall=0.16666666666666666, fmeasure=0.12903225806451615), high=Score(precision=0.10526315789473684, recall=0.16666666666666666, fmeasure=0.12903225806451615)), 'rougeL': AggregateScore(low=Score(precision=0.23076923076923078, recall=0.36, fmeasure=0.28125), mid=Score(precision=0.23076923076923078, recall=0.36, fmeasure=0.28125), high=Score(precision=0.23076923076923078, recall=0.36, fmeasure=0.28125)), 'rougeLsum': AggregateScore(low=Score(precision=0.23076923076923078, recall=0.36, fmeasure=0.28125), mid=Score(precision=0.23076923076923078, recall=0.36, fmeasure=0.28125), high=Score(precision=0.23076923076923078, recall=0.36, fmeasure=0.28125))}\n",
      "\n",
      "================================================================================\n",
      "\n",
      "Article 27 ROUGE scores:\n",
      "{'rouge1': AggregateScore(low=Score(precision=0.18518518518518517, recall=0.2777777777777778, fmeasure=0.22222222222222224), mid=Score(precision=0.18518518518518517, recall=0.2777777777777778, fmeasure=0.22222222222222224), high=Score(precision=0.18518518518518517, recall=0.2777777777777778, fmeasure=0.22222222222222224)), 'rouge2': AggregateScore(low=Score(precision=0.038461538461538464, recall=0.058823529411764705, fmeasure=0.04651162790697675), mid=Score(precision=0.038461538461538464, recall=0.058823529411764705, fmeasure=0.04651162790697675), high=Score(precision=0.038461538461538464, recall=0.058823529411764705, fmeasure=0.04651162790697675)), 'rougeL': AggregateScore(low=Score(precision=0.1111111111111111, recall=0.16666666666666666, fmeasure=0.13333333333333333), mid=Score(precision=0.1111111111111111, recall=0.16666666666666666, fmeasure=0.13333333333333333), high=Score(precision=0.1111111111111111, recall=0.16666666666666666, fmeasure=0.13333333333333333)), 'rougeLsum': AggregateScore(low=Score(precision=0.1111111111111111, recall=0.16666666666666666, fmeasure=0.13333333333333333), mid=Score(precision=0.1111111111111111, recall=0.16666666666666666, fmeasure=0.13333333333333333), high=Score(precision=0.1111111111111111, recall=0.16666666666666666, fmeasure=0.13333333333333333))}\n",
      "\n",
      "================================================================================\n",
      "\n",
      "Article 28 ROUGE scores:\n",
      "{'rouge1': AggregateScore(low=Score(precision=0.19148936170212766, recall=0.42857142857142855, fmeasure=0.2647058823529412), mid=Score(precision=0.19148936170212766, recall=0.42857142857142855, fmeasure=0.2647058823529412), high=Score(precision=0.19148936170212766, recall=0.42857142857142855, fmeasure=0.2647058823529412)), 'rouge2': AggregateScore(low=Score(precision=0.06521739130434782, recall=0.15, fmeasure=0.09090909090909091), mid=Score(precision=0.06521739130434782, recall=0.15, fmeasure=0.09090909090909091), high=Score(precision=0.06521739130434782, recall=0.15, fmeasure=0.09090909090909091)), 'rougeL': AggregateScore(low=Score(precision=0.1702127659574468, recall=0.38095238095238093, fmeasure=0.2352941176470588), mid=Score(precision=0.1702127659574468, recall=0.38095238095238093, fmeasure=0.2352941176470588), high=Score(precision=0.1702127659574468, recall=0.38095238095238093, fmeasure=0.2352941176470588)), 'rougeLsum': AggregateScore(low=Score(precision=0.1702127659574468, recall=0.38095238095238093, fmeasure=0.2352941176470588), mid=Score(precision=0.1702127659574468, recall=0.38095238095238093, fmeasure=0.2352941176470588), high=Score(precision=0.1702127659574468, recall=0.38095238095238093, fmeasure=0.2352941176470588))}\n",
      "\n",
      "================================================================================\n",
      "\n",
      "Article 29 ROUGE scores:\n",
      "{'rouge1': AggregateScore(low=Score(precision=0.24528301886792453, recall=0.24528301886792453, fmeasure=0.24528301886792453), mid=Score(precision=0.24528301886792453, recall=0.24528301886792453, fmeasure=0.24528301886792453), high=Score(precision=0.24528301886792453, recall=0.24528301886792453, fmeasure=0.24528301886792453)), 'rouge2': AggregateScore(low=Score(precision=0.038461538461538464, recall=0.038461538461538464, fmeasure=0.038461538461538464), mid=Score(precision=0.038461538461538464, recall=0.038461538461538464, fmeasure=0.038461538461538464), high=Score(precision=0.038461538461538464, recall=0.038461538461538464, fmeasure=0.038461538461538464)), 'rougeL': AggregateScore(low=Score(precision=0.09433962264150944, recall=0.09433962264150944, fmeasure=0.09433962264150943), mid=Score(precision=0.09433962264150944, recall=0.09433962264150944, fmeasure=0.09433962264150943), high=Score(precision=0.09433962264150944, recall=0.09433962264150944, fmeasure=0.09433962264150943)), 'rougeLsum': AggregateScore(low=Score(precision=0.09433962264150944, recall=0.09433962264150944, fmeasure=0.09433962264150943), mid=Score(precision=0.09433962264150944, recall=0.09433962264150944, fmeasure=0.09433962264150943), high=Score(precision=0.09433962264150944, recall=0.09433962264150944, fmeasure=0.09433962264150943))}\n",
      "\n",
      "================================================================================\n",
      "\n",
      "Article 30 ROUGE scores:\n",
      "{'rouge1': AggregateScore(low=Score(precision=0.1320754716981132, recall=0.3333333333333333, fmeasure=0.18918918918918917), mid=Score(precision=0.1320754716981132, recall=0.3333333333333333, fmeasure=0.18918918918918917), high=Score(precision=0.1320754716981132, recall=0.3333333333333333, fmeasure=0.18918918918918917)), 'rouge2': AggregateScore(low=Score(precision=0.038461538461538464, recall=0.1, fmeasure=0.05555555555555555), mid=Score(precision=0.038461538461538464, recall=0.1, fmeasure=0.05555555555555555), high=Score(precision=0.038461538461538464, recall=0.1, fmeasure=0.05555555555555555)), 'rougeL': AggregateScore(low=Score(precision=0.05660377358490566, recall=0.14285714285714285, fmeasure=0.0810810810810811), mid=Score(precision=0.05660377358490566, recall=0.14285714285714285, fmeasure=0.0810810810810811), high=Score(precision=0.05660377358490566, recall=0.14285714285714285, fmeasure=0.0810810810810811)), 'rougeLsum': AggregateScore(low=Score(precision=0.05660377358490566, recall=0.14285714285714285, fmeasure=0.0810810810810811), mid=Score(precision=0.05660377358490566, recall=0.14285714285714285, fmeasure=0.0810810810810811), high=Score(precision=0.05660377358490566, recall=0.14285714285714285, fmeasure=0.0810810810810811))}\n",
      "\n",
      "================================================================================\n",
      "\n",
      "Article 31 ROUGE scores:\n",
      "{'rouge1': AggregateScore(low=Score(precision=0.23529411764705882, recall=0.32, fmeasure=0.2711864406779661), mid=Score(precision=0.23529411764705882, recall=0.32, fmeasure=0.2711864406779661), high=Score(precision=0.23529411764705882, recall=0.32, fmeasure=0.2711864406779661)), 'rouge2': AggregateScore(low=Score(precision=0.09090909090909091, recall=0.125, fmeasure=0.10526315789473685), mid=Score(precision=0.09090909090909091, recall=0.125, fmeasure=0.10526315789473685), high=Score(precision=0.09090909090909091, recall=0.125, fmeasure=0.10526315789473685)), 'rougeL': AggregateScore(low=Score(precision=0.14705882352941177, recall=0.2, fmeasure=0.16949152542372883), mid=Score(precision=0.14705882352941177, recall=0.2, fmeasure=0.16949152542372883), high=Score(precision=0.14705882352941177, recall=0.2, fmeasure=0.16949152542372883)), 'rougeLsum': AggregateScore(low=Score(precision=0.14705882352941177, recall=0.2, fmeasure=0.16949152542372883), mid=Score(precision=0.14705882352941177, recall=0.2, fmeasure=0.16949152542372883), high=Score(precision=0.14705882352941177, recall=0.2, fmeasure=0.16949152542372883))}\n",
      "\n",
      "================================================================================\n",
      "\n",
      "Article 32 ROUGE scores:\n",
      "{'rouge1': AggregateScore(low=Score(precision=0.18181818181818182, recall=0.4444444444444444, fmeasure=0.2580645161290322), mid=Score(precision=0.18181818181818182, recall=0.4444444444444444, fmeasure=0.2580645161290322), high=Score(precision=0.18181818181818182, recall=0.4444444444444444, fmeasure=0.2580645161290322)), 'rouge2': AggregateScore(low=Score(precision=0.046511627906976744, recall=0.11764705882352941, fmeasure=0.06666666666666667), mid=Score(precision=0.046511627906976744, recall=0.11764705882352941, fmeasure=0.06666666666666667), high=Score(precision=0.046511627906976744, recall=0.11764705882352941, fmeasure=0.06666666666666667)), 'rougeL': AggregateScore(low=Score(precision=0.11363636363636363, recall=0.2777777777777778, fmeasure=0.16129032258064516), mid=Score(precision=0.11363636363636363, recall=0.2777777777777778, fmeasure=0.16129032258064516), high=Score(precision=0.11363636363636363, recall=0.2777777777777778, fmeasure=0.16129032258064516)), 'rougeLsum': AggregateScore(low=Score(precision=0.11363636363636363, recall=0.2777777777777778, fmeasure=0.16129032258064516), mid=Score(precision=0.11363636363636363, recall=0.2777777777777778, fmeasure=0.16129032258064516), high=Score(precision=0.11363636363636363, recall=0.2777777777777778, fmeasure=0.16129032258064516))}\n",
      "\n",
      "================================================================================\n",
      "\n",
      "Article 33 ROUGE scores:\n",
      "{'rouge1': AggregateScore(low=Score(precision=0.2878787878787879, recall=0.475, fmeasure=0.3584905660377358), mid=Score(precision=0.2878787878787879, recall=0.475, fmeasure=0.3584905660377358), high=Score(precision=0.2878787878787879, recall=0.475, fmeasure=0.3584905660377358)), 'rouge2': AggregateScore(low=Score(precision=0.09230769230769231, recall=0.15384615384615385, fmeasure=0.11538461538461539), mid=Score(precision=0.09230769230769231, recall=0.15384615384615385, fmeasure=0.11538461538461539), high=Score(precision=0.09230769230769231, recall=0.15384615384615385, fmeasure=0.11538461538461539)), 'rougeL': AggregateScore(low=Score(precision=0.21212121212121213, recall=0.35, fmeasure=0.26415094339622636), mid=Score(precision=0.21212121212121213, recall=0.35, fmeasure=0.26415094339622636), high=Score(precision=0.21212121212121213, recall=0.35, fmeasure=0.26415094339622636)), 'rougeLsum': AggregateScore(low=Score(precision=0.21212121212121213, recall=0.35, fmeasure=0.26415094339622636), mid=Score(precision=0.21212121212121213, recall=0.35, fmeasure=0.26415094339622636), high=Score(precision=0.21212121212121213, recall=0.35, fmeasure=0.26415094339622636))}\n",
      "\n",
      "================================================================================\n",
      "\n",
      "Article 34 ROUGE scores:\n",
      "{'rouge1': AggregateScore(low=Score(precision=0.25, recall=0.45161290322580644, fmeasure=0.3218390804597701), mid=Score(precision=0.25, recall=0.45161290322580644, fmeasure=0.3218390804597701), high=Score(precision=0.25, recall=0.45161290322580644, fmeasure=0.3218390804597701)), 'rouge2': AggregateScore(low=Score(precision=0.16363636363636364, recall=0.3, fmeasure=0.21176470588235294), mid=Score(precision=0.16363636363636364, recall=0.3, fmeasure=0.21176470588235294), high=Score(precision=0.16363636363636364, recall=0.3, fmeasure=0.21176470588235294)), 'rougeL': AggregateScore(low=Score(precision=0.19642857142857142, recall=0.3548387096774194, fmeasure=0.25287356321839083), mid=Score(precision=0.19642857142857142, recall=0.3548387096774194, fmeasure=0.25287356321839083), high=Score(precision=0.19642857142857142, recall=0.3548387096774194, fmeasure=0.25287356321839083)), 'rougeLsum': AggregateScore(low=Score(precision=0.19642857142857142, recall=0.3548387096774194, fmeasure=0.25287356321839083), mid=Score(precision=0.19642857142857142, recall=0.3548387096774194, fmeasure=0.25287356321839083), high=Score(precision=0.19642857142857142, recall=0.3548387096774194, fmeasure=0.25287356321839083))}\n",
      "\n",
      "================================================================================\n",
      "\n",
      "Article 35 ROUGE scores:\n",
      "{'rouge1': AggregateScore(low=Score(precision=0.10204081632653061, recall=0.2777777777777778, fmeasure=0.1492537313432836), mid=Score(precision=0.10204081632653061, recall=0.2777777777777778, fmeasure=0.1492537313432836), high=Score(precision=0.10204081632653061, recall=0.2777777777777778, fmeasure=0.1492537313432836)), 'rouge2': AggregateScore(low=Score(precision=0.0, recall=0.0, fmeasure=0.0), mid=Score(precision=0.0, recall=0.0, fmeasure=0.0), high=Score(precision=0.0, recall=0.0, fmeasure=0.0)), 'rougeL': AggregateScore(low=Score(precision=0.08163265306122448, recall=0.2222222222222222, fmeasure=0.11940298507462686), mid=Score(precision=0.08163265306122448, recall=0.2222222222222222, fmeasure=0.11940298507462686), high=Score(precision=0.08163265306122448, recall=0.2222222222222222, fmeasure=0.11940298507462686)), 'rougeLsum': AggregateScore(low=Score(precision=0.08163265306122448, recall=0.2222222222222222, fmeasure=0.11940298507462686), mid=Score(precision=0.08163265306122448, recall=0.2222222222222222, fmeasure=0.11940298507462686), high=Score(precision=0.08163265306122448, recall=0.2222222222222222, fmeasure=0.11940298507462686))}\n",
      "\n",
      "================================================================================\n",
      "\n",
      "Article 36 ROUGE scores:\n",
      "{'rouge1': AggregateScore(low=Score(precision=0.38333333333333336, recall=0.3333333333333333, fmeasure=0.3565891472868217), mid=Score(precision=0.38333333333333336, recall=0.3333333333333333, fmeasure=0.3565891472868217), high=Score(precision=0.38333333333333336, recall=0.3333333333333333, fmeasure=0.3565891472868217)), 'rouge2': AggregateScore(low=Score(precision=0.15254237288135594, recall=0.1323529411764706, fmeasure=0.14173228346456693), mid=Score(precision=0.15254237288135594, recall=0.1323529411764706, fmeasure=0.14173228346456693), high=Score(precision=0.15254237288135594, recall=0.1323529411764706, fmeasure=0.14173228346456693)), 'rougeL': AggregateScore(low=Score(precision=0.2833333333333333, recall=0.2463768115942029, fmeasure=0.26356589147286824), mid=Score(precision=0.2833333333333333, recall=0.2463768115942029, fmeasure=0.26356589147286824), high=Score(precision=0.2833333333333333, recall=0.2463768115942029, fmeasure=0.26356589147286824)), 'rougeLsum': AggregateScore(low=Score(precision=0.2833333333333333, recall=0.2463768115942029, fmeasure=0.26356589147286824), mid=Score(precision=0.2833333333333333, recall=0.2463768115942029, fmeasure=0.26356589147286824), high=Score(precision=0.2833333333333333, recall=0.2463768115942029, fmeasure=0.26356589147286824))}\n",
      "\n",
      "================================================================================\n",
      "\n",
      "Article 37 ROUGE scores:\n",
      "{'rouge1': AggregateScore(low=Score(precision=0.17647058823529413, recall=0.24, fmeasure=0.20338983050847456), mid=Score(precision=0.17647058823529413, recall=0.24, fmeasure=0.20338983050847456), high=Score(precision=0.17647058823529413, recall=0.24, fmeasure=0.20338983050847456)), 'rouge2': AggregateScore(low=Score(precision=0.0, recall=0.0, fmeasure=0.0), mid=Score(precision=0.0, recall=0.0, fmeasure=0.0), high=Score(precision=0.0, recall=0.0, fmeasure=0.0)), 'rougeL': AggregateScore(low=Score(precision=0.14705882352941177, recall=0.2, fmeasure=0.16949152542372883), mid=Score(precision=0.14705882352941177, recall=0.2, fmeasure=0.16949152542372883), high=Score(precision=0.14705882352941177, recall=0.2, fmeasure=0.16949152542372883)), 'rougeLsum': AggregateScore(low=Score(precision=0.14705882352941177, recall=0.2, fmeasure=0.16949152542372883), mid=Score(precision=0.14705882352941177, recall=0.2, fmeasure=0.16949152542372883), high=Score(precision=0.14705882352941177, recall=0.2, fmeasure=0.16949152542372883))}\n",
      "\n",
      "================================================================================\n",
      "\n",
      "Article 38 ROUGE scores:\n",
      "{'rouge1': AggregateScore(low=Score(precision=0.5, recall=0.47368421052631576, fmeasure=0.4864864864864865), mid=Score(precision=0.5, recall=0.47368421052631576, fmeasure=0.4864864864864865), high=Score(precision=0.5, recall=0.47368421052631576, fmeasure=0.4864864864864865)), 'rouge2': AggregateScore(low=Score(precision=0.2857142857142857, recall=0.2702702702702703, fmeasure=0.2777777777777778), mid=Score(precision=0.2857142857142857, recall=0.2702702702702703, fmeasure=0.2777777777777778), high=Score(precision=0.2857142857142857, recall=0.2702702702702703, fmeasure=0.2777777777777778)), 'rougeL': AggregateScore(low=Score(precision=0.3055555555555556, recall=0.2894736842105263, fmeasure=0.2972972972972973), mid=Score(precision=0.3055555555555556, recall=0.2894736842105263, fmeasure=0.2972972972972973), high=Score(precision=0.3055555555555556, recall=0.2894736842105263, fmeasure=0.2972972972972973)), 'rougeLsum': AggregateScore(low=Score(precision=0.3055555555555556, recall=0.2894736842105263, fmeasure=0.2972972972972973), mid=Score(precision=0.3055555555555556, recall=0.2894736842105263, fmeasure=0.2972972972972973), high=Score(precision=0.3055555555555556, recall=0.2894736842105263, fmeasure=0.2972972972972973))}\n",
      "\n",
      "================================================================================\n",
      "\n",
      "Article 39 ROUGE scores:\n",
      "{'rouge1': AggregateScore(low=Score(precision=0.08888888888888889, recall=0.11764705882352941, fmeasure=0.10126582278481014), mid=Score(precision=0.08888888888888889, recall=0.11764705882352941, fmeasure=0.10126582278481014), high=Score(precision=0.08888888888888889, recall=0.11764705882352941, fmeasure=0.10126582278481014)), 'rouge2': AggregateScore(low=Score(precision=0.0, recall=0.0, fmeasure=0.0), mid=Score(precision=0.0, recall=0.0, fmeasure=0.0), high=Score(precision=0.0, recall=0.0, fmeasure=0.0)), 'rougeL': AggregateScore(low=Score(precision=0.044444444444444446, recall=0.058823529411764705, fmeasure=0.05063291139240507), mid=Score(precision=0.044444444444444446, recall=0.058823529411764705, fmeasure=0.05063291139240507), high=Score(precision=0.044444444444444446, recall=0.058823529411764705, fmeasure=0.05063291139240507)), 'rougeLsum': AggregateScore(low=Score(precision=0.044444444444444446, recall=0.058823529411764705, fmeasure=0.05063291139240507), mid=Score(precision=0.044444444444444446, recall=0.058823529411764705, fmeasure=0.05063291139240507), high=Score(precision=0.044444444444444446, recall=0.058823529411764705, fmeasure=0.05063291139240507))}\n",
      "\n",
      "================================================================================\n",
      "\n",
      "Article 40 ROUGE scores:\n",
      "{'rouge1': AggregateScore(low=Score(precision=0.41304347826086957, recall=0.5, fmeasure=0.45238095238095233), mid=Score(precision=0.41304347826086957, recall=0.5, fmeasure=0.45238095238095233), high=Score(precision=0.41304347826086957, recall=0.5, fmeasure=0.45238095238095233)), 'rouge2': AggregateScore(low=Score(precision=0.2, recall=0.24324324324324326, fmeasure=0.21951219512195122), mid=Score(precision=0.2, recall=0.24324324324324326, fmeasure=0.21951219512195122), high=Score(precision=0.2, recall=0.24324324324324326, fmeasure=0.21951219512195122)), 'rougeL': AggregateScore(low=Score(precision=0.2826086956521739, recall=0.34210526315789475, fmeasure=0.30952380952380953), mid=Score(precision=0.2826086956521739, recall=0.34210526315789475, fmeasure=0.30952380952380953), high=Score(precision=0.2826086956521739, recall=0.34210526315789475, fmeasure=0.30952380952380953)), 'rougeLsum': AggregateScore(low=Score(precision=0.2826086956521739, recall=0.34210526315789475, fmeasure=0.30952380952380953), mid=Score(precision=0.2826086956521739, recall=0.34210526315789475, fmeasure=0.30952380952380953), high=Score(precision=0.2826086956521739, recall=0.34210526315789475, fmeasure=0.30952380952380953))}\n",
      "\n",
      "================================================================================\n",
      "\n",
      "Article 41 ROUGE scores:\n",
      "{'rouge1': AggregateScore(low=Score(precision=0.12903225806451613, recall=0.34782608695652173, fmeasure=0.18823529411764706), mid=Score(precision=0.12903225806451613, recall=0.34782608695652173, fmeasure=0.18823529411764706), high=Score(precision=0.12903225806451613, recall=0.34782608695652173, fmeasure=0.18823529411764706)), 'rouge2': AggregateScore(low=Score(precision=0.01639344262295082, recall=0.045454545454545456, fmeasure=0.024096385542168676), mid=Score(precision=0.01639344262295082, recall=0.045454545454545456, fmeasure=0.024096385542168676), high=Score(precision=0.01639344262295082, recall=0.045454545454545456, fmeasure=0.024096385542168676)), 'rougeL': AggregateScore(low=Score(precision=0.0967741935483871, recall=0.2608695652173913, fmeasure=0.1411764705882353), mid=Score(precision=0.0967741935483871, recall=0.2608695652173913, fmeasure=0.1411764705882353), high=Score(precision=0.0967741935483871, recall=0.2608695652173913, fmeasure=0.1411764705882353)), 'rougeLsum': AggregateScore(low=Score(precision=0.0967741935483871, recall=0.2608695652173913, fmeasure=0.1411764705882353), mid=Score(precision=0.0967741935483871, recall=0.2608695652173913, fmeasure=0.1411764705882353), high=Score(precision=0.0967741935483871, recall=0.2608695652173913, fmeasure=0.1411764705882353))}\n",
      "\n",
      "================================================================================\n",
      "\n",
      "Article 42 ROUGE scores:\n",
      "{'rouge1': AggregateScore(low=Score(precision=0.2807017543859649, recall=0.4444444444444444, fmeasure=0.34408602150537637), mid=Score(precision=0.2807017543859649, recall=0.4444444444444444, fmeasure=0.34408602150537637), high=Score(precision=0.2807017543859649, recall=0.4444444444444444, fmeasure=0.34408602150537637)), 'rouge2': AggregateScore(low=Score(precision=0.17857142857142858, recall=0.2857142857142857, fmeasure=0.21978021978021978), mid=Score(precision=0.17857142857142858, recall=0.2857142857142857, fmeasure=0.21978021978021978), high=Score(precision=0.17857142857142858, recall=0.2857142857142857, fmeasure=0.21978021978021978)), 'rougeL': AggregateScore(low=Score(precision=0.17543859649122806, recall=0.2777777777777778, fmeasure=0.2150537634408602), mid=Score(precision=0.17543859649122806, recall=0.2777777777777778, fmeasure=0.2150537634408602), high=Score(precision=0.17543859649122806, recall=0.2777777777777778, fmeasure=0.2150537634408602)), 'rougeLsum': AggregateScore(low=Score(precision=0.17543859649122806, recall=0.2777777777777778, fmeasure=0.2150537634408602), mid=Score(precision=0.17543859649122806, recall=0.2777777777777778, fmeasure=0.2150537634408602), high=Score(precision=0.17543859649122806, recall=0.2777777777777778, fmeasure=0.2150537634408602))}\n",
      "\n",
      "================================================================================\n",
      "\n",
      "Article 43 ROUGE scores:\n",
      "{'rouge1': AggregateScore(low=Score(precision=0.3442622950819672, recall=0.65625, fmeasure=0.4516129032258065), mid=Score(precision=0.3442622950819672, recall=0.65625, fmeasure=0.4516129032258065), high=Score(precision=0.3442622950819672, recall=0.65625, fmeasure=0.4516129032258065)), 'rouge2': AggregateScore(low=Score(precision=0.21666666666666667, recall=0.41935483870967744, fmeasure=0.28571428571428575), mid=Score(precision=0.21666666666666667, recall=0.41935483870967744, fmeasure=0.28571428571428575), high=Score(precision=0.21666666666666667, recall=0.41935483870967744, fmeasure=0.28571428571428575)), 'rougeL': AggregateScore(low=Score(precision=0.3114754098360656, recall=0.59375, fmeasure=0.40860215053763443), mid=Score(precision=0.3114754098360656, recall=0.59375, fmeasure=0.40860215053763443), high=Score(precision=0.3114754098360656, recall=0.59375, fmeasure=0.40860215053763443)), 'rougeLsum': AggregateScore(low=Score(precision=0.3114754098360656, recall=0.59375, fmeasure=0.40860215053763443), mid=Score(precision=0.3114754098360656, recall=0.59375, fmeasure=0.40860215053763443), high=Score(precision=0.3114754098360656, recall=0.59375, fmeasure=0.40860215053763443))}\n",
      "\n",
      "================================================================================\n",
      "\n",
      "Article 44 ROUGE scores:\n",
      "{'rouge1': AggregateScore(low=Score(precision=0.15384615384615385, recall=0.2608695652173913, fmeasure=0.1935483870967742), mid=Score(precision=0.15384615384615385, recall=0.2608695652173913, fmeasure=0.1935483870967742), high=Score(precision=0.15384615384615385, recall=0.2608695652173913, fmeasure=0.1935483870967742)), 'rouge2': AggregateScore(low=Score(precision=0.02631578947368421, recall=0.045454545454545456, fmeasure=0.03333333333333333), mid=Score(precision=0.02631578947368421, recall=0.045454545454545456, fmeasure=0.03333333333333333), high=Score(precision=0.02631578947368421, recall=0.045454545454545456, fmeasure=0.03333333333333333)), 'rougeL': AggregateScore(low=Score(precision=0.05128205128205128, recall=0.08695652173913043, fmeasure=0.06451612903225808), mid=Score(precision=0.05128205128205128, recall=0.08695652173913043, fmeasure=0.06451612903225808), high=Score(precision=0.05128205128205128, recall=0.08695652173913043, fmeasure=0.06451612903225808)), 'rougeLsum': AggregateScore(low=Score(precision=0.05128205128205128, recall=0.08695652173913043, fmeasure=0.06451612903225808), mid=Score(precision=0.05128205128205128, recall=0.08695652173913043, fmeasure=0.06451612903225808), high=Score(precision=0.05128205128205128, recall=0.08695652173913043, fmeasure=0.06451612903225808))}\n",
      "\n",
      "================================================================================\n",
      "\n",
      "Article 45 ROUGE scores:\n",
      "{'rouge1': AggregateScore(low=Score(precision=0.34782608695652173, recall=0.27586206896551724, fmeasure=0.3076923076923077), mid=Score(precision=0.34782608695652173, recall=0.27586206896551724, fmeasure=0.3076923076923077), high=Score(precision=0.34782608695652173, recall=0.27586206896551724, fmeasure=0.3076923076923077)), 'rouge2': AggregateScore(low=Score(precision=0.18181818181818182, recall=0.14285714285714285, fmeasure=0.16), mid=Score(precision=0.18181818181818182, recall=0.14285714285714285, fmeasure=0.16), high=Score(precision=0.18181818181818182, recall=0.14285714285714285, fmeasure=0.16)), 'rougeL': AggregateScore(low=Score(precision=0.2608695652173913, recall=0.20689655172413793, fmeasure=0.23076923076923075), mid=Score(precision=0.2608695652173913, recall=0.20689655172413793, fmeasure=0.23076923076923075), high=Score(precision=0.2608695652173913, recall=0.20689655172413793, fmeasure=0.23076923076923075)), 'rougeLsum': AggregateScore(low=Score(precision=0.2608695652173913, recall=0.20689655172413793, fmeasure=0.23076923076923075), mid=Score(precision=0.2608695652173913, recall=0.20689655172413793, fmeasure=0.23076923076923075), high=Score(precision=0.2608695652173913, recall=0.20689655172413793, fmeasure=0.23076923076923075))}\n",
      "\n",
      "================================================================================\n",
      "\n",
      "Article 46 ROUGE scores:\n",
      "{'rouge1': AggregateScore(low=Score(precision=0.15517241379310345, recall=0.6428571428571429, fmeasure=0.25000000000000006), mid=Score(precision=0.15517241379310345, recall=0.6428571428571429, fmeasure=0.25000000000000006), high=Score(precision=0.15517241379310345, recall=0.6428571428571429, fmeasure=0.25000000000000006)), 'rouge2': AggregateScore(low=Score(precision=0.03508771929824561, recall=0.15384615384615385, fmeasure=0.05714285714285714), mid=Score(precision=0.03508771929824561, recall=0.15384615384615385, fmeasure=0.05714285714285714), high=Score(precision=0.03508771929824561, recall=0.15384615384615385, fmeasure=0.05714285714285714)), 'rougeL': AggregateScore(low=Score(precision=0.1206896551724138, recall=0.5, fmeasure=0.19444444444444445), mid=Score(precision=0.1206896551724138, recall=0.5, fmeasure=0.19444444444444445), high=Score(precision=0.1206896551724138, recall=0.5, fmeasure=0.19444444444444445)), 'rougeLsum': AggregateScore(low=Score(precision=0.1206896551724138, recall=0.5, fmeasure=0.19444444444444445), mid=Score(precision=0.1206896551724138, recall=0.5, fmeasure=0.19444444444444445), high=Score(precision=0.1206896551724138, recall=0.5, fmeasure=0.19444444444444445))}\n",
      "\n",
      "================================================================================\n",
      "\n",
      "Article 47 ROUGE scores:\n",
      "{'rouge1': AggregateScore(low=Score(precision=0.03571428571428571, recall=0.07692307692307693, fmeasure=0.04878048780487805), mid=Score(precision=0.03571428571428571, recall=0.07692307692307693, fmeasure=0.04878048780487805), high=Score(precision=0.03571428571428571, recall=0.07692307692307693, fmeasure=0.04878048780487805)), 'rouge2': AggregateScore(low=Score(precision=0.0, recall=0.0, fmeasure=0.0), mid=Score(precision=0.0, recall=0.0, fmeasure=0.0), high=Score(precision=0.0, recall=0.0, fmeasure=0.0)), 'rougeL': AggregateScore(low=Score(precision=0.03571428571428571, recall=0.07692307692307693, fmeasure=0.04878048780487805), mid=Score(precision=0.03571428571428571, recall=0.07692307692307693, fmeasure=0.04878048780487805), high=Score(precision=0.03571428571428571, recall=0.07692307692307693, fmeasure=0.04878048780487805)), 'rougeLsum': AggregateScore(low=Score(precision=0.03571428571428571, recall=0.07692307692307693, fmeasure=0.04878048780487805), mid=Score(precision=0.03571428571428571, recall=0.07692307692307693, fmeasure=0.04878048780487805), high=Score(precision=0.03571428571428571, recall=0.07692307692307693, fmeasure=0.04878048780487805))}\n",
      "\n",
      "================================================================================\n",
      "\n",
      "Article 48 ROUGE scores:\n",
      "{'rouge1': AggregateScore(low=Score(precision=0.5416666666666666, recall=0.3939393939393939, fmeasure=0.45614035087719296), mid=Score(precision=0.5416666666666666, recall=0.3939393939393939, fmeasure=0.45614035087719296), high=Score(precision=0.5416666666666666, recall=0.3939393939393939, fmeasure=0.45614035087719296)), 'rouge2': AggregateScore(low=Score(precision=0.30434782608695654, recall=0.21875, fmeasure=0.2545454545454546), mid=Score(precision=0.30434782608695654, recall=0.21875, fmeasure=0.2545454545454546), high=Score(precision=0.30434782608695654, recall=0.21875, fmeasure=0.2545454545454546)), 'rougeL': AggregateScore(low=Score(precision=0.5416666666666666, recall=0.3939393939393939, fmeasure=0.45614035087719296), mid=Score(precision=0.5416666666666666, recall=0.3939393939393939, fmeasure=0.45614035087719296), high=Score(precision=0.5416666666666666, recall=0.3939393939393939, fmeasure=0.45614035087719296)), 'rougeLsum': AggregateScore(low=Score(precision=0.5416666666666666, recall=0.3939393939393939, fmeasure=0.45614035087719296), mid=Score(precision=0.5416666666666666, recall=0.3939393939393939, fmeasure=0.45614035087719296), high=Score(precision=0.5416666666666666, recall=0.3939393939393939, fmeasure=0.45614035087719296))}\n",
      "\n",
      "================================================================================\n",
      "\n",
      "Article 49 ROUGE scores:\n",
      "{'rouge1': AggregateScore(low=Score(precision=0.13953488372093023, recall=0.3, fmeasure=0.1904761904761905), mid=Score(precision=0.13953488372093023, recall=0.3, fmeasure=0.1904761904761905), high=Score(precision=0.13953488372093023, recall=0.3, fmeasure=0.1904761904761905)), 'rouge2': AggregateScore(low=Score(precision=0.0, recall=0.0, fmeasure=0.0), mid=Score(precision=0.0, recall=0.0, fmeasure=0.0), high=Score(precision=0.0, recall=0.0, fmeasure=0.0)), 'rougeL': AggregateScore(low=Score(precision=0.09302325581395349, recall=0.2, fmeasure=0.12698412698412698), mid=Score(precision=0.09302325581395349, recall=0.2, fmeasure=0.12698412698412698), high=Score(precision=0.09302325581395349, recall=0.2, fmeasure=0.12698412698412698)), 'rougeLsum': AggregateScore(low=Score(precision=0.09302325581395349, recall=0.2, fmeasure=0.12698412698412698), mid=Score(precision=0.09302325581395349, recall=0.2, fmeasure=0.12698412698412698), high=Score(precision=0.09302325581395349, recall=0.2, fmeasure=0.12698412698412698))}\n",
      "\n",
      "================================================================================\n",
      "\n",
      "Article 50 ROUGE scores:\n",
      "{'rouge1': AggregateScore(low=Score(precision=0.2545454545454545, recall=0.4375, fmeasure=0.3218390804597701), mid=Score(precision=0.2545454545454545, recall=0.4375, fmeasure=0.3218390804597701), high=Score(precision=0.2545454545454545, recall=0.4375, fmeasure=0.3218390804597701)), 'rouge2': AggregateScore(low=Score(precision=0.09259259259259259, recall=0.16129032258064516, fmeasure=0.1176470588235294), mid=Score(precision=0.09259259259259259, recall=0.16129032258064516, fmeasure=0.1176470588235294), high=Score(precision=0.09259259259259259, recall=0.16129032258064516, fmeasure=0.1176470588235294)), 'rougeL': AggregateScore(low=Score(precision=0.14545454545454545, recall=0.25, fmeasure=0.1839080459770115), mid=Score(precision=0.14545454545454545, recall=0.25, fmeasure=0.1839080459770115), high=Score(precision=0.14545454545454545, recall=0.25, fmeasure=0.1839080459770115)), 'rougeLsum': AggregateScore(low=Score(precision=0.14545454545454545, recall=0.25, fmeasure=0.1839080459770115), mid=Score(precision=0.14545454545454545, recall=0.25, fmeasure=0.1839080459770115), high=Score(precision=0.14545454545454545, recall=0.25, fmeasure=0.1839080459770115))}\n",
      "\n",
      "================================================================================\n",
      "\n",
      "Article 51 ROUGE scores:\n",
      "{'rouge1': AggregateScore(low=Score(precision=0.21153846153846154, recall=0.5, fmeasure=0.29729729729729726), mid=Score(precision=0.21153846153846154, recall=0.5, fmeasure=0.29729729729729726), high=Score(precision=0.21153846153846154, recall=0.5, fmeasure=0.29729729729729726)), 'rouge2': AggregateScore(low=Score(precision=0.0196078431372549, recall=0.047619047619047616, fmeasure=0.027777777777777776), mid=Score(precision=0.0196078431372549, recall=0.047619047619047616, fmeasure=0.027777777777777776), high=Score(precision=0.0196078431372549, recall=0.047619047619047616, fmeasure=0.027777777777777776)), 'rougeL': AggregateScore(low=Score(precision=0.11538461538461539, recall=0.2727272727272727, fmeasure=0.16216216216216214), mid=Score(precision=0.11538461538461539, recall=0.2727272727272727, fmeasure=0.16216216216216214), high=Score(precision=0.11538461538461539, recall=0.2727272727272727, fmeasure=0.16216216216216214)), 'rougeLsum': AggregateScore(low=Score(precision=0.11538461538461539, recall=0.2727272727272727, fmeasure=0.16216216216216214), mid=Score(precision=0.11538461538461539, recall=0.2727272727272727, fmeasure=0.16216216216216214), high=Score(precision=0.11538461538461539, recall=0.2727272727272727, fmeasure=0.16216216216216214))}\n",
      "\n",
      "================================================================================\n",
      "\n",
      "Article 52 ROUGE scores:\n",
      "{'rouge1': AggregateScore(low=Score(precision=0.13978494623655913, recall=0.48148148148148145, fmeasure=0.21666666666666662), mid=Score(precision=0.13978494623655913, recall=0.48148148148148145, fmeasure=0.21666666666666662), high=Score(precision=0.13978494623655913, recall=0.48148148148148145, fmeasure=0.21666666666666662)), 'rouge2': AggregateScore(low=Score(precision=0.043478260869565216, recall=0.15384615384615385, fmeasure=0.06779661016949153), mid=Score(precision=0.043478260869565216, recall=0.15384615384615385, fmeasure=0.06779661016949153), high=Score(precision=0.043478260869565216, recall=0.15384615384615385, fmeasure=0.06779661016949153)), 'rougeL': AggregateScore(low=Score(precision=0.10752688172043011, recall=0.37037037037037035, fmeasure=0.16666666666666666), mid=Score(precision=0.10752688172043011, recall=0.37037037037037035, fmeasure=0.16666666666666666), high=Score(precision=0.10752688172043011, recall=0.37037037037037035, fmeasure=0.16666666666666666)), 'rougeLsum': AggregateScore(low=Score(precision=0.10752688172043011, recall=0.37037037037037035, fmeasure=0.16666666666666666), mid=Score(precision=0.10752688172043011, recall=0.37037037037037035, fmeasure=0.16666666666666666), high=Score(precision=0.10752688172043011, recall=0.37037037037037035, fmeasure=0.16666666666666666))}\n",
      "\n",
      "================================================================================\n",
      "\n",
      "Article 53 ROUGE scores:\n",
      "{'rouge1': AggregateScore(low=Score(precision=0.25, recall=0.36, fmeasure=0.29508196721311475), mid=Score(precision=0.25, recall=0.36, fmeasure=0.29508196721311475), high=Score(precision=0.25, recall=0.36, fmeasure=0.29508196721311475)), 'rouge2': AggregateScore(low=Score(precision=0.17142857142857143, recall=0.25, fmeasure=0.2033898305084746), mid=Score(precision=0.17142857142857143, recall=0.25, fmeasure=0.2033898305084746), high=Score(precision=0.17142857142857143, recall=0.25, fmeasure=0.2033898305084746)), 'rougeL': AggregateScore(low=Score(precision=0.25, recall=0.36, fmeasure=0.29508196721311475), mid=Score(precision=0.25, recall=0.36, fmeasure=0.29508196721311475), high=Score(precision=0.25, recall=0.36, fmeasure=0.29508196721311475)), 'rougeLsum': AggregateScore(low=Score(precision=0.25, recall=0.36, fmeasure=0.29508196721311475), mid=Score(precision=0.25, recall=0.36, fmeasure=0.29508196721311475), high=Score(precision=0.25, recall=0.36, fmeasure=0.29508196721311475))}\n",
      "\n",
      "================================================================================\n",
      "\n",
      "Article 54 ROUGE scores:\n",
      "{'rouge1': AggregateScore(low=Score(precision=0.3684210526315789, recall=0.6774193548387096, fmeasure=0.4772727272727273), mid=Score(precision=0.3684210526315789, recall=0.6774193548387096, fmeasure=0.4772727272727273), high=Score(precision=0.3684210526315789, recall=0.6774193548387096, fmeasure=0.4772727272727273)), 'rouge2': AggregateScore(low=Score(precision=0.125, recall=0.23333333333333334, fmeasure=0.16279069767441862), mid=Score(precision=0.125, recall=0.23333333333333334, fmeasure=0.16279069767441862), high=Score(precision=0.125, recall=0.23333333333333334, fmeasure=0.16279069767441862)), 'rougeL': AggregateScore(low=Score(precision=0.22807017543859648, recall=0.41935483870967744, fmeasure=0.29545454545454547), mid=Score(precision=0.22807017543859648, recall=0.41935483870967744, fmeasure=0.29545454545454547), high=Score(precision=0.22807017543859648, recall=0.41935483870967744, fmeasure=0.29545454545454547)), 'rougeLsum': AggregateScore(low=Score(precision=0.22807017543859648, recall=0.41935483870967744, fmeasure=0.29545454545454547), mid=Score(precision=0.22807017543859648, recall=0.41935483870967744, fmeasure=0.29545454545454547), high=Score(precision=0.22807017543859648, recall=0.41935483870967744, fmeasure=0.29545454545454547))}\n",
      "\n",
      "================================================================================\n",
      "\n",
      "Article 55 ROUGE scores:\n",
      "{'rouge1': AggregateScore(low=Score(precision=0.16393442622950818, recall=0.45454545454545453, fmeasure=0.24096385542168675), mid=Score(precision=0.16393442622950818, recall=0.45454545454545453, fmeasure=0.24096385542168675), high=Score(precision=0.16393442622950818, recall=0.45454545454545453, fmeasure=0.24096385542168675)), 'rouge2': AggregateScore(low=Score(precision=0.08333333333333333, recall=0.23809523809523808, fmeasure=0.1234567901234568), mid=Score(precision=0.08333333333333333, recall=0.23809523809523808, fmeasure=0.1234567901234568), high=Score(precision=0.08333333333333333, recall=0.23809523809523808, fmeasure=0.1234567901234568)), 'rougeL': AggregateScore(low=Score(precision=0.13114754098360656, recall=0.36363636363636365, fmeasure=0.1927710843373494), mid=Score(precision=0.13114754098360656, recall=0.36363636363636365, fmeasure=0.1927710843373494), high=Score(precision=0.13114754098360656, recall=0.36363636363636365, fmeasure=0.1927710843373494)), 'rougeLsum': AggregateScore(low=Score(precision=0.13114754098360656, recall=0.36363636363636365, fmeasure=0.1927710843373494), mid=Score(precision=0.13114754098360656, recall=0.36363636363636365, fmeasure=0.1927710843373494), high=Score(precision=0.13114754098360656, recall=0.36363636363636365, fmeasure=0.1927710843373494))}\n",
      "\n",
      "================================================================================\n",
      "\n",
      "Article 56 ROUGE scores:\n",
      "{'rouge1': AggregateScore(low=Score(precision=0.13559322033898305, recall=0.3076923076923077, fmeasure=0.18823529411764706), mid=Score(precision=0.13559322033898305, recall=0.3076923076923077, fmeasure=0.18823529411764706), high=Score(precision=0.13559322033898305, recall=0.3076923076923077, fmeasure=0.18823529411764706)), 'rouge2': AggregateScore(low=Score(precision=0.05172413793103448, recall=0.12, fmeasure=0.07228915662650602), mid=Score(precision=0.05172413793103448, recall=0.12, fmeasure=0.07228915662650602), high=Score(precision=0.05172413793103448, recall=0.12, fmeasure=0.07228915662650602)), 'rougeL': AggregateScore(low=Score(precision=0.0847457627118644, recall=0.19230769230769232, fmeasure=0.11764705882352942), mid=Score(precision=0.0847457627118644, recall=0.19230769230769232, fmeasure=0.11764705882352942), high=Score(precision=0.0847457627118644, recall=0.19230769230769232, fmeasure=0.11764705882352942)), 'rougeLsum': AggregateScore(low=Score(precision=0.0847457627118644, recall=0.19230769230769232, fmeasure=0.11764705882352942), mid=Score(precision=0.0847457627118644, recall=0.19230769230769232, fmeasure=0.11764705882352942), high=Score(precision=0.0847457627118644, recall=0.19230769230769232, fmeasure=0.11764705882352942))}\n",
      "\n",
      "================================================================================\n",
      "\n",
      "Article 57 ROUGE scores:\n",
      "{'rouge1': AggregateScore(low=Score(precision=0.1694915254237288, recall=0.2857142857142857, fmeasure=0.21276595744680848), mid=Score(precision=0.1694915254237288, recall=0.2857142857142857, fmeasure=0.21276595744680848), high=Score(precision=0.1694915254237288, recall=0.2857142857142857, fmeasure=0.21276595744680848)), 'rouge2': AggregateScore(low=Score(precision=0.017241379310344827, recall=0.029411764705882353, fmeasure=0.021739130434782608), mid=Score(precision=0.017241379310344827, recall=0.029411764705882353, fmeasure=0.021739130434782608), high=Score(precision=0.017241379310344827, recall=0.029411764705882353, fmeasure=0.021739130434782608)), 'rougeL': AggregateScore(low=Score(precision=0.1016949152542373, recall=0.17142857142857143, fmeasure=0.12765957446808512), mid=Score(precision=0.1016949152542373, recall=0.17142857142857143, fmeasure=0.12765957446808512), high=Score(precision=0.1016949152542373, recall=0.17142857142857143, fmeasure=0.12765957446808512)), 'rougeLsum': AggregateScore(low=Score(precision=0.1016949152542373, recall=0.17142857142857143, fmeasure=0.12765957446808512), mid=Score(precision=0.1016949152542373, recall=0.17142857142857143, fmeasure=0.12765957446808512), high=Score(precision=0.1016949152542373, recall=0.17142857142857143, fmeasure=0.12765957446808512))}\n",
      "\n",
      "================================================================================\n",
      "\n",
      "Article 58 ROUGE scores:\n",
      "{'rouge1': AggregateScore(low=Score(precision=0.23529411764705882, recall=0.43243243243243246, fmeasure=0.30476190476190473), mid=Score(precision=0.23529411764705882, recall=0.43243243243243246, fmeasure=0.30476190476190473), high=Score(precision=0.23529411764705882, recall=0.43243243243243246, fmeasure=0.30476190476190473)), 'rouge2': AggregateScore(low=Score(precision=0.05970149253731343, recall=0.1111111111111111, fmeasure=0.07766990291262135), mid=Score(precision=0.05970149253731343, recall=0.1111111111111111, fmeasure=0.07766990291262135), high=Score(precision=0.05970149253731343, recall=0.1111111111111111, fmeasure=0.07766990291262135)), 'rougeL': AggregateScore(low=Score(precision=0.19117647058823528, recall=0.35135135135135137, fmeasure=0.24761904761904766), mid=Score(precision=0.19117647058823528, recall=0.35135135135135137, fmeasure=0.24761904761904766), high=Score(precision=0.19117647058823528, recall=0.35135135135135137, fmeasure=0.24761904761904766)), 'rougeLsum': AggregateScore(low=Score(precision=0.19117647058823528, recall=0.35135135135135137, fmeasure=0.24761904761904766), mid=Score(precision=0.19117647058823528, recall=0.35135135135135137, fmeasure=0.24761904761904766), high=Score(precision=0.19117647058823528, recall=0.35135135135135137, fmeasure=0.24761904761904766))}\n",
      "\n",
      "================================================================================\n",
      "\n",
      "Article 59 ROUGE scores:\n",
      "{'rouge1': AggregateScore(low=Score(precision=0.3111111111111111, recall=0.4117647058823529, fmeasure=0.35443037974683544), mid=Score(precision=0.3111111111111111, recall=0.4117647058823529, fmeasure=0.35443037974683544), high=Score(precision=0.3111111111111111, recall=0.4117647058823529, fmeasure=0.35443037974683544)), 'rouge2': AggregateScore(low=Score(precision=0.09090909090909091, recall=0.12121212121212122, fmeasure=0.1038961038961039), mid=Score(precision=0.09090909090909091, recall=0.12121212121212122, fmeasure=0.1038961038961039), high=Score(precision=0.09090909090909091, recall=0.12121212121212122, fmeasure=0.1038961038961039)), 'rougeL': AggregateScore(low=Score(precision=0.2222222222222222, recall=0.29411764705882354, fmeasure=0.25316455696202533), mid=Score(precision=0.2222222222222222, recall=0.29411764705882354, fmeasure=0.25316455696202533), high=Score(precision=0.2222222222222222, recall=0.29411764705882354, fmeasure=0.25316455696202533)), 'rougeLsum': AggregateScore(low=Score(precision=0.2222222222222222, recall=0.29411764705882354, fmeasure=0.25316455696202533), mid=Score(precision=0.2222222222222222, recall=0.29411764705882354, fmeasure=0.25316455696202533), high=Score(precision=0.2222222222222222, recall=0.29411764705882354, fmeasure=0.25316455696202533))}\n",
      "\n",
      "================================================================================\n",
      "\n",
      "Article 60 ROUGE scores:\n",
      "{'rouge1': AggregateScore(low=Score(precision=0.3125, recall=0.5, fmeasure=0.38461538461538464), mid=Score(precision=0.3125, recall=0.5, fmeasure=0.38461538461538464), high=Score(precision=0.3125, recall=0.5, fmeasure=0.38461538461538464)), 'rouge2': AggregateScore(low=Score(precision=0.14893617021276595, recall=0.2413793103448276, fmeasure=0.18421052631578946), mid=Score(precision=0.14893617021276595, recall=0.2413793103448276, fmeasure=0.18421052631578946), high=Score(precision=0.14893617021276595, recall=0.2413793103448276, fmeasure=0.18421052631578946)), 'rougeL': AggregateScore(low=Score(precision=0.2708333333333333, recall=0.43333333333333335, fmeasure=0.33333333333333337), mid=Score(precision=0.2708333333333333, recall=0.43333333333333335, fmeasure=0.33333333333333337), high=Score(precision=0.2708333333333333, recall=0.43333333333333335, fmeasure=0.33333333333333337)), 'rougeLsum': AggregateScore(low=Score(precision=0.2708333333333333, recall=0.43333333333333335, fmeasure=0.33333333333333337), mid=Score(precision=0.2708333333333333, recall=0.43333333333333335, fmeasure=0.33333333333333337), high=Score(precision=0.2708333333333333, recall=0.43333333333333335, fmeasure=0.33333333333333337))}\n",
      "\n",
      "================================================================================\n",
      "\n",
      "Article 61 ROUGE scores:\n",
      "{'rouge1': AggregateScore(low=Score(precision=0.35294117647058826, recall=0.32432432432432434, fmeasure=0.3380281690140845), mid=Score(precision=0.35294117647058826, recall=0.32432432432432434, fmeasure=0.3380281690140845), high=Score(precision=0.35294117647058826, recall=0.32432432432432434, fmeasure=0.3380281690140845)), 'rouge2': AggregateScore(low=Score(precision=0.18181818181818182, recall=0.16666666666666666, fmeasure=0.17391304347826086), mid=Score(precision=0.18181818181818182, recall=0.16666666666666666, fmeasure=0.17391304347826086), high=Score(precision=0.18181818181818182, recall=0.16666666666666666, fmeasure=0.17391304347826086)), 'rougeL': AggregateScore(low=Score(precision=0.17647058823529413, recall=0.16216216216216217, fmeasure=0.16901408450704225), mid=Score(precision=0.17647058823529413, recall=0.16216216216216217, fmeasure=0.16901408450704225), high=Score(precision=0.17647058823529413, recall=0.16216216216216217, fmeasure=0.16901408450704225)), 'rougeLsum': AggregateScore(low=Score(precision=0.17647058823529413, recall=0.16216216216216217, fmeasure=0.16901408450704225), mid=Score(precision=0.17647058823529413, recall=0.16216216216216217, fmeasure=0.16901408450704225), high=Score(precision=0.17647058823529413, recall=0.16216216216216217, fmeasure=0.16901408450704225))}\n",
      "\n",
      "================================================================================\n",
      "\n",
      "Article 62 ROUGE scores:\n",
      "{'rouge1': AggregateScore(low=Score(precision=0.42857142857142855, recall=0.34615384615384615, fmeasure=0.3829787234042554), mid=Score(precision=0.42857142857142855, recall=0.34615384615384615, fmeasure=0.3829787234042554), high=Score(precision=0.42857142857142855, recall=0.34615384615384615, fmeasure=0.3829787234042554)), 'rouge2': AggregateScore(low=Score(precision=0.24390243902439024, recall=0.19607843137254902, fmeasure=0.21739130434782608), mid=Score(precision=0.24390243902439024, recall=0.19607843137254902, fmeasure=0.21739130434782608), high=Score(precision=0.24390243902439024, recall=0.19607843137254902, fmeasure=0.21739130434782608)), 'rougeL': AggregateScore(low=Score(precision=0.21428571428571427, recall=0.17307692307692307, fmeasure=0.1914893617021277), mid=Score(precision=0.21428571428571427, recall=0.17307692307692307, fmeasure=0.1914893617021277), high=Score(precision=0.21428571428571427, recall=0.17307692307692307, fmeasure=0.1914893617021277)), 'rougeLsum': AggregateScore(low=Score(precision=0.21428571428571427, recall=0.17307692307692307, fmeasure=0.1914893617021277), mid=Score(precision=0.21428571428571427, recall=0.17307692307692307, fmeasure=0.1914893617021277), high=Score(precision=0.21428571428571427, recall=0.17307692307692307, fmeasure=0.1914893617021277))}\n",
      "\n",
      "================================================================================\n",
      "\n",
      "Article 63 ROUGE scores:\n",
      "{'rouge1': AggregateScore(low=Score(precision=0.2, recall=0.42424242424242425, fmeasure=0.27184466019417475), mid=Score(precision=0.2, recall=0.42424242424242425, fmeasure=0.27184466019417475), high=Score(precision=0.2, recall=0.42424242424242425, fmeasure=0.27184466019417475)), 'rouge2': AggregateScore(low=Score(precision=0.028985507246376812, recall=0.0625, fmeasure=0.039603960396039604), mid=Score(precision=0.028985507246376812, recall=0.0625, fmeasure=0.039603960396039604), high=Score(precision=0.028985507246376812, recall=0.0625, fmeasure=0.039603960396039604)), 'rougeL': AggregateScore(low=Score(precision=0.11428571428571428, recall=0.24242424242424243, fmeasure=0.15533980582524273), mid=Score(precision=0.11428571428571428, recall=0.24242424242424243, fmeasure=0.15533980582524273), high=Score(precision=0.11428571428571428, recall=0.24242424242424243, fmeasure=0.15533980582524273)), 'rougeLsum': AggregateScore(low=Score(precision=0.11428571428571428, recall=0.24242424242424243, fmeasure=0.15533980582524273), mid=Score(precision=0.11428571428571428, recall=0.24242424242424243, fmeasure=0.15533980582524273), high=Score(precision=0.11428571428571428, recall=0.24242424242424243, fmeasure=0.15533980582524273))}\n",
      "\n",
      "================================================================================\n",
      "\n",
      "Article 64 ROUGE scores:\n",
      "{'rouge1': AggregateScore(low=Score(precision=0.09230769230769231, recall=0.3333333333333333, fmeasure=0.14457831325301207), mid=Score(precision=0.09230769230769231, recall=0.3333333333333333, fmeasure=0.14457831325301207), high=Score(precision=0.09230769230769231, recall=0.3333333333333333, fmeasure=0.14457831325301207)), 'rouge2': AggregateScore(low=Score(precision=0.015625, recall=0.058823529411764705, fmeasure=0.024691358024691357), mid=Score(precision=0.015625, recall=0.058823529411764705, fmeasure=0.024691358024691357), high=Score(precision=0.015625, recall=0.058823529411764705, fmeasure=0.024691358024691357)), 'rougeL': AggregateScore(low=Score(precision=0.07692307692307693, recall=0.2777777777777778, fmeasure=0.12048192771084337), mid=Score(precision=0.07692307692307693, recall=0.2777777777777778, fmeasure=0.12048192771084337), high=Score(precision=0.07692307692307693, recall=0.2777777777777778, fmeasure=0.12048192771084337)), 'rougeLsum': AggregateScore(low=Score(precision=0.07692307692307693, recall=0.2777777777777778, fmeasure=0.12048192771084337), mid=Score(precision=0.07692307692307693, recall=0.2777777777777778, fmeasure=0.12048192771084337), high=Score(precision=0.07692307692307693, recall=0.2777777777777778, fmeasure=0.12048192771084337))}\n",
      "\n",
      "================================================================================\n",
      "\n",
      "Article 65 ROUGE scores:\n",
      "{'rouge1': AggregateScore(low=Score(precision=0.21818181818181817, recall=0.3870967741935484, fmeasure=0.27906976744186046), mid=Score(precision=0.21818181818181817, recall=0.3870967741935484, fmeasure=0.27906976744186046), high=Score(precision=0.21818181818181817, recall=0.3870967741935484, fmeasure=0.27906976744186046)), 'rouge2': AggregateScore(low=Score(precision=0.09259259259259259, recall=0.16666666666666666, fmeasure=0.11904761904761904), mid=Score(precision=0.09259259259259259, recall=0.16666666666666666, fmeasure=0.11904761904761904), high=Score(precision=0.09259259259259259, recall=0.16666666666666666, fmeasure=0.11904761904761904)), 'rougeL': AggregateScore(low=Score(precision=0.16363636363636364, recall=0.2903225806451613, fmeasure=0.20930232558139533), mid=Score(precision=0.16363636363636364, recall=0.2903225806451613, fmeasure=0.20930232558139533), high=Score(precision=0.16363636363636364, recall=0.2903225806451613, fmeasure=0.20930232558139533)), 'rougeLsum': AggregateScore(low=Score(precision=0.16363636363636364, recall=0.2903225806451613, fmeasure=0.20930232558139533), mid=Score(precision=0.16363636363636364, recall=0.2903225806451613, fmeasure=0.20930232558139533), high=Score(precision=0.16363636363636364, recall=0.2903225806451613, fmeasure=0.20930232558139533))}\n",
      "\n",
      "================================================================================\n",
      "\n",
      "Article 66 ROUGE scores:\n",
      "{'rouge1': AggregateScore(low=Score(precision=0.35, recall=0.32558139534883723, fmeasure=0.3373493975903615), mid=Score(precision=0.35, recall=0.32558139534883723, fmeasure=0.3373493975903615), high=Score(precision=0.35, recall=0.32558139534883723, fmeasure=0.3373493975903615)), 'rouge2': AggregateScore(low=Score(precision=0.15384615384615385, recall=0.14285714285714285, fmeasure=0.14814814814814817), mid=Score(precision=0.15384615384615385, recall=0.14285714285714285, fmeasure=0.14814814814814817), high=Score(precision=0.15384615384615385, recall=0.14285714285714285, fmeasure=0.14814814814814817)), 'rougeL': AggregateScore(low=Score(precision=0.3, recall=0.27906976744186046, fmeasure=0.2891566265060241), mid=Score(precision=0.3, recall=0.27906976744186046, fmeasure=0.2891566265060241), high=Score(precision=0.3, recall=0.27906976744186046, fmeasure=0.2891566265060241)), 'rougeLsum': AggregateScore(low=Score(precision=0.3, recall=0.27906976744186046, fmeasure=0.2891566265060241), mid=Score(precision=0.3, recall=0.27906976744186046, fmeasure=0.2891566265060241), high=Score(precision=0.3, recall=0.27906976744186046, fmeasure=0.2891566265060241))}\n",
      "\n",
      "================================================================================\n",
      "\n",
      "Article 67 ROUGE scores:\n",
      "{'rouge1': AggregateScore(low=Score(precision=0.14285714285714285, recall=0.18421052631578946, fmeasure=0.16091954022988508), mid=Score(precision=0.14285714285714285, recall=0.18421052631578946, fmeasure=0.16091954022988508), high=Score(precision=0.14285714285714285, recall=0.18421052631578946, fmeasure=0.16091954022988508)), 'rouge2': AggregateScore(low=Score(precision=0.08333333333333333, recall=0.10810810810810811, fmeasure=0.09411764705882353), mid=Score(precision=0.08333333333333333, recall=0.10810810810810811, fmeasure=0.09411764705882353), high=Score(precision=0.08333333333333333, recall=0.10810810810810811, fmeasure=0.09411764705882353)), 'rougeL': AggregateScore(low=Score(precision=0.14285714285714285, recall=0.18421052631578946, fmeasure=0.16091954022988508), mid=Score(precision=0.14285714285714285, recall=0.18421052631578946, fmeasure=0.16091954022988508), high=Score(precision=0.14285714285714285, recall=0.18421052631578946, fmeasure=0.16091954022988508)), 'rougeLsum': AggregateScore(low=Score(precision=0.14285714285714285, recall=0.18421052631578946, fmeasure=0.16091954022988508), mid=Score(precision=0.14285714285714285, recall=0.18421052631578946, fmeasure=0.16091954022988508), high=Score(precision=0.14285714285714285, recall=0.18421052631578946, fmeasure=0.16091954022988508))}\n",
      "\n",
      "================================================================================\n",
      "\n",
      "Article 68 ROUGE scores:\n",
      "{'rouge1': AggregateScore(low=Score(precision=0.2894736842105263, recall=0.6470588235294118, fmeasure=0.4), mid=Score(precision=0.2894736842105263, recall=0.6470588235294118, fmeasure=0.4), high=Score(precision=0.2894736842105263, recall=0.6470588235294118, fmeasure=0.4)), 'rouge2': AggregateScore(low=Score(precision=0.02702702702702703, recall=0.0625, fmeasure=0.03773584905660377), mid=Score(precision=0.02702702702702703, recall=0.0625, fmeasure=0.03773584905660377), high=Score(precision=0.02702702702702703, recall=0.0625, fmeasure=0.03773584905660377)), 'rougeL': AggregateScore(low=Score(precision=0.13157894736842105, recall=0.29411764705882354, fmeasure=0.1818181818181818), mid=Score(precision=0.13157894736842105, recall=0.29411764705882354, fmeasure=0.1818181818181818), high=Score(precision=0.13157894736842105, recall=0.29411764705882354, fmeasure=0.1818181818181818)), 'rougeLsum': AggregateScore(low=Score(precision=0.13157894736842105, recall=0.29411764705882354, fmeasure=0.1818181818181818), mid=Score(precision=0.13157894736842105, recall=0.29411764705882354, fmeasure=0.1818181818181818), high=Score(precision=0.13157894736842105, recall=0.29411764705882354, fmeasure=0.1818181818181818))}\n",
      "\n",
      "================================================================================\n",
      "\n",
      "Article 69 ROUGE scores:\n",
      "{'rouge1': AggregateScore(low=Score(precision=0.3404255319148936, recall=0.34782608695652173, fmeasure=0.3440860215053763), mid=Score(precision=0.3404255319148936, recall=0.34782608695652173, fmeasure=0.3440860215053763), high=Score(precision=0.3404255319148936, recall=0.34782608695652173, fmeasure=0.3440860215053763)), 'rouge2': AggregateScore(low=Score(precision=0.08695652173913043, recall=0.08888888888888889, fmeasure=0.0879120879120879), mid=Score(precision=0.08695652173913043, recall=0.08888888888888889, fmeasure=0.0879120879120879), high=Score(precision=0.08695652173913043, recall=0.08888888888888889, fmeasure=0.0879120879120879)), 'rougeL': AggregateScore(low=Score(precision=0.2553191489361702, recall=0.2608695652173913, fmeasure=0.25806451612903225), mid=Score(precision=0.2553191489361702, recall=0.2608695652173913, fmeasure=0.25806451612903225), high=Score(precision=0.2553191489361702, recall=0.2608695652173913, fmeasure=0.25806451612903225)), 'rougeLsum': AggregateScore(low=Score(precision=0.2553191489361702, recall=0.2608695652173913, fmeasure=0.25806451612903225), mid=Score(precision=0.2553191489361702, recall=0.2608695652173913, fmeasure=0.25806451612903225), high=Score(precision=0.2553191489361702, recall=0.2608695652173913, fmeasure=0.25806451612903225))}\n",
      "\n",
      "================================================================================\n",
      "\n",
      "Article 70 ROUGE scores:\n",
      "{'rouge1': AggregateScore(low=Score(precision=0.09859154929577464, recall=0.2916666666666667, fmeasure=0.14736842105263157), mid=Score(precision=0.09859154929577464, recall=0.2916666666666667, fmeasure=0.14736842105263157), high=Score(precision=0.09859154929577464, recall=0.2916666666666667, fmeasure=0.14736842105263157)), 'rouge2': AggregateScore(low=Score(precision=0.014285714285714285, recall=0.043478260869565216, fmeasure=0.02150537634408602), mid=Score(precision=0.014285714285714285, recall=0.043478260869565216, fmeasure=0.02150537634408602), high=Score(precision=0.014285714285714285, recall=0.043478260869565216, fmeasure=0.02150537634408602)), 'rougeL': AggregateScore(low=Score(precision=0.07042253521126761, recall=0.20833333333333334, fmeasure=0.10526315789473685), mid=Score(precision=0.07042253521126761, recall=0.20833333333333334, fmeasure=0.10526315789473685), high=Score(precision=0.07042253521126761, recall=0.20833333333333334, fmeasure=0.10526315789473685)), 'rougeLsum': AggregateScore(low=Score(precision=0.07042253521126761, recall=0.20833333333333334, fmeasure=0.10526315789473685), mid=Score(precision=0.07042253521126761, recall=0.20833333333333334, fmeasure=0.10526315789473685), high=Score(precision=0.07042253521126761, recall=0.20833333333333334, fmeasure=0.10526315789473685))}\n",
      "\n",
      "================================================================================\n",
      "\n",
      "Article 71 ROUGE scores:\n",
      "{'rouge1': AggregateScore(low=Score(precision=0.34210526315789475, recall=0.22033898305084745, fmeasure=0.26804123711340205), mid=Score(precision=0.34210526315789475, recall=0.22033898305084745, fmeasure=0.26804123711340205), high=Score(precision=0.34210526315789475, recall=0.22033898305084745, fmeasure=0.26804123711340205)), 'rouge2': AggregateScore(low=Score(precision=0.13513513513513514, recall=0.08620689655172414, fmeasure=0.10526315789473685), mid=Score(precision=0.13513513513513514, recall=0.08620689655172414, fmeasure=0.10526315789473685), high=Score(precision=0.13513513513513514, recall=0.08620689655172414, fmeasure=0.10526315789473685)), 'rougeL': AggregateScore(low=Score(precision=0.21052631578947367, recall=0.13559322033898305, fmeasure=0.16494845360824742), mid=Score(precision=0.21052631578947367, recall=0.13559322033898305, fmeasure=0.16494845360824742), high=Score(precision=0.21052631578947367, recall=0.13559322033898305, fmeasure=0.16494845360824742)), 'rougeLsum': AggregateScore(low=Score(precision=0.21052631578947367, recall=0.13559322033898305, fmeasure=0.16494845360824742), mid=Score(precision=0.21052631578947367, recall=0.13559322033898305, fmeasure=0.16494845360824742), high=Score(precision=0.21052631578947367, recall=0.13559322033898305, fmeasure=0.16494845360824742))}\n",
      "\n",
      "================================================================================\n",
      "\n",
      "Article 72 ROUGE scores:\n",
      "{'rouge1': AggregateScore(low=Score(precision=0.1891891891891892, recall=0.4375, fmeasure=0.2641509433962264), mid=Score(precision=0.1891891891891892, recall=0.4375, fmeasure=0.2641509433962264), high=Score(precision=0.1891891891891892, recall=0.4375, fmeasure=0.2641509433962264)), 'rouge2': AggregateScore(low=Score(precision=0.0410958904109589, recall=0.0967741935483871, fmeasure=0.05769230769230769), mid=Score(precision=0.0410958904109589, recall=0.0967741935483871, fmeasure=0.05769230769230769), high=Score(precision=0.0410958904109589, recall=0.0967741935483871, fmeasure=0.05769230769230769)), 'rougeL': AggregateScore(low=Score(precision=0.10810810810810811, recall=0.25, fmeasure=0.1509433962264151), mid=Score(precision=0.10810810810810811, recall=0.25, fmeasure=0.1509433962264151), high=Score(precision=0.10810810810810811, recall=0.25, fmeasure=0.1509433962264151)), 'rougeLsum': AggregateScore(low=Score(precision=0.10810810810810811, recall=0.25, fmeasure=0.1509433962264151), mid=Score(precision=0.10810810810810811, recall=0.25, fmeasure=0.1509433962264151), high=Score(precision=0.10810810810810811, recall=0.25, fmeasure=0.1509433962264151))}\n",
      "\n",
      "================================================================================\n",
      "\n",
      "Article 73 ROUGE scores:\n",
      "{'rouge1': AggregateScore(low=Score(precision=0.23214285714285715, recall=0.41935483870967744, fmeasure=0.2988505747126437), mid=Score(precision=0.23214285714285715, recall=0.41935483870967744, fmeasure=0.2988505747126437), high=Score(precision=0.23214285714285715, recall=0.41935483870967744, fmeasure=0.2988505747126437)), 'rouge2': AggregateScore(low=Score(precision=0.05454545454545454, recall=0.1, fmeasure=0.07058823529411766), mid=Score(precision=0.05454545454545454, recall=0.1, fmeasure=0.07058823529411766), high=Score(precision=0.05454545454545454, recall=0.1, fmeasure=0.07058823529411766)), 'rougeL': AggregateScore(low=Score(precision=0.16071428571428573, recall=0.2903225806451613, fmeasure=0.20689655172413793), mid=Score(precision=0.16071428571428573, recall=0.2903225806451613, fmeasure=0.20689655172413793), high=Score(precision=0.16071428571428573, recall=0.2903225806451613, fmeasure=0.20689655172413793)), 'rougeLsum': AggregateScore(low=Score(precision=0.16071428571428573, recall=0.2903225806451613, fmeasure=0.20689655172413793), mid=Score(precision=0.16071428571428573, recall=0.2903225806451613, fmeasure=0.20689655172413793), high=Score(precision=0.16071428571428573, recall=0.2903225806451613, fmeasure=0.20689655172413793))}\n",
      "\n",
      "================================================================================\n",
      "\n",
      "Article 74 ROUGE scores:\n",
      "{'rouge1': AggregateScore(low=Score(precision=0.4883720930232558, recall=0.6774193548387096, fmeasure=0.5675675675675677), mid=Score(precision=0.4883720930232558, recall=0.6774193548387096, fmeasure=0.5675675675675677), high=Score(precision=0.4883720930232558, recall=0.6774193548387096, fmeasure=0.5675675675675677)), 'rouge2': AggregateScore(low=Score(precision=0.21428571428571427, recall=0.3, fmeasure=0.25), mid=Score(precision=0.21428571428571427, recall=0.3, fmeasure=0.25), high=Score(precision=0.21428571428571427, recall=0.3, fmeasure=0.25)), 'rougeL': AggregateScore(low=Score(precision=0.37209302325581395, recall=0.5161290322580645, fmeasure=0.4324324324324324), mid=Score(precision=0.37209302325581395, recall=0.5161290322580645, fmeasure=0.4324324324324324), high=Score(precision=0.37209302325581395, recall=0.5161290322580645, fmeasure=0.4324324324324324)), 'rougeLsum': AggregateScore(low=Score(precision=0.37209302325581395, recall=0.5161290322580645, fmeasure=0.4324324324324324), mid=Score(precision=0.37209302325581395, recall=0.5161290322580645, fmeasure=0.4324324324324324), high=Score(precision=0.37209302325581395, recall=0.5161290322580645, fmeasure=0.4324324324324324))}\n",
      "\n",
      "================================================================================\n",
      "\n",
      "Article 75 ROUGE scores:\n",
      "{'rouge1': AggregateScore(low=Score(precision=0.12, recall=0.1875, fmeasure=0.14634146341463414), mid=Score(precision=0.12, recall=0.1875, fmeasure=0.14634146341463414), high=Score(precision=0.12, recall=0.1875, fmeasure=0.14634146341463414)), 'rouge2': AggregateScore(low=Score(precision=0.02040816326530612, recall=0.03225806451612903, fmeasure=0.025), mid=Score(precision=0.02040816326530612, recall=0.03225806451612903, fmeasure=0.025), high=Score(precision=0.02040816326530612, recall=0.03225806451612903, fmeasure=0.025)), 'rougeL': AggregateScore(low=Score(precision=0.08, recall=0.125, fmeasure=0.09756097560975609), mid=Score(precision=0.08, recall=0.125, fmeasure=0.09756097560975609), high=Score(precision=0.08, recall=0.125, fmeasure=0.09756097560975609)), 'rougeLsum': AggregateScore(low=Score(precision=0.08, recall=0.125, fmeasure=0.09756097560975609), mid=Score(precision=0.08, recall=0.125, fmeasure=0.09756097560975609), high=Score(precision=0.08, recall=0.125, fmeasure=0.09756097560975609))}\n",
      "\n",
      "================================================================================\n",
      "\n",
      "Article 76 ROUGE scores:\n",
      "{'rouge1': AggregateScore(low=Score(precision=0.0392156862745098, recall=0.2857142857142857, fmeasure=0.06896551724137931), mid=Score(precision=0.0392156862745098, recall=0.2857142857142857, fmeasure=0.06896551724137931), high=Score(precision=0.0392156862745098, recall=0.2857142857142857, fmeasure=0.06896551724137931)), 'rouge2': AggregateScore(low=Score(precision=0.0, recall=0.0, fmeasure=0.0), mid=Score(precision=0.0, recall=0.0, fmeasure=0.0), high=Score(precision=0.0, recall=0.0, fmeasure=0.0)), 'rougeL': AggregateScore(low=Score(precision=0.0392156862745098, recall=0.2857142857142857, fmeasure=0.06896551724137931), mid=Score(precision=0.0392156862745098, recall=0.2857142857142857, fmeasure=0.06896551724137931), high=Score(precision=0.0392156862745098, recall=0.2857142857142857, fmeasure=0.06896551724137931)), 'rougeLsum': AggregateScore(low=Score(precision=0.0392156862745098, recall=0.2857142857142857, fmeasure=0.06896551724137931), mid=Score(precision=0.0392156862745098, recall=0.2857142857142857, fmeasure=0.06896551724137931), high=Score(precision=0.0392156862745098, recall=0.2857142857142857, fmeasure=0.06896551724137931))}\n",
      "\n",
      "================================================================================\n",
      "\n",
      "Article 77 ROUGE scores:\n",
      "{'rouge1': AggregateScore(low=Score(precision=0.125, recall=0.23809523809523808, fmeasure=0.16393442622950818), mid=Score(precision=0.125, recall=0.23809523809523808, fmeasure=0.16393442622950818), high=Score(precision=0.125, recall=0.23809523809523808, fmeasure=0.16393442622950818)), 'rouge2': AggregateScore(low=Score(precision=0.0, recall=0.0, fmeasure=0.0), mid=Score(precision=0.0, recall=0.0, fmeasure=0.0), high=Score(precision=0.0, recall=0.0, fmeasure=0.0)), 'rougeL': AggregateScore(low=Score(precision=0.075, recall=0.14285714285714285, fmeasure=0.0983606557377049), mid=Score(precision=0.075, recall=0.14285714285714285, fmeasure=0.0983606557377049), high=Score(precision=0.075, recall=0.14285714285714285, fmeasure=0.0983606557377049)), 'rougeLsum': AggregateScore(low=Score(precision=0.075, recall=0.14285714285714285, fmeasure=0.0983606557377049), mid=Score(precision=0.075, recall=0.14285714285714285, fmeasure=0.0983606557377049), high=Score(precision=0.075, recall=0.14285714285714285, fmeasure=0.0983606557377049))}\n",
      "\n",
      "================================================================================\n",
      "\n",
      "Article 78 ROUGE scores:\n",
      "{'rouge1': AggregateScore(low=Score(precision=0.10638297872340426, recall=0.21739130434782608, fmeasure=0.14285714285714285), mid=Score(precision=0.10638297872340426, recall=0.21739130434782608, fmeasure=0.14285714285714285), high=Score(precision=0.10638297872340426, recall=0.21739130434782608, fmeasure=0.14285714285714285)), 'rouge2': AggregateScore(low=Score(precision=0.021739130434782608, recall=0.045454545454545456, fmeasure=0.02941176470588235), mid=Score(precision=0.021739130434782608, recall=0.045454545454545456, fmeasure=0.02941176470588235), high=Score(precision=0.021739130434782608, recall=0.045454545454545456, fmeasure=0.02941176470588235)), 'rougeL': AggregateScore(low=Score(precision=0.0851063829787234, recall=0.17391304347826086, fmeasure=0.11428571428571427), mid=Score(precision=0.0851063829787234, recall=0.17391304347826086, fmeasure=0.11428571428571427), high=Score(precision=0.0851063829787234, recall=0.17391304347826086, fmeasure=0.11428571428571427)), 'rougeLsum': AggregateScore(low=Score(precision=0.0851063829787234, recall=0.17391304347826086, fmeasure=0.11428571428571427), mid=Score(precision=0.0851063829787234, recall=0.17391304347826086, fmeasure=0.11428571428571427), high=Score(precision=0.0851063829787234, recall=0.17391304347826086, fmeasure=0.11428571428571427))}\n",
      "\n",
      "================================================================================\n",
      "\n",
      "Article 79 ROUGE scores:\n",
      "{'rouge1': AggregateScore(low=Score(precision=0.5714285714285714, recall=0.3870967741935484, fmeasure=0.4615384615384615), mid=Score(precision=0.5714285714285714, recall=0.3870967741935484, fmeasure=0.4615384615384615), high=Score(precision=0.5714285714285714, recall=0.3870967741935484, fmeasure=0.4615384615384615)), 'rouge2': AggregateScore(low=Score(precision=0.21951219512195122, recall=0.14754098360655737, fmeasure=0.1764705882352941), mid=Score(precision=0.21951219512195122, recall=0.14754098360655737, fmeasure=0.1764705882352941), high=Score(precision=0.21951219512195122, recall=0.14754098360655737, fmeasure=0.1764705882352941)), 'rougeL': AggregateScore(low=Score(precision=0.3333333333333333, recall=0.22580645161290322, fmeasure=0.2692307692307692), mid=Score(precision=0.3333333333333333, recall=0.22580645161290322, fmeasure=0.2692307692307692), high=Score(precision=0.3333333333333333, recall=0.22580645161290322, fmeasure=0.2692307692307692)), 'rougeLsum': AggregateScore(low=Score(precision=0.3333333333333333, recall=0.22580645161290322, fmeasure=0.2692307692307692), mid=Score(precision=0.3333333333333333, recall=0.22580645161290322, fmeasure=0.2692307692307692), high=Score(precision=0.3333333333333333, recall=0.22580645161290322, fmeasure=0.2692307692307692))}\n",
      "\n",
      "================================================================================\n",
      "\n",
      "Article 80 ROUGE scores:\n",
      "{'rouge1': AggregateScore(low=Score(precision=0.2909090909090909, recall=0.2807017543859649, fmeasure=0.2857142857142857), mid=Score(precision=0.2909090909090909, recall=0.2807017543859649, fmeasure=0.2857142857142857), high=Score(precision=0.2909090909090909, recall=0.2807017543859649, fmeasure=0.2857142857142857)), 'rouge2': AggregateScore(low=Score(precision=0.07407407407407407, recall=0.07142857142857142, fmeasure=0.07272727272727272), mid=Score(precision=0.07407407407407407, recall=0.07142857142857142, fmeasure=0.07272727272727272), high=Score(precision=0.07407407407407407, recall=0.07142857142857142, fmeasure=0.07272727272727272)), 'rougeL': AggregateScore(low=Score(precision=0.2, recall=0.19298245614035087, fmeasure=0.19642857142857145), mid=Score(precision=0.2, recall=0.19298245614035087, fmeasure=0.19642857142857145), high=Score(precision=0.2, recall=0.19298245614035087, fmeasure=0.19642857142857145)), 'rougeLsum': AggregateScore(low=Score(precision=0.2, recall=0.19298245614035087, fmeasure=0.19642857142857145), mid=Score(precision=0.2, recall=0.19298245614035087, fmeasure=0.19642857142857145), high=Score(precision=0.2, recall=0.19298245614035087, fmeasure=0.19642857142857145))}\n",
      "\n",
      "================================================================================\n",
      "\n",
      "Article 81 ROUGE scores:\n",
      "{'rouge1': AggregateScore(low=Score(precision=0.3333333333333333, recall=0.44, fmeasure=0.37931034482758624), mid=Score(precision=0.3333333333333333, recall=0.44, fmeasure=0.37931034482758624), high=Score(precision=0.3333333333333333, recall=0.44, fmeasure=0.37931034482758624)), 'rouge2': AggregateScore(low=Score(precision=0.125, recall=0.16666666666666666, fmeasure=0.14285714285714288), mid=Score(precision=0.125, recall=0.16666666666666666, fmeasure=0.14285714285714288), high=Score(precision=0.125, recall=0.16666666666666666, fmeasure=0.14285714285714288)), 'rougeL': AggregateScore(low=Score(precision=0.21212121212121213, recall=0.28, fmeasure=0.2413793103448276), mid=Score(precision=0.21212121212121213, recall=0.28, fmeasure=0.2413793103448276), high=Score(precision=0.21212121212121213, recall=0.28, fmeasure=0.2413793103448276)), 'rougeLsum': AggregateScore(low=Score(precision=0.21212121212121213, recall=0.28, fmeasure=0.2413793103448276), mid=Score(precision=0.21212121212121213, recall=0.28, fmeasure=0.2413793103448276), high=Score(precision=0.21212121212121213, recall=0.28, fmeasure=0.2413793103448276))}\n",
      "\n",
      "================================================================================\n",
      "\n",
      "Article 82 ROUGE scores:\n",
      "{'rouge1': AggregateScore(low=Score(precision=0.3953488372093023, recall=0.7391304347826086, fmeasure=0.5151515151515151), mid=Score(precision=0.3953488372093023, recall=0.7391304347826086, fmeasure=0.5151515151515151), high=Score(precision=0.3953488372093023, recall=0.7391304347826086, fmeasure=0.5151515151515151)), 'rouge2': AggregateScore(low=Score(precision=0.23809523809523808, recall=0.45454545454545453, fmeasure=0.31249999999999994), mid=Score(precision=0.23809523809523808, recall=0.45454545454545453, fmeasure=0.31249999999999994), high=Score(precision=0.23809523809523808, recall=0.45454545454545453, fmeasure=0.31249999999999994)), 'rougeL': AggregateScore(low=Score(precision=0.27906976744186046, recall=0.5217391304347826, fmeasure=0.36363636363636365), mid=Score(precision=0.27906976744186046, recall=0.5217391304347826, fmeasure=0.36363636363636365), high=Score(precision=0.27906976744186046, recall=0.5217391304347826, fmeasure=0.36363636363636365)), 'rougeLsum': AggregateScore(low=Score(precision=0.27906976744186046, recall=0.5217391304347826, fmeasure=0.36363636363636365), mid=Score(precision=0.27906976744186046, recall=0.5217391304347826, fmeasure=0.36363636363636365), high=Score(precision=0.27906976744186046, recall=0.5217391304347826, fmeasure=0.36363636363636365))}\n",
      "\n",
      "================================================================================\n",
      "\n",
      "Article 83 ROUGE scores:\n",
      "{'rouge1': AggregateScore(low=Score(precision=0.42857142857142855, recall=0.8275862068965517, fmeasure=0.5647058823529412), mid=Score(precision=0.42857142857142855, recall=0.8275862068965517, fmeasure=0.5647058823529412), high=Score(precision=0.42857142857142855, recall=0.8275862068965517, fmeasure=0.5647058823529412)), 'rouge2': AggregateScore(low=Score(precision=0.2545454545454545, recall=0.5, fmeasure=0.3373493975903614), mid=Score(precision=0.2545454545454545, recall=0.5, fmeasure=0.3373493975903614), high=Score(precision=0.2545454545454545, recall=0.5, fmeasure=0.3373493975903614)), 'rougeL': AggregateScore(low=Score(precision=0.32142857142857145, recall=0.6206896551724138, fmeasure=0.42352941176470593), mid=Score(precision=0.32142857142857145, recall=0.6206896551724138, fmeasure=0.42352941176470593), high=Score(precision=0.32142857142857145, recall=0.6206896551724138, fmeasure=0.42352941176470593)), 'rougeLsum': AggregateScore(low=Score(precision=0.32142857142857145, recall=0.6206896551724138, fmeasure=0.42352941176470593), mid=Score(precision=0.32142857142857145, recall=0.6206896551724138, fmeasure=0.42352941176470593), high=Score(precision=0.32142857142857145, recall=0.6206896551724138, fmeasure=0.42352941176470593))}\n",
      "\n",
      "================================================================================\n",
      "\n",
      "Article 84 ROUGE scores:\n",
      "{'rouge1': AggregateScore(low=Score(precision=0.2698412698412698, recall=0.3333333333333333, fmeasure=0.2982456140350877), mid=Score(precision=0.2698412698412698, recall=0.3333333333333333, fmeasure=0.2982456140350877), high=Score(precision=0.2698412698412698, recall=0.3333333333333333, fmeasure=0.2982456140350877)), 'rouge2': AggregateScore(low=Score(precision=0.11290322580645161, recall=0.14, fmeasure=0.125), mid=Score(precision=0.11290322580645161, recall=0.14, fmeasure=0.125), high=Score(precision=0.11290322580645161, recall=0.14, fmeasure=0.125)), 'rougeL': AggregateScore(low=Score(precision=0.19047619047619047, recall=0.23529411764705882, fmeasure=0.21052631578947367), mid=Score(precision=0.19047619047619047, recall=0.23529411764705882, fmeasure=0.21052631578947367), high=Score(precision=0.19047619047619047, recall=0.23529411764705882, fmeasure=0.21052631578947367)), 'rougeLsum': AggregateScore(low=Score(precision=0.19047619047619047, recall=0.23529411764705882, fmeasure=0.21052631578947367), mid=Score(precision=0.19047619047619047, recall=0.23529411764705882, fmeasure=0.21052631578947367), high=Score(precision=0.19047619047619047, recall=0.23529411764705882, fmeasure=0.21052631578947367))}\n",
      "\n",
      "================================================================================\n",
      "\n",
      "Article 85 ROUGE scores:\n",
      "{'rouge1': AggregateScore(low=Score(precision=0.6190476190476191, recall=1.0, fmeasure=0.7647058823529412), mid=Score(precision=0.6190476190476191, recall=1.0, fmeasure=0.7647058823529412), high=Score(precision=0.6190476190476191, recall=1.0, fmeasure=0.7647058823529412)), 'rouge2': AggregateScore(low=Score(precision=0.5967741935483871, recall=0.9736842105263158, fmeasure=0.74), mid=Score(precision=0.5967741935483871, recall=0.9736842105263158, fmeasure=0.74), high=Score(precision=0.5967741935483871, recall=0.9736842105263158, fmeasure=0.74)), 'rougeL': AggregateScore(low=Score(precision=0.6190476190476191, recall=1.0, fmeasure=0.7647058823529412), mid=Score(precision=0.6190476190476191, recall=1.0, fmeasure=0.7647058823529412), high=Score(precision=0.6190476190476191, recall=1.0, fmeasure=0.7647058823529412)), 'rougeLsum': AggregateScore(low=Score(precision=0.6190476190476191, recall=1.0, fmeasure=0.7647058823529412), mid=Score(precision=0.6190476190476191, recall=1.0, fmeasure=0.7647058823529412), high=Score(precision=0.6190476190476191, recall=1.0, fmeasure=0.7647058823529412))}\n",
      "\n",
      "================================================================================\n",
      "\n",
      "Article 86 ROUGE scores:\n",
      "{'rouge1': AggregateScore(low=Score(precision=0.2318840579710145, recall=0.27586206896551724, fmeasure=0.25196850393700787), mid=Score(precision=0.2318840579710145, recall=0.27586206896551724, fmeasure=0.25196850393700787), high=Score(precision=0.2318840579710145, recall=0.27586206896551724, fmeasure=0.25196850393700787)), 'rouge2': AggregateScore(low=Score(precision=0.07352941176470588, recall=0.08771929824561403, fmeasure=0.07999999999999999), mid=Score(precision=0.07352941176470588, recall=0.08771929824561403, fmeasure=0.07999999999999999), high=Score(precision=0.07352941176470588, recall=0.08771929824561403, fmeasure=0.07999999999999999)), 'rougeL': AggregateScore(low=Score(precision=0.14492753623188406, recall=0.1724137931034483, fmeasure=0.15748031496062995), mid=Score(precision=0.14492753623188406, recall=0.1724137931034483, fmeasure=0.15748031496062995), high=Score(precision=0.14492753623188406, recall=0.1724137931034483, fmeasure=0.15748031496062995)), 'rougeLsum': AggregateScore(low=Score(precision=0.14492753623188406, recall=0.1724137931034483, fmeasure=0.15748031496062995), mid=Score(precision=0.14492753623188406, recall=0.1724137931034483, fmeasure=0.15748031496062995), high=Score(precision=0.14492753623188406, recall=0.1724137931034483, fmeasure=0.15748031496062995))}\n",
      "\n",
      "================================================================================\n",
      "\n",
      "Article 87 ROUGE scores:\n",
      "{'rouge1': AggregateScore(low=Score(precision=0.06976744186046512, recall=0.0967741935483871, fmeasure=0.08108108108108109), mid=Score(precision=0.06976744186046512, recall=0.0967741935483871, fmeasure=0.08108108108108109), high=Score(precision=0.06976744186046512, recall=0.0967741935483871, fmeasure=0.08108108108108109)), 'rouge2': AggregateScore(low=Score(precision=0.0, recall=0.0, fmeasure=0.0), mid=Score(precision=0.0, recall=0.0, fmeasure=0.0), high=Score(precision=0.0, recall=0.0, fmeasure=0.0)), 'rougeL': AggregateScore(low=Score(precision=0.06976744186046512, recall=0.0967741935483871, fmeasure=0.08108108108108109), mid=Score(precision=0.06976744186046512, recall=0.0967741935483871, fmeasure=0.08108108108108109), high=Score(precision=0.06976744186046512, recall=0.0967741935483871, fmeasure=0.08108108108108109)), 'rougeLsum': AggregateScore(low=Score(precision=0.06976744186046512, recall=0.0967741935483871, fmeasure=0.08108108108108109), mid=Score(precision=0.06976744186046512, recall=0.0967741935483871, fmeasure=0.08108108108108109), high=Score(precision=0.06976744186046512, recall=0.0967741935483871, fmeasure=0.08108108108108109))}\n",
      "\n",
      "================================================================================\n",
      "\n",
      "Article 88 ROUGE scores:\n",
      "{'rouge1': AggregateScore(low=Score(precision=0.2702702702702703, recall=0.4166666666666667, fmeasure=0.3278688524590164), mid=Score(precision=0.2702702702702703, recall=0.4166666666666667, fmeasure=0.3278688524590164), high=Score(precision=0.2702702702702703, recall=0.4166666666666667, fmeasure=0.3278688524590164)), 'rouge2': AggregateScore(low=Score(precision=0.08333333333333333, recall=0.13043478260869565, fmeasure=0.10169491525423728), mid=Score(precision=0.08333333333333333, recall=0.13043478260869565, fmeasure=0.10169491525423728), high=Score(precision=0.08333333333333333, recall=0.13043478260869565, fmeasure=0.10169491525423728)), 'rougeL': AggregateScore(low=Score(precision=0.21621621621621623, recall=0.3333333333333333, fmeasure=0.26229508196721313), mid=Score(precision=0.21621621621621623, recall=0.3333333333333333, fmeasure=0.26229508196721313), high=Score(precision=0.21621621621621623, recall=0.3333333333333333, fmeasure=0.26229508196721313)), 'rougeLsum': AggregateScore(low=Score(precision=0.21621621621621623, recall=0.3333333333333333, fmeasure=0.26229508196721313), mid=Score(precision=0.21621621621621623, recall=0.3333333333333333, fmeasure=0.26229508196721313), high=Score(precision=0.21621621621621623, recall=0.3333333333333333, fmeasure=0.26229508196721313))}\n",
      "\n",
      "================================================================================\n",
      "\n",
      "Article 89 ROUGE scores:\n",
      "{'rouge1': AggregateScore(low=Score(precision=0.16071428571428573, recall=0.4090909090909091, fmeasure=0.23076923076923078), mid=Score(precision=0.16071428571428573, recall=0.4090909090909091, fmeasure=0.23076923076923078), high=Score(precision=0.16071428571428573, recall=0.4090909090909091, fmeasure=0.23076923076923078)), 'rouge2': AggregateScore(low=Score(precision=0.05454545454545454, recall=0.14285714285714285, fmeasure=0.07894736842105263), mid=Score(precision=0.05454545454545454, recall=0.14285714285714285, fmeasure=0.07894736842105263), high=Score(precision=0.05454545454545454, recall=0.14285714285714285, fmeasure=0.07894736842105263)), 'rougeL': AggregateScore(low=Score(precision=0.125, recall=0.3181818181818182, fmeasure=0.1794871794871795), mid=Score(precision=0.125, recall=0.3181818181818182, fmeasure=0.1794871794871795), high=Score(precision=0.125, recall=0.3181818181818182, fmeasure=0.1794871794871795)), 'rougeLsum': AggregateScore(low=Score(precision=0.125, recall=0.3181818181818182, fmeasure=0.1794871794871795), mid=Score(precision=0.125, recall=0.3181818181818182, fmeasure=0.1794871794871795), high=Score(precision=0.125, recall=0.3181818181818182, fmeasure=0.1794871794871795))}\n",
      "\n",
      "================================================================================\n",
      "\n",
      "Article 90 ROUGE scores:\n",
      "{'rouge1': AggregateScore(low=Score(precision=0.15625, recall=0.125, fmeasure=0.1388888888888889), mid=Score(precision=0.15625, recall=0.125, fmeasure=0.1388888888888889), high=Score(precision=0.15625, recall=0.125, fmeasure=0.1388888888888889)), 'rouge2': AggregateScore(low=Score(precision=0.0, recall=0.0, fmeasure=0.0), mid=Score(precision=0.0, recall=0.0, fmeasure=0.0), high=Score(precision=0.0, recall=0.0, fmeasure=0.0)), 'rougeL': AggregateScore(low=Score(precision=0.125, recall=0.1, fmeasure=0.11111111111111112), mid=Score(precision=0.125, recall=0.1, fmeasure=0.11111111111111112), high=Score(precision=0.125, recall=0.1, fmeasure=0.11111111111111112)), 'rougeLsum': AggregateScore(low=Score(precision=0.125, recall=0.1, fmeasure=0.11111111111111112), mid=Score(precision=0.125, recall=0.1, fmeasure=0.11111111111111112), high=Score(precision=0.125, recall=0.1, fmeasure=0.11111111111111112))}\n",
      "\n",
      "================================================================================\n",
      "\n",
      "Article 91 ROUGE scores:\n",
      "{'rouge1': AggregateScore(low=Score(precision=0.29411764705882354, recall=0.40540540540540543, fmeasure=0.34090909090909094), mid=Score(precision=0.29411764705882354, recall=0.40540540540540543, fmeasure=0.34090909090909094), high=Score(precision=0.29411764705882354, recall=0.40540540540540543, fmeasure=0.34090909090909094)), 'rouge2': AggregateScore(low=Score(precision=0.14, recall=0.19444444444444445, fmeasure=0.16279069767441862), mid=Score(precision=0.14, recall=0.19444444444444445, fmeasure=0.16279069767441862), high=Score(precision=0.14, recall=0.19444444444444445, fmeasure=0.16279069767441862)), 'rougeL': AggregateScore(low=Score(precision=0.13725490196078433, recall=0.1891891891891892, fmeasure=0.1590909090909091), mid=Score(precision=0.13725490196078433, recall=0.1891891891891892, fmeasure=0.1590909090909091), high=Score(precision=0.13725490196078433, recall=0.1891891891891892, fmeasure=0.1590909090909091)), 'rougeLsum': AggregateScore(low=Score(precision=0.13725490196078433, recall=0.1891891891891892, fmeasure=0.1590909090909091), mid=Score(precision=0.13725490196078433, recall=0.1891891891891892, fmeasure=0.1590909090909091), high=Score(precision=0.13725490196078433, recall=0.1891891891891892, fmeasure=0.1590909090909091))}\n",
      "\n",
      "================================================================================\n",
      "\n",
      "Article 92 ROUGE scores:\n",
      "{'rouge1': AggregateScore(low=Score(precision=0.2, recall=0.7777777777777778, fmeasure=0.3181818181818182), mid=Score(precision=0.2, recall=0.7777777777777778, fmeasure=0.3181818181818182), high=Score(precision=0.2, recall=0.7777777777777778, fmeasure=0.3181818181818182)), 'rouge2': AggregateScore(low=Score(precision=0.07246376811594203, recall=0.29411764705882354, fmeasure=0.11627906976744186), mid=Score(precision=0.07246376811594203, recall=0.29411764705882354, fmeasure=0.11627906976744186), high=Score(precision=0.07246376811594203, recall=0.29411764705882354, fmeasure=0.11627906976744186)), 'rougeL': AggregateScore(low=Score(precision=0.1, recall=0.3888888888888889, fmeasure=0.1590909090909091), mid=Score(precision=0.1, recall=0.3888888888888889, fmeasure=0.1590909090909091), high=Score(precision=0.1, recall=0.3888888888888889, fmeasure=0.1590909090909091)), 'rougeLsum': AggregateScore(low=Score(precision=0.1, recall=0.3888888888888889, fmeasure=0.1590909090909091), mid=Score(precision=0.1, recall=0.3888888888888889, fmeasure=0.1590909090909091), high=Score(precision=0.1, recall=0.3888888888888889, fmeasure=0.1590909090909091))}\n",
      "\n",
      "================================================================================\n",
      "\n",
      "Article 93 ROUGE scores:\n",
      "{'rouge1': AggregateScore(low=Score(precision=0.21153846153846154, recall=0.39285714285714285, fmeasure=0.275), mid=Score(precision=0.21153846153846154, recall=0.39285714285714285, fmeasure=0.275), high=Score(precision=0.21153846153846154, recall=0.39285714285714285, fmeasure=0.275)), 'rouge2': AggregateScore(low=Score(precision=0.0392156862745098, recall=0.07407407407407407, fmeasure=0.05128205128205129), mid=Score(precision=0.0392156862745098, recall=0.07407407407407407, fmeasure=0.05128205128205129), high=Score(precision=0.0392156862745098, recall=0.07407407407407407, fmeasure=0.05128205128205129)), 'rougeL': AggregateScore(low=Score(precision=0.09615384615384616, recall=0.17857142857142858, fmeasure=0.125), mid=Score(precision=0.09615384615384616, recall=0.17857142857142858, fmeasure=0.125), high=Score(precision=0.09615384615384616, recall=0.17857142857142858, fmeasure=0.125)), 'rougeLsum': AggregateScore(low=Score(precision=0.09615384615384616, recall=0.17857142857142858, fmeasure=0.125), mid=Score(precision=0.09615384615384616, recall=0.17857142857142858, fmeasure=0.125), high=Score(precision=0.09615384615384616, recall=0.17857142857142858, fmeasure=0.125))}\n",
      "\n",
      "================================================================================\n",
      "\n",
      "Article 94 ROUGE scores:\n",
      "{'rouge1': AggregateScore(low=Score(precision=0.0, recall=0.0, fmeasure=0.0), mid=Score(precision=0.0, recall=0.0, fmeasure=0.0), high=Score(precision=0.0, recall=0.0, fmeasure=0.0)), 'rouge2': AggregateScore(low=Score(precision=0.0, recall=0.0, fmeasure=0.0), mid=Score(precision=0.0, recall=0.0, fmeasure=0.0), high=Score(precision=0.0, recall=0.0, fmeasure=0.0)), 'rougeL': AggregateScore(low=Score(precision=0.0, recall=0.0, fmeasure=0.0), mid=Score(precision=0.0, recall=0.0, fmeasure=0.0), high=Score(precision=0.0, recall=0.0, fmeasure=0.0)), 'rougeLsum': AggregateScore(low=Score(precision=0.0, recall=0.0, fmeasure=0.0), mid=Score(precision=0.0, recall=0.0, fmeasure=0.0), high=Score(precision=0.0, recall=0.0, fmeasure=0.0))}\n",
      "\n",
      "================================================================================\n",
      "\n",
      "Article 95 ROUGE scores:\n",
      "{'rouge1': AggregateScore(low=Score(precision=0.3333333333333333, recall=0.4230769230769231, fmeasure=0.3728813559322034), mid=Score(precision=0.3333333333333333, recall=0.4230769230769231, fmeasure=0.3728813559322034), high=Score(precision=0.3333333333333333, recall=0.4230769230769231, fmeasure=0.3728813559322034)), 'rouge2': AggregateScore(low=Score(precision=0.13846153846153847, recall=0.17647058823529413, fmeasure=0.15517241379310348), mid=Score(precision=0.13846153846153847, recall=0.17647058823529413, fmeasure=0.15517241379310348), high=Score(precision=0.13846153846153847, recall=0.17647058823529413, fmeasure=0.15517241379310348)), 'rougeL': AggregateScore(low=Score(precision=0.16666666666666666, recall=0.21153846153846154, fmeasure=0.1864406779661017), mid=Score(precision=0.16666666666666666, recall=0.21153846153846154, fmeasure=0.1864406779661017), high=Score(precision=0.16666666666666666, recall=0.21153846153846154, fmeasure=0.1864406779661017)), 'rougeLsum': AggregateScore(low=Score(precision=0.16666666666666666, recall=0.21153846153846154, fmeasure=0.1864406779661017), mid=Score(precision=0.16666666666666666, recall=0.21153846153846154, fmeasure=0.1864406779661017), high=Score(precision=0.16666666666666666, recall=0.21153846153846154, fmeasure=0.1864406779661017))}\n",
      "\n",
      "================================================================================\n",
      "\n",
      "Article 96 ROUGE scores:\n",
      "{'rouge1': AggregateScore(low=Score(precision=0.16, recall=0.34782608695652173, fmeasure=0.2191780821917808), mid=Score(precision=0.16, recall=0.34782608695652173, fmeasure=0.2191780821917808), high=Score(precision=0.16, recall=0.34782608695652173, fmeasure=0.2191780821917808)), 'rouge2': AggregateScore(low=Score(precision=0.0, recall=0.0, fmeasure=0.0), mid=Score(precision=0.0, recall=0.0, fmeasure=0.0), high=Score(precision=0.0, recall=0.0, fmeasure=0.0)), 'rougeL': AggregateScore(low=Score(precision=0.1, recall=0.21739130434782608, fmeasure=0.136986301369863), mid=Score(precision=0.1, recall=0.21739130434782608, fmeasure=0.136986301369863), high=Score(precision=0.1, recall=0.21739130434782608, fmeasure=0.136986301369863)), 'rougeLsum': AggregateScore(low=Score(precision=0.1, recall=0.21739130434782608, fmeasure=0.136986301369863), mid=Score(precision=0.1, recall=0.21739130434782608, fmeasure=0.136986301369863), high=Score(precision=0.1, recall=0.21739130434782608, fmeasure=0.136986301369863))}\n",
      "\n",
      "================================================================================\n",
      "\n",
      "Article 97 ROUGE scores:\n",
      "{'rouge1': AggregateScore(low=Score(precision=0.4642857142857143, recall=0.5652173913043478, fmeasure=0.5098039215686274), mid=Score(precision=0.4642857142857143, recall=0.5652173913043478, fmeasure=0.5098039215686274), high=Score(precision=0.4642857142857143, recall=0.5652173913043478, fmeasure=0.5098039215686274)), 'rouge2': AggregateScore(low=Score(precision=0.14545454545454545, recall=0.17777777777777778, fmeasure=0.16), mid=Score(precision=0.14545454545454545, recall=0.17777777777777778, fmeasure=0.16), high=Score(precision=0.14545454545454545, recall=0.17777777777777778, fmeasure=0.16)), 'rougeL': AggregateScore(low=Score(precision=0.3392857142857143, recall=0.41304347826086957, fmeasure=0.3725490196078432), mid=Score(precision=0.3392857142857143, recall=0.41304347826086957, fmeasure=0.3725490196078432), high=Score(precision=0.3392857142857143, recall=0.41304347826086957, fmeasure=0.3725490196078432)), 'rougeLsum': AggregateScore(low=Score(precision=0.3392857142857143, recall=0.41304347826086957, fmeasure=0.3725490196078432), mid=Score(precision=0.3392857142857143, recall=0.41304347826086957, fmeasure=0.3725490196078432), high=Score(precision=0.3392857142857143, recall=0.41304347826086957, fmeasure=0.3725490196078432))}\n",
      "\n",
      "================================================================================\n",
      "\n",
      "Article 98 ROUGE scores:\n",
      "{'rouge1': AggregateScore(low=Score(precision=0.40625, recall=0.48148148148148145, fmeasure=0.4406779661016949), mid=Score(precision=0.40625, recall=0.48148148148148145, fmeasure=0.4406779661016949), high=Score(precision=0.40625, recall=0.48148148148148145, fmeasure=0.4406779661016949)), 'rouge2': AggregateScore(low=Score(precision=0.12698412698412698, recall=0.1509433962264151, fmeasure=0.13793103448275862), mid=Score(precision=0.12698412698412698, recall=0.1509433962264151, fmeasure=0.13793103448275862), high=Score(precision=0.12698412698412698, recall=0.1509433962264151, fmeasure=0.13793103448275862)), 'rougeL': AggregateScore(low=Score(precision=0.234375, recall=0.2777777777777778, fmeasure=0.2542372881355932), mid=Score(precision=0.234375, recall=0.2777777777777778, fmeasure=0.2542372881355932), high=Score(precision=0.234375, recall=0.2777777777777778, fmeasure=0.2542372881355932)), 'rougeLsum': AggregateScore(low=Score(precision=0.234375, recall=0.2777777777777778, fmeasure=0.2542372881355932), mid=Score(precision=0.234375, recall=0.2777777777777778, fmeasure=0.2542372881355932), high=Score(precision=0.234375, recall=0.2777777777777778, fmeasure=0.2542372881355932))}\n",
      "\n",
      "================================================================================\n",
      "\n",
      "Article 99 ROUGE scores:\n",
      "{'rouge1': AggregateScore(low=Score(precision=0.2553191489361702, recall=0.35294117647058826, fmeasure=0.2962962962962963), mid=Score(precision=0.2553191489361702, recall=0.35294117647058826, fmeasure=0.2962962962962963), high=Score(precision=0.2553191489361702, recall=0.35294117647058826, fmeasure=0.2962962962962963)), 'rouge2': AggregateScore(low=Score(precision=0.13043478260869565, recall=0.18181818181818182, fmeasure=0.1518987341772152), mid=Score(precision=0.13043478260869565, recall=0.18181818181818182, fmeasure=0.1518987341772152), high=Score(precision=0.13043478260869565, recall=0.18181818181818182, fmeasure=0.1518987341772152)), 'rougeL': AggregateScore(low=Score(precision=0.19148936170212766, recall=0.2647058823529412, fmeasure=0.22222222222222224), mid=Score(precision=0.19148936170212766, recall=0.2647058823529412, fmeasure=0.22222222222222224), high=Score(precision=0.19148936170212766, recall=0.2647058823529412, fmeasure=0.22222222222222224)), 'rougeLsum': AggregateScore(low=Score(precision=0.19148936170212766, recall=0.2647058823529412, fmeasure=0.22222222222222224), mid=Score(precision=0.19148936170212766, recall=0.2647058823529412, fmeasure=0.22222222222222224), high=Score(precision=0.19148936170212766, recall=0.2647058823529412, fmeasure=0.22222222222222224))}\n",
      "\n",
      "================================================================================\n",
      "\n",
      "Article 100 ROUGE scores:\n",
      "{'rouge1': AggregateScore(low=Score(precision=0.22950819672131148, recall=0.6086956521739131, fmeasure=0.33333333333333337), mid=Score(precision=0.22950819672131148, recall=0.6086956521739131, fmeasure=0.33333333333333337), high=Score(precision=0.22950819672131148, recall=0.6086956521739131, fmeasure=0.33333333333333337)), 'rouge2': AggregateScore(low=Score(precision=0.08333333333333333, recall=0.22727272727272727, fmeasure=0.1219512195121951), mid=Score(precision=0.08333333333333333, recall=0.22727272727272727, fmeasure=0.1219512195121951), high=Score(precision=0.08333333333333333, recall=0.22727272727272727, fmeasure=0.1219512195121951)), 'rougeL': AggregateScore(low=Score(precision=0.13114754098360656, recall=0.34782608695652173, fmeasure=0.19047619047619047), mid=Score(precision=0.13114754098360656, recall=0.34782608695652173, fmeasure=0.19047619047619047), high=Score(precision=0.13114754098360656, recall=0.34782608695652173, fmeasure=0.19047619047619047)), 'rougeLsum': AggregateScore(low=Score(precision=0.13114754098360656, recall=0.34782608695652173, fmeasure=0.19047619047619047), mid=Score(precision=0.13114754098360656, recall=0.34782608695652173, fmeasure=0.19047619047619047), high=Score(precision=0.13114754098360656, recall=0.34782608695652173, fmeasure=0.19047619047619047))}\n",
      "\n",
      "================================================================================\n",
      "\n",
      "Article 101 ROUGE scores:\n",
      "{'rouge1': AggregateScore(low=Score(precision=0.3673469387755102, recall=0.75, fmeasure=0.49315068493150693), mid=Score(precision=0.3673469387755102, recall=0.75, fmeasure=0.49315068493150693), high=Score(precision=0.3673469387755102, recall=0.75, fmeasure=0.49315068493150693)), 'rouge2': AggregateScore(low=Score(precision=0.125, recall=0.2608695652173913, fmeasure=0.16901408450704225), mid=Score(precision=0.125, recall=0.2608695652173913, fmeasure=0.16901408450704225), high=Score(precision=0.125, recall=0.2608695652173913, fmeasure=0.16901408450704225)), 'rougeL': AggregateScore(low=Score(precision=0.22448979591836735, recall=0.4583333333333333, fmeasure=0.3013698630136986), mid=Score(precision=0.22448979591836735, recall=0.4583333333333333, fmeasure=0.3013698630136986), high=Score(precision=0.22448979591836735, recall=0.4583333333333333, fmeasure=0.3013698630136986)), 'rougeLsum': AggregateScore(low=Score(precision=0.22448979591836735, recall=0.4583333333333333, fmeasure=0.3013698630136986), mid=Score(precision=0.22448979591836735, recall=0.4583333333333333, fmeasure=0.3013698630136986), high=Score(precision=0.22448979591836735, recall=0.4583333333333333, fmeasure=0.3013698630136986))}\n",
      "\n",
      "================================================================================\n",
      "\n",
      "Article 102 ROUGE scores:\n",
      "{'rouge1': AggregateScore(low=Score(precision=0.23809523809523808, recall=0.4, fmeasure=0.2985074626865672), mid=Score(precision=0.23809523809523808, recall=0.4, fmeasure=0.2985074626865672), high=Score(precision=0.23809523809523808, recall=0.4, fmeasure=0.2985074626865672)), 'rouge2': AggregateScore(low=Score(precision=0.0975609756097561, recall=0.16666666666666666, fmeasure=0.12307692307692307), mid=Score(precision=0.0975609756097561, recall=0.16666666666666666, fmeasure=0.12307692307692307), high=Score(precision=0.0975609756097561, recall=0.16666666666666666, fmeasure=0.12307692307692307)), 'rougeL': AggregateScore(low=Score(precision=0.14285714285714285, recall=0.24, fmeasure=0.1791044776119403), mid=Score(precision=0.14285714285714285, recall=0.24, fmeasure=0.1791044776119403), high=Score(precision=0.14285714285714285, recall=0.24, fmeasure=0.1791044776119403)), 'rougeLsum': AggregateScore(low=Score(precision=0.14285714285714285, recall=0.24, fmeasure=0.1791044776119403), mid=Score(precision=0.14285714285714285, recall=0.24, fmeasure=0.1791044776119403), high=Score(precision=0.14285714285714285, recall=0.24, fmeasure=0.1791044776119403))}\n",
      "\n",
      "================================================================================\n",
      "\n",
      "Article 103 ROUGE scores:\n",
      "{'rouge1': AggregateScore(low=Score(precision=0.14893617021276595, recall=0.2916666666666667, fmeasure=0.19718309859154928), mid=Score(precision=0.14893617021276595, recall=0.2916666666666667, fmeasure=0.19718309859154928), high=Score(precision=0.14893617021276595, recall=0.2916666666666667, fmeasure=0.19718309859154928)), 'rouge2': AggregateScore(low=Score(precision=0.0, recall=0.0, fmeasure=0.0), mid=Score(precision=0.0, recall=0.0, fmeasure=0.0), high=Score(precision=0.0, recall=0.0, fmeasure=0.0)), 'rougeL': AggregateScore(low=Score(precision=0.1276595744680851, recall=0.25, fmeasure=0.16901408450704225), mid=Score(precision=0.1276595744680851, recall=0.25, fmeasure=0.16901408450704225), high=Score(precision=0.1276595744680851, recall=0.25, fmeasure=0.16901408450704225)), 'rougeLsum': AggregateScore(low=Score(precision=0.1276595744680851, recall=0.25, fmeasure=0.16901408450704225), mid=Score(precision=0.1276595744680851, recall=0.25, fmeasure=0.16901408450704225), high=Score(precision=0.1276595744680851, recall=0.25, fmeasure=0.16901408450704225))}\n",
      "\n",
      "================================================================================\n",
      "\n",
      "Article 104 ROUGE scores:\n",
      "{'rouge1': AggregateScore(low=Score(precision=0.42105263157894735, recall=0.6153846153846154, fmeasure=0.5), mid=Score(precision=0.42105263157894735, recall=0.6153846153846154, fmeasure=0.5), high=Score(precision=0.42105263157894735, recall=0.6153846153846154, fmeasure=0.5)), 'rouge2': AggregateScore(low=Score(precision=0.1891891891891892, recall=0.28, fmeasure=0.22580645161290325), mid=Score(precision=0.1891891891891892, recall=0.28, fmeasure=0.22580645161290325), high=Score(precision=0.1891891891891892, recall=0.28, fmeasure=0.22580645161290325)), 'rougeL': AggregateScore(low=Score(precision=0.34210526315789475, recall=0.5, fmeasure=0.40625000000000006), mid=Score(precision=0.34210526315789475, recall=0.5, fmeasure=0.40625000000000006), high=Score(precision=0.34210526315789475, recall=0.5, fmeasure=0.40625000000000006)), 'rougeLsum': AggregateScore(low=Score(precision=0.34210526315789475, recall=0.5, fmeasure=0.40625000000000006), mid=Score(precision=0.34210526315789475, recall=0.5, fmeasure=0.40625000000000006), high=Score(precision=0.34210526315789475, recall=0.5, fmeasure=0.40625000000000006))}\n",
      "\n",
      "================================================================================\n",
      "\n",
      "Article 105 ROUGE scores:\n",
      "{'rouge1': AggregateScore(low=Score(precision=0.14705882352941177, recall=0.7142857142857143, fmeasure=0.24390243902439024), mid=Score(precision=0.14705882352941177, recall=0.7142857142857143, fmeasure=0.24390243902439024), high=Score(precision=0.14705882352941177, recall=0.7142857142857143, fmeasure=0.24390243902439024)), 'rouge2': AggregateScore(low=Score(precision=0.06060606060606061, recall=0.3333333333333333, fmeasure=0.10256410256410256), mid=Score(precision=0.06060606060606061, recall=0.3333333333333333, fmeasure=0.10256410256410256), high=Score(precision=0.06060606060606061, recall=0.3333333333333333, fmeasure=0.10256410256410256)), 'rougeL': AggregateScore(low=Score(precision=0.14705882352941177, recall=0.7142857142857143, fmeasure=0.24390243902439024), mid=Score(precision=0.14705882352941177, recall=0.7142857142857143, fmeasure=0.24390243902439024), high=Score(precision=0.14705882352941177, recall=0.7142857142857143, fmeasure=0.24390243902439024)), 'rougeLsum': AggregateScore(low=Score(precision=0.14705882352941177, recall=0.7142857142857143, fmeasure=0.24390243902439024), mid=Score(precision=0.14705882352941177, recall=0.7142857142857143, fmeasure=0.24390243902439024), high=Score(precision=0.14705882352941177, recall=0.7142857142857143, fmeasure=0.24390243902439024))}\n",
      "\n",
      "================================================================================\n",
      "\n",
      "Article 106 ROUGE scores:\n",
      "{'rouge1': AggregateScore(low=Score(precision=0.1791044776119403, recall=0.42857142857142855, fmeasure=0.2526315789473684), mid=Score(precision=0.1791044776119403, recall=0.42857142857142855, fmeasure=0.2526315789473684), high=Score(precision=0.1791044776119403, recall=0.42857142857142855, fmeasure=0.2526315789473684)), 'rouge2': AggregateScore(low=Score(precision=0.030303030303030304, recall=0.07407407407407407, fmeasure=0.04301075268817204), mid=Score(precision=0.030303030303030304, recall=0.07407407407407407, fmeasure=0.04301075268817204), high=Score(precision=0.030303030303030304, recall=0.07407407407407407, fmeasure=0.04301075268817204)), 'rougeL': AggregateScore(low=Score(precision=0.13432835820895522, recall=0.32142857142857145, fmeasure=0.18947368421052632), mid=Score(precision=0.13432835820895522, recall=0.32142857142857145, fmeasure=0.18947368421052632), high=Score(precision=0.13432835820895522, recall=0.32142857142857145, fmeasure=0.18947368421052632)), 'rougeLsum': AggregateScore(low=Score(precision=0.13432835820895522, recall=0.32142857142857145, fmeasure=0.18947368421052632), mid=Score(precision=0.13432835820895522, recall=0.32142857142857145, fmeasure=0.18947368421052632), high=Score(precision=0.13432835820895522, recall=0.32142857142857145, fmeasure=0.18947368421052632))}\n",
      "\n",
      "================================================================================\n",
      "\n",
      "Article 107 ROUGE scores:\n",
      "{'rouge1': AggregateScore(low=Score(precision=0.16326530612244897, recall=0.3333333333333333, fmeasure=0.21917808219178078), mid=Score(precision=0.16326530612244897, recall=0.3333333333333333, fmeasure=0.21917808219178078), high=Score(precision=0.16326530612244897, recall=0.3333333333333333, fmeasure=0.21917808219178078)), 'rouge2': AggregateScore(low=Score(precision=0.041666666666666664, recall=0.08695652173913043, fmeasure=0.056338028169014086), mid=Score(precision=0.041666666666666664, recall=0.08695652173913043, fmeasure=0.056338028169014086), high=Score(precision=0.041666666666666664, recall=0.08695652173913043, fmeasure=0.056338028169014086)), 'rougeL': AggregateScore(low=Score(precision=0.12244897959183673, recall=0.25, fmeasure=0.1643835616438356), mid=Score(precision=0.12244897959183673, recall=0.25, fmeasure=0.1643835616438356), high=Score(precision=0.12244897959183673, recall=0.25, fmeasure=0.1643835616438356)), 'rougeLsum': AggregateScore(low=Score(precision=0.12244897959183673, recall=0.25, fmeasure=0.1643835616438356), mid=Score(precision=0.12244897959183673, recall=0.25, fmeasure=0.1643835616438356), high=Score(precision=0.12244897959183673, recall=0.25, fmeasure=0.1643835616438356))}\n",
      "\n",
      "================================================================================\n",
      "\n",
      "Article 108 ROUGE scores:\n",
      "{'rouge1': AggregateScore(low=Score(precision=0.2777777777777778, recall=0.3125, fmeasure=0.29411764705882354), mid=Score(precision=0.2777777777777778, recall=0.3125, fmeasure=0.29411764705882354), high=Score(precision=0.2777777777777778, recall=0.3125, fmeasure=0.29411764705882354)), 'rouge2': AggregateScore(low=Score(precision=0.11428571428571428, recall=0.12903225806451613, fmeasure=0.12121212121212123), mid=Score(precision=0.11428571428571428, recall=0.12903225806451613, fmeasure=0.12121212121212123), high=Score(precision=0.11428571428571428, recall=0.12903225806451613, fmeasure=0.12121212121212123)), 'rougeL': AggregateScore(low=Score(precision=0.19444444444444445, recall=0.21875, fmeasure=0.2058823529411765), mid=Score(precision=0.19444444444444445, recall=0.21875, fmeasure=0.2058823529411765), high=Score(precision=0.19444444444444445, recall=0.21875, fmeasure=0.2058823529411765)), 'rougeLsum': AggregateScore(low=Score(precision=0.19444444444444445, recall=0.21875, fmeasure=0.2058823529411765), mid=Score(precision=0.19444444444444445, recall=0.21875, fmeasure=0.2058823529411765), high=Score(precision=0.19444444444444445, recall=0.21875, fmeasure=0.2058823529411765))}\n",
      "\n",
      "================================================================================\n",
      "\n",
      "Article 109 ROUGE scores:\n",
      "{'rouge1': AggregateScore(low=Score(precision=0.47058823529411764, recall=0.3404255319148936, fmeasure=0.39506172839506176), mid=Score(precision=0.47058823529411764, recall=0.3404255319148936, fmeasure=0.39506172839506176), high=Score(precision=0.47058823529411764, recall=0.3404255319148936, fmeasure=0.39506172839506176)), 'rouge2': AggregateScore(low=Score(precision=0.15151515151515152, recall=0.10869565217391304, fmeasure=0.12658227848101267), mid=Score(precision=0.15151515151515152, recall=0.10869565217391304, fmeasure=0.12658227848101267), high=Score(precision=0.15151515151515152, recall=0.10869565217391304, fmeasure=0.12658227848101267)), 'rougeL': AggregateScore(low=Score(precision=0.29411764705882354, recall=0.2127659574468085, fmeasure=0.24691358024691357), mid=Score(precision=0.29411764705882354, recall=0.2127659574468085, fmeasure=0.24691358024691357), high=Score(precision=0.29411764705882354, recall=0.2127659574468085, fmeasure=0.24691358024691357)), 'rougeLsum': AggregateScore(low=Score(precision=0.29411764705882354, recall=0.2127659574468085, fmeasure=0.24691358024691357), mid=Score(precision=0.29411764705882354, recall=0.2127659574468085, fmeasure=0.24691358024691357), high=Score(precision=0.29411764705882354, recall=0.2127659574468085, fmeasure=0.24691358024691357))}\n",
      "\n",
      "================================================================================\n",
      "\n",
      "Article 110 ROUGE scores:\n",
      "{'rouge1': AggregateScore(low=Score(precision=0.14634146341463414, recall=0.2727272727272727, fmeasure=0.19047619047619044), mid=Score(precision=0.14634146341463414, recall=0.2727272727272727, fmeasure=0.19047619047619044), high=Score(precision=0.14634146341463414, recall=0.2727272727272727, fmeasure=0.19047619047619044)), 'rouge2': AggregateScore(low=Score(precision=0.075, recall=0.14285714285714285, fmeasure=0.0983606557377049), mid=Score(precision=0.075, recall=0.14285714285714285, fmeasure=0.0983606557377049), high=Score(precision=0.075, recall=0.14285714285714285, fmeasure=0.0983606557377049)), 'rougeL': AggregateScore(low=Score(precision=0.12195121951219512, recall=0.22727272727272727, fmeasure=0.15873015873015872), mid=Score(precision=0.12195121951219512, recall=0.22727272727272727, fmeasure=0.15873015873015872), high=Score(precision=0.12195121951219512, recall=0.22727272727272727, fmeasure=0.15873015873015872)), 'rougeLsum': AggregateScore(low=Score(precision=0.12195121951219512, recall=0.22727272727272727, fmeasure=0.15873015873015872), mid=Score(precision=0.12195121951219512, recall=0.22727272727272727, fmeasure=0.15873015873015872), high=Score(precision=0.12195121951219512, recall=0.22727272727272727, fmeasure=0.15873015873015872))}\n",
      "\n",
      "================================================================================\n",
      "\n",
      "Article 111 ROUGE scores:\n",
      "{'rouge1': AggregateScore(low=Score(precision=0.06666666666666667, recall=0.3333333333333333, fmeasure=0.1111111111111111), mid=Score(precision=0.06666666666666667, recall=0.3333333333333333, fmeasure=0.1111111111111111), high=Score(precision=0.06666666666666667, recall=0.3333333333333333, fmeasure=0.1111111111111111)), 'rouge2': AggregateScore(low=Score(precision=0.022727272727272728, recall=0.125, fmeasure=0.038461538461538464), mid=Score(precision=0.022727272727272728, recall=0.125, fmeasure=0.038461538461538464), high=Score(precision=0.022727272727272728, recall=0.125, fmeasure=0.038461538461538464)), 'rougeL': AggregateScore(low=Score(precision=0.06666666666666667, recall=0.3333333333333333, fmeasure=0.1111111111111111), mid=Score(precision=0.06666666666666667, recall=0.3333333333333333, fmeasure=0.1111111111111111), high=Score(precision=0.06666666666666667, recall=0.3333333333333333, fmeasure=0.1111111111111111)), 'rougeLsum': AggregateScore(low=Score(precision=0.06666666666666667, recall=0.3333333333333333, fmeasure=0.1111111111111111), mid=Score(precision=0.06666666666666667, recall=0.3333333333333333, fmeasure=0.1111111111111111), high=Score(precision=0.06666666666666667, recall=0.3333333333333333, fmeasure=0.1111111111111111))}\n",
      "\n",
      "================================================================================\n",
      "\n",
      "Article 112 ROUGE scores:\n",
      "{'rouge1': AggregateScore(low=Score(precision=0.3103448275862069, recall=0.5294117647058824, fmeasure=0.391304347826087), mid=Score(precision=0.3103448275862069, recall=0.5294117647058824, fmeasure=0.391304347826087), high=Score(precision=0.3103448275862069, recall=0.5294117647058824, fmeasure=0.391304347826087)), 'rouge2': AggregateScore(low=Score(precision=0.08771929824561403, recall=0.15151515151515152, fmeasure=0.1111111111111111), mid=Score(precision=0.08771929824561403, recall=0.15151515151515152, fmeasure=0.1111111111111111), high=Score(precision=0.08771929824561403, recall=0.15151515151515152, fmeasure=0.1111111111111111)), 'rougeL': AggregateScore(low=Score(precision=0.1724137931034483, recall=0.29411764705882354, fmeasure=0.2173913043478261), mid=Score(precision=0.1724137931034483, recall=0.29411764705882354, fmeasure=0.2173913043478261), high=Score(precision=0.1724137931034483, recall=0.29411764705882354, fmeasure=0.2173913043478261)), 'rougeLsum': AggregateScore(low=Score(precision=0.1724137931034483, recall=0.29411764705882354, fmeasure=0.2173913043478261), mid=Score(precision=0.1724137931034483, recall=0.29411764705882354, fmeasure=0.2173913043478261), high=Score(precision=0.1724137931034483, recall=0.29411764705882354, fmeasure=0.2173913043478261))}\n",
      "\n",
      "================================================================================\n",
      "\n",
      "Article 113 ROUGE scores:\n",
      "{'rouge1': AggregateScore(low=Score(precision=0.5428571428571428, recall=0.7037037037037037, fmeasure=0.6129032258064516), mid=Score(precision=0.5428571428571428, recall=0.7037037037037037, fmeasure=0.6129032258064516), high=Score(precision=0.5428571428571428, recall=0.7037037037037037, fmeasure=0.6129032258064516)), 'rouge2': AggregateScore(low=Score(precision=0.3235294117647059, recall=0.4230769230769231, fmeasure=0.3666666666666667), mid=Score(precision=0.3235294117647059, recall=0.4230769230769231, fmeasure=0.3666666666666667), high=Score(precision=0.3235294117647059, recall=0.4230769230769231, fmeasure=0.3666666666666667)), 'rougeL': AggregateScore(low=Score(precision=0.4, recall=0.5185185185185185, fmeasure=0.45161290322580644), mid=Score(precision=0.4, recall=0.5185185185185185, fmeasure=0.45161290322580644), high=Score(precision=0.4, recall=0.5185185185185185, fmeasure=0.45161290322580644)), 'rougeLsum': AggregateScore(low=Score(precision=0.4, recall=0.5185185185185185, fmeasure=0.45161290322580644), mid=Score(precision=0.4, recall=0.5185185185185185, fmeasure=0.45161290322580644), high=Score(precision=0.4, recall=0.5185185185185185, fmeasure=0.45161290322580644))}\n",
      "\n",
      "================================================================================\n",
      "\n",
      "Article 114 ROUGE scores:\n",
      "{'rouge1': AggregateScore(low=Score(precision=0.2857142857142857, recall=0.3783783783783784, fmeasure=0.32558139534883723), mid=Score(precision=0.2857142857142857, recall=0.3783783783783784, fmeasure=0.32558139534883723), high=Score(precision=0.2857142857142857, recall=0.3783783783783784, fmeasure=0.32558139534883723)), 'rouge2': AggregateScore(low=Score(precision=0.14583333333333334, recall=0.19444444444444445, fmeasure=0.16666666666666666), mid=Score(precision=0.14583333333333334, recall=0.19444444444444445, fmeasure=0.16666666666666666), high=Score(precision=0.14583333333333334, recall=0.19444444444444445, fmeasure=0.16666666666666666)), 'rougeL': AggregateScore(low=Score(precision=0.14285714285714285, recall=0.1891891891891892, fmeasure=0.16279069767441862), mid=Score(precision=0.14285714285714285, recall=0.1891891891891892, fmeasure=0.16279069767441862), high=Score(precision=0.14285714285714285, recall=0.1891891891891892, fmeasure=0.16279069767441862)), 'rougeLsum': AggregateScore(low=Score(precision=0.14285714285714285, recall=0.1891891891891892, fmeasure=0.16279069767441862), mid=Score(precision=0.14285714285714285, recall=0.1891891891891892, fmeasure=0.16279069767441862), high=Score(precision=0.14285714285714285, recall=0.1891891891891892, fmeasure=0.16279069767441862))}\n",
      "\n",
      "================================================================================\n",
      "\n",
      "Article 115 ROUGE scores:\n",
      "{'rouge1': AggregateScore(low=Score(precision=0.1724137931034483, recall=0.4166666666666667, fmeasure=0.2439024390243903), mid=Score(precision=0.1724137931034483, recall=0.4166666666666667, fmeasure=0.2439024390243903), high=Score(precision=0.1724137931034483, recall=0.4166666666666667, fmeasure=0.2439024390243903)), 'rouge2': AggregateScore(low=Score(precision=0.03571428571428571, recall=0.09090909090909091, fmeasure=0.05128205128205127), mid=Score(precision=0.03571428571428571, recall=0.09090909090909091, fmeasure=0.05128205128205127), high=Score(precision=0.03571428571428571, recall=0.09090909090909091, fmeasure=0.05128205128205127)), 'rougeL': AggregateScore(low=Score(precision=0.1724137931034483, recall=0.4166666666666667, fmeasure=0.2439024390243903), mid=Score(precision=0.1724137931034483, recall=0.4166666666666667, fmeasure=0.2439024390243903), high=Score(precision=0.1724137931034483, recall=0.4166666666666667, fmeasure=0.2439024390243903)), 'rougeLsum': AggregateScore(low=Score(precision=0.1724137931034483, recall=0.4166666666666667, fmeasure=0.2439024390243903), mid=Score(precision=0.1724137931034483, recall=0.4166666666666667, fmeasure=0.2439024390243903), high=Score(precision=0.1724137931034483, recall=0.4166666666666667, fmeasure=0.2439024390243903))}\n",
      "\n",
      "================================================================================\n",
      "\n",
      "Article 116 ROUGE scores:\n",
      "{'rouge1': AggregateScore(low=Score(precision=0.09876543209876543, recall=0.27586206896551724, fmeasure=0.14545454545454545), mid=Score(precision=0.09876543209876543, recall=0.27586206896551724, fmeasure=0.14545454545454545), high=Score(precision=0.09876543209876543, recall=0.27586206896551724, fmeasure=0.14545454545454545)), 'rouge2': AggregateScore(low=Score(precision=0.0375, recall=0.10714285714285714, fmeasure=0.05555555555555555), mid=Score(precision=0.0375, recall=0.10714285714285714, fmeasure=0.05555555555555555), high=Score(precision=0.0375, recall=0.10714285714285714, fmeasure=0.05555555555555555)), 'rougeL': AggregateScore(low=Score(precision=0.08641975308641975, recall=0.2413793103448276, fmeasure=0.1272727272727273), mid=Score(precision=0.08641975308641975, recall=0.2413793103448276, fmeasure=0.1272727272727273), high=Score(precision=0.08641975308641975, recall=0.2413793103448276, fmeasure=0.1272727272727273)), 'rougeLsum': AggregateScore(low=Score(precision=0.08641975308641975, recall=0.2413793103448276, fmeasure=0.1272727272727273), mid=Score(precision=0.08641975308641975, recall=0.2413793103448276, fmeasure=0.1272727272727273), high=Score(precision=0.08641975308641975, recall=0.2413793103448276, fmeasure=0.1272727272727273))}\n",
      "\n",
      "================================================================================\n",
      "\n",
      "Article 117 ROUGE scores:\n",
      "{'rouge1': AggregateScore(low=Score(precision=0.1891891891891892, recall=0.3684210526315789, fmeasure=0.25), mid=Score(precision=0.1891891891891892, recall=0.3684210526315789, fmeasure=0.25), high=Score(precision=0.1891891891891892, recall=0.3684210526315789, fmeasure=0.25)), 'rouge2': AggregateScore(low=Score(precision=0.0, recall=0.0, fmeasure=0.0), mid=Score(precision=0.0, recall=0.0, fmeasure=0.0), high=Score(precision=0.0, recall=0.0, fmeasure=0.0)), 'rougeL': AggregateScore(low=Score(precision=0.08108108108108109, recall=0.15789473684210525, fmeasure=0.10714285714285714), mid=Score(precision=0.08108108108108109, recall=0.15789473684210525, fmeasure=0.10714285714285714), high=Score(precision=0.08108108108108109, recall=0.15789473684210525, fmeasure=0.10714285714285714)), 'rougeLsum': AggregateScore(low=Score(precision=0.08108108108108109, recall=0.15789473684210525, fmeasure=0.10714285714285714), mid=Score(precision=0.08108108108108109, recall=0.15789473684210525, fmeasure=0.10714285714285714), high=Score(precision=0.08108108108108109, recall=0.15789473684210525, fmeasure=0.10714285714285714))}\n",
      "\n",
      "================================================================================\n",
      "\n",
      "Article 118 ROUGE scores:\n",
      "{'rouge1': AggregateScore(low=Score(precision=0.203125, recall=0.40625, fmeasure=0.2708333333333333), mid=Score(precision=0.203125, recall=0.40625, fmeasure=0.2708333333333333), high=Score(precision=0.203125, recall=0.40625, fmeasure=0.2708333333333333)), 'rouge2': AggregateScore(low=Score(precision=0.06349206349206349, recall=0.12903225806451613, fmeasure=0.0851063829787234), mid=Score(precision=0.06349206349206349, recall=0.12903225806451613, fmeasure=0.0851063829787234), high=Score(precision=0.06349206349206349, recall=0.12903225806451613, fmeasure=0.0851063829787234)), 'rougeL': AggregateScore(low=Score(precision=0.140625, recall=0.28125, fmeasure=0.1875), mid=Score(precision=0.140625, recall=0.28125, fmeasure=0.1875), high=Score(precision=0.140625, recall=0.28125, fmeasure=0.1875)), 'rougeLsum': AggregateScore(low=Score(precision=0.140625, recall=0.28125, fmeasure=0.1875), mid=Score(precision=0.140625, recall=0.28125, fmeasure=0.1875), high=Score(precision=0.140625, recall=0.28125, fmeasure=0.1875))}\n",
      "\n",
      "================================================================================\n",
      "\n",
      "Article 119 ROUGE scores:\n",
      "{'rouge1': AggregateScore(low=Score(precision=0.2978723404255319, recall=0.7368421052631579, fmeasure=0.4242424242424243), mid=Score(precision=0.2978723404255319, recall=0.7368421052631579, fmeasure=0.4242424242424243), high=Score(precision=0.2978723404255319, recall=0.7368421052631579, fmeasure=0.4242424242424243)), 'rouge2': AggregateScore(low=Score(precision=0.17391304347826086, recall=0.4444444444444444, fmeasure=0.25), mid=Score(precision=0.17391304347826086, recall=0.4444444444444444, fmeasure=0.25), high=Score(precision=0.17391304347826086, recall=0.4444444444444444, fmeasure=0.25)), 'rougeL': AggregateScore(low=Score(precision=0.2127659574468085, recall=0.5263157894736842, fmeasure=0.30303030303030304), mid=Score(precision=0.2127659574468085, recall=0.5263157894736842, fmeasure=0.30303030303030304), high=Score(precision=0.2127659574468085, recall=0.5263157894736842, fmeasure=0.30303030303030304)), 'rougeLsum': AggregateScore(low=Score(precision=0.2127659574468085, recall=0.5263157894736842, fmeasure=0.30303030303030304), mid=Score(precision=0.2127659574468085, recall=0.5263157894736842, fmeasure=0.30303030303030304), high=Score(precision=0.2127659574468085, recall=0.5263157894736842, fmeasure=0.30303030303030304))}\n",
      "\n",
      "================================================================================\n",
      "\n",
      "Article 120 ROUGE scores:\n",
      "{'rouge1': AggregateScore(low=Score(precision=0.0, recall=0.0, fmeasure=0.0), mid=Score(precision=0.0, recall=0.0, fmeasure=0.0), high=Score(precision=0.0, recall=0.0, fmeasure=0.0)), 'rouge2': AggregateScore(low=Score(precision=0.0, recall=0.0, fmeasure=0.0), mid=Score(precision=0.0, recall=0.0, fmeasure=0.0), high=Score(precision=0.0, recall=0.0, fmeasure=0.0)), 'rougeL': AggregateScore(low=Score(precision=0.0, recall=0.0, fmeasure=0.0), mid=Score(precision=0.0, recall=0.0, fmeasure=0.0), high=Score(precision=0.0, recall=0.0, fmeasure=0.0)), 'rougeLsum': AggregateScore(low=Score(precision=0.0, recall=0.0, fmeasure=0.0), mid=Score(precision=0.0, recall=0.0, fmeasure=0.0), high=Score(precision=0.0, recall=0.0, fmeasure=0.0))}\n",
      "\n",
      "================================================================================\n",
      "\n",
      "Article 121 ROUGE scores:\n",
      "{'rouge1': AggregateScore(low=Score(precision=0.05128205128205128, recall=0.16666666666666666, fmeasure=0.07843137254901959), mid=Score(precision=0.05128205128205128, recall=0.16666666666666666, fmeasure=0.07843137254901959), high=Score(precision=0.05128205128205128, recall=0.16666666666666666, fmeasure=0.07843137254901959)), 'rouge2': AggregateScore(low=Score(precision=0.0, recall=0.0, fmeasure=0.0), mid=Score(precision=0.0, recall=0.0, fmeasure=0.0), high=Score(precision=0.0, recall=0.0, fmeasure=0.0)), 'rougeL': AggregateScore(low=Score(precision=0.05128205128205128, recall=0.16666666666666666, fmeasure=0.07843137254901959), mid=Score(precision=0.05128205128205128, recall=0.16666666666666666, fmeasure=0.07843137254901959), high=Score(precision=0.05128205128205128, recall=0.16666666666666666, fmeasure=0.07843137254901959)), 'rougeLsum': AggregateScore(low=Score(precision=0.05128205128205128, recall=0.16666666666666666, fmeasure=0.07843137254901959), mid=Score(precision=0.05128205128205128, recall=0.16666666666666666, fmeasure=0.07843137254901959), high=Score(precision=0.05128205128205128, recall=0.16666666666666666, fmeasure=0.07843137254901959))}\n",
      "\n",
      "================================================================================\n",
      "\n",
      "Article 122 ROUGE scores:\n",
      "{'rouge1': AggregateScore(low=Score(precision=0.23255813953488372, recall=0.47619047619047616, fmeasure=0.3125), mid=Score(precision=0.23255813953488372, recall=0.47619047619047616, fmeasure=0.3125), high=Score(precision=0.23255813953488372, recall=0.47619047619047616, fmeasure=0.3125)), 'rouge2': AggregateScore(low=Score(precision=0.07142857142857142, recall=0.15, fmeasure=0.09677419354838708), mid=Score(precision=0.07142857142857142, recall=0.15, fmeasure=0.09677419354838708), high=Score(precision=0.07142857142857142, recall=0.15, fmeasure=0.09677419354838708)), 'rougeL': AggregateScore(low=Score(precision=0.13953488372093023, recall=0.2857142857142857, fmeasure=0.18749999999999997), mid=Score(precision=0.13953488372093023, recall=0.2857142857142857, fmeasure=0.18749999999999997), high=Score(precision=0.13953488372093023, recall=0.2857142857142857, fmeasure=0.18749999999999997)), 'rougeLsum': AggregateScore(low=Score(precision=0.13953488372093023, recall=0.2857142857142857, fmeasure=0.18749999999999997), mid=Score(precision=0.13953488372093023, recall=0.2857142857142857, fmeasure=0.18749999999999997), high=Score(precision=0.13953488372093023, recall=0.2857142857142857, fmeasure=0.18749999999999997))}\n",
      "\n",
      "================================================================================\n",
      "\n",
      "Article 123 ROUGE scores:\n",
      "{'rouge1': AggregateScore(low=Score(precision=0.2727272727272727, recall=0.42857142857142855, fmeasure=0.33333333333333326), mid=Score(precision=0.2727272727272727, recall=0.42857142857142855, fmeasure=0.33333333333333326), high=Score(precision=0.2727272727272727, recall=0.42857142857142855, fmeasure=0.33333333333333326)), 'rouge2': AggregateScore(low=Score(precision=0.09259259259259259, recall=0.14705882352941177, fmeasure=0.11363636363636363), mid=Score(precision=0.09259259259259259, recall=0.14705882352941177, fmeasure=0.11363636363636363), high=Score(precision=0.09259259259259259, recall=0.14705882352941177, fmeasure=0.11363636363636363)), 'rougeL': AggregateScore(low=Score(precision=0.18181818181818182, recall=0.2857142857142857, fmeasure=0.2222222222222222), mid=Score(precision=0.18181818181818182, recall=0.2857142857142857, fmeasure=0.2222222222222222), high=Score(precision=0.18181818181818182, recall=0.2857142857142857, fmeasure=0.2222222222222222)), 'rougeLsum': AggregateScore(low=Score(precision=0.18181818181818182, recall=0.2857142857142857, fmeasure=0.2222222222222222), mid=Score(precision=0.18181818181818182, recall=0.2857142857142857, fmeasure=0.2222222222222222), high=Score(precision=0.18181818181818182, recall=0.2857142857142857, fmeasure=0.2222222222222222))}\n",
      "\n",
      "================================================================================\n",
      "\n",
      "Article 124 ROUGE scores:\n",
      "{'rouge1': AggregateScore(low=Score(precision=0.02, recall=0.14285714285714285, fmeasure=0.03508771929824562), mid=Score(precision=0.02, recall=0.14285714285714285, fmeasure=0.03508771929824562), high=Score(precision=0.02, recall=0.14285714285714285, fmeasure=0.03508771929824562)), 'rouge2': AggregateScore(low=Score(precision=0.0, recall=0.0, fmeasure=0.0), mid=Score(precision=0.0, recall=0.0, fmeasure=0.0), high=Score(precision=0.0, recall=0.0, fmeasure=0.0)), 'rougeL': AggregateScore(low=Score(precision=0.02, recall=0.14285714285714285, fmeasure=0.03508771929824562), mid=Score(precision=0.02, recall=0.14285714285714285, fmeasure=0.03508771929824562), high=Score(precision=0.02, recall=0.14285714285714285, fmeasure=0.03508771929824562)), 'rougeLsum': AggregateScore(low=Score(precision=0.02, recall=0.14285714285714285, fmeasure=0.03508771929824562), mid=Score(precision=0.02, recall=0.14285714285714285, fmeasure=0.03508771929824562), high=Score(precision=0.02, recall=0.14285714285714285, fmeasure=0.03508771929824562))}\n",
      "\n",
      "================================================================================\n",
      "\n",
      "Article 125 ROUGE scores:\n",
      "{'rouge1': AggregateScore(low=Score(precision=0.3170731707317073, recall=0.3939393939393939, fmeasure=0.35135135135135137), mid=Score(precision=0.3170731707317073, recall=0.3939393939393939, fmeasure=0.35135135135135137), high=Score(precision=0.3170731707317073, recall=0.3939393939393939, fmeasure=0.35135135135135137)), 'rouge2': AggregateScore(low=Score(precision=0.05, recall=0.0625, fmeasure=0.05555555555555556), mid=Score(precision=0.05, recall=0.0625, fmeasure=0.05555555555555556), high=Score(precision=0.05, recall=0.0625, fmeasure=0.05555555555555556)), 'rougeL': AggregateScore(low=Score(precision=0.14634146341463414, recall=0.18181818181818182, fmeasure=0.16216216216216217), mid=Score(precision=0.14634146341463414, recall=0.18181818181818182, fmeasure=0.16216216216216217), high=Score(precision=0.14634146341463414, recall=0.18181818181818182, fmeasure=0.16216216216216217)), 'rougeLsum': AggregateScore(low=Score(precision=0.14634146341463414, recall=0.18181818181818182, fmeasure=0.16216216216216217), mid=Score(precision=0.14634146341463414, recall=0.18181818181818182, fmeasure=0.16216216216216217), high=Score(precision=0.14634146341463414, recall=0.18181818181818182, fmeasure=0.16216216216216217))}\n",
      "\n",
      "================================================================================\n",
      "\n",
      "Article 126 ROUGE scores:\n",
      "{'rouge1': AggregateScore(low=Score(precision=0.37777777777777777, recall=0.8095238095238095, fmeasure=0.5151515151515151), mid=Score(precision=0.37777777777777777, recall=0.8095238095238095, fmeasure=0.5151515151515151), high=Score(precision=0.37777777777777777, recall=0.8095238095238095, fmeasure=0.5151515151515151)), 'rouge2': AggregateScore(low=Score(precision=0.20454545454545456, recall=0.45, fmeasure=0.28125000000000006), mid=Score(precision=0.20454545454545456, recall=0.45, fmeasure=0.28125000000000006), high=Score(precision=0.20454545454545456, recall=0.45, fmeasure=0.28125000000000006)), 'rougeL': AggregateScore(low=Score(precision=0.26666666666666666, recall=0.5714285714285714, fmeasure=0.36363636363636365), mid=Score(precision=0.26666666666666666, recall=0.5714285714285714, fmeasure=0.36363636363636365), high=Score(precision=0.26666666666666666, recall=0.5714285714285714, fmeasure=0.36363636363636365)), 'rougeLsum': AggregateScore(low=Score(precision=0.26666666666666666, recall=0.5714285714285714, fmeasure=0.36363636363636365), mid=Score(precision=0.26666666666666666, recall=0.5714285714285714, fmeasure=0.36363636363636365), high=Score(precision=0.26666666666666666, recall=0.5714285714285714, fmeasure=0.36363636363636365))}\n",
      "\n",
      "================================================================================\n",
      "\n",
      "Article 127 ROUGE scores:\n",
      "{'rouge1': AggregateScore(low=Score(precision=0.22641509433962265, recall=0.5454545454545454, fmeasure=0.32), mid=Score(precision=0.22641509433962265, recall=0.5454545454545454, fmeasure=0.32), high=Score(precision=0.22641509433962265, recall=0.5454545454545454, fmeasure=0.32)), 'rouge2': AggregateScore(low=Score(precision=0.07692307692307693, recall=0.19047619047619047, fmeasure=0.10958904109589042), mid=Score(precision=0.07692307692307693, recall=0.19047619047619047, fmeasure=0.10958904109589042), high=Score(precision=0.07692307692307693, recall=0.19047619047619047, fmeasure=0.10958904109589042)), 'rougeL': AggregateScore(low=Score(precision=0.11320754716981132, recall=0.2727272727272727, fmeasure=0.16), mid=Score(precision=0.11320754716981132, recall=0.2727272727272727, fmeasure=0.16), high=Score(precision=0.11320754716981132, recall=0.2727272727272727, fmeasure=0.16)), 'rougeLsum': AggregateScore(low=Score(precision=0.11320754716981132, recall=0.2727272727272727, fmeasure=0.16), mid=Score(precision=0.11320754716981132, recall=0.2727272727272727, fmeasure=0.16), high=Score(precision=0.11320754716981132, recall=0.2727272727272727, fmeasure=0.16))}\n",
      "\n",
      "================================================================================\n",
      "\n",
      "Article 128 ROUGE scores:\n",
      "{'rouge1': AggregateScore(low=Score(precision=0.30612244897959184, recall=0.4838709677419355, fmeasure=0.375), mid=Score(precision=0.30612244897959184, recall=0.4838709677419355, fmeasure=0.375), high=Score(precision=0.30612244897959184, recall=0.4838709677419355, fmeasure=0.375)), 'rouge2': AggregateScore(low=Score(precision=0.07216494845360824, recall=0.11475409836065574, fmeasure=0.08860759493670886), mid=Score(precision=0.07216494845360824, recall=0.11475409836065574, fmeasure=0.08860759493670886), high=Score(precision=0.07216494845360824, recall=0.11475409836065574, fmeasure=0.08860759493670886)), 'rougeL': AggregateScore(low=Score(precision=0.17346938775510204, recall=0.27419354838709675, fmeasure=0.2125), mid=Score(precision=0.17346938775510204, recall=0.27419354838709675, fmeasure=0.2125), high=Score(precision=0.17346938775510204, recall=0.27419354838709675, fmeasure=0.2125)), 'rougeLsum': AggregateScore(low=Score(precision=0.17346938775510204, recall=0.27419354838709675, fmeasure=0.2125), mid=Score(precision=0.17346938775510204, recall=0.27419354838709675, fmeasure=0.2125), high=Score(precision=0.17346938775510204, recall=0.27419354838709675, fmeasure=0.2125))}\n",
      "\n",
      "================================================================================\n",
      "\n",
      "Article 129 ROUGE scores:\n",
      "{'rouge1': AggregateScore(low=Score(precision=0.3142857142857143, recall=0.39285714285714285, fmeasure=0.34920634920634924), mid=Score(precision=0.3142857142857143, recall=0.39285714285714285, fmeasure=0.34920634920634924), high=Score(precision=0.3142857142857143, recall=0.39285714285714285, fmeasure=0.34920634920634924)), 'rouge2': AggregateScore(low=Score(precision=0.058823529411764705, recall=0.07407407407407407, fmeasure=0.06557377049180327), mid=Score(precision=0.058823529411764705, recall=0.07407407407407407, fmeasure=0.06557377049180327), high=Score(precision=0.058823529411764705, recall=0.07407407407407407, fmeasure=0.06557377049180327)), 'rougeL': AggregateScore(low=Score(precision=0.2857142857142857, recall=0.35714285714285715, fmeasure=0.3174603174603175), mid=Score(precision=0.2857142857142857, recall=0.35714285714285715, fmeasure=0.3174603174603175), high=Score(precision=0.2857142857142857, recall=0.35714285714285715, fmeasure=0.3174603174603175)), 'rougeLsum': AggregateScore(low=Score(precision=0.2857142857142857, recall=0.35714285714285715, fmeasure=0.3174603174603175), mid=Score(precision=0.2857142857142857, recall=0.35714285714285715, fmeasure=0.3174603174603175), high=Score(precision=0.2857142857142857, recall=0.35714285714285715, fmeasure=0.3174603174603175))}\n",
      "\n",
      "================================================================================\n",
      "\n",
      "Article 130 ROUGE scores:\n",
      "{'rouge1': AggregateScore(low=Score(precision=0.1956521739130435, recall=0.2727272727272727, fmeasure=0.2278481012658228), mid=Score(precision=0.1956521739130435, recall=0.2727272727272727, fmeasure=0.2278481012658228), high=Score(precision=0.1956521739130435, recall=0.2727272727272727, fmeasure=0.2278481012658228)), 'rouge2': AggregateScore(low=Score(precision=0.044444444444444446, recall=0.0625, fmeasure=0.051948051948051945), mid=Score(precision=0.044444444444444446, recall=0.0625, fmeasure=0.051948051948051945), high=Score(precision=0.044444444444444446, recall=0.0625, fmeasure=0.051948051948051945)), 'rougeL': AggregateScore(low=Score(precision=0.15217391304347827, recall=0.21212121212121213, fmeasure=0.17721518987341772), mid=Score(precision=0.15217391304347827, recall=0.21212121212121213, fmeasure=0.17721518987341772), high=Score(precision=0.15217391304347827, recall=0.21212121212121213, fmeasure=0.17721518987341772)), 'rougeLsum': AggregateScore(low=Score(precision=0.15217391304347827, recall=0.21212121212121213, fmeasure=0.17721518987341772), mid=Score(precision=0.15217391304347827, recall=0.21212121212121213, fmeasure=0.17721518987341772), high=Score(precision=0.15217391304347827, recall=0.21212121212121213, fmeasure=0.17721518987341772))}\n",
      "\n",
      "================================================================================\n",
      "\n",
      "Article 131 ROUGE scores:\n",
      "{'rouge1': AggregateScore(low=Score(precision=0.13114754098360656, recall=0.4, fmeasure=0.19753086419753088), mid=Score(precision=0.13114754098360656, recall=0.4, fmeasure=0.19753086419753088), high=Score(precision=0.13114754098360656, recall=0.4, fmeasure=0.19753086419753088)), 'rouge2': AggregateScore(low=Score(precision=0.03333333333333333, recall=0.10526315789473684, fmeasure=0.05063291139240506), mid=Score(precision=0.03333333333333333, recall=0.10526315789473684, fmeasure=0.05063291139240506), high=Score(precision=0.03333333333333333, recall=0.10526315789473684, fmeasure=0.05063291139240506)), 'rougeL': AggregateScore(low=Score(precision=0.11475409836065574, recall=0.35, fmeasure=0.1728395061728395), mid=Score(precision=0.11475409836065574, recall=0.35, fmeasure=0.1728395061728395), high=Score(precision=0.11475409836065574, recall=0.35, fmeasure=0.1728395061728395)), 'rougeLsum': AggregateScore(low=Score(precision=0.11475409836065574, recall=0.35, fmeasure=0.1728395061728395), mid=Score(precision=0.11475409836065574, recall=0.35, fmeasure=0.1728395061728395), high=Score(precision=0.11475409836065574, recall=0.35, fmeasure=0.1728395061728395))}\n",
      "\n",
      "================================================================================\n",
      "\n",
      "Article 132 ROUGE scores:\n",
      "{'rouge1': AggregateScore(low=Score(precision=0.11864406779661017, recall=0.28, fmeasure=0.16666666666666666), mid=Score(precision=0.11864406779661017, recall=0.28, fmeasure=0.16666666666666666), high=Score(precision=0.11864406779661017, recall=0.28, fmeasure=0.16666666666666666)), 'rouge2': AggregateScore(low=Score(precision=0.017241379310344827, recall=0.041666666666666664, fmeasure=0.024390243902439025), mid=Score(precision=0.017241379310344827, recall=0.041666666666666664, fmeasure=0.024390243902439025), high=Score(precision=0.017241379310344827, recall=0.041666666666666664, fmeasure=0.024390243902439025)), 'rougeL': AggregateScore(low=Score(precision=0.06779661016949153, recall=0.16, fmeasure=0.09523809523809523), mid=Score(precision=0.06779661016949153, recall=0.16, fmeasure=0.09523809523809523), high=Score(precision=0.06779661016949153, recall=0.16, fmeasure=0.09523809523809523)), 'rougeLsum': AggregateScore(low=Score(precision=0.06779661016949153, recall=0.16, fmeasure=0.09523809523809523), mid=Score(precision=0.06779661016949153, recall=0.16, fmeasure=0.09523809523809523), high=Score(precision=0.06779661016949153, recall=0.16, fmeasure=0.09523809523809523))}\n",
      "\n",
      "================================================================================\n",
      "\n",
      "Article 133 ROUGE scores:\n",
      "{'rouge1': AggregateScore(low=Score(precision=0.1323529411764706, recall=0.32142857142857145, fmeasure=0.18749999999999997), mid=Score(precision=0.1323529411764706, recall=0.32142857142857145, fmeasure=0.18749999999999997), high=Score(precision=0.1323529411764706, recall=0.32142857142857145, fmeasure=0.18749999999999997)), 'rouge2': AggregateScore(low=Score(precision=0.04477611940298507, recall=0.1111111111111111, fmeasure=0.06382978723404255), mid=Score(precision=0.04477611940298507, recall=0.1111111111111111, fmeasure=0.06382978723404255), high=Score(precision=0.04477611940298507, recall=0.1111111111111111, fmeasure=0.06382978723404255)), 'rougeL': AggregateScore(low=Score(precision=0.08823529411764706, recall=0.21428571428571427, fmeasure=0.125), mid=Score(precision=0.08823529411764706, recall=0.21428571428571427, fmeasure=0.125), high=Score(precision=0.08823529411764706, recall=0.21428571428571427, fmeasure=0.125)), 'rougeLsum': AggregateScore(low=Score(precision=0.08823529411764706, recall=0.21428571428571427, fmeasure=0.125), mid=Score(precision=0.08823529411764706, recall=0.21428571428571427, fmeasure=0.125), high=Score(precision=0.08823529411764706, recall=0.21428571428571427, fmeasure=0.125))}\n",
      "\n",
      "================================================================================\n",
      "\n",
      "Article 134 ROUGE scores:\n",
      "{'rouge1': AggregateScore(low=Score(precision=0.20512820512820512, recall=0.5, fmeasure=0.29090909090909095), mid=Score(precision=0.20512820512820512, recall=0.5, fmeasure=0.29090909090909095), high=Score(precision=0.20512820512820512, recall=0.5, fmeasure=0.29090909090909095)), 'rouge2': AggregateScore(low=Score(precision=0.02631578947368421, recall=0.06666666666666667, fmeasure=0.03773584905660377), mid=Score(precision=0.02631578947368421, recall=0.06666666666666667, fmeasure=0.03773584905660377), high=Score(precision=0.02631578947368421, recall=0.06666666666666667, fmeasure=0.03773584905660377)), 'rougeL': AggregateScore(low=Score(precision=0.1282051282051282, recall=0.3125, fmeasure=0.1818181818181818), mid=Score(precision=0.1282051282051282, recall=0.3125, fmeasure=0.1818181818181818), high=Score(precision=0.1282051282051282, recall=0.3125, fmeasure=0.1818181818181818)), 'rougeLsum': AggregateScore(low=Score(precision=0.1282051282051282, recall=0.3125, fmeasure=0.1818181818181818), mid=Score(precision=0.1282051282051282, recall=0.3125, fmeasure=0.1818181818181818), high=Score(precision=0.1282051282051282, recall=0.3125, fmeasure=0.1818181818181818))}\n",
      "\n",
      "================================================================================\n",
      "\n",
      "Article 135 ROUGE scores:\n",
      "{'rouge1': AggregateScore(low=Score(precision=0.2608695652173913, recall=0.19047619047619047, fmeasure=0.2201834862385321), mid=Score(precision=0.2608695652173913, recall=0.19047619047619047, fmeasure=0.2201834862385321), high=Score(precision=0.2608695652173913, recall=0.19047619047619047, fmeasure=0.2201834862385321)), 'rouge2': AggregateScore(low=Score(precision=0.06666666666666667, recall=0.04838709677419355, fmeasure=0.056074766355140186), mid=Score(precision=0.06666666666666667, recall=0.04838709677419355, fmeasure=0.056074766355140186), high=Score(precision=0.06666666666666667, recall=0.04838709677419355, fmeasure=0.056074766355140186)), 'rougeL': AggregateScore(low=Score(precision=0.15217391304347827, recall=0.1111111111111111, fmeasure=0.12844036697247704), mid=Score(precision=0.15217391304347827, recall=0.1111111111111111, fmeasure=0.12844036697247704), high=Score(precision=0.15217391304347827, recall=0.1111111111111111, fmeasure=0.12844036697247704)), 'rougeLsum': AggregateScore(low=Score(precision=0.15217391304347827, recall=0.1111111111111111, fmeasure=0.12844036697247704), mid=Score(precision=0.15217391304347827, recall=0.1111111111111111, fmeasure=0.12844036697247704), high=Score(precision=0.15217391304347827, recall=0.1111111111111111, fmeasure=0.12844036697247704))}\n",
      "\n",
      "================================================================================\n",
      "\n",
      "Article 136 ROUGE scores:\n",
      "{'rouge1': AggregateScore(low=Score(precision=0.48148148148148145, recall=0.6842105263157895, fmeasure=0.5652173913043478), mid=Score(precision=0.48148148148148145, recall=0.6842105263157895, fmeasure=0.5652173913043478), high=Score(precision=0.48148148148148145, recall=0.6842105263157895, fmeasure=0.5652173913043478)), 'rouge2': AggregateScore(low=Score(precision=0.2692307692307692, recall=0.3888888888888889, fmeasure=0.3181818181818182), mid=Score(precision=0.2692307692307692, recall=0.3888888888888889, fmeasure=0.3181818181818182), high=Score(precision=0.2692307692307692, recall=0.3888888888888889, fmeasure=0.3181818181818182)), 'rougeL': AggregateScore(low=Score(precision=0.2962962962962963, recall=0.42105263157894735, fmeasure=0.34782608695652173), mid=Score(precision=0.2962962962962963, recall=0.42105263157894735, fmeasure=0.34782608695652173), high=Score(precision=0.2962962962962963, recall=0.42105263157894735, fmeasure=0.34782608695652173)), 'rougeLsum': AggregateScore(low=Score(precision=0.2962962962962963, recall=0.42105263157894735, fmeasure=0.34782608695652173), mid=Score(precision=0.2962962962962963, recall=0.42105263157894735, fmeasure=0.34782608695652173), high=Score(precision=0.2962962962962963, recall=0.42105263157894735, fmeasure=0.34782608695652173))}\n",
      "\n",
      "================================================================================\n",
      "\n",
      "Article 137 ROUGE scores:\n",
      "{'rouge1': AggregateScore(low=Score(precision=0.4444444444444444, recall=0.35555555555555557, fmeasure=0.3950617283950617), mid=Score(precision=0.4444444444444444, recall=0.35555555555555557, fmeasure=0.3950617283950617), high=Score(precision=0.4444444444444444, recall=0.35555555555555557, fmeasure=0.3950617283950617)), 'rouge2': AggregateScore(low=Score(precision=0.22857142857142856, recall=0.18181818181818182, fmeasure=0.20253164556962025), mid=Score(precision=0.22857142857142856, recall=0.18181818181818182, fmeasure=0.20253164556962025), high=Score(precision=0.22857142857142856, recall=0.18181818181818182, fmeasure=0.20253164556962025)), 'rougeL': AggregateScore(low=Score(precision=0.25, recall=0.2, fmeasure=0.22222222222222224), mid=Score(precision=0.25, recall=0.2, fmeasure=0.22222222222222224), high=Score(precision=0.25, recall=0.2, fmeasure=0.22222222222222224)), 'rougeLsum': AggregateScore(low=Score(precision=0.25, recall=0.2, fmeasure=0.22222222222222224), mid=Score(precision=0.25, recall=0.2, fmeasure=0.22222222222222224), high=Score(precision=0.25, recall=0.2, fmeasure=0.22222222222222224))}\n",
      "\n",
      "================================================================================\n",
      "\n",
      "Article 138 ROUGE scores:\n",
      "{'rouge1': AggregateScore(low=Score(precision=0.19148936170212766, recall=0.6428571428571429, fmeasure=0.29508196721311475), mid=Score(precision=0.19148936170212766, recall=0.6428571428571429, fmeasure=0.29508196721311475), high=Score(precision=0.19148936170212766, recall=0.6428571428571429, fmeasure=0.29508196721311475)), 'rouge2': AggregateScore(low=Score(precision=0.10869565217391304, recall=0.38461538461538464, fmeasure=0.1694915254237288), mid=Score(precision=0.10869565217391304, recall=0.38461538461538464, fmeasure=0.1694915254237288), high=Score(precision=0.10869565217391304, recall=0.38461538461538464, fmeasure=0.1694915254237288)), 'rougeL': AggregateScore(low=Score(precision=0.19148936170212766, recall=0.6428571428571429, fmeasure=0.29508196721311475), mid=Score(precision=0.19148936170212766, recall=0.6428571428571429, fmeasure=0.29508196721311475), high=Score(precision=0.19148936170212766, recall=0.6428571428571429, fmeasure=0.29508196721311475)), 'rougeLsum': AggregateScore(low=Score(precision=0.19148936170212766, recall=0.6428571428571429, fmeasure=0.29508196721311475), mid=Score(precision=0.19148936170212766, recall=0.6428571428571429, fmeasure=0.29508196721311475), high=Score(precision=0.19148936170212766, recall=0.6428571428571429, fmeasure=0.29508196721311475))}\n",
      "\n",
      "================================================================================\n",
      "\n",
      "Article 139 ROUGE scores:\n",
      "{'rouge1': AggregateScore(low=Score(precision=0.18181818181818182, recall=0.4166666666666667, fmeasure=0.25316455696202533), mid=Score(precision=0.18181818181818182, recall=0.4166666666666667, fmeasure=0.25316455696202533), high=Score(precision=0.18181818181818182, recall=0.4166666666666667, fmeasure=0.25316455696202533)), 'rouge2': AggregateScore(low=Score(precision=0.07407407407407407, recall=0.17391304347826086, fmeasure=0.10389610389610389), mid=Score(precision=0.07407407407407407, recall=0.17391304347826086, fmeasure=0.10389610389610389), high=Score(precision=0.07407407407407407, recall=0.17391304347826086, fmeasure=0.10389610389610389)), 'rougeL': AggregateScore(low=Score(precision=0.14545454545454545, recall=0.3333333333333333, fmeasure=0.20253164556962022), mid=Score(precision=0.14545454545454545, recall=0.3333333333333333, fmeasure=0.20253164556962022), high=Score(precision=0.14545454545454545, recall=0.3333333333333333, fmeasure=0.20253164556962022)), 'rougeLsum': AggregateScore(low=Score(precision=0.14545454545454545, recall=0.3333333333333333, fmeasure=0.20253164556962022), mid=Score(precision=0.14545454545454545, recall=0.3333333333333333, fmeasure=0.20253164556962022), high=Score(precision=0.14545454545454545, recall=0.3333333333333333, fmeasure=0.20253164556962022))}\n",
      "\n",
      "================================================================================\n",
      "\n",
      "Article 140 ROUGE scores:\n",
      "{'rouge1': AggregateScore(low=Score(precision=0.18604651162790697, recall=0.4444444444444444, fmeasure=0.2622950819672131), mid=Score(precision=0.18604651162790697, recall=0.4444444444444444, fmeasure=0.2622950819672131), high=Score(precision=0.18604651162790697, recall=0.4444444444444444, fmeasure=0.2622950819672131)), 'rouge2': AggregateScore(low=Score(precision=0.16666666666666666, recall=0.4117647058823529, fmeasure=0.23728813559322035), mid=Score(precision=0.16666666666666666, recall=0.4117647058823529, fmeasure=0.23728813559322035), high=Score(precision=0.16666666666666666, recall=0.4117647058823529, fmeasure=0.23728813559322035)), 'rougeL': AggregateScore(low=Score(precision=0.18604651162790697, recall=0.4444444444444444, fmeasure=0.2622950819672131), mid=Score(precision=0.18604651162790697, recall=0.4444444444444444, fmeasure=0.2622950819672131), high=Score(precision=0.18604651162790697, recall=0.4444444444444444, fmeasure=0.2622950819672131)), 'rougeLsum': AggregateScore(low=Score(precision=0.18604651162790697, recall=0.4444444444444444, fmeasure=0.2622950819672131), mid=Score(precision=0.18604651162790697, recall=0.4444444444444444, fmeasure=0.2622950819672131), high=Score(precision=0.18604651162790697, recall=0.4444444444444444, fmeasure=0.2622950819672131))}\n",
      "\n",
      "================================================================================\n",
      "\n",
      "Article 141 ROUGE scores:\n",
      "{'rouge1': AggregateScore(low=Score(precision=0.2916666666666667, recall=0.3888888888888889, fmeasure=0.3333333333333333), mid=Score(precision=0.2916666666666667, recall=0.3888888888888889, fmeasure=0.3333333333333333), high=Score(precision=0.2916666666666667, recall=0.3888888888888889, fmeasure=0.3333333333333333)), 'rouge2': AggregateScore(low=Score(precision=0.1702127659574468, recall=0.22857142857142856, fmeasure=0.19512195121951217), mid=Score(precision=0.1702127659574468, recall=0.22857142857142856, fmeasure=0.19512195121951217), high=Score(precision=0.1702127659574468, recall=0.22857142857142856, fmeasure=0.19512195121951217)), 'rougeL': AggregateScore(low=Score(precision=0.20833333333333334, recall=0.2777777777777778, fmeasure=0.2380952380952381), mid=Score(precision=0.20833333333333334, recall=0.2777777777777778, fmeasure=0.2380952380952381), high=Score(precision=0.20833333333333334, recall=0.2777777777777778, fmeasure=0.2380952380952381)), 'rougeLsum': AggregateScore(low=Score(precision=0.20833333333333334, recall=0.2777777777777778, fmeasure=0.2380952380952381), mid=Score(precision=0.20833333333333334, recall=0.2777777777777778, fmeasure=0.2380952380952381), high=Score(precision=0.20833333333333334, recall=0.2777777777777778, fmeasure=0.2380952380952381))}\n",
      "\n",
      "================================================================================\n",
      "\n",
      "Article 142 ROUGE scores:\n",
      "{'rouge1': AggregateScore(low=Score(precision=0.0, recall=0.0, fmeasure=0.0), mid=Score(precision=0.0, recall=0.0, fmeasure=0.0), high=Score(precision=0.0, recall=0.0, fmeasure=0.0)), 'rouge2': AggregateScore(low=Score(precision=0.0, recall=0.0, fmeasure=0.0), mid=Score(precision=0.0, recall=0.0, fmeasure=0.0), high=Score(precision=0.0, recall=0.0, fmeasure=0.0)), 'rougeL': AggregateScore(low=Score(precision=0.0, recall=0.0, fmeasure=0.0), mid=Score(precision=0.0, recall=0.0, fmeasure=0.0), high=Score(precision=0.0, recall=0.0, fmeasure=0.0)), 'rougeLsum': AggregateScore(low=Score(precision=0.0, recall=0.0, fmeasure=0.0), mid=Score(precision=0.0, recall=0.0, fmeasure=0.0), high=Score(precision=0.0, recall=0.0, fmeasure=0.0))}\n",
      "\n",
      "================================================================================\n",
      "\n",
      "Article 143 ROUGE scores:\n",
      "{'rouge1': AggregateScore(low=Score(precision=0.23170731707317074, recall=0.6785714285714286, fmeasure=0.34545454545454546), mid=Score(precision=0.23170731707317074, recall=0.6785714285714286, fmeasure=0.34545454545454546), high=Score(precision=0.23170731707317074, recall=0.6785714285714286, fmeasure=0.34545454545454546)), 'rouge2': AggregateScore(low=Score(precision=0.20987654320987653, recall=0.6296296296296297, fmeasure=0.3148148148148148), mid=Score(precision=0.20987654320987653, recall=0.6296296296296297, fmeasure=0.3148148148148148), high=Score(precision=0.20987654320987653, recall=0.6296296296296297, fmeasure=0.3148148148148148)), 'rougeL': AggregateScore(low=Score(precision=0.21951219512195122, recall=0.6428571428571429, fmeasure=0.32727272727272727), mid=Score(precision=0.21951219512195122, recall=0.6428571428571429, fmeasure=0.32727272727272727), high=Score(precision=0.21951219512195122, recall=0.6428571428571429, fmeasure=0.32727272727272727)), 'rougeLsum': AggregateScore(low=Score(precision=0.21951219512195122, recall=0.6428571428571429, fmeasure=0.32727272727272727), mid=Score(precision=0.21951219512195122, recall=0.6428571428571429, fmeasure=0.32727272727272727), high=Score(precision=0.21951219512195122, recall=0.6428571428571429, fmeasure=0.32727272727272727))}\n",
      "\n",
      "================================================================================\n",
      "\n",
      "Article 144 ROUGE scores:\n",
      "{'rouge1': AggregateScore(low=Score(precision=0.10714285714285714, recall=0.2727272727272727, fmeasure=0.15384615384615383), mid=Score(precision=0.10714285714285714, recall=0.2727272727272727, fmeasure=0.15384615384615383), high=Score(precision=0.10714285714285714, recall=0.2727272727272727, fmeasure=0.15384615384615383)), 'rouge2': AggregateScore(low=Score(precision=0.01818181818181818, recall=0.047619047619047616, fmeasure=0.026315789473684206), mid=Score(precision=0.01818181818181818, recall=0.047619047619047616, fmeasure=0.026315789473684206), high=Score(precision=0.01818181818181818, recall=0.047619047619047616, fmeasure=0.026315789473684206)), 'rougeL': AggregateScore(low=Score(precision=0.07142857142857142, recall=0.18181818181818182, fmeasure=0.10256410256410255), mid=Score(precision=0.07142857142857142, recall=0.18181818181818182, fmeasure=0.10256410256410255), high=Score(precision=0.07142857142857142, recall=0.18181818181818182, fmeasure=0.10256410256410255)), 'rougeLsum': AggregateScore(low=Score(precision=0.07142857142857142, recall=0.18181818181818182, fmeasure=0.10256410256410255), mid=Score(precision=0.07142857142857142, recall=0.18181818181818182, fmeasure=0.10256410256410255), high=Score(precision=0.07142857142857142, recall=0.18181818181818182, fmeasure=0.10256410256410255))}\n",
      "\n",
      "================================================================================\n",
      "\n",
      "Article 145 ROUGE scores:\n",
      "{'rouge1': AggregateScore(low=Score(precision=0.1875, recall=0.35294117647058826, fmeasure=0.24489795918367344), mid=Score(precision=0.1875, recall=0.35294117647058826, fmeasure=0.24489795918367344), high=Score(precision=0.1875, recall=0.35294117647058826, fmeasure=0.24489795918367344)), 'rouge2': AggregateScore(low=Score(precision=0.06349206349206349, recall=0.12121212121212122, fmeasure=0.08333333333333333), mid=Score(precision=0.06349206349206349, recall=0.12121212121212122, fmeasure=0.08333333333333333), high=Score(precision=0.06349206349206349, recall=0.12121212121212122, fmeasure=0.08333333333333333)), 'rougeL': AggregateScore(low=Score(precision=0.109375, recall=0.20588235294117646, fmeasure=0.14285714285714285), mid=Score(precision=0.109375, recall=0.20588235294117646, fmeasure=0.14285714285714285), high=Score(precision=0.109375, recall=0.20588235294117646, fmeasure=0.14285714285714285)), 'rougeLsum': AggregateScore(low=Score(precision=0.109375, recall=0.20588235294117646, fmeasure=0.14285714285714285), mid=Score(precision=0.109375, recall=0.20588235294117646, fmeasure=0.14285714285714285), high=Score(precision=0.109375, recall=0.20588235294117646, fmeasure=0.14285714285714285))}\n",
      "\n",
      "================================================================================\n",
      "\n",
      "Article 146 ROUGE scores:\n",
      "{'rouge1': AggregateScore(low=Score(precision=0.02857142857142857, recall=0.029411764705882353, fmeasure=0.02898550724637681), mid=Score(precision=0.02857142857142857, recall=0.029411764705882353, fmeasure=0.02898550724637681), high=Score(precision=0.02857142857142857, recall=0.029411764705882353, fmeasure=0.02898550724637681)), 'rouge2': AggregateScore(low=Score(precision=0.0, recall=0.0, fmeasure=0.0), mid=Score(precision=0.0, recall=0.0, fmeasure=0.0), high=Score(precision=0.0, recall=0.0, fmeasure=0.0)), 'rougeL': AggregateScore(low=Score(precision=0.02857142857142857, recall=0.029411764705882353, fmeasure=0.02898550724637681), mid=Score(precision=0.02857142857142857, recall=0.029411764705882353, fmeasure=0.02898550724637681), high=Score(precision=0.02857142857142857, recall=0.029411764705882353, fmeasure=0.02898550724637681)), 'rougeLsum': AggregateScore(low=Score(precision=0.02857142857142857, recall=0.029411764705882353, fmeasure=0.02898550724637681), mid=Score(precision=0.02857142857142857, recall=0.029411764705882353, fmeasure=0.02898550724637681), high=Score(precision=0.02857142857142857, recall=0.029411764705882353, fmeasure=0.02898550724637681))}\n",
      "\n",
      "================================================================================\n",
      "\n",
      "Article 147 ROUGE scores:\n",
      "{'rouge1': AggregateScore(low=Score(precision=0.24, recall=0.4444444444444444, fmeasure=0.3116883116883117), mid=Score(precision=0.24, recall=0.4444444444444444, fmeasure=0.3116883116883117), high=Score(precision=0.24, recall=0.4444444444444444, fmeasure=0.3116883116883117)), 'rouge2': AggregateScore(low=Score(precision=0.061224489795918366, recall=0.11538461538461539, fmeasure=0.08), mid=Score(precision=0.061224489795918366, recall=0.11538461538461539, fmeasure=0.08), high=Score(precision=0.061224489795918366, recall=0.11538461538461539, fmeasure=0.08)), 'rougeL': AggregateScore(low=Score(precision=0.14, recall=0.25925925925925924, fmeasure=0.18181818181818182), mid=Score(precision=0.14, recall=0.25925925925925924, fmeasure=0.18181818181818182), high=Score(precision=0.14, recall=0.25925925925925924, fmeasure=0.18181818181818182)), 'rougeLsum': AggregateScore(low=Score(precision=0.14, recall=0.25925925925925924, fmeasure=0.18181818181818182), mid=Score(precision=0.14, recall=0.25925925925925924, fmeasure=0.18181818181818182), high=Score(precision=0.14, recall=0.25925925925925924, fmeasure=0.18181818181818182))}\n",
      "\n",
      "================================================================================\n",
      "\n",
      "Article 148 ROUGE scores:\n",
      "{'rouge1': AggregateScore(low=Score(precision=0.2903225806451613, recall=0.6, fmeasure=0.3913043478260869), mid=Score(precision=0.2903225806451613, recall=0.6, fmeasure=0.3913043478260869), high=Score(precision=0.2903225806451613, recall=0.6, fmeasure=0.3913043478260869)), 'rouge2': AggregateScore(low=Score(precision=0.16666666666666666, recall=0.35714285714285715, fmeasure=0.22727272727272724), mid=Score(precision=0.16666666666666666, recall=0.35714285714285715, fmeasure=0.22727272727272724), high=Score(precision=0.16666666666666666, recall=0.35714285714285715, fmeasure=0.22727272727272724)), 'rougeL': AggregateScore(low=Score(precision=0.16129032258064516, recall=0.3333333333333333, fmeasure=0.21739130434782605), mid=Score(precision=0.16129032258064516, recall=0.3333333333333333, fmeasure=0.21739130434782605), high=Score(precision=0.16129032258064516, recall=0.3333333333333333, fmeasure=0.21739130434782605)), 'rougeLsum': AggregateScore(low=Score(precision=0.16129032258064516, recall=0.3333333333333333, fmeasure=0.21739130434782605), mid=Score(precision=0.16129032258064516, recall=0.3333333333333333, fmeasure=0.21739130434782605), high=Score(precision=0.16129032258064516, recall=0.3333333333333333, fmeasure=0.21739130434782605))}\n",
      "\n",
      "================================================================================\n",
      "\n",
      "Article 149 ROUGE scores:\n",
      "{'rouge1': AggregateScore(low=Score(precision=0.21621621621621623, recall=0.26666666666666666, fmeasure=0.23880597014925373), mid=Score(precision=0.21621621621621623, recall=0.26666666666666666, fmeasure=0.23880597014925373), high=Score(precision=0.21621621621621623, recall=0.26666666666666666, fmeasure=0.23880597014925373)), 'rouge2': AggregateScore(low=Score(precision=0.0, recall=0.0, fmeasure=0.0), mid=Score(precision=0.0, recall=0.0, fmeasure=0.0), high=Score(precision=0.0, recall=0.0, fmeasure=0.0)), 'rougeL': AggregateScore(low=Score(precision=0.10810810810810811, recall=0.13333333333333333, fmeasure=0.11940298507462686), mid=Score(precision=0.10810810810810811, recall=0.13333333333333333, fmeasure=0.11940298507462686), high=Score(precision=0.10810810810810811, recall=0.13333333333333333, fmeasure=0.11940298507462686)), 'rougeLsum': AggregateScore(low=Score(precision=0.10810810810810811, recall=0.13333333333333333, fmeasure=0.11940298507462686), mid=Score(precision=0.10810810810810811, recall=0.13333333333333333, fmeasure=0.11940298507462686), high=Score(precision=0.10810810810810811, recall=0.13333333333333333, fmeasure=0.11940298507462686))}\n",
      "\n",
      "================================================================================\n",
      "\n",
      "Article 150 ROUGE scores:\n",
      "{'rouge1': AggregateScore(low=Score(precision=0.13636363636363635, recall=0.16216216216216217, fmeasure=0.14814814814814814), mid=Score(precision=0.13636363636363635, recall=0.16216216216216217, fmeasure=0.14814814814814814), high=Score(precision=0.13636363636363635, recall=0.16216216216216217, fmeasure=0.14814814814814814)), 'rouge2': AggregateScore(low=Score(precision=0.046511627906976744, recall=0.05555555555555555, fmeasure=0.050632911392405056), mid=Score(precision=0.046511627906976744, recall=0.05555555555555555, fmeasure=0.050632911392405056), high=Score(precision=0.046511627906976744, recall=0.05555555555555555, fmeasure=0.050632911392405056)), 'rougeL': AggregateScore(low=Score(precision=0.09090909090909091, recall=0.10810810810810811, fmeasure=0.09876543209876544), mid=Score(precision=0.09090909090909091, recall=0.10810810810810811, fmeasure=0.09876543209876544), high=Score(precision=0.09090909090909091, recall=0.10810810810810811, fmeasure=0.09876543209876544)), 'rougeLsum': AggregateScore(low=Score(precision=0.09090909090909091, recall=0.10810810810810811, fmeasure=0.09876543209876544), mid=Score(precision=0.09090909090909091, recall=0.10810810810810811, fmeasure=0.09876543209876544), high=Score(precision=0.09090909090909091, recall=0.10810810810810811, fmeasure=0.09876543209876544))}\n",
      "\n",
      "================================================================================\n",
      "\n",
      "Article 151 ROUGE scores:\n",
      "{'rouge1': AggregateScore(low=Score(precision=0.3829787234042553, recall=0.4090909090909091, fmeasure=0.39560439560439564), mid=Score(precision=0.3829787234042553, recall=0.4090909090909091, fmeasure=0.39560439560439564), high=Score(precision=0.3829787234042553, recall=0.4090909090909091, fmeasure=0.39560439560439564)), 'rouge2': AggregateScore(low=Score(precision=0.1956521739130435, recall=0.20930232558139536, fmeasure=0.20224719101123595), mid=Score(precision=0.1956521739130435, recall=0.20930232558139536, fmeasure=0.20224719101123595), high=Score(precision=0.1956521739130435, recall=0.20930232558139536, fmeasure=0.20224719101123595)), 'rougeL': AggregateScore(low=Score(precision=0.2978723404255319, recall=0.3181818181818182, fmeasure=0.3076923076923077), mid=Score(precision=0.2978723404255319, recall=0.3181818181818182, fmeasure=0.3076923076923077), high=Score(precision=0.2978723404255319, recall=0.3181818181818182, fmeasure=0.3076923076923077)), 'rougeLsum': AggregateScore(low=Score(precision=0.2978723404255319, recall=0.3181818181818182, fmeasure=0.3076923076923077), mid=Score(precision=0.2978723404255319, recall=0.3181818181818182, fmeasure=0.3076923076923077), high=Score(precision=0.2978723404255319, recall=0.3181818181818182, fmeasure=0.3076923076923077))}\n",
      "\n",
      "================================================================================\n",
      "\n",
      "Article 152 ROUGE scores:\n",
      "{'rouge1': AggregateScore(low=Score(precision=0.25, recall=0.5294117647058824, fmeasure=0.33962264150943394), mid=Score(precision=0.25, recall=0.5294117647058824, fmeasure=0.33962264150943394), high=Score(precision=0.25, recall=0.5294117647058824, fmeasure=0.33962264150943394)), 'rouge2': AggregateScore(low=Score(precision=0.1267605633802817, recall=0.2727272727272727, fmeasure=0.17307692307692304), mid=Score(precision=0.1267605633802817, recall=0.2727272727272727, fmeasure=0.17307692307692304), high=Score(precision=0.1267605633802817, recall=0.2727272727272727, fmeasure=0.17307692307692304)), 'rougeL': AggregateScore(low=Score(precision=0.125, recall=0.2647058823529412, fmeasure=0.16981132075471697), mid=Score(precision=0.125, recall=0.2647058823529412, fmeasure=0.16981132075471697), high=Score(precision=0.125, recall=0.2647058823529412, fmeasure=0.16981132075471697)), 'rougeLsum': AggregateScore(low=Score(precision=0.125, recall=0.2647058823529412, fmeasure=0.16981132075471697), mid=Score(precision=0.125, recall=0.2647058823529412, fmeasure=0.16981132075471697), high=Score(precision=0.125, recall=0.2647058823529412, fmeasure=0.16981132075471697))}\n",
      "\n",
      "================================================================================\n",
      "\n",
      "Article 153 ROUGE scores:\n",
      "{'rouge1': AggregateScore(low=Score(precision=0.22857142857142856, recall=0.34782608695652173, fmeasure=0.27586206896551724), mid=Score(precision=0.22857142857142856, recall=0.34782608695652173, fmeasure=0.27586206896551724), high=Score(precision=0.22857142857142856, recall=0.34782608695652173, fmeasure=0.27586206896551724)), 'rouge2': AggregateScore(low=Score(precision=0.058823529411764705, recall=0.09090909090909091, fmeasure=0.07142857142857142), mid=Score(precision=0.058823529411764705, recall=0.09090909090909091, fmeasure=0.07142857142857142), high=Score(precision=0.058823529411764705, recall=0.09090909090909091, fmeasure=0.07142857142857142)), 'rougeL': AggregateScore(low=Score(precision=0.22857142857142856, recall=0.34782608695652173, fmeasure=0.27586206896551724), mid=Score(precision=0.22857142857142856, recall=0.34782608695652173, fmeasure=0.27586206896551724), high=Score(precision=0.22857142857142856, recall=0.34782608695652173, fmeasure=0.27586206896551724)), 'rougeLsum': AggregateScore(low=Score(precision=0.22857142857142856, recall=0.34782608695652173, fmeasure=0.27586206896551724), mid=Score(precision=0.22857142857142856, recall=0.34782608695652173, fmeasure=0.27586206896551724), high=Score(precision=0.22857142857142856, recall=0.34782608695652173, fmeasure=0.27586206896551724))}\n",
      "\n",
      "================================================================================\n",
      "\n",
      "Article 154 ROUGE scores:\n",
      "{'rouge1': AggregateScore(low=Score(precision=0.1864406779661017, recall=0.34375, fmeasure=0.24175824175824176), mid=Score(precision=0.1864406779661017, recall=0.34375, fmeasure=0.24175824175824176), high=Score(precision=0.1864406779661017, recall=0.34375, fmeasure=0.24175824175824176)), 'rouge2': AggregateScore(low=Score(precision=0.08620689655172414, recall=0.16129032258064516, fmeasure=0.11235955056179776), mid=Score(precision=0.08620689655172414, recall=0.16129032258064516, fmeasure=0.11235955056179776), high=Score(precision=0.08620689655172414, recall=0.16129032258064516, fmeasure=0.11235955056179776)), 'rougeL': AggregateScore(low=Score(precision=0.1694915254237288, recall=0.3125, fmeasure=0.21978021978021978), mid=Score(precision=0.1694915254237288, recall=0.3125, fmeasure=0.21978021978021978), high=Score(precision=0.1694915254237288, recall=0.3125, fmeasure=0.21978021978021978)), 'rougeLsum': AggregateScore(low=Score(precision=0.1694915254237288, recall=0.3125, fmeasure=0.21978021978021978), mid=Score(precision=0.1694915254237288, recall=0.3125, fmeasure=0.21978021978021978), high=Score(precision=0.1694915254237288, recall=0.3125, fmeasure=0.21978021978021978))}\n",
      "\n",
      "================================================================================\n",
      "\n",
      "Article 155 ROUGE scores:\n",
      "{'rouge1': AggregateScore(low=Score(precision=0.2191780821917808, recall=0.25, fmeasure=0.23357664233576642), mid=Score(precision=0.2191780821917808, recall=0.25, fmeasure=0.23357664233576642), high=Score(precision=0.2191780821917808, recall=0.25, fmeasure=0.23357664233576642)), 'rouge2': AggregateScore(low=Score(precision=0.041666666666666664, recall=0.047619047619047616, fmeasure=0.044444444444444446), mid=Score(precision=0.041666666666666664, recall=0.047619047619047616, fmeasure=0.044444444444444446), high=Score(precision=0.041666666666666664, recall=0.047619047619047616, fmeasure=0.044444444444444446)), 'rougeL': AggregateScore(low=Score(precision=0.1506849315068493, recall=0.171875, fmeasure=0.16058394160583941), mid=Score(precision=0.1506849315068493, recall=0.171875, fmeasure=0.16058394160583941), high=Score(precision=0.1506849315068493, recall=0.171875, fmeasure=0.16058394160583941)), 'rougeLsum': AggregateScore(low=Score(precision=0.1506849315068493, recall=0.171875, fmeasure=0.16058394160583941), mid=Score(precision=0.1506849315068493, recall=0.171875, fmeasure=0.16058394160583941), high=Score(precision=0.1506849315068493, recall=0.171875, fmeasure=0.16058394160583941))}\n",
      "\n",
      "================================================================================\n",
      "\n",
      "Article 156 ROUGE scores:\n",
      "{'rouge1': AggregateScore(low=Score(precision=0.10416666666666667, recall=0.13513513513513514, fmeasure=0.11764705882352941), mid=Score(precision=0.10416666666666667, recall=0.13513513513513514, fmeasure=0.11764705882352941), high=Score(precision=0.10416666666666667, recall=0.13513513513513514, fmeasure=0.11764705882352941)), 'rouge2': AggregateScore(low=Score(precision=0.0, recall=0.0, fmeasure=0.0), mid=Score(precision=0.0, recall=0.0, fmeasure=0.0), high=Score(precision=0.0, recall=0.0, fmeasure=0.0)), 'rougeL': AggregateScore(low=Score(precision=0.08333333333333333, recall=0.10810810810810811, fmeasure=0.09411764705882353), mid=Score(precision=0.08333333333333333, recall=0.10810810810810811, fmeasure=0.09411764705882353), high=Score(precision=0.08333333333333333, recall=0.10810810810810811, fmeasure=0.09411764705882353)), 'rougeLsum': AggregateScore(low=Score(precision=0.08333333333333333, recall=0.10810810810810811, fmeasure=0.09411764705882353), mid=Score(precision=0.08333333333333333, recall=0.10810810810810811, fmeasure=0.09411764705882353), high=Score(precision=0.08333333333333333, recall=0.10810810810810811, fmeasure=0.09411764705882353))}\n",
      "\n",
      "================================================================================\n",
      "\n",
      "Article 157 ROUGE scores:\n",
      "{'rouge1': AggregateScore(low=Score(precision=0.34782608695652173, recall=0.5517241379310345, fmeasure=0.42666666666666664), mid=Score(precision=0.34782608695652173, recall=0.5517241379310345, fmeasure=0.42666666666666664), high=Score(precision=0.34782608695652173, recall=0.5517241379310345, fmeasure=0.42666666666666664)), 'rouge2': AggregateScore(low=Score(precision=0.08888888888888889, recall=0.14285714285714285, fmeasure=0.1095890410958904), mid=Score(precision=0.08888888888888889, recall=0.14285714285714285, fmeasure=0.1095890410958904), high=Score(precision=0.08888888888888889, recall=0.14285714285714285, fmeasure=0.1095890410958904)), 'rougeL': AggregateScore(low=Score(precision=0.21739130434782608, recall=0.3448275862068966, fmeasure=0.26666666666666666), mid=Score(precision=0.21739130434782608, recall=0.3448275862068966, fmeasure=0.26666666666666666), high=Score(precision=0.21739130434782608, recall=0.3448275862068966, fmeasure=0.26666666666666666)), 'rougeLsum': AggregateScore(low=Score(precision=0.21739130434782608, recall=0.3448275862068966, fmeasure=0.26666666666666666), mid=Score(precision=0.21739130434782608, recall=0.3448275862068966, fmeasure=0.26666666666666666), high=Score(precision=0.21739130434782608, recall=0.3448275862068966, fmeasure=0.26666666666666666))}\n",
      "\n",
      "================================================================================\n",
      "\n",
      "Article 158 ROUGE scores:\n",
      "{'rouge1': AggregateScore(low=Score(precision=0.3333333333333333, recall=0.7407407407407407, fmeasure=0.4597701149425288), mid=Score(precision=0.3333333333333333, recall=0.7407407407407407, fmeasure=0.4597701149425288), high=Score(precision=0.3333333333333333, recall=0.7407407407407407, fmeasure=0.4597701149425288)), 'rouge2': AggregateScore(low=Score(precision=0.23728813559322035, recall=0.5384615384615384, fmeasure=0.32941176470588235), mid=Score(precision=0.23728813559322035, recall=0.5384615384615384, fmeasure=0.32941176470588235), high=Score(precision=0.23728813559322035, recall=0.5384615384615384, fmeasure=0.32941176470588235)), 'rougeL': AggregateScore(low=Score(precision=0.31666666666666665, recall=0.7037037037037037, fmeasure=0.4367816091954023), mid=Score(precision=0.31666666666666665, recall=0.7037037037037037, fmeasure=0.4367816091954023), high=Score(precision=0.31666666666666665, recall=0.7037037037037037, fmeasure=0.4367816091954023)), 'rougeLsum': AggregateScore(low=Score(precision=0.31666666666666665, recall=0.7037037037037037, fmeasure=0.4367816091954023), mid=Score(precision=0.31666666666666665, recall=0.7037037037037037, fmeasure=0.4367816091954023), high=Score(precision=0.31666666666666665, recall=0.7037037037037037, fmeasure=0.4367816091954023))}\n",
      "\n",
      "================================================================================\n",
      "\n",
      "Article 159 ROUGE scores:\n",
      "{'rouge1': AggregateScore(low=Score(precision=0.2857142857142857, recall=0.3333333333333333, fmeasure=0.30769230769230765), mid=Score(precision=0.2857142857142857, recall=0.3333333333333333, fmeasure=0.30769230769230765), high=Score(precision=0.2857142857142857, recall=0.3333333333333333, fmeasure=0.30769230769230765)), 'rouge2': AggregateScore(low=Score(precision=0.08823529411764706, recall=0.10344827586206896, fmeasure=0.09523809523809523), mid=Score(precision=0.08823529411764706, recall=0.10344827586206896, fmeasure=0.09523809523809523), high=Score(precision=0.08823529411764706, recall=0.10344827586206896, fmeasure=0.09523809523809523)), 'rougeL': AggregateScore(low=Score(precision=0.22857142857142856, recall=0.26666666666666666, fmeasure=0.24615384615384614), mid=Score(precision=0.22857142857142856, recall=0.26666666666666666, fmeasure=0.24615384615384614), high=Score(precision=0.22857142857142856, recall=0.26666666666666666, fmeasure=0.24615384615384614)), 'rougeLsum': AggregateScore(low=Score(precision=0.22857142857142856, recall=0.26666666666666666, fmeasure=0.24615384615384614), mid=Score(precision=0.22857142857142856, recall=0.26666666666666666, fmeasure=0.24615384615384614), high=Score(precision=0.22857142857142856, recall=0.26666666666666666, fmeasure=0.24615384615384614))}\n",
      "\n",
      "================================================================================\n",
      "\n",
      "Article 160 ROUGE scores:\n",
      "{'rouge1': AggregateScore(low=Score(precision=0.1891891891891892, recall=0.6666666666666666, fmeasure=0.2947368421052632), mid=Score(precision=0.1891891891891892, recall=0.6666666666666666, fmeasure=0.2947368421052632), high=Score(precision=0.1891891891891892, recall=0.6666666666666666, fmeasure=0.2947368421052632)), 'rouge2': AggregateScore(low=Score(precision=0.1232876712328767, recall=0.45, fmeasure=0.1935483870967742), mid=Score(precision=0.1232876712328767, recall=0.45, fmeasure=0.1935483870967742), high=Score(precision=0.1232876712328767, recall=0.45, fmeasure=0.1935483870967742)), 'rougeL': AggregateScore(low=Score(precision=0.1891891891891892, recall=0.6666666666666666, fmeasure=0.2947368421052632), mid=Score(precision=0.1891891891891892, recall=0.6666666666666666, fmeasure=0.2947368421052632), high=Score(precision=0.1891891891891892, recall=0.6666666666666666, fmeasure=0.2947368421052632)), 'rougeLsum': AggregateScore(low=Score(precision=0.1891891891891892, recall=0.6666666666666666, fmeasure=0.2947368421052632), mid=Score(precision=0.1891891891891892, recall=0.6666666666666666, fmeasure=0.2947368421052632), high=Score(precision=0.1891891891891892, recall=0.6666666666666666, fmeasure=0.2947368421052632))}\n",
      "\n",
      "================================================================================\n",
      "\n",
      "Article 161 ROUGE scores:\n",
      "{'rouge1': AggregateScore(low=Score(precision=0.04081632653061224, recall=0.11764705882352941, fmeasure=0.06060606060606061), mid=Score(precision=0.04081632653061224, recall=0.11764705882352941, fmeasure=0.06060606060606061), high=Score(precision=0.04081632653061224, recall=0.11764705882352941, fmeasure=0.06060606060606061)), 'rouge2': AggregateScore(low=Score(precision=0.0, recall=0.0, fmeasure=0.0), mid=Score(precision=0.0, recall=0.0, fmeasure=0.0), high=Score(precision=0.0, recall=0.0, fmeasure=0.0)), 'rougeL': AggregateScore(low=Score(precision=0.04081632653061224, recall=0.11764705882352941, fmeasure=0.06060606060606061), mid=Score(precision=0.04081632653061224, recall=0.11764705882352941, fmeasure=0.06060606060606061), high=Score(precision=0.04081632653061224, recall=0.11764705882352941, fmeasure=0.06060606060606061)), 'rougeLsum': AggregateScore(low=Score(precision=0.04081632653061224, recall=0.11764705882352941, fmeasure=0.06060606060606061), mid=Score(precision=0.04081632653061224, recall=0.11764705882352941, fmeasure=0.06060606060606061), high=Score(precision=0.04081632653061224, recall=0.11764705882352941, fmeasure=0.06060606060606061))}\n",
      "\n",
      "================================================================================\n",
      "\n",
      "Article 162 ROUGE scores:\n",
      "{'rouge1': AggregateScore(low=Score(precision=0.0967741935483871, recall=0.2222222222222222, fmeasure=0.1348314606741573), mid=Score(precision=0.0967741935483871, recall=0.2222222222222222, fmeasure=0.1348314606741573), high=Score(precision=0.0967741935483871, recall=0.2222222222222222, fmeasure=0.1348314606741573)), 'rouge2': AggregateScore(low=Score(precision=0.01639344262295082, recall=0.038461538461538464, fmeasure=0.022988505747126436), mid=Score(precision=0.01639344262295082, recall=0.038461538461538464, fmeasure=0.022988505747126436), high=Score(precision=0.01639344262295082, recall=0.038461538461538464, fmeasure=0.022988505747126436)), 'rougeL': AggregateScore(low=Score(precision=0.08064516129032258, recall=0.18518518518518517, fmeasure=0.11235955056179775), mid=Score(precision=0.08064516129032258, recall=0.18518518518518517, fmeasure=0.11235955056179775), high=Score(precision=0.08064516129032258, recall=0.18518518518518517, fmeasure=0.11235955056179775)), 'rougeLsum': AggregateScore(low=Score(precision=0.08064516129032258, recall=0.18518518518518517, fmeasure=0.11235955056179775), mid=Score(precision=0.08064516129032258, recall=0.18518518518518517, fmeasure=0.11235955056179775), high=Score(precision=0.08064516129032258, recall=0.18518518518518517, fmeasure=0.11235955056179775))}\n",
      "\n",
      "================================================================================\n",
      "\n",
      "Article 163 ROUGE scores:\n",
      "{'rouge1': AggregateScore(low=Score(precision=0.1322314049586777, recall=0.5925925925925926, fmeasure=0.21621621621621623), mid=Score(precision=0.1322314049586777, recall=0.5925925925925926, fmeasure=0.21621621621621623), high=Score(precision=0.1322314049586777, recall=0.5925925925925926, fmeasure=0.21621621621621623)), 'rouge2': AggregateScore(low=Score(precision=0.008333333333333333, recall=0.038461538461538464, fmeasure=0.0136986301369863), mid=Score(precision=0.008333333333333333, recall=0.038461538461538464, fmeasure=0.0136986301369863), high=Score(precision=0.008333333333333333, recall=0.038461538461538464, fmeasure=0.0136986301369863)), 'rougeL': AggregateScore(low=Score(precision=0.04132231404958678, recall=0.18518518518518517, fmeasure=0.06756756756756757), mid=Score(precision=0.04132231404958678, recall=0.18518518518518517, fmeasure=0.06756756756756757), high=Score(precision=0.04132231404958678, recall=0.18518518518518517, fmeasure=0.06756756756756757)), 'rougeLsum': AggregateScore(low=Score(precision=0.04132231404958678, recall=0.18518518518518517, fmeasure=0.06756756756756757), mid=Score(precision=0.04132231404958678, recall=0.18518518518518517, fmeasure=0.06756756756756757), high=Score(precision=0.04132231404958678, recall=0.18518518518518517, fmeasure=0.06756756756756757))}\n",
      "\n",
      "================================================================================\n",
      "\n",
      "Article 164 ROUGE scores:\n",
      "{'rouge1': AggregateScore(low=Score(precision=0.0851063829787234, recall=0.3333333333333333, fmeasure=0.13559322033898305), mid=Score(precision=0.0851063829787234, recall=0.3333333333333333, fmeasure=0.13559322033898305), high=Score(precision=0.0851063829787234, recall=0.3333333333333333, fmeasure=0.13559322033898305)), 'rouge2': AggregateScore(low=Score(precision=0.021739130434782608, recall=0.09090909090909091, fmeasure=0.03508771929824561), mid=Score(precision=0.021739130434782608, recall=0.09090909090909091, fmeasure=0.03508771929824561), high=Score(precision=0.021739130434782608, recall=0.09090909090909091, fmeasure=0.03508771929824561)), 'rougeL': AggregateScore(low=Score(precision=0.0851063829787234, recall=0.3333333333333333, fmeasure=0.13559322033898305), mid=Score(precision=0.0851063829787234, recall=0.3333333333333333, fmeasure=0.13559322033898305), high=Score(precision=0.0851063829787234, recall=0.3333333333333333, fmeasure=0.13559322033898305)), 'rougeLsum': AggregateScore(low=Score(precision=0.0851063829787234, recall=0.3333333333333333, fmeasure=0.13559322033898305), mid=Score(precision=0.0851063829787234, recall=0.3333333333333333, fmeasure=0.13559322033898305), high=Score(precision=0.0851063829787234, recall=0.3333333333333333, fmeasure=0.13559322033898305))}\n",
      "\n",
      "================================================================================\n",
      "\n",
      "Article 165 ROUGE scores:\n",
      "{'rouge1': AggregateScore(low=Score(precision=0.39285714285714285, recall=1.0, fmeasure=0.5641025641025641), mid=Score(precision=0.39285714285714285, recall=1.0, fmeasure=0.5641025641025641), high=Score(precision=0.39285714285714285, recall=1.0, fmeasure=0.5641025641025641)), 'rouge2': AggregateScore(low=Score(precision=0.32727272727272727, recall=0.8571428571428571, fmeasure=0.47368421052631576), mid=Score(precision=0.32727272727272727, recall=0.8571428571428571, fmeasure=0.47368421052631576), high=Score(precision=0.32727272727272727, recall=0.8571428571428571, fmeasure=0.47368421052631576)), 'rougeL': AggregateScore(low=Score(precision=0.375, recall=0.9545454545454546, fmeasure=0.5384615384615384), mid=Score(precision=0.375, recall=0.9545454545454546, fmeasure=0.5384615384615384), high=Score(precision=0.375, recall=0.9545454545454546, fmeasure=0.5384615384615384)), 'rougeLsum': AggregateScore(low=Score(precision=0.375, recall=0.9545454545454546, fmeasure=0.5384615384615384), mid=Score(precision=0.375, recall=0.9545454545454546, fmeasure=0.5384615384615384), high=Score(precision=0.375, recall=0.9545454545454546, fmeasure=0.5384615384615384))}\n",
      "\n",
      "================================================================================\n",
      "\n",
      "Article 166 ROUGE scores:\n",
      "{'rouge1': AggregateScore(low=Score(precision=0.029411764705882353, recall=0.058823529411764705, fmeasure=0.03921568627450981), mid=Score(precision=0.029411764705882353, recall=0.058823529411764705, fmeasure=0.03921568627450981), high=Score(precision=0.029411764705882353, recall=0.058823529411764705, fmeasure=0.03921568627450981)), 'rouge2': AggregateScore(low=Score(precision=0.0, recall=0.0, fmeasure=0.0), mid=Score(precision=0.0, recall=0.0, fmeasure=0.0), high=Score(precision=0.0, recall=0.0, fmeasure=0.0)), 'rougeL': AggregateScore(low=Score(precision=0.029411764705882353, recall=0.058823529411764705, fmeasure=0.03921568627450981), mid=Score(precision=0.029411764705882353, recall=0.058823529411764705, fmeasure=0.03921568627450981), high=Score(precision=0.029411764705882353, recall=0.058823529411764705, fmeasure=0.03921568627450981)), 'rougeLsum': AggregateScore(low=Score(precision=0.029411764705882353, recall=0.058823529411764705, fmeasure=0.03921568627450981), mid=Score(precision=0.029411764705882353, recall=0.058823529411764705, fmeasure=0.03921568627450981), high=Score(precision=0.029411764705882353, recall=0.058823529411764705, fmeasure=0.03921568627450981))}\n",
      "\n",
      "================================================================================\n",
      "\n",
      "Article 167 ROUGE scores:\n",
      "{'rouge1': AggregateScore(low=Score(precision=0.3225806451612903, recall=0.5555555555555556, fmeasure=0.40816326530612246), mid=Score(precision=0.3225806451612903, recall=0.5555555555555556, fmeasure=0.40816326530612246), high=Score(precision=0.3225806451612903, recall=0.5555555555555556, fmeasure=0.40816326530612246)), 'rouge2': AggregateScore(low=Score(precision=0.14754098360655737, recall=0.2571428571428571, fmeasure=0.18749999999999997), mid=Score(precision=0.14754098360655737, recall=0.2571428571428571, fmeasure=0.18749999999999997), high=Score(precision=0.14754098360655737, recall=0.2571428571428571, fmeasure=0.18749999999999997)), 'rougeL': AggregateScore(low=Score(precision=0.1935483870967742, recall=0.3333333333333333, fmeasure=0.24489795918367346), mid=Score(precision=0.1935483870967742, recall=0.3333333333333333, fmeasure=0.24489795918367346), high=Score(precision=0.1935483870967742, recall=0.3333333333333333, fmeasure=0.24489795918367346)), 'rougeLsum': AggregateScore(low=Score(precision=0.1935483870967742, recall=0.3333333333333333, fmeasure=0.24489795918367346), mid=Score(precision=0.1935483870967742, recall=0.3333333333333333, fmeasure=0.24489795918367346), high=Score(precision=0.1935483870967742, recall=0.3333333333333333, fmeasure=0.24489795918367346))}\n",
      "\n",
      "================================================================================\n",
      "\n",
      "Article 168 ROUGE scores:\n",
      "{'rouge1': AggregateScore(low=Score(precision=0.1643835616438356, recall=0.41379310344827586, fmeasure=0.23529411764705882), mid=Score(precision=0.1643835616438356, recall=0.41379310344827586, fmeasure=0.23529411764705882), high=Score(precision=0.1643835616438356, recall=0.41379310344827586, fmeasure=0.23529411764705882)), 'rouge2': AggregateScore(low=Score(precision=0.041666666666666664, recall=0.10714285714285714, fmeasure=0.06), mid=Score(precision=0.041666666666666664, recall=0.10714285714285714, fmeasure=0.06), high=Score(precision=0.041666666666666664, recall=0.10714285714285714, fmeasure=0.06)), 'rougeL': AggregateScore(low=Score(precision=0.1095890410958904, recall=0.27586206896551724, fmeasure=0.1568627450980392), mid=Score(precision=0.1095890410958904, recall=0.27586206896551724, fmeasure=0.1568627450980392), high=Score(precision=0.1095890410958904, recall=0.27586206896551724, fmeasure=0.1568627450980392)), 'rougeLsum': AggregateScore(low=Score(precision=0.1095890410958904, recall=0.27586206896551724, fmeasure=0.1568627450980392), mid=Score(precision=0.1095890410958904, recall=0.27586206896551724, fmeasure=0.1568627450980392), high=Score(precision=0.1095890410958904, recall=0.27586206896551724, fmeasure=0.1568627450980392))}\n",
      "\n",
      "================================================================================\n",
      "\n",
      "Article 169 ROUGE scores:\n",
      "{'rouge1': AggregateScore(low=Score(precision=0.3939393939393939, recall=0.7647058823529411, fmeasure=0.5199999999999999), mid=Score(precision=0.3939393939393939, recall=0.7647058823529411, fmeasure=0.5199999999999999), high=Score(precision=0.3939393939393939, recall=0.7647058823529411, fmeasure=0.5199999999999999)), 'rouge2': AggregateScore(low=Score(precision=0.3125, recall=0.625, fmeasure=0.4166666666666667), mid=Score(precision=0.3125, recall=0.625, fmeasure=0.4166666666666667), high=Score(precision=0.3125, recall=0.625, fmeasure=0.4166666666666667)), 'rougeL': AggregateScore(low=Score(precision=0.2727272727272727, recall=0.5294117647058824, fmeasure=0.36), mid=Score(precision=0.2727272727272727, recall=0.5294117647058824, fmeasure=0.36), high=Score(precision=0.2727272727272727, recall=0.5294117647058824, fmeasure=0.36)), 'rougeLsum': AggregateScore(low=Score(precision=0.2727272727272727, recall=0.5294117647058824, fmeasure=0.36), mid=Score(precision=0.2727272727272727, recall=0.5294117647058824, fmeasure=0.36), high=Score(precision=0.2727272727272727, recall=0.5294117647058824, fmeasure=0.36))}\n",
      "\n",
      "================================================================================\n",
      "\n",
      "Article 170 ROUGE scores:\n",
      "{'rouge1': AggregateScore(low=Score(precision=0.2033898305084746, recall=0.42857142857142855, fmeasure=0.2758620689655173), mid=Score(precision=0.2033898305084746, recall=0.42857142857142855, fmeasure=0.2758620689655173), high=Score(precision=0.2033898305084746, recall=0.42857142857142855, fmeasure=0.2758620689655173)), 'rouge2': AggregateScore(low=Score(precision=0.10344827586206896, recall=0.2222222222222222, fmeasure=0.1411764705882353), mid=Score(precision=0.10344827586206896, recall=0.2222222222222222, fmeasure=0.1411764705882353), high=Score(precision=0.10344827586206896, recall=0.2222222222222222, fmeasure=0.1411764705882353)), 'rougeL': AggregateScore(low=Score(precision=0.11864406779661017, recall=0.25, fmeasure=0.16091954022988506), mid=Score(precision=0.11864406779661017, recall=0.25, fmeasure=0.16091954022988506), high=Score(precision=0.11864406779661017, recall=0.25, fmeasure=0.16091954022988506)), 'rougeLsum': AggregateScore(low=Score(precision=0.11864406779661017, recall=0.25, fmeasure=0.16091954022988506), mid=Score(precision=0.11864406779661017, recall=0.25, fmeasure=0.16091954022988506), high=Score(precision=0.11864406779661017, recall=0.25, fmeasure=0.16091954022988506))}\n",
      "\n",
      "================================================================================\n",
      "\n",
      "Article 171 ROUGE scores:\n",
      "{'rouge1': AggregateScore(low=Score(precision=0.29508196721311475, recall=0.9, fmeasure=0.4444444444444445), mid=Score(precision=0.29508196721311475, recall=0.9, fmeasure=0.4444444444444445), high=Score(precision=0.29508196721311475, recall=0.9, fmeasure=0.4444444444444445)), 'rouge2': AggregateScore(low=Score(precision=0.11666666666666667, recall=0.3684210526315789, fmeasure=0.17721518987341772), mid=Score(precision=0.11666666666666667, recall=0.3684210526315789, fmeasure=0.17721518987341772), high=Score(precision=0.11666666666666667, recall=0.3684210526315789, fmeasure=0.17721518987341772)), 'rougeL': AggregateScore(low=Score(precision=0.2459016393442623, recall=0.75, fmeasure=0.3703703703703703), mid=Score(precision=0.2459016393442623, recall=0.75, fmeasure=0.3703703703703703), high=Score(precision=0.2459016393442623, recall=0.75, fmeasure=0.3703703703703703)), 'rougeLsum': AggregateScore(low=Score(precision=0.2459016393442623, recall=0.75, fmeasure=0.3703703703703703), mid=Score(precision=0.2459016393442623, recall=0.75, fmeasure=0.3703703703703703), high=Score(precision=0.2459016393442623, recall=0.75, fmeasure=0.3703703703703703))}\n",
      "\n",
      "================================================================================\n",
      "\n",
      "Article 172 ROUGE scores:\n",
      "{'rouge1': AggregateScore(low=Score(precision=0.3548387096774194, recall=0.36666666666666664, fmeasure=0.36065573770491804), mid=Score(precision=0.3548387096774194, recall=0.36666666666666664, fmeasure=0.36065573770491804), high=Score(precision=0.3548387096774194, recall=0.36666666666666664, fmeasure=0.36065573770491804)), 'rouge2': AggregateScore(low=Score(precision=0.2, recall=0.20689655172413793, fmeasure=0.20338983050847456), mid=Score(precision=0.2, recall=0.20689655172413793, fmeasure=0.20338983050847456), high=Score(precision=0.2, recall=0.20689655172413793, fmeasure=0.20338983050847456)), 'rougeL': AggregateScore(low=Score(precision=0.16129032258064516, recall=0.16666666666666666, fmeasure=0.16393442622950818), mid=Score(precision=0.16129032258064516, recall=0.16666666666666666, fmeasure=0.16393442622950818), high=Score(precision=0.16129032258064516, recall=0.16666666666666666, fmeasure=0.16393442622950818)), 'rougeLsum': AggregateScore(low=Score(precision=0.16129032258064516, recall=0.16666666666666666, fmeasure=0.16393442622950818), mid=Score(precision=0.16129032258064516, recall=0.16666666666666666, fmeasure=0.16393442622950818), high=Score(precision=0.16129032258064516, recall=0.16666666666666666, fmeasure=0.16393442622950818))}\n",
      "\n",
      "================================================================================\n",
      "\n",
      "Article 173 ROUGE scores:\n",
      "{'rouge1': AggregateScore(low=Score(precision=0.2127659574468085, recall=0.2777777777777778, fmeasure=0.24096385542168677), mid=Score(precision=0.2127659574468085, recall=0.2777777777777778, fmeasure=0.24096385542168677), high=Score(precision=0.2127659574468085, recall=0.2777777777777778, fmeasure=0.24096385542168677)), 'rouge2': AggregateScore(low=Score(precision=0.08695652173913043, recall=0.11428571428571428, fmeasure=0.09876543209876543), mid=Score(precision=0.08695652173913043, recall=0.11428571428571428, fmeasure=0.09876543209876543), high=Score(precision=0.08695652173913043, recall=0.11428571428571428, fmeasure=0.09876543209876543)), 'rougeL': AggregateScore(low=Score(precision=0.10638297872340426, recall=0.1388888888888889, fmeasure=0.12048192771084339), mid=Score(precision=0.10638297872340426, recall=0.1388888888888889, fmeasure=0.12048192771084339), high=Score(precision=0.10638297872340426, recall=0.1388888888888889, fmeasure=0.12048192771084339)), 'rougeLsum': AggregateScore(low=Score(precision=0.10638297872340426, recall=0.1388888888888889, fmeasure=0.12048192771084339), mid=Score(precision=0.10638297872340426, recall=0.1388888888888889, fmeasure=0.12048192771084339), high=Score(precision=0.10638297872340426, recall=0.1388888888888889, fmeasure=0.12048192771084339))}\n",
      "\n",
      "================================================================================\n",
      "\n",
      "Article 174 ROUGE scores:\n",
      "{'rouge1': AggregateScore(low=Score(precision=0.06451612903225806, recall=0.26666666666666666, fmeasure=0.1038961038961039), mid=Score(precision=0.06451612903225806, recall=0.26666666666666666, fmeasure=0.1038961038961039), high=Score(precision=0.06451612903225806, recall=0.26666666666666666, fmeasure=0.1038961038961039)), 'rouge2': AggregateScore(low=Score(precision=0.03278688524590164, recall=0.14285714285714285, fmeasure=0.05333333333333333), mid=Score(precision=0.03278688524590164, recall=0.14285714285714285, fmeasure=0.05333333333333333), high=Score(precision=0.03278688524590164, recall=0.14285714285714285, fmeasure=0.05333333333333333)), 'rougeL': AggregateScore(low=Score(precision=0.06451612903225806, recall=0.26666666666666666, fmeasure=0.1038961038961039), mid=Score(precision=0.06451612903225806, recall=0.26666666666666666, fmeasure=0.1038961038961039), high=Score(precision=0.06451612903225806, recall=0.26666666666666666, fmeasure=0.1038961038961039)), 'rougeLsum': AggregateScore(low=Score(precision=0.06451612903225806, recall=0.26666666666666666, fmeasure=0.1038961038961039), mid=Score(precision=0.06451612903225806, recall=0.26666666666666666, fmeasure=0.1038961038961039), high=Score(precision=0.06451612903225806, recall=0.26666666666666666, fmeasure=0.1038961038961039))}\n",
      "\n",
      "================================================================================\n",
      "\n",
      "Article 175 ROUGE scores:\n",
      "{'rouge1': AggregateScore(low=Score(precision=0.24074074074074073, recall=0.5652173913043478, fmeasure=0.33766233766233766), mid=Score(precision=0.24074074074074073, recall=0.5652173913043478, fmeasure=0.33766233766233766), high=Score(precision=0.24074074074074073, recall=0.5652173913043478, fmeasure=0.33766233766233766)), 'rouge2': AggregateScore(low=Score(precision=0.07547169811320754, recall=0.18181818181818182, fmeasure=0.10666666666666667), mid=Score(precision=0.07547169811320754, recall=0.18181818181818182, fmeasure=0.10666666666666667), high=Score(precision=0.07547169811320754, recall=0.18181818181818182, fmeasure=0.10666666666666667)), 'rougeL': AggregateScore(low=Score(precision=0.18518518518518517, recall=0.43478260869565216, fmeasure=0.2597402597402597), mid=Score(precision=0.18518518518518517, recall=0.43478260869565216, fmeasure=0.2597402597402597), high=Score(precision=0.18518518518518517, recall=0.43478260869565216, fmeasure=0.2597402597402597)), 'rougeLsum': AggregateScore(low=Score(precision=0.18518518518518517, recall=0.43478260869565216, fmeasure=0.2597402597402597), mid=Score(precision=0.18518518518518517, recall=0.43478260869565216, fmeasure=0.2597402597402597), high=Score(precision=0.18518518518518517, recall=0.43478260869565216, fmeasure=0.2597402597402597))}\n",
      "\n",
      "================================================================================\n",
      "\n",
      "Article 176 ROUGE scores:\n",
      "{'rouge1': AggregateScore(low=Score(precision=0.1568627450980392, recall=0.47058823529411764, fmeasure=0.23529411764705882), mid=Score(precision=0.1568627450980392, recall=0.47058823529411764, fmeasure=0.23529411764705882), high=Score(precision=0.1568627450980392, recall=0.47058823529411764, fmeasure=0.23529411764705882)), 'rouge2': AggregateScore(low=Score(precision=0.12, recall=0.375, fmeasure=0.18181818181818182), mid=Score(precision=0.12, recall=0.375, fmeasure=0.18181818181818182), high=Score(precision=0.12, recall=0.375, fmeasure=0.18181818181818182)), 'rougeL': AggregateScore(low=Score(precision=0.1568627450980392, recall=0.47058823529411764, fmeasure=0.23529411764705882), mid=Score(precision=0.1568627450980392, recall=0.47058823529411764, fmeasure=0.23529411764705882), high=Score(precision=0.1568627450980392, recall=0.47058823529411764, fmeasure=0.23529411764705882)), 'rougeLsum': AggregateScore(low=Score(precision=0.1568627450980392, recall=0.47058823529411764, fmeasure=0.23529411764705882), mid=Score(precision=0.1568627450980392, recall=0.47058823529411764, fmeasure=0.23529411764705882), high=Score(precision=0.1568627450980392, recall=0.47058823529411764, fmeasure=0.23529411764705882))}\n",
      "\n",
      "================================================================================\n",
      "\n",
      "Article 177 ROUGE scores:\n",
      "{'rouge1': AggregateScore(low=Score(precision=0.16129032258064516, recall=0.35714285714285715, fmeasure=0.2222222222222222), mid=Score(precision=0.16129032258064516, recall=0.35714285714285715, fmeasure=0.2222222222222222), high=Score(precision=0.16129032258064516, recall=0.35714285714285715, fmeasure=0.2222222222222222)), 'rouge2': AggregateScore(low=Score(precision=0.03278688524590164, recall=0.07407407407407407, fmeasure=0.045454545454545456), mid=Score(precision=0.03278688524590164, recall=0.07407407407407407, fmeasure=0.045454545454545456), high=Score(precision=0.03278688524590164, recall=0.07407407407407407, fmeasure=0.045454545454545456)), 'rougeL': AggregateScore(low=Score(precision=0.0967741935483871, recall=0.21428571428571427, fmeasure=0.13333333333333333), mid=Score(precision=0.0967741935483871, recall=0.21428571428571427, fmeasure=0.13333333333333333), high=Score(precision=0.0967741935483871, recall=0.21428571428571427, fmeasure=0.13333333333333333)), 'rougeLsum': AggregateScore(low=Score(precision=0.0967741935483871, recall=0.21428571428571427, fmeasure=0.13333333333333333), mid=Score(precision=0.0967741935483871, recall=0.21428571428571427, fmeasure=0.13333333333333333), high=Score(precision=0.0967741935483871, recall=0.21428571428571427, fmeasure=0.13333333333333333))}\n",
      "\n",
      "================================================================================\n",
      "\n",
      "Article 178 ROUGE scores:\n",
      "{'rouge1': AggregateScore(low=Score(precision=0.4782608695652174, recall=0.6285714285714286, fmeasure=0.54320987654321), mid=Score(precision=0.4782608695652174, recall=0.6285714285714286, fmeasure=0.54320987654321), high=Score(precision=0.4782608695652174, recall=0.6285714285714286, fmeasure=0.54320987654321)), 'rouge2': AggregateScore(low=Score(precision=0.24444444444444444, recall=0.3235294117647059, fmeasure=0.27848101265822783), mid=Score(precision=0.24444444444444444, recall=0.3235294117647059, fmeasure=0.27848101265822783), high=Score(precision=0.24444444444444444, recall=0.3235294117647059, fmeasure=0.27848101265822783)), 'rougeL': AggregateScore(low=Score(precision=0.3695652173913043, recall=0.4857142857142857, fmeasure=0.4197530864197531), mid=Score(precision=0.3695652173913043, recall=0.4857142857142857, fmeasure=0.4197530864197531), high=Score(precision=0.3695652173913043, recall=0.4857142857142857, fmeasure=0.4197530864197531)), 'rougeLsum': AggregateScore(low=Score(precision=0.3695652173913043, recall=0.4857142857142857, fmeasure=0.4197530864197531), mid=Score(precision=0.3695652173913043, recall=0.4857142857142857, fmeasure=0.4197530864197531), high=Score(precision=0.3695652173913043, recall=0.4857142857142857, fmeasure=0.4197530864197531))}\n",
      "\n",
      "================================================================================\n",
      "\n",
      "Article 179 ROUGE scores:\n",
      "{'rouge1': AggregateScore(low=Score(precision=0.28, recall=0.45161290322580644, fmeasure=0.345679012345679), mid=Score(precision=0.28, recall=0.45161290322580644, fmeasure=0.345679012345679), high=Score(precision=0.28, recall=0.45161290322580644, fmeasure=0.345679012345679)), 'rouge2': AggregateScore(low=Score(precision=0.061224489795918366, recall=0.1, fmeasure=0.07594936708860761), mid=Score(precision=0.061224489795918366, recall=0.1, fmeasure=0.07594936708860761), high=Score(precision=0.061224489795918366, recall=0.1, fmeasure=0.07594936708860761)), 'rougeL': AggregateScore(low=Score(precision=0.1, recall=0.16129032258064516, fmeasure=0.12345679012345678), mid=Score(precision=0.1, recall=0.16129032258064516, fmeasure=0.12345679012345678), high=Score(precision=0.1, recall=0.16129032258064516, fmeasure=0.12345679012345678)), 'rougeLsum': AggregateScore(low=Score(precision=0.1, recall=0.16129032258064516, fmeasure=0.12345679012345678), mid=Score(precision=0.1, recall=0.16129032258064516, fmeasure=0.12345679012345678), high=Score(precision=0.1, recall=0.16129032258064516, fmeasure=0.12345679012345678))}\n",
      "\n",
      "================================================================================\n",
      "\n",
      "Article 180 ROUGE scores:\n",
      "{'rouge1': AggregateScore(low=Score(precision=0.044444444444444446, recall=0.19047619047619047, fmeasure=0.07207207207207207), mid=Score(precision=0.044444444444444446, recall=0.19047619047619047, fmeasure=0.07207207207207207), high=Score(precision=0.044444444444444446, recall=0.19047619047619047, fmeasure=0.07207207207207207)), 'rouge2': AggregateScore(low=Score(precision=0.011235955056179775, recall=0.05, fmeasure=0.01834862385321101), mid=Score(precision=0.011235955056179775, recall=0.05, fmeasure=0.01834862385321101), high=Score(precision=0.011235955056179775, recall=0.05, fmeasure=0.01834862385321101)), 'rougeL': AggregateScore(low=Score(precision=0.044444444444444446, recall=0.19047619047619047, fmeasure=0.07207207207207207), mid=Score(precision=0.044444444444444446, recall=0.19047619047619047, fmeasure=0.07207207207207207), high=Score(precision=0.044444444444444446, recall=0.19047619047619047, fmeasure=0.07207207207207207)), 'rougeLsum': AggregateScore(low=Score(precision=0.044444444444444446, recall=0.19047619047619047, fmeasure=0.07207207207207207), mid=Score(precision=0.044444444444444446, recall=0.19047619047619047, fmeasure=0.07207207207207207), high=Score(precision=0.044444444444444446, recall=0.19047619047619047, fmeasure=0.07207207207207207))}\n",
      "\n",
      "================================================================================\n",
      "\n",
      "Article 181 ROUGE scores:\n",
      "{'rouge1': AggregateScore(low=Score(precision=0.40540540540540543, recall=0.42857142857142855, fmeasure=0.4166666666666667), mid=Score(precision=0.40540540540540543, recall=0.42857142857142855, fmeasure=0.4166666666666667), high=Score(precision=0.40540540540540543, recall=0.42857142857142855, fmeasure=0.4166666666666667)), 'rouge2': AggregateScore(low=Score(precision=0.19444444444444445, recall=0.20588235294117646, fmeasure=0.19999999999999998), mid=Score(precision=0.19444444444444445, recall=0.20588235294117646, fmeasure=0.19999999999999998), high=Score(precision=0.19444444444444445, recall=0.20588235294117646, fmeasure=0.19999999999999998)), 'rougeL': AggregateScore(low=Score(precision=0.2972972972972973, recall=0.3142857142857143, fmeasure=0.3055555555555555), mid=Score(precision=0.2972972972972973, recall=0.3142857142857143, fmeasure=0.3055555555555555), high=Score(precision=0.2972972972972973, recall=0.3142857142857143, fmeasure=0.3055555555555555)), 'rougeLsum': AggregateScore(low=Score(precision=0.2972972972972973, recall=0.3142857142857143, fmeasure=0.3055555555555555), mid=Score(precision=0.2972972972972973, recall=0.3142857142857143, fmeasure=0.3055555555555555), high=Score(precision=0.2972972972972973, recall=0.3142857142857143, fmeasure=0.3055555555555555))}\n",
      "\n",
      "================================================================================\n",
      "\n",
      "Article 182 ROUGE scores:\n",
      "{'rouge1': AggregateScore(low=Score(precision=0.5, recall=0.5555555555555556, fmeasure=0.5263157894736842), mid=Score(precision=0.5, recall=0.5555555555555556, fmeasure=0.5263157894736842), high=Score(precision=0.5, recall=0.5555555555555556, fmeasure=0.5263157894736842)), 'rouge2': AggregateScore(low=Score(precision=0.13793103448275862, recall=0.15384615384615385, fmeasure=0.14545454545454548), mid=Score(precision=0.13793103448275862, recall=0.15384615384615385, fmeasure=0.14545454545454548), high=Score(precision=0.13793103448275862, recall=0.15384615384615385, fmeasure=0.14545454545454548)), 'rougeL': AggregateScore(low=Score(precision=0.4, recall=0.4444444444444444, fmeasure=0.4210526315789474), mid=Score(precision=0.4, recall=0.4444444444444444, fmeasure=0.4210526315789474), high=Score(precision=0.4, recall=0.4444444444444444, fmeasure=0.4210526315789474)), 'rougeLsum': AggregateScore(low=Score(precision=0.4, recall=0.4444444444444444, fmeasure=0.4210526315789474), mid=Score(precision=0.4, recall=0.4444444444444444, fmeasure=0.4210526315789474), high=Score(precision=0.4, recall=0.4444444444444444, fmeasure=0.4210526315789474))}\n",
      "\n",
      "================================================================================\n",
      "\n",
      "Article 183 ROUGE scores:\n",
      "{'rouge1': AggregateScore(low=Score(precision=0.22916666666666666, recall=0.6470588235294118, fmeasure=0.3384615384615385), mid=Score(precision=0.22916666666666666, recall=0.6470588235294118, fmeasure=0.3384615384615385), high=Score(precision=0.22916666666666666, recall=0.6470588235294118, fmeasure=0.3384615384615385)), 'rouge2': AggregateScore(low=Score(precision=0.1276595744680851, recall=0.375, fmeasure=0.1904761904761905), mid=Score(precision=0.1276595744680851, recall=0.375, fmeasure=0.1904761904761905), high=Score(precision=0.1276595744680851, recall=0.375, fmeasure=0.1904761904761905)), 'rougeL': AggregateScore(low=Score(precision=0.20833333333333334, recall=0.5882352941176471, fmeasure=0.3076923076923077), mid=Score(precision=0.20833333333333334, recall=0.5882352941176471, fmeasure=0.3076923076923077), high=Score(precision=0.20833333333333334, recall=0.5882352941176471, fmeasure=0.3076923076923077)), 'rougeLsum': AggregateScore(low=Score(precision=0.20833333333333334, recall=0.5882352941176471, fmeasure=0.3076923076923077), mid=Score(precision=0.20833333333333334, recall=0.5882352941176471, fmeasure=0.3076923076923077), high=Score(precision=0.20833333333333334, recall=0.5882352941176471, fmeasure=0.3076923076923077))}\n",
      "\n",
      "================================================================================\n",
      "\n",
      "Article 184 ROUGE scores:\n",
      "{'rouge1': AggregateScore(low=Score(precision=0.6, recall=0.391304347826087, fmeasure=0.47368421052631576), mid=Score(precision=0.6, recall=0.391304347826087, fmeasure=0.47368421052631576), high=Score(precision=0.6, recall=0.391304347826087, fmeasure=0.47368421052631576)), 'rouge2': AggregateScore(low=Score(precision=0.38636363636363635, recall=0.25, fmeasure=0.30357142857142855), mid=Score(precision=0.38636363636363635, recall=0.25, fmeasure=0.30357142857142855), high=Score(precision=0.38636363636363635, recall=0.25, fmeasure=0.30357142857142855)), 'rougeL': AggregateScore(low=Score(precision=0.4444444444444444, recall=0.2898550724637681, fmeasure=0.3508771929824561), mid=Score(precision=0.4444444444444444, recall=0.2898550724637681, fmeasure=0.3508771929824561), high=Score(precision=0.4444444444444444, recall=0.2898550724637681, fmeasure=0.3508771929824561)), 'rougeLsum': AggregateScore(low=Score(precision=0.4444444444444444, recall=0.2898550724637681, fmeasure=0.3508771929824561), mid=Score(precision=0.4444444444444444, recall=0.2898550724637681, fmeasure=0.3508771929824561), high=Score(precision=0.4444444444444444, recall=0.2898550724637681, fmeasure=0.3508771929824561))}\n",
      "\n",
      "================================================================================\n",
      "\n",
      "Article 185 ROUGE scores:\n",
      "{'rouge1': AggregateScore(low=Score(precision=0.5517241379310345, recall=0.7272727272727273, fmeasure=0.6274509803921569), mid=Score(precision=0.5517241379310345, recall=0.7272727272727273, fmeasure=0.6274509803921569), high=Score(precision=0.5517241379310345, recall=0.7272727272727273, fmeasure=0.6274509803921569)), 'rouge2': AggregateScore(low=Score(precision=0.3333333333333333, recall=0.4418604651162791, fmeasure=0.37999999999999995), mid=Score(precision=0.3333333333333333, recall=0.4418604651162791, fmeasure=0.37999999999999995), high=Score(precision=0.3333333333333333, recall=0.4418604651162791, fmeasure=0.37999999999999995)), 'rougeL': AggregateScore(low=Score(precision=0.4482758620689655, recall=0.5909090909090909, fmeasure=0.5098039215686274), mid=Score(precision=0.4482758620689655, recall=0.5909090909090909, fmeasure=0.5098039215686274), high=Score(precision=0.4482758620689655, recall=0.5909090909090909, fmeasure=0.5098039215686274)), 'rougeLsum': AggregateScore(low=Score(precision=0.4482758620689655, recall=0.5909090909090909, fmeasure=0.5098039215686274), mid=Score(precision=0.4482758620689655, recall=0.5909090909090909, fmeasure=0.5098039215686274), high=Score(precision=0.4482758620689655, recall=0.5909090909090909, fmeasure=0.5098039215686274))}\n",
      "\n",
      "================================================================================\n",
      "\n",
      "Article 186 ROUGE scores:\n",
      "{'rouge1': AggregateScore(low=Score(precision=0.2, recall=0.30612244897959184, fmeasure=0.24193548387096772), mid=Score(precision=0.2, recall=0.30612244897959184, fmeasure=0.24193548387096772), high=Score(precision=0.2, recall=0.30612244897959184, fmeasure=0.24193548387096772)), 'rouge2': AggregateScore(low=Score(precision=0.08108108108108109, recall=0.125, fmeasure=0.09836065573770492), mid=Score(precision=0.08108108108108109, recall=0.125, fmeasure=0.09836065573770492), high=Score(precision=0.08108108108108109, recall=0.125, fmeasure=0.09836065573770492)), 'rougeL': AggregateScore(low=Score(precision=0.09333333333333334, recall=0.14285714285714285, fmeasure=0.11290322580645161), mid=Score(precision=0.09333333333333334, recall=0.14285714285714285, fmeasure=0.11290322580645161), high=Score(precision=0.09333333333333334, recall=0.14285714285714285, fmeasure=0.11290322580645161)), 'rougeLsum': AggregateScore(low=Score(precision=0.09333333333333334, recall=0.14285714285714285, fmeasure=0.11290322580645161), mid=Score(precision=0.09333333333333334, recall=0.14285714285714285, fmeasure=0.11290322580645161), high=Score(precision=0.09333333333333334, recall=0.14285714285714285, fmeasure=0.11290322580645161))}\n",
      "\n",
      "================================================================================\n",
      "\n",
      "Article 187 ROUGE scores:\n",
      "{'rouge1': AggregateScore(low=Score(precision=0.0784313725490196, recall=0.11428571428571428, fmeasure=0.09302325581395349), mid=Score(precision=0.0784313725490196, recall=0.11428571428571428, fmeasure=0.09302325581395349), high=Score(precision=0.0784313725490196, recall=0.11428571428571428, fmeasure=0.09302325581395349)), 'rouge2': AggregateScore(low=Score(precision=0.0, recall=0.0, fmeasure=0.0), mid=Score(precision=0.0, recall=0.0, fmeasure=0.0), high=Score(precision=0.0, recall=0.0, fmeasure=0.0)), 'rougeL': AggregateScore(low=Score(precision=0.0784313725490196, recall=0.11428571428571428, fmeasure=0.09302325581395349), mid=Score(precision=0.0784313725490196, recall=0.11428571428571428, fmeasure=0.09302325581395349), high=Score(precision=0.0784313725490196, recall=0.11428571428571428, fmeasure=0.09302325581395349)), 'rougeLsum': AggregateScore(low=Score(precision=0.0784313725490196, recall=0.11428571428571428, fmeasure=0.09302325581395349), mid=Score(precision=0.0784313725490196, recall=0.11428571428571428, fmeasure=0.09302325581395349), high=Score(precision=0.0784313725490196, recall=0.11428571428571428, fmeasure=0.09302325581395349))}\n",
      "\n",
      "================================================================================\n",
      "\n",
      "Article 188 ROUGE scores:\n",
      "{'rouge1': AggregateScore(low=Score(precision=0.13793103448275862, recall=0.26666666666666666, fmeasure=0.18181818181818182), mid=Score(precision=0.13793103448275862, recall=0.26666666666666666, fmeasure=0.18181818181818182), high=Score(precision=0.13793103448275862, recall=0.26666666666666666, fmeasure=0.18181818181818182)), 'rouge2': AggregateScore(low=Score(precision=0.0, recall=0.0, fmeasure=0.0), mid=Score(precision=0.0, recall=0.0, fmeasure=0.0), high=Score(precision=0.0, recall=0.0, fmeasure=0.0)), 'rougeL': AggregateScore(low=Score(precision=0.10344827586206896, recall=0.2, fmeasure=0.13636363636363635), mid=Score(precision=0.10344827586206896, recall=0.2, fmeasure=0.13636363636363635), high=Score(precision=0.10344827586206896, recall=0.2, fmeasure=0.13636363636363635)), 'rougeLsum': AggregateScore(low=Score(precision=0.10344827586206896, recall=0.2, fmeasure=0.13636363636363635), mid=Score(precision=0.10344827586206896, recall=0.2, fmeasure=0.13636363636363635), high=Score(precision=0.10344827586206896, recall=0.2, fmeasure=0.13636363636363635))}\n",
      "\n",
      "================================================================================\n",
      "\n",
      "Article 189 ROUGE scores:\n",
      "{'rouge1': AggregateScore(low=Score(precision=0.3835616438356164, recall=0.5, fmeasure=0.43410852713178294), mid=Score(precision=0.3835616438356164, recall=0.5, fmeasure=0.43410852713178294), high=Score(precision=0.3835616438356164, recall=0.5, fmeasure=0.43410852713178294)), 'rouge2': AggregateScore(low=Score(precision=0.20833333333333334, recall=0.2727272727272727, fmeasure=0.23622047244094488), mid=Score(precision=0.20833333333333334, recall=0.2727272727272727, fmeasure=0.23622047244094488), high=Score(precision=0.20833333333333334, recall=0.2727272727272727, fmeasure=0.23622047244094488)), 'rougeL': AggregateScore(low=Score(precision=0.2876712328767123, recall=0.375, fmeasure=0.3255813953488372), mid=Score(precision=0.2876712328767123, recall=0.375, fmeasure=0.3255813953488372), high=Score(precision=0.2876712328767123, recall=0.375, fmeasure=0.3255813953488372)), 'rougeLsum': AggregateScore(low=Score(precision=0.2876712328767123, recall=0.375, fmeasure=0.3255813953488372), mid=Score(precision=0.2876712328767123, recall=0.375, fmeasure=0.3255813953488372), high=Score(precision=0.2876712328767123, recall=0.375, fmeasure=0.3255813953488372))}\n",
      "\n",
      "================================================================================\n",
      "\n",
      "Article 190 ROUGE scores:\n",
      "{'rouge1': AggregateScore(low=Score(precision=0.18604651162790697, recall=0.5333333333333333, fmeasure=0.27586206896551724), mid=Score(precision=0.18604651162790697, recall=0.5333333333333333, fmeasure=0.27586206896551724), high=Score(precision=0.18604651162790697, recall=0.5333333333333333, fmeasure=0.27586206896551724)), 'rouge2': AggregateScore(low=Score(precision=0.09523809523809523, recall=0.2857142857142857, fmeasure=0.14285714285714285), mid=Score(precision=0.09523809523809523, recall=0.2857142857142857, fmeasure=0.14285714285714285), high=Score(precision=0.09523809523809523, recall=0.2857142857142857, fmeasure=0.14285714285714285)), 'rougeL': AggregateScore(low=Score(precision=0.18604651162790697, recall=0.5333333333333333, fmeasure=0.27586206896551724), mid=Score(precision=0.18604651162790697, recall=0.5333333333333333, fmeasure=0.27586206896551724), high=Score(precision=0.18604651162790697, recall=0.5333333333333333, fmeasure=0.27586206896551724)), 'rougeLsum': AggregateScore(low=Score(precision=0.18604651162790697, recall=0.5333333333333333, fmeasure=0.27586206896551724), mid=Score(precision=0.18604651162790697, recall=0.5333333333333333, fmeasure=0.27586206896551724), high=Score(precision=0.18604651162790697, recall=0.5333333333333333, fmeasure=0.27586206896551724))}\n",
      "\n",
      "================================================================================\n",
      "\n",
      "Article 191 ROUGE scores:\n",
      "{'rouge1': AggregateScore(low=Score(precision=0.15217391304347827, recall=0.2413793103448276, fmeasure=0.18666666666666665), mid=Score(precision=0.15217391304347827, recall=0.2413793103448276, fmeasure=0.18666666666666665), high=Score(precision=0.15217391304347827, recall=0.2413793103448276, fmeasure=0.18666666666666665)), 'rouge2': AggregateScore(low=Score(precision=0.06666666666666667, recall=0.10714285714285714, fmeasure=0.0821917808219178), mid=Score(precision=0.06666666666666667, recall=0.10714285714285714, fmeasure=0.0821917808219178), high=Score(precision=0.06666666666666667, recall=0.10714285714285714, fmeasure=0.0821917808219178)), 'rougeL': AggregateScore(low=Score(precision=0.15217391304347827, recall=0.2413793103448276, fmeasure=0.18666666666666665), mid=Score(precision=0.15217391304347827, recall=0.2413793103448276, fmeasure=0.18666666666666665), high=Score(precision=0.15217391304347827, recall=0.2413793103448276, fmeasure=0.18666666666666665)), 'rougeLsum': AggregateScore(low=Score(precision=0.15217391304347827, recall=0.2413793103448276, fmeasure=0.18666666666666665), mid=Score(precision=0.15217391304347827, recall=0.2413793103448276, fmeasure=0.18666666666666665), high=Score(precision=0.15217391304347827, recall=0.2413793103448276, fmeasure=0.18666666666666665))}\n",
      "\n",
      "================================================================================\n",
      "\n",
      "Article 192 ROUGE scores:\n",
      "{'rouge1': AggregateScore(low=Score(precision=0.14516129032258066, recall=0.5, fmeasure=0.22500000000000003), mid=Score(precision=0.14516129032258066, recall=0.5, fmeasure=0.22500000000000003), high=Score(precision=0.14516129032258066, recall=0.5, fmeasure=0.22500000000000003)), 'rouge2': AggregateScore(low=Score(precision=0.08196721311475409, recall=0.29411764705882354, fmeasure=0.12820512820512822), mid=Score(precision=0.08196721311475409, recall=0.29411764705882354, fmeasure=0.12820512820512822), high=Score(precision=0.08196721311475409, recall=0.29411764705882354, fmeasure=0.12820512820512822)), 'rougeL': AggregateScore(low=Score(precision=0.12903225806451613, recall=0.4444444444444444, fmeasure=0.19999999999999998), mid=Score(precision=0.12903225806451613, recall=0.4444444444444444, fmeasure=0.19999999999999998), high=Score(precision=0.12903225806451613, recall=0.4444444444444444, fmeasure=0.19999999999999998)), 'rougeLsum': AggregateScore(low=Score(precision=0.12903225806451613, recall=0.4444444444444444, fmeasure=0.19999999999999998), mid=Score(precision=0.12903225806451613, recall=0.4444444444444444, fmeasure=0.19999999999999998), high=Score(precision=0.12903225806451613, recall=0.4444444444444444, fmeasure=0.19999999999999998))}\n",
      "\n",
      "================================================================================\n",
      "\n",
      "Article 193 ROUGE scores:\n",
      "{'rouge1': AggregateScore(low=Score(precision=0.1388888888888889, recall=0.38461538461538464, fmeasure=0.20408163265306123), mid=Score(precision=0.1388888888888889, recall=0.38461538461538464, fmeasure=0.20408163265306123), high=Score(precision=0.1388888888888889, recall=0.38461538461538464, fmeasure=0.20408163265306123)), 'rouge2': AggregateScore(low=Score(precision=0.0, recall=0.0, fmeasure=0.0), mid=Score(precision=0.0, recall=0.0, fmeasure=0.0), high=Score(precision=0.0, recall=0.0, fmeasure=0.0)), 'rougeL': AggregateScore(low=Score(precision=0.08333333333333333, recall=0.23076923076923078, fmeasure=0.12244897959183675), mid=Score(precision=0.08333333333333333, recall=0.23076923076923078, fmeasure=0.12244897959183675), high=Score(precision=0.08333333333333333, recall=0.23076923076923078, fmeasure=0.12244897959183675)), 'rougeLsum': AggregateScore(low=Score(precision=0.08333333333333333, recall=0.23076923076923078, fmeasure=0.12244897959183675), mid=Score(precision=0.08333333333333333, recall=0.23076923076923078, fmeasure=0.12244897959183675), high=Score(precision=0.08333333333333333, recall=0.23076923076923078, fmeasure=0.12244897959183675))}\n",
      "\n",
      "================================================================================\n",
      "\n",
      "Article 194 ROUGE scores:\n",
      "{'rouge1': AggregateScore(low=Score(precision=0.3181818181818182, recall=0.5526315789473685, fmeasure=0.4038461538461538), mid=Score(precision=0.3181818181818182, recall=0.5526315789473685, fmeasure=0.4038461538461538), high=Score(precision=0.3181818181818182, recall=0.5526315789473685, fmeasure=0.4038461538461538)), 'rouge2': AggregateScore(low=Score(precision=0.15384615384615385, recall=0.2702702702702703, fmeasure=0.19607843137254902), mid=Score(precision=0.15384615384615385, recall=0.2702702702702703, fmeasure=0.19607843137254902), high=Score(precision=0.15384615384615385, recall=0.2702702702702703, fmeasure=0.19607843137254902)), 'rougeL': AggregateScore(low=Score(precision=0.16666666666666666, recall=0.2894736842105263, fmeasure=0.21153846153846154), mid=Score(precision=0.16666666666666666, recall=0.2894736842105263, fmeasure=0.21153846153846154), high=Score(precision=0.16666666666666666, recall=0.2894736842105263, fmeasure=0.21153846153846154)), 'rougeLsum': AggregateScore(low=Score(precision=0.16666666666666666, recall=0.2894736842105263, fmeasure=0.21153846153846154), mid=Score(precision=0.16666666666666666, recall=0.2894736842105263, fmeasure=0.21153846153846154), high=Score(precision=0.16666666666666666, recall=0.2894736842105263, fmeasure=0.21153846153846154))}\n",
      "\n",
      "================================================================================\n",
      "\n",
      "Article 195 ROUGE scores:\n",
      "{'rouge1': AggregateScore(low=Score(precision=0.20512820512820512, recall=0.3333333333333333, fmeasure=0.25396825396825395), mid=Score(precision=0.20512820512820512, recall=0.3333333333333333, fmeasure=0.25396825396825395), high=Score(precision=0.20512820512820512, recall=0.3333333333333333, fmeasure=0.25396825396825395)), 'rouge2': AggregateScore(low=Score(precision=0.07894736842105263, recall=0.13043478260869565, fmeasure=0.09836065573770492), mid=Score(precision=0.07894736842105263, recall=0.13043478260869565, fmeasure=0.09836065573770492), high=Score(precision=0.07894736842105263, recall=0.13043478260869565, fmeasure=0.09836065573770492)), 'rougeL': AggregateScore(low=Score(precision=0.15384615384615385, recall=0.25, fmeasure=0.1904761904761905), mid=Score(precision=0.15384615384615385, recall=0.25, fmeasure=0.1904761904761905), high=Score(precision=0.15384615384615385, recall=0.25, fmeasure=0.1904761904761905)), 'rougeLsum': AggregateScore(low=Score(precision=0.15384615384615385, recall=0.25, fmeasure=0.1904761904761905), mid=Score(precision=0.15384615384615385, recall=0.25, fmeasure=0.1904761904761905), high=Score(precision=0.15384615384615385, recall=0.25, fmeasure=0.1904761904761905))}\n",
      "\n",
      "================================================================================\n",
      "\n",
      "Article 196 ROUGE scores:\n",
      "{'rouge1': AggregateScore(low=Score(precision=0.18181818181818182, recall=0.2564102564102564, fmeasure=0.2127659574468085), mid=Score(precision=0.18181818181818182, recall=0.2564102564102564, fmeasure=0.2127659574468085), high=Score(precision=0.18181818181818182, recall=0.2564102564102564, fmeasure=0.2127659574468085)), 'rouge2': AggregateScore(low=Score(precision=0.05555555555555555, recall=0.07894736842105263, fmeasure=0.06521739130434782), mid=Score(precision=0.05555555555555555, recall=0.07894736842105263, fmeasure=0.06521739130434782), high=Score(precision=0.05555555555555555, recall=0.07894736842105263, fmeasure=0.06521739130434782)), 'rougeL': AggregateScore(low=Score(precision=0.09090909090909091, recall=0.1282051282051282, fmeasure=0.10638297872340426), mid=Score(precision=0.09090909090909091, recall=0.1282051282051282, fmeasure=0.10638297872340426), high=Score(precision=0.09090909090909091, recall=0.1282051282051282, fmeasure=0.10638297872340426)), 'rougeLsum': AggregateScore(low=Score(precision=0.09090909090909091, recall=0.1282051282051282, fmeasure=0.10638297872340426), mid=Score(precision=0.09090909090909091, recall=0.1282051282051282, fmeasure=0.10638297872340426), high=Score(precision=0.09090909090909091, recall=0.1282051282051282, fmeasure=0.10638297872340426))}\n",
      "\n",
      "================================================================================\n",
      "\n",
      "Article 197 ROUGE scores:\n",
      "{'rouge1': AggregateScore(low=Score(precision=0.19047619047619047, recall=0.48, fmeasure=0.2727272727272727), mid=Score(precision=0.19047619047619047, recall=0.48, fmeasure=0.2727272727272727), high=Score(precision=0.19047619047619047, recall=0.48, fmeasure=0.2727272727272727)), 'rouge2': AggregateScore(low=Score(precision=0.0967741935483871, recall=0.25, fmeasure=0.13953488372093023), mid=Score(precision=0.0967741935483871, recall=0.25, fmeasure=0.13953488372093023), high=Score(precision=0.0967741935483871, recall=0.25, fmeasure=0.13953488372093023)), 'rougeL': AggregateScore(low=Score(precision=0.14285714285714285, recall=0.36, fmeasure=0.2045454545454545), mid=Score(precision=0.14285714285714285, recall=0.36, fmeasure=0.2045454545454545), high=Score(precision=0.14285714285714285, recall=0.36, fmeasure=0.2045454545454545)), 'rougeLsum': AggregateScore(low=Score(precision=0.14285714285714285, recall=0.36, fmeasure=0.2045454545454545), mid=Score(precision=0.14285714285714285, recall=0.36, fmeasure=0.2045454545454545), high=Score(precision=0.14285714285714285, recall=0.36, fmeasure=0.2045454545454545))}\n",
      "\n",
      "================================================================================\n",
      "\n",
      "Article 198 ROUGE scores:\n",
      "{'rouge1': AggregateScore(low=Score(precision=0.24, recall=0.34285714285714286, fmeasure=0.2823529411764706), mid=Score(precision=0.24, recall=0.34285714285714286, fmeasure=0.2823529411764706), high=Score(precision=0.24, recall=0.34285714285714286, fmeasure=0.2823529411764706)), 'rouge2': AggregateScore(low=Score(precision=0.10204081632653061, recall=0.14705882352941177, fmeasure=0.12048192771084339), mid=Score(precision=0.10204081632653061, recall=0.14705882352941177, fmeasure=0.12048192771084339), high=Score(precision=0.10204081632653061, recall=0.14705882352941177, fmeasure=0.12048192771084339)), 'rougeL': AggregateScore(low=Score(precision=0.16, recall=0.22857142857142856, fmeasure=0.18823529411764708), mid=Score(precision=0.16, recall=0.22857142857142856, fmeasure=0.18823529411764708), high=Score(precision=0.16, recall=0.22857142857142856, fmeasure=0.18823529411764708)), 'rougeLsum': AggregateScore(low=Score(precision=0.16, recall=0.22857142857142856, fmeasure=0.18823529411764708), mid=Score(precision=0.16, recall=0.22857142857142856, fmeasure=0.18823529411764708), high=Score(precision=0.16, recall=0.22857142857142856, fmeasure=0.18823529411764708))}\n",
      "\n",
      "================================================================================\n",
      "\n",
      "Article 199 ROUGE scores:\n",
      "{'rouge1': AggregateScore(low=Score(precision=0.136986301369863, recall=0.3225806451612903, fmeasure=0.1923076923076923), mid=Score(precision=0.136986301369863, recall=0.3225806451612903, fmeasure=0.1923076923076923), high=Score(precision=0.136986301369863, recall=0.3225806451612903, fmeasure=0.1923076923076923)), 'rouge2': AggregateScore(low=Score(precision=0.013888888888888888, recall=0.03333333333333333, fmeasure=0.0196078431372549), mid=Score(precision=0.013888888888888888, recall=0.03333333333333333, fmeasure=0.0196078431372549), high=Score(precision=0.013888888888888888, recall=0.03333333333333333, fmeasure=0.0196078431372549)), 'rougeL': AggregateScore(low=Score(precision=0.0821917808219178, recall=0.1935483870967742, fmeasure=0.11538461538461538), mid=Score(precision=0.0821917808219178, recall=0.1935483870967742, fmeasure=0.11538461538461538), high=Score(precision=0.0821917808219178, recall=0.1935483870967742, fmeasure=0.11538461538461538)), 'rougeLsum': AggregateScore(low=Score(precision=0.0821917808219178, recall=0.1935483870967742, fmeasure=0.11538461538461538), mid=Score(precision=0.0821917808219178, recall=0.1935483870967742, fmeasure=0.11538461538461538), high=Score(precision=0.0821917808219178, recall=0.1935483870967742, fmeasure=0.11538461538461538))}\n",
      "\n",
      "================================================================================\n",
      "\n",
      "Article 200 ROUGE scores:\n",
      "{'rouge1': AggregateScore(low=Score(precision=0.3448275862068966, recall=0.35714285714285715, fmeasure=0.3508771929824561), mid=Score(precision=0.3448275862068966, recall=0.35714285714285715, fmeasure=0.3508771929824561), high=Score(precision=0.3448275862068966, recall=0.35714285714285715, fmeasure=0.3508771929824561)), 'rouge2': AggregateScore(low=Score(precision=0.14285714285714285, recall=0.14814814814814814, fmeasure=0.14545454545454545), mid=Score(precision=0.14285714285714285, recall=0.14814814814814814, fmeasure=0.14545454545454545), high=Score(precision=0.14285714285714285, recall=0.14814814814814814, fmeasure=0.14545454545454545)), 'rougeL': AggregateScore(low=Score(precision=0.20689655172413793, recall=0.21428571428571427, fmeasure=0.21052631578947367), mid=Score(precision=0.20689655172413793, recall=0.21428571428571427, fmeasure=0.21052631578947367), high=Score(precision=0.20689655172413793, recall=0.21428571428571427, fmeasure=0.21052631578947367)), 'rougeLsum': AggregateScore(low=Score(precision=0.20689655172413793, recall=0.21428571428571427, fmeasure=0.21052631578947367), mid=Score(precision=0.20689655172413793, recall=0.21428571428571427, fmeasure=0.21052631578947367), high=Score(precision=0.20689655172413793, recall=0.21428571428571427, fmeasure=0.21052631578947367))}\n",
      "\n",
      "================================================================================\n",
      "\n",
      "Article 201 ROUGE scores:\n",
      "{'rouge1': AggregateScore(low=Score(precision=0.23809523809523808, recall=0.47619047619047616, fmeasure=0.3174603174603175), mid=Score(precision=0.23809523809523808, recall=0.47619047619047616, fmeasure=0.3174603174603175), high=Score(precision=0.23809523809523808, recall=0.47619047619047616, fmeasure=0.3174603174603175)), 'rouge2': AggregateScore(low=Score(precision=0.0975609756097561, recall=0.2, fmeasure=0.13114754098360656), mid=Score(precision=0.0975609756097561, recall=0.2, fmeasure=0.13114754098360656), high=Score(precision=0.0975609756097561, recall=0.2, fmeasure=0.13114754098360656)), 'rougeL': AggregateScore(low=Score(precision=0.21428571428571427, recall=0.42857142857142855, fmeasure=0.2857142857142857), mid=Score(precision=0.21428571428571427, recall=0.42857142857142855, fmeasure=0.2857142857142857), high=Score(precision=0.21428571428571427, recall=0.42857142857142855, fmeasure=0.2857142857142857)), 'rougeLsum': AggregateScore(low=Score(precision=0.21428571428571427, recall=0.42857142857142855, fmeasure=0.2857142857142857), mid=Score(precision=0.21428571428571427, recall=0.42857142857142855, fmeasure=0.2857142857142857), high=Score(precision=0.21428571428571427, recall=0.42857142857142855, fmeasure=0.2857142857142857))}\n",
      "\n",
      "================================================================================\n",
      "\n",
      "Article 202 ROUGE scores:\n",
      "{'rouge1': AggregateScore(low=Score(precision=0.34210526315789475, recall=0.3170731707317073, fmeasure=0.32911392405063294), mid=Score(precision=0.34210526315789475, recall=0.3170731707317073, fmeasure=0.32911392405063294), high=Score(precision=0.34210526315789475, recall=0.3170731707317073, fmeasure=0.32911392405063294)), 'rouge2': AggregateScore(low=Score(precision=0.10810810810810811, recall=0.1, fmeasure=0.1038961038961039), mid=Score(precision=0.10810810810810811, recall=0.1, fmeasure=0.1038961038961039), high=Score(precision=0.10810810810810811, recall=0.1, fmeasure=0.1038961038961039)), 'rougeL': AggregateScore(low=Score(precision=0.18421052631578946, recall=0.17073170731707318, fmeasure=0.17721518987341772), mid=Score(precision=0.18421052631578946, recall=0.17073170731707318, fmeasure=0.17721518987341772), high=Score(precision=0.18421052631578946, recall=0.17073170731707318, fmeasure=0.17721518987341772)), 'rougeLsum': AggregateScore(low=Score(precision=0.18421052631578946, recall=0.17073170731707318, fmeasure=0.17721518987341772), mid=Score(precision=0.18421052631578946, recall=0.17073170731707318, fmeasure=0.17721518987341772), high=Score(precision=0.18421052631578946, recall=0.17073170731707318, fmeasure=0.17721518987341772))}\n",
      "\n",
      "================================================================================\n",
      "\n",
      "Article 203 ROUGE scores:\n",
      "{'rouge1': AggregateScore(low=Score(precision=0.15789473684210525, recall=0.21428571428571427, fmeasure=0.18181818181818182), mid=Score(precision=0.15789473684210525, recall=0.21428571428571427, fmeasure=0.18181818181818182), high=Score(precision=0.15789473684210525, recall=0.21428571428571427, fmeasure=0.18181818181818182)), 'rouge2': AggregateScore(low=Score(precision=0.05405405405405406, recall=0.07407407407407407, fmeasure=0.0625), mid=Score(precision=0.05405405405405406, recall=0.07407407407407407, fmeasure=0.0625), high=Score(precision=0.05405405405405406, recall=0.07407407407407407, fmeasure=0.0625)), 'rougeL': AggregateScore(low=Score(precision=0.07894736842105263, recall=0.10714285714285714, fmeasure=0.09090909090909091), mid=Score(precision=0.07894736842105263, recall=0.10714285714285714, fmeasure=0.09090909090909091), high=Score(precision=0.07894736842105263, recall=0.10714285714285714, fmeasure=0.09090909090909091)), 'rougeLsum': AggregateScore(low=Score(precision=0.07894736842105263, recall=0.10714285714285714, fmeasure=0.09090909090909091), mid=Score(precision=0.07894736842105263, recall=0.10714285714285714, fmeasure=0.09090909090909091), high=Score(precision=0.07894736842105263, recall=0.10714285714285714, fmeasure=0.09090909090909091))}\n",
      "\n",
      "================================================================================\n",
      "\n",
      "Article 204 ROUGE scores:\n",
      "{'rouge1': AggregateScore(low=Score(precision=0.21951219512195122, recall=0.5625, fmeasure=0.3157894736842105), mid=Score(precision=0.21951219512195122, recall=0.5625, fmeasure=0.3157894736842105), high=Score(precision=0.21951219512195122, recall=0.5625, fmeasure=0.3157894736842105)), 'rouge2': AggregateScore(low=Score(precision=0.075, recall=0.2, fmeasure=0.10909090909090907), mid=Score(precision=0.075, recall=0.2, fmeasure=0.10909090909090907), high=Score(precision=0.075, recall=0.2, fmeasure=0.10909090909090907)), 'rougeL': AggregateScore(low=Score(precision=0.1951219512195122, recall=0.5, fmeasure=0.28070175438596495), mid=Score(precision=0.1951219512195122, recall=0.5, fmeasure=0.28070175438596495), high=Score(precision=0.1951219512195122, recall=0.5, fmeasure=0.28070175438596495)), 'rougeLsum': AggregateScore(low=Score(precision=0.1951219512195122, recall=0.5, fmeasure=0.28070175438596495), mid=Score(precision=0.1951219512195122, recall=0.5, fmeasure=0.28070175438596495), high=Score(precision=0.1951219512195122, recall=0.5, fmeasure=0.28070175438596495))}\n",
      "\n",
      "================================================================================\n",
      "\n",
      "Article 205 ROUGE scores:\n",
      "{'rouge1': AggregateScore(low=Score(precision=0.3488372093023256, recall=0.40540540540540543, fmeasure=0.375), mid=Score(precision=0.3488372093023256, recall=0.40540540540540543, fmeasure=0.375), high=Score(precision=0.3488372093023256, recall=0.40540540540540543, fmeasure=0.375)), 'rouge2': AggregateScore(low=Score(precision=0.23809523809523808, recall=0.2777777777777778, fmeasure=0.25641025641025644), mid=Score(precision=0.23809523809523808, recall=0.2777777777777778, fmeasure=0.25641025641025644), high=Score(precision=0.23809523809523808, recall=0.2777777777777778, fmeasure=0.25641025641025644)), 'rougeL': AggregateScore(low=Score(precision=0.3023255813953488, recall=0.35135135135135137, fmeasure=0.32499999999999996), mid=Score(precision=0.3023255813953488, recall=0.35135135135135137, fmeasure=0.32499999999999996), high=Score(precision=0.3023255813953488, recall=0.35135135135135137, fmeasure=0.32499999999999996)), 'rougeLsum': AggregateScore(low=Score(precision=0.3023255813953488, recall=0.35135135135135137, fmeasure=0.32499999999999996), mid=Score(precision=0.3023255813953488, recall=0.35135135135135137, fmeasure=0.32499999999999996), high=Score(precision=0.3023255813953488, recall=0.35135135135135137, fmeasure=0.32499999999999996))}\n",
      "\n",
      "================================================================================\n",
      "\n",
      "Article 206 ROUGE scores:\n",
      "{'rouge1': AggregateScore(low=Score(precision=0.24242424242424243, recall=0.26666666666666666, fmeasure=0.253968253968254), mid=Score(precision=0.24242424242424243, recall=0.26666666666666666, fmeasure=0.253968253968254), high=Score(precision=0.24242424242424243, recall=0.26666666666666666, fmeasure=0.253968253968254)), 'rouge2': AggregateScore(low=Score(precision=0.1875, recall=0.20689655172413793, fmeasure=0.19672131147540986), mid=Score(precision=0.1875, recall=0.20689655172413793, fmeasure=0.19672131147540986), high=Score(precision=0.1875, recall=0.20689655172413793, fmeasure=0.19672131147540986)), 'rougeL': AggregateScore(low=Score(precision=0.21212121212121213, recall=0.23333333333333334, fmeasure=0.22222222222222224), mid=Score(precision=0.21212121212121213, recall=0.23333333333333334, fmeasure=0.22222222222222224), high=Score(precision=0.21212121212121213, recall=0.23333333333333334, fmeasure=0.22222222222222224)), 'rougeLsum': AggregateScore(low=Score(precision=0.21212121212121213, recall=0.23333333333333334, fmeasure=0.22222222222222224), mid=Score(precision=0.21212121212121213, recall=0.23333333333333334, fmeasure=0.22222222222222224), high=Score(precision=0.21212121212121213, recall=0.23333333333333334, fmeasure=0.22222222222222224))}\n",
      "\n",
      "================================================================================\n",
      "\n",
      "Article 207 ROUGE scores:\n",
      "{'rouge1': AggregateScore(low=Score(precision=0.26666666666666666, recall=0.38095238095238093, fmeasure=0.3137254901960784), mid=Score(precision=0.26666666666666666, recall=0.38095238095238093, fmeasure=0.3137254901960784), high=Score(precision=0.26666666666666666, recall=0.38095238095238093, fmeasure=0.3137254901960784)), 'rouge2': AggregateScore(low=Score(precision=0.0, recall=0.0, fmeasure=0.0), mid=Score(precision=0.0, recall=0.0, fmeasure=0.0), high=Score(precision=0.0, recall=0.0, fmeasure=0.0)), 'rougeL': AggregateScore(low=Score(precision=0.16666666666666666, recall=0.23809523809523808, fmeasure=0.19607843137254902), mid=Score(precision=0.16666666666666666, recall=0.23809523809523808, fmeasure=0.19607843137254902), high=Score(precision=0.16666666666666666, recall=0.23809523809523808, fmeasure=0.19607843137254902)), 'rougeLsum': AggregateScore(low=Score(precision=0.16666666666666666, recall=0.23809523809523808, fmeasure=0.19607843137254902), mid=Score(precision=0.16666666666666666, recall=0.23809523809523808, fmeasure=0.19607843137254902), high=Score(precision=0.16666666666666666, recall=0.23809523809523808, fmeasure=0.19607843137254902))}\n",
      "\n",
      "================================================================================\n",
      "\n",
      "Article 208 ROUGE scores:\n",
      "{'rouge1': AggregateScore(low=Score(precision=0.2625, recall=0.9545454545454546, fmeasure=0.41176470588235303), mid=Score(precision=0.2625, recall=0.9545454545454546, fmeasure=0.41176470588235303), high=Score(precision=0.2625, recall=0.9545454545454546, fmeasure=0.41176470588235303)), 'rouge2': AggregateScore(low=Score(precision=0.21518987341772153, recall=0.8095238095238095, fmeasure=0.33999999999999997), mid=Score(precision=0.21518987341772153, recall=0.8095238095238095, fmeasure=0.33999999999999997), high=Score(precision=0.21518987341772153, recall=0.8095238095238095, fmeasure=0.33999999999999997)), 'rougeL': AggregateScore(low=Score(precision=0.2375, recall=0.8636363636363636, fmeasure=0.37254901960784315), mid=Score(precision=0.2375, recall=0.8636363636363636, fmeasure=0.37254901960784315), high=Score(precision=0.2375, recall=0.8636363636363636, fmeasure=0.37254901960784315)), 'rougeLsum': AggregateScore(low=Score(precision=0.2375, recall=0.8636363636363636, fmeasure=0.37254901960784315), mid=Score(precision=0.2375, recall=0.8636363636363636, fmeasure=0.37254901960784315), high=Score(precision=0.2375, recall=0.8636363636363636, fmeasure=0.37254901960784315))}\n",
      "\n",
      "================================================================================\n",
      "\n",
      "Article 209 ROUGE scores:\n",
      "{'rouge1': AggregateScore(low=Score(precision=0.4375, recall=0.4375, fmeasure=0.4375), mid=Score(precision=0.4375, recall=0.4375, fmeasure=0.4375), high=Score(precision=0.4375, recall=0.4375, fmeasure=0.4375)), 'rouge2': AggregateScore(low=Score(precision=0.22580645161290322, recall=0.22580645161290322, fmeasure=0.22580645161290322), mid=Score(precision=0.22580645161290322, recall=0.22580645161290322, fmeasure=0.22580645161290322), high=Score(precision=0.22580645161290322, recall=0.22580645161290322, fmeasure=0.22580645161290322)), 'rougeL': AggregateScore(low=Score(precision=0.4375, recall=0.4375, fmeasure=0.4375), mid=Score(precision=0.4375, recall=0.4375, fmeasure=0.4375), high=Score(precision=0.4375, recall=0.4375, fmeasure=0.4375)), 'rougeLsum': AggregateScore(low=Score(precision=0.4375, recall=0.4375, fmeasure=0.4375), mid=Score(precision=0.4375, recall=0.4375, fmeasure=0.4375), high=Score(precision=0.4375, recall=0.4375, fmeasure=0.4375))}\n",
      "\n",
      "================================================================================\n",
      "\n",
      "Article 210 ROUGE scores:\n",
      "{'rouge1': AggregateScore(low=Score(precision=0.2222222222222222, recall=0.25, fmeasure=0.23529411764705882), mid=Score(precision=0.2222222222222222, recall=0.25, fmeasure=0.23529411764705882), high=Score(precision=0.2222222222222222, recall=0.25, fmeasure=0.23529411764705882)), 'rouge2': AggregateScore(low=Score(precision=0.05714285714285714, recall=0.06451612903225806, fmeasure=0.060606060606060615), mid=Score(precision=0.05714285714285714, recall=0.06451612903225806, fmeasure=0.060606060606060615), high=Score(precision=0.05714285714285714, recall=0.06451612903225806, fmeasure=0.060606060606060615)), 'rougeL': AggregateScore(low=Score(precision=0.16666666666666666, recall=0.1875, fmeasure=0.17647058823529413), mid=Score(precision=0.16666666666666666, recall=0.1875, fmeasure=0.17647058823529413), high=Score(precision=0.16666666666666666, recall=0.1875, fmeasure=0.17647058823529413)), 'rougeLsum': AggregateScore(low=Score(precision=0.16666666666666666, recall=0.1875, fmeasure=0.17647058823529413), mid=Score(precision=0.16666666666666666, recall=0.1875, fmeasure=0.17647058823529413), high=Score(precision=0.16666666666666666, recall=0.1875, fmeasure=0.17647058823529413))}\n",
      "\n",
      "================================================================================\n",
      "\n",
      "Article 211 ROUGE scores:\n",
      "{'rouge1': AggregateScore(low=Score(precision=0.41333333333333333, recall=0.62, fmeasure=0.496), mid=Score(precision=0.41333333333333333, recall=0.62, fmeasure=0.496), high=Score(precision=0.41333333333333333, recall=0.62, fmeasure=0.496)), 'rouge2': AggregateScore(low=Score(precision=0.2702702702702703, recall=0.40816326530612246, fmeasure=0.3252032520325203), mid=Score(precision=0.2702702702702703, recall=0.40816326530612246, fmeasure=0.3252032520325203), high=Score(precision=0.2702702702702703, recall=0.40816326530612246, fmeasure=0.3252032520325203)), 'rougeL': AggregateScore(low=Score(precision=0.3466666666666667, recall=0.52, fmeasure=0.41600000000000004), mid=Score(precision=0.3466666666666667, recall=0.52, fmeasure=0.41600000000000004), high=Score(precision=0.3466666666666667, recall=0.52, fmeasure=0.41600000000000004)), 'rougeLsum': AggregateScore(low=Score(precision=0.3466666666666667, recall=0.52, fmeasure=0.41600000000000004), mid=Score(precision=0.3466666666666667, recall=0.52, fmeasure=0.41600000000000004), high=Score(precision=0.3466666666666667, recall=0.52, fmeasure=0.41600000000000004))}\n",
      "\n",
      "================================================================================\n",
      "\n",
      "Article 212 ROUGE scores:\n",
      "{'rouge1': AggregateScore(low=Score(precision=0.0, recall=0.0, fmeasure=0.0), mid=Score(precision=0.0, recall=0.0, fmeasure=0.0), high=Score(precision=0.0, recall=0.0, fmeasure=0.0)), 'rouge2': AggregateScore(low=Score(precision=0.0, recall=0.0, fmeasure=0.0), mid=Score(precision=0.0, recall=0.0, fmeasure=0.0), high=Score(precision=0.0, recall=0.0, fmeasure=0.0)), 'rougeL': AggregateScore(low=Score(precision=0.0, recall=0.0, fmeasure=0.0), mid=Score(precision=0.0, recall=0.0, fmeasure=0.0), high=Score(precision=0.0, recall=0.0, fmeasure=0.0)), 'rougeLsum': AggregateScore(low=Score(precision=0.0, recall=0.0, fmeasure=0.0), mid=Score(precision=0.0, recall=0.0, fmeasure=0.0), high=Score(precision=0.0, recall=0.0, fmeasure=0.0))}\n",
      "\n",
      "================================================================================\n",
      "\n",
      "Article 213 ROUGE scores:\n",
      "{'rouge1': AggregateScore(low=Score(precision=0.19047619047619047, recall=0.8571428571428571, fmeasure=0.31168831168831174), mid=Score(precision=0.19047619047619047, recall=0.8571428571428571, fmeasure=0.31168831168831174), high=Score(precision=0.19047619047619047, recall=0.8571428571428571, fmeasure=0.31168831168831174)), 'rouge2': AggregateScore(low=Score(precision=0.03225806451612903, recall=0.15384615384615385, fmeasure=0.05333333333333333), mid=Score(precision=0.03225806451612903, recall=0.15384615384615385, fmeasure=0.05333333333333333), high=Score(precision=0.03225806451612903, recall=0.15384615384615385, fmeasure=0.05333333333333333)), 'rougeL': AggregateScore(low=Score(precision=0.1111111111111111, recall=0.5, fmeasure=0.1818181818181818), mid=Score(precision=0.1111111111111111, recall=0.5, fmeasure=0.1818181818181818), high=Score(precision=0.1111111111111111, recall=0.5, fmeasure=0.1818181818181818)), 'rougeLsum': AggregateScore(low=Score(precision=0.1111111111111111, recall=0.5, fmeasure=0.1818181818181818), mid=Score(precision=0.1111111111111111, recall=0.5, fmeasure=0.1818181818181818), high=Score(precision=0.1111111111111111, recall=0.5, fmeasure=0.1818181818181818))}\n",
      "\n",
      "================================================================================\n",
      "\n",
      "Article 214 ROUGE scores:\n",
      "{'rouge1': AggregateScore(low=Score(precision=0.21212121212121213, recall=0.3684210526315789, fmeasure=0.2692307692307693), mid=Score(precision=0.21212121212121213, recall=0.3684210526315789, fmeasure=0.2692307692307693), high=Score(precision=0.21212121212121213, recall=0.3684210526315789, fmeasure=0.2692307692307693)), 'rouge2': AggregateScore(low=Score(precision=0.1076923076923077, recall=0.1891891891891892, fmeasure=0.13725490196078433), mid=Score(precision=0.1076923076923077, recall=0.1891891891891892, fmeasure=0.13725490196078433), high=Score(precision=0.1076923076923077, recall=0.1891891891891892, fmeasure=0.13725490196078433)), 'rougeL': AggregateScore(low=Score(precision=0.09090909090909091, recall=0.15789473684210525, fmeasure=0.11538461538461539), mid=Score(precision=0.09090909090909091, recall=0.15789473684210525, fmeasure=0.11538461538461539), high=Score(precision=0.09090909090909091, recall=0.15789473684210525, fmeasure=0.11538461538461539)), 'rougeLsum': AggregateScore(low=Score(precision=0.09090909090909091, recall=0.15789473684210525, fmeasure=0.11538461538461539), mid=Score(precision=0.09090909090909091, recall=0.15789473684210525, fmeasure=0.11538461538461539), high=Score(precision=0.09090909090909091, recall=0.15789473684210525, fmeasure=0.11538461538461539))}\n",
      "\n",
      "================================================================================\n",
      "\n",
      "Article 215 ROUGE scores:\n",
      "{'rouge1': AggregateScore(low=Score(precision=0.2972972972972973, recall=0.5789473684210527, fmeasure=0.39285714285714285), mid=Score(precision=0.2972972972972973, recall=0.5789473684210527, fmeasure=0.39285714285714285), high=Score(precision=0.2972972972972973, recall=0.5789473684210527, fmeasure=0.39285714285714285)), 'rouge2': AggregateScore(low=Score(precision=0.2222222222222222, recall=0.4444444444444444, fmeasure=0.2962962962962963), mid=Score(precision=0.2222222222222222, recall=0.4444444444444444, fmeasure=0.2962962962962963), high=Score(precision=0.2222222222222222, recall=0.4444444444444444, fmeasure=0.2962962962962963)), 'rougeL': AggregateScore(low=Score(precision=0.1891891891891892, recall=0.3684210526315789, fmeasure=0.25), mid=Score(precision=0.1891891891891892, recall=0.3684210526315789, fmeasure=0.25), high=Score(precision=0.1891891891891892, recall=0.3684210526315789, fmeasure=0.25)), 'rougeLsum': AggregateScore(low=Score(precision=0.1891891891891892, recall=0.3684210526315789, fmeasure=0.25), mid=Score(precision=0.1891891891891892, recall=0.3684210526315789, fmeasure=0.25), high=Score(precision=0.1891891891891892, recall=0.3684210526315789, fmeasure=0.25))}\n",
      "\n",
      "================================================================================\n",
      "\n",
      "Article 216 ROUGE scores:\n",
      "{'rouge1': AggregateScore(low=Score(precision=0.41509433962264153, recall=0.4489795918367347, fmeasure=0.43137254901960786), mid=Score(precision=0.41509433962264153, recall=0.4489795918367347, fmeasure=0.43137254901960786), high=Score(precision=0.41509433962264153, recall=0.4489795918367347, fmeasure=0.43137254901960786)), 'rouge2': AggregateScore(low=Score(precision=0.15384615384615385, recall=0.16666666666666666, fmeasure=0.16), mid=Score(precision=0.15384615384615385, recall=0.16666666666666666, fmeasure=0.16), high=Score(precision=0.15384615384615385, recall=0.16666666666666666, fmeasure=0.16)), 'rougeL': AggregateScore(low=Score(precision=0.24528301886792453, recall=0.2653061224489796, fmeasure=0.25490196078431376), mid=Score(precision=0.24528301886792453, recall=0.2653061224489796, fmeasure=0.25490196078431376), high=Score(precision=0.24528301886792453, recall=0.2653061224489796, fmeasure=0.25490196078431376)), 'rougeLsum': AggregateScore(low=Score(precision=0.24528301886792453, recall=0.2653061224489796, fmeasure=0.25490196078431376), mid=Score(precision=0.24528301886792453, recall=0.2653061224489796, fmeasure=0.25490196078431376), high=Score(precision=0.24528301886792453, recall=0.2653061224489796, fmeasure=0.25490196078431376))}\n",
      "\n",
      "================================================================================\n",
      "\n",
      "Article 217 ROUGE scores:\n",
      "{'rouge1': AggregateScore(low=Score(precision=0.2571428571428571, recall=0.375, fmeasure=0.30508474576271183), mid=Score(precision=0.2571428571428571, recall=0.375, fmeasure=0.30508474576271183), high=Score(precision=0.2571428571428571, recall=0.375, fmeasure=0.30508474576271183)), 'rouge2': AggregateScore(low=Score(precision=0.058823529411764705, recall=0.08695652173913043, fmeasure=0.07017543859649121), mid=Score(precision=0.058823529411764705, recall=0.08695652173913043, fmeasure=0.07017543859649121), high=Score(precision=0.058823529411764705, recall=0.08695652173913043, fmeasure=0.07017543859649121)), 'rougeL': AggregateScore(low=Score(precision=0.17142857142857143, recall=0.25, fmeasure=0.2033898305084746), mid=Score(precision=0.17142857142857143, recall=0.25, fmeasure=0.2033898305084746), high=Score(precision=0.17142857142857143, recall=0.25, fmeasure=0.2033898305084746)), 'rougeLsum': AggregateScore(low=Score(precision=0.17142857142857143, recall=0.25, fmeasure=0.2033898305084746), mid=Score(precision=0.17142857142857143, recall=0.25, fmeasure=0.2033898305084746), high=Score(precision=0.17142857142857143, recall=0.25, fmeasure=0.2033898305084746))}\n",
      "\n",
      "================================================================================\n",
      "\n",
      "Article 218 ROUGE scores:\n",
      "{'rouge1': AggregateScore(low=Score(precision=0.15151515151515152, recall=0.21739130434782608, fmeasure=0.17857142857142858), mid=Score(precision=0.15151515151515152, recall=0.21739130434782608, fmeasure=0.17857142857142858), high=Score(precision=0.15151515151515152, recall=0.21739130434782608, fmeasure=0.17857142857142858)), 'rouge2': AggregateScore(low=Score(precision=0.0, recall=0.0, fmeasure=0.0), mid=Score(precision=0.0, recall=0.0, fmeasure=0.0), high=Score(precision=0.0, recall=0.0, fmeasure=0.0)), 'rougeL': AggregateScore(low=Score(precision=0.09090909090909091, recall=0.13043478260869565, fmeasure=0.10714285714285714), mid=Score(precision=0.09090909090909091, recall=0.13043478260869565, fmeasure=0.10714285714285714), high=Score(precision=0.09090909090909091, recall=0.13043478260869565, fmeasure=0.10714285714285714)), 'rougeLsum': AggregateScore(low=Score(precision=0.09090909090909091, recall=0.13043478260869565, fmeasure=0.10714285714285714), mid=Score(precision=0.09090909090909091, recall=0.13043478260869565, fmeasure=0.10714285714285714), high=Score(precision=0.09090909090909091, recall=0.13043478260869565, fmeasure=0.10714285714285714))}\n",
      "\n",
      "================================================================================\n",
      "\n",
      "Article 219 ROUGE scores:\n",
      "{'rouge1': AggregateScore(low=Score(precision=0.2682926829268293, recall=0.3333333333333333, fmeasure=0.2972972972972973), mid=Score(precision=0.2682926829268293, recall=0.3333333333333333, fmeasure=0.2972972972972973), high=Score(precision=0.2682926829268293, recall=0.3333333333333333, fmeasure=0.2972972972972973)), 'rouge2': AggregateScore(low=Score(precision=0.1, recall=0.125, fmeasure=0.11111111111111112), mid=Score(precision=0.1, recall=0.125, fmeasure=0.11111111111111112), high=Score(precision=0.1, recall=0.125, fmeasure=0.11111111111111112)), 'rougeL': AggregateScore(low=Score(precision=0.2682926829268293, recall=0.3333333333333333, fmeasure=0.2972972972972973), mid=Score(precision=0.2682926829268293, recall=0.3333333333333333, fmeasure=0.2972972972972973), high=Score(precision=0.2682926829268293, recall=0.3333333333333333, fmeasure=0.2972972972972973)), 'rougeLsum': AggregateScore(low=Score(precision=0.2682926829268293, recall=0.3333333333333333, fmeasure=0.2972972972972973), mid=Score(precision=0.2682926829268293, recall=0.3333333333333333, fmeasure=0.2972972972972973), high=Score(precision=0.2682926829268293, recall=0.3333333333333333, fmeasure=0.2972972972972973))}\n",
      "\n",
      "================================================================================\n",
      "\n",
      "Article 220 ROUGE scores:\n",
      "{'rouge1': AggregateScore(low=Score(precision=0.2708333333333333, recall=0.52, fmeasure=0.35616438356164387), mid=Score(precision=0.2708333333333333, recall=0.52, fmeasure=0.35616438356164387), high=Score(precision=0.2708333333333333, recall=0.52, fmeasure=0.35616438356164387)), 'rouge2': AggregateScore(low=Score(precision=0.10638297872340426, recall=0.20833333333333334, fmeasure=0.14084507042253522), mid=Score(precision=0.10638297872340426, recall=0.20833333333333334, fmeasure=0.14084507042253522), high=Score(precision=0.10638297872340426, recall=0.20833333333333334, fmeasure=0.14084507042253522)), 'rougeL': AggregateScore(low=Score(precision=0.14583333333333334, recall=0.28, fmeasure=0.1917808219178082), mid=Score(precision=0.14583333333333334, recall=0.28, fmeasure=0.1917808219178082), high=Score(precision=0.14583333333333334, recall=0.28, fmeasure=0.1917808219178082)), 'rougeLsum': AggregateScore(low=Score(precision=0.14583333333333334, recall=0.28, fmeasure=0.1917808219178082), mid=Score(precision=0.14583333333333334, recall=0.28, fmeasure=0.1917808219178082), high=Score(precision=0.14583333333333334, recall=0.28, fmeasure=0.1917808219178082))}\n",
      "\n",
      "================================================================================\n",
      "\n",
      "Article 221 ROUGE scores:\n",
      "{'rouge1': AggregateScore(low=Score(precision=0.2857142857142857, recall=0.35294117647058826, fmeasure=0.31578947368421056), mid=Score(precision=0.2857142857142857, recall=0.35294117647058826, fmeasure=0.31578947368421056), high=Score(precision=0.2857142857142857, recall=0.35294117647058826, fmeasure=0.31578947368421056)), 'rouge2': AggregateScore(low=Score(precision=0.07317073170731707, recall=0.09090909090909091, fmeasure=0.08108108108108109), mid=Score(precision=0.07317073170731707, recall=0.09090909090909091, fmeasure=0.08108108108108109), high=Score(precision=0.07317073170731707, recall=0.09090909090909091, fmeasure=0.08108108108108109)), 'rougeL': AggregateScore(low=Score(precision=0.16666666666666666, recall=0.20588235294117646, fmeasure=0.18421052631578944), mid=Score(precision=0.16666666666666666, recall=0.20588235294117646, fmeasure=0.18421052631578944), high=Score(precision=0.16666666666666666, recall=0.20588235294117646, fmeasure=0.18421052631578944)), 'rougeLsum': AggregateScore(low=Score(precision=0.16666666666666666, recall=0.20588235294117646, fmeasure=0.18421052631578944), mid=Score(precision=0.16666666666666666, recall=0.20588235294117646, fmeasure=0.18421052631578944), high=Score(precision=0.16666666666666666, recall=0.20588235294117646, fmeasure=0.18421052631578944))}\n",
      "\n",
      "================================================================================\n",
      "\n",
      "Article 222 ROUGE scores:\n",
      "{'rouge1': AggregateScore(low=Score(precision=0.14035087719298245, recall=0.26666666666666666, fmeasure=0.1839080459770115), mid=Score(precision=0.14035087719298245, recall=0.26666666666666666, fmeasure=0.1839080459770115), high=Score(precision=0.14035087719298245, recall=0.26666666666666666, fmeasure=0.1839080459770115)), 'rouge2': AggregateScore(low=Score(precision=0.03571428571428571, recall=0.06896551724137931, fmeasure=0.047058823529411764), mid=Score(precision=0.03571428571428571, recall=0.06896551724137931, fmeasure=0.047058823529411764), high=Score(precision=0.03571428571428571, recall=0.06896551724137931, fmeasure=0.047058823529411764)), 'rougeL': AggregateScore(low=Score(precision=0.10526315789473684, recall=0.2, fmeasure=0.13793103448275862), mid=Score(precision=0.10526315789473684, recall=0.2, fmeasure=0.13793103448275862), high=Score(precision=0.10526315789473684, recall=0.2, fmeasure=0.13793103448275862)), 'rougeLsum': AggregateScore(low=Score(precision=0.10526315789473684, recall=0.2, fmeasure=0.13793103448275862), mid=Score(precision=0.10526315789473684, recall=0.2, fmeasure=0.13793103448275862), high=Score(precision=0.10526315789473684, recall=0.2, fmeasure=0.13793103448275862))}\n",
      "\n",
      "================================================================================\n",
      "\n",
      "Article 223 ROUGE scores:\n",
      "{'rouge1': AggregateScore(low=Score(precision=0.08695652173913043, recall=0.13333333333333333, fmeasure=0.10526315789473685), mid=Score(precision=0.08695652173913043, recall=0.13333333333333333, fmeasure=0.10526315789473685), high=Score(precision=0.08695652173913043, recall=0.13333333333333333, fmeasure=0.10526315789473685)), 'rouge2': AggregateScore(low=Score(precision=0.0, recall=0.0, fmeasure=0.0), mid=Score(precision=0.0, recall=0.0, fmeasure=0.0), high=Score(precision=0.0, recall=0.0, fmeasure=0.0)), 'rougeL': AggregateScore(low=Score(precision=0.06521739130434782, recall=0.1, fmeasure=0.07894736842105264), mid=Score(precision=0.06521739130434782, recall=0.1, fmeasure=0.07894736842105264), high=Score(precision=0.06521739130434782, recall=0.1, fmeasure=0.07894736842105264)), 'rougeLsum': AggregateScore(low=Score(precision=0.06521739130434782, recall=0.1, fmeasure=0.07894736842105264), mid=Score(precision=0.06521739130434782, recall=0.1, fmeasure=0.07894736842105264), high=Score(precision=0.06521739130434782, recall=0.1, fmeasure=0.07894736842105264))}\n",
      "\n",
      "================================================================================\n",
      "\n",
      "Article 224 ROUGE scores:\n",
      "{'rouge1': AggregateScore(low=Score(precision=0.2542372881355932, recall=0.35714285714285715, fmeasure=0.297029702970297), mid=Score(precision=0.2542372881355932, recall=0.35714285714285715, fmeasure=0.297029702970297), high=Score(precision=0.2542372881355932, recall=0.35714285714285715, fmeasure=0.297029702970297)), 'rouge2': AggregateScore(low=Score(precision=0.13793103448275862, recall=0.1951219512195122, fmeasure=0.16161616161616163), mid=Score(precision=0.13793103448275862, recall=0.1951219512195122, fmeasure=0.16161616161616163), high=Score(precision=0.13793103448275862, recall=0.1951219512195122, fmeasure=0.16161616161616163)), 'rougeL': AggregateScore(low=Score(precision=0.23728813559322035, recall=0.3333333333333333, fmeasure=0.2772277227722772), mid=Score(precision=0.23728813559322035, recall=0.3333333333333333, fmeasure=0.2772277227722772), high=Score(precision=0.23728813559322035, recall=0.3333333333333333, fmeasure=0.2772277227722772)), 'rougeLsum': AggregateScore(low=Score(precision=0.23728813559322035, recall=0.3333333333333333, fmeasure=0.2772277227722772), mid=Score(precision=0.23728813559322035, recall=0.3333333333333333, fmeasure=0.2772277227722772), high=Score(precision=0.23728813559322035, recall=0.3333333333333333, fmeasure=0.2772277227722772))}\n",
      "\n",
      "================================================================================\n",
      "\n",
      "Article 225 ROUGE scores:\n",
      "{'rouge1': AggregateScore(low=Score(precision=0.22, recall=0.5789473684210527, fmeasure=0.3188405797101449), mid=Score(precision=0.22, recall=0.5789473684210527, fmeasure=0.3188405797101449), high=Score(precision=0.22, recall=0.5789473684210527, fmeasure=0.3188405797101449)), 'rouge2': AggregateScore(low=Score(precision=0.10204081632653061, recall=0.2777777777777778, fmeasure=0.1492537313432836), mid=Score(precision=0.10204081632653061, recall=0.2777777777777778, fmeasure=0.1492537313432836), high=Score(precision=0.10204081632653061, recall=0.2777777777777778, fmeasure=0.1492537313432836)), 'rougeL': AggregateScore(low=Score(precision=0.2, recall=0.5263157894736842, fmeasure=0.28985507246376807), mid=Score(precision=0.2, recall=0.5263157894736842, fmeasure=0.28985507246376807), high=Score(precision=0.2, recall=0.5263157894736842, fmeasure=0.28985507246376807)), 'rougeLsum': AggregateScore(low=Score(precision=0.2, recall=0.5263157894736842, fmeasure=0.28985507246376807), mid=Score(precision=0.2, recall=0.5263157894736842, fmeasure=0.28985507246376807), high=Score(precision=0.2, recall=0.5263157894736842, fmeasure=0.28985507246376807))}\n",
      "\n",
      "================================================================================\n",
      "\n",
      "Article 226 ROUGE scores:\n",
      "{'rouge1': AggregateScore(low=Score(precision=0.5833333333333334, recall=0.42, fmeasure=0.4883720930232558), mid=Score(precision=0.5833333333333334, recall=0.42, fmeasure=0.4883720930232558), high=Score(precision=0.5833333333333334, recall=0.42, fmeasure=0.4883720930232558)), 'rouge2': AggregateScore(low=Score(precision=0.34285714285714286, recall=0.24489795918367346, fmeasure=0.28571428571428575), mid=Score(precision=0.34285714285714286, recall=0.24489795918367346, fmeasure=0.28571428571428575), high=Score(precision=0.34285714285714286, recall=0.24489795918367346, fmeasure=0.28571428571428575)), 'rougeL': AggregateScore(low=Score(precision=0.4444444444444444, recall=0.32, fmeasure=0.37209302325581395), mid=Score(precision=0.4444444444444444, recall=0.32, fmeasure=0.37209302325581395), high=Score(precision=0.4444444444444444, recall=0.32, fmeasure=0.37209302325581395)), 'rougeLsum': AggregateScore(low=Score(precision=0.4444444444444444, recall=0.32, fmeasure=0.37209302325581395), mid=Score(precision=0.4444444444444444, recall=0.32, fmeasure=0.37209302325581395), high=Score(precision=0.4444444444444444, recall=0.32, fmeasure=0.37209302325581395))}\n",
      "\n",
      "================================================================================\n",
      "\n",
      "Article 227 ROUGE scores:\n",
      "{'rouge1': AggregateScore(low=Score(precision=0.35555555555555557, recall=0.5517241379310345, fmeasure=0.4324324324324324), mid=Score(precision=0.35555555555555557, recall=0.5517241379310345, fmeasure=0.4324324324324324), high=Score(precision=0.35555555555555557, recall=0.5517241379310345, fmeasure=0.4324324324324324)), 'rouge2': AggregateScore(low=Score(precision=0.22727272727272727, recall=0.35714285714285715, fmeasure=0.2777777777777778), mid=Score(precision=0.22727272727272727, recall=0.35714285714285715, fmeasure=0.2777777777777778), high=Score(precision=0.22727272727272727, recall=0.35714285714285715, fmeasure=0.2777777777777778)), 'rougeL': AggregateScore(low=Score(precision=0.2, recall=0.3103448275862069, fmeasure=0.24324324324324326), mid=Score(precision=0.2, recall=0.3103448275862069, fmeasure=0.24324324324324326), high=Score(precision=0.2, recall=0.3103448275862069, fmeasure=0.24324324324324326)), 'rougeLsum': AggregateScore(low=Score(precision=0.2, recall=0.3103448275862069, fmeasure=0.24324324324324326), mid=Score(precision=0.2, recall=0.3103448275862069, fmeasure=0.24324324324324326), high=Score(precision=0.2, recall=0.3103448275862069, fmeasure=0.24324324324324326))}\n",
      "\n",
      "================================================================================\n",
      "\n",
      "Article 228 ROUGE scores:\n",
      "{'rouge1': AggregateScore(low=Score(precision=0.15873015873015872, recall=0.5, fmeasure=0.24096385542168675), mid=Score(precision=0.15873015873015872, recall=0.5, fmeasure=0.24096385542168675), high=Score(precision=0.15873015873015872, recall=0.5, fmeasure=0.24096385542168675)), 'rouge2': AggregateScore(low=Score(precision=0.06451612903225806, recall=0.21052631578947367, fmeasure=0.09876543209876543), mid=Score(precision=0.06451612903225806, recall=0.21052631578947367, fmeasure=0.09876543209876543), high=Score(precision=0.06451612903225806, recall=0.21052631578947367, fmeasure=0.09876543209876543)), 'rougeL': AggregateScore(low=Score(precision=0.12698412698412698, recall=0.4, fmeasure=0.19277108433734938), mid=Score(precision=0.12698412698412698, recall=0.4, fmeasure=0.19277108433734938), high=Score(precision=0.12698412698412698, recall=0.4, fmeasure=0.19277108433734938)), 'rougeLsum': AggregateScore(low=Score(precision=0.12698412698412698, recall=0.4, fmeasure=0.19277108433734938), mid=Score(precision=0.12698412698412698, recall=0.4, fmeasure=0.19277108433734938), high=Score(precision=0.12698412698412698, recall=0.4, fmeasure=0.19277108433734938))}\n",
      "\n",
      "================================================================================\n",
      "\n",
      "Article 229 ROUGE scores:\n",
      "{'rouge1': AggregateScore(low=Score(precision=0.275, recall=0.4230769230769231, fmeasure=0.33333333333333337), mid=Score(precision=0.275, recall=0.4230769230769231, fmeasure=0.33333333333333337), high=Score(precision=0.275, recall=0.4230769230769231, fmeasure=0.33333333333333337)), 'rouge2': AggregateScore(low=Score(precision=0.02564102564102564, recall=0.04, fmeasure=0.03125), mid=Score(precision=0.02564102564102564, recall=0.04, fmeasure=0.03125), high=Score(precision=0.02564102564102564, recall=0.04, fmeasure=0.03125)), 'rougeL': AggregateScore(low=Score(precision=0.125, recall=0.19230769230769232, fmeasure=0.15151515151515152), mid=Score(precision=0.125, recall=0.19230769230769232, fmeasure=0.15151515151515152), high=Score(precision=0.125, recall=0.19230769230769232, fmeasure=0.15151515151515152)), 'rougeLsum': AggregateScore(low=Score(precision=0.125, recall=0.19230769230769232, fmeasure=0.15151515151515152), mid=Score(precision=0.125, recall=0.19230769230769232, fmeasure=0.15151515151515152), high=Score(precision=0.125, recall=0.19230769230769232, fmeasure=0.15151515151515152))}\n",
      "\n",
      "================================================================================\n",
      "\n",
      "Article 230 ROUGE scores:\n",
      "{'rouge1': AggregateScore(low=Score(precision=0.3333333333333333, recall=0.5, fmeasure=0.4), mid=Score(precision=0.3333333333333333, recall=0.5, fmeasure=0.4), high=Score(precision=0.3333333333333333, recall=0.5, fmeasure=0.4)), 'rouge2': AggregateScore(low=Score(precision=0.18, recall=0.2727272727272727, fmeasure=0.21686746987951808), mid=Score(precision=0.18, recall=0.2727272727272727, fmeasure=0.21686746987951808), high=Score(precision=0.18, recall=0.2727272727272727, fmeasure=0.21686746987951808)), 'rougeL': AggregateScore(low=Score(precision=0.23529411764705882, recall=0.35294117647058826, fmeasure=0.2823529411764706), mid=Score(precision=0.23529411764705882, recall=0.35294117647058826, fmeasure=0.2823529411764706), high=Score(precision=0.23529411764705882, recall=0.35294117647058826, fmeasure=0.2823529411764706)), 'rougeLsum': AggregateScore(low=Score(precision=0.23529411764705882, recall=0.35294117647058826, fmeasure=0.2823529411764706), mid=Score(precision=0.23529411764705882, recall=0.35294117647058826, fmeasure=0.2823529411764706), high=Score(precision=0.23529411764705882, recall=0.35294117647058826, fmeasure=0.2823529411764706))}\n",
      "\n",
      "================================================================================\n",
      "\n",
      "Article 231 ROUGE scores:\n",
      "{'rouge1': AggregateScore(low=Score(precision=0.3018867924528302, recall=0.5333333333333333, fmeasure=0.38554216867469876), mid=Score(precision=0.3018867924528302, recall=0.5333333333333333, fmeasure=0.38554216867469876), high=Score(precision=0.3018867924528302, recall=0.5333333333333333, fmeasure=0.38554216867469876)), 'rouge2': AggregateScore(low=Score(precision=0.15384615384615385, recall=0.27586206896551724, fmeasure=0.19753086419753088), mid=Score(precision=0.15384615384615385, recall=0.27586206896551724, fmeasure=0.19753086419753088), high=Score(precision=0.15384615384615385, recall=0.27586206896551724, fmeasure=0.19753086419753088)), 'rougeL': AggregateScore(low=Score(precision=0.18867924528301888, recall=0.3333333333333333, fmeasure=0.24096385542168675), mid=Score(precision=0.18867924528301888, recall=0.3333333333333333, fmeasure=0.24096385542168675), high=Score(precision=0.18867924528301888, recall=0.3333333333333333, fmeasure=0.24096385542168675)), 'rougeLsum': AggregateScore(low=Score(precision=0.18867924528301888, recall=0.3333333333333333, fmeasure=0.24096385542168675), mid=Score(precision=0.18867924528301888, recall=0.3333333333333333, fmeasure=0.24096385542168675), high=Score(precision=0.18867924528301888, recall=0.3333333333333333, fmeasure=0.24096385542168675))}\n",
      "\n",
      "================================================================================\n",
      "\n",
      "Article 232 ROUGE scores:\n",
      "{'rouge1': AggregateScore(low=Score(precision=0.21428571428571427, recall=0.23076923076923078, fmeasure=0.22222222222222224), mid=Score(precision=0.21428571428571427, recall=0.23076923076923078, fmeasure=0.22222222222222224), high=Score(precision=0.21428571428571427, recall=0.23076923076923078, fmeasure=0.22222222222222224)), 'rouge2': AggregateScore(low=Score(precision=0.03636363636363636, recall=0.0392156862745098, fmeasure=0.03773584905660377), mid=Score(precision=0.03636363636363636, recall=0.0392156862745098, fmeasure=0.03773584905660377), high=Score(precision=0.03636363636363636, recall=0.0392156862745098, fmeasure=0.03773584905660377)), 'rougeL': AggregateScore(low=Score(precision=0.10714285714285714, recall=0.11538461538461539, fmeasure=0.11111111111111112), mid=Score(precision=0.10714285714285714, recall=0.11538461538461539, fmeasure=0.11111111111111112), high=Score(precision=0.10714285714285714, recall=0.11538461538461539, fmeasure=0.11111111111111112)), 'rougeLsum': AggregateScore(low=Score(precision=0.10714285714285714, recall=0.11538461538461539, fmeasure=0.11111111111111112), mid=Score(precision=0.10714285714285714, recall=0.11538461538461539, fmeasure=0.11111111111111112), high=Score(precision=0.10714285714285714, recall=0.11538461538461539, fmeasure=0.11111111111111112))}\n",
      "\n",
      "================================================================================\n",
      "\n",
      "Article 233 ROUGE scores:\n",
      "{'rouge1': AggregateScore(low=Score(precision=0.1, recall=0.22727272727272727, fmeasure=0.1388888888888889), mid=Score(precision=0.1, recall=0.22727272727272727, fmeasure=0.1388888888888889), high=Score(precision=0.1, recall=0.22727272727272727, fmeasure=0.1388888888888889)), 'rouge2': AggregateScore(low=Score(precision=0.02040816326530612, recall=0.047619047619047616, fmeasure=0.02857142857142857), mid=Score(precision=0.02040816326530612, recall=0.047619047619047616, fmeasure=0.02857142857142857), high=Score(precision=0.02040816326530612, recall=0.047619047619047616, fmeasure=0.02857142857142857)), 'rougeL': AggregateScore(low=Score(precision=0.08, recall=0.18181818181818182, fmeasure=0.1111111111111111), mid=Score(precision=0.08, recall=0.18181818181818182, fmeasure=0.1111111111111111), high=Score(precision=0.08, recall=0.18181818181818182, fmeasure=0.1111111111111111)), 'rougeLsum': AggregateScore(low=Score(precision=0.08, recall=0.18181818181818182, fmeasure=0.1111111111111111), mid=Score(precision=0.08, recall=0.18181818181818182, fmeasure=0.1111111111111111), high=Score(precision=0.08, recall=0.18181818181818182, fmeasure=0.1111111111111111))}\n",
      "\n",
      "================================================================================\n",
      "\n",
      "Article 234 ROUGE scores:\n",
      "{'rouge1': AggregateScore(low=Score(precision=0.20408163265306123, recall=0.35714285714285715, fmeasure=0.2597402597402597), mid=Score(precision=0.20408163265306123, recall=0.35714285714285715, fmeasure=0.2597402597402597), high=Score(precision=0.20408163265306123, recall=0.35714285714285715, fmeasure=0.2597402597402597)), 'rouge2': AggregateScore(low=Score(precision=0.10416666666666667, recall=0.18518518518518517, fmeasure=0.13333333333333333), mid=Score(precision=0.10416666666666667, recall=0.18518518518518517, fmeasure=0.13333333333333333), high=Score(precision=0.10416666666666667, recall=0.18518518518518517, fmeasure=0.13333333333333333)), 'rougeL': AggregateScore(low=Score(precision=0.1836734693877551, recall=0.32142857142857145, fmeasure=0.23376623376623376), mid=Score(precision=0.1836734693877551, recall=0.32142857142857145, fmeasure=0.23376623376623376), high=Score(precision=0.1836734693877551, recall=0.32142857142857145, fmeasure=0.23376623376623376)), 'rougeLsum': AggregateScore(low=Score(precision=0.1836734693877551, recall=0.32142857142857145, fmeasure=0.23376623376623376), mid=Score(precision=0.1836734693877551, recall=0.32142857142857145, fmeasure=0.23376623376623376), high=Score(precision=0.1836734693877551, recall=0.32142857142857145, fmeasure=0.23376623376623376))}\n",
      "\n",
      "================================================================================\n",
      "\n",
      "Article 235 ROUGE scores:\n",
      "{'rouge1': AggregateScore(low=Score(precision=0.06493506493506493, recall=0.25, fmeasure=0.10309278350515462), mid=Score(precision=0.06493506493506493, recall=0.25, fmeasure=0.10309278350515462), high=Score(precision=0.06493506493506493, recall=0.25, fmeasure=0.10309278350515462)), 'rouge2': AggregateScore(low=Score(precision=0.013157894736842105, recall=0.05263157894736842, fmeasure=0.021052631578947368), mid=Score(precision=0.013157894736842105, recall=0.05263157894736842, fmeasure=0.021052631578947368), high=Score(precision=0.013157894736842105, recall=0.05263157894736842, fmeasure=0.021052631578947368)), 'rougeL': AggregateScore(low=Score(precision=0.03896103896103896, recall=0.15, fmeasure=0.061855670103092786), mid=Score(precision=0.03896103896103896, recall=0.15, fmeasure=0.061855670103092786), high=Score(precision=0.03896103896103896, recall=0.15, fmeasure=0.061855670103092786)), 'rougeLsum': AggregateScore(low=Score(precision=0.03896103896103896, recall=0.15, fmeasure=0.061855670103092786), mid=Score(precision=0.03896103896103896, recall=0.15, fmeasure=0.061855670103092786), high=Score(precision=0.03896103896103896, recall=0.15, fmeasure=0.061855670103092786))}\n",
      "\n",
      "================================================================================\n",
      "\n",
      "Article 236 ROUGE scores:\n",
      "{'rouge1': AggregateScore(low=Score(precision=0.3269230769230769, recall=0.4857142857142857, fmeasure=0.3908045977011494), mid=Score(precision=0.3269230769230769, recall=0.4857142857142857, fmeasure=0.3908045977011494), high=Score(precision=0.3269230769230769, recall=0.4857142857142857, fmeasure=0.3908045977011494)), 'rouge2': AggregateScore(low=Score(precision=0.11764705882352941, recall=0.17647058823529413, fmeasure=0.1411764705882353), mid=Score(precision=0.11764705882352941, recall=0.17647058823529413, fmeasure=0.1411764705882353), high=Score(precision=0.11764705882352941, recall=0.17647058823529413, fmeasure=0.1411764705882353)), 'rougeL': AggregateScore(low=Score(precision=0.19230769230769232, recall=0.2857142857142857, fmeasure=0.2298850574712644), mid=Score(precision=0.19230769230769232, recall=0.2857142857142857, fmeasure=0.2298850574712644), high=Score(precision=0.19230769230769232, recall=0.2857142857142857, fmeasure=0.2298850574712644)), 'rougeLsum': AggregateScore(low=Score(precision=0.19230769230769232, recall=0.2857142857142857, fmeasure=0.2298850574712644), mid=Score(precision=0.19230769230769232, recall=0.2857142857142857, fmeasure=0.2298850574712644), high=Score(precision=0.19230769230769232, recall=0.2857142857142857, fmeasure=0.2298850574712644))}\n",
      "\n",
      "================================================================================\n",
      "\n",
      "Article 237 ROUGE scores:\n",
      "{'rouge1': AggregateScore(low=Score(precision=0.42592592592592593, recall=0.6571428571428571, fmeasure=0.5168539325842697), mid=Score(precision=0.42592592592592593, recall=0.6571428571428571, fmeasure=0.5168539325842697), high=Score(precision=0.42592592592592593, recall=0.6571428571428571, fmeasure=0.5168539325842697)), 'rouge2': AggregateScore(low=Score(precision=0.37735849056603776, recall=0.5882352941176471, fmeasure=0.4597701149425288), mid=Score(precision=0.37735849056603776, recall=0.5882352941176471, fmeasure=0.4597701149425288), high=Score(precision=0.37735849056603776, recall=0.5882352941176471, fmeasure=0.4597701149425288)), 'rougeL': AggregateScore(low=Score(precision=0.42592592592592593, recall=0.6571428571428571, fmeasure=0.5168539325842697), mid=Score(precision=0.42592592592592593, recall=0.6571428571428571, fmeasure=0.5168539325842697), high=Score(precision=0.42592592592592593, recall=0.6571428571428571, fmeasure=0.5168539325842697)), 'rougeLsum': AggregateScore(low=Score(precision=0.42592592592592593, recall=0.6571428571428571, fmeasure=0.5168539325842697), mid=Score(precision=0.42592592592592593, recall=0.6571428571428571, fmeasure=0.5168539325842697), high=Score(precision=0.42592592592592593, recall=0.6571428571428571, fmeasure=0.5168539325842697))}\n",
      "\n",
      "================================================================================\n",
      "\n",
      "Article 238 ROUGE scores:\n",
      "{'rouge1': AggregateScore(low=Score(precision=0.13402061855670103, recall=0.43333333333333335, fmeasure=0.20472440944881892), mid=Score(precision=0.13402061855670103, recall=0.43333333333333335, fmeasure=0.20472440944881892), high=Score(precision=0.13402061855670103, recall=0.43333333333333335, fmeasure=0.20472440944881892)), 'rouge2': AggregateScore(low=Score(precision=0.041666666666666664, recall=0.13793103448275862, fmeasure=0.064), mid=Score(precision=0.041666666666666664, recall=0.13793103448275862, fmeasure=0.064), high=Score(precision=0.041666666666666664, recall=0.13793103448275862, fmeasure=0.064)), 'rougeL': AggregateScore(low=Score(precision=0.08247422680412371, recall=0.26666666666666666, fmeasure=0.12598425196850394), mid=Score(precision=0.08247422680412371, recall=0.26666666666666666, fmeasure=0.12598425196850394), high=Score(precision=0.08247422680412371, recall=0.26666666666666666, fmeasure=0.12598425196850394)), 'rougeLsum': AggregateScore(low=Score(precision=0.08247422680412371, recall=0.26666666666666666, fmeasure=0.12598425196850394), mid=Score(precision=0.08247422680412371, recall=0.26666666666666666, fmeasure=0.12598425196850394), high=Score(precision=0.08247422680412371, recall=0.26666666666666666, fmeasure=0.12598425196850394))}\n",
      "\n",
      "================================================================================\n",
      "\n",
      "Article 239 ROUGE scores:\n",
      "{'rouge1': AggregateScore(low=Score(precision=0.14516129032258066, recall=0.34615384615384615, fmeasure=0.20454545454545456), mid=Score(precision=0.14516129032258066, recall=0.34615384615384615, fmeasure=0.20454545454545456), high=Score(precision=0.14516129032258066, recall=0.34615384615384615, fmeasure=0.20454545454545456)), 'rouge2': AggregateScore(low=Score(precision=0.03278688524590164, recall=0.08, fmeasure=0.046511627906976744), mid=Score(precision=0.03278688524590164, recall=0.08, fmeasure=0.046511627906976744), high=Score(precision=0.03278688524590164, recall=0.08, fmeasure=0.046511627906976744)), 'rougeL': AggregateScore(low=Score(precision=0.08064516129032258, recall=0.19230769230769232, fmeasure=0.11363636363636363), mid=Score(precision=0.08064516129032258, recall=0.19230769230769232, fmeasure=0.11363636363636363), high=Score(precision=0.08064516129032258, recall=0.19230769230769232, fmeasure=0.11363636363636363)), 'rougeLsum': AggregateScore(low=Score(precision=0.08064516129032258, recall=0.19230769230769232, fmeasure=0.11363636363636363), mid=Score(precision=0.08064516129032258, recall=0.19230769230769232, fmeasure=0.11363636363636363), high=Score(precision=0.08064516129032258, recall=0.19230769230769232, fmeasure=0.11363636363636363))}\n",
      "\n",
      "================================================================================\n",
      "\n",
      "Article 240 ROUGE scores:\n",
      "{'rouge1': AggregateScore(low=Score(precision=0.014492753623188406, recall=0.125, fmeasure=0.025974025974025972), mid=Score(precision=0.014492753623188406, recall=0.125, fmeasure=0.025974025974025972), high=Score(precision=0.014492753623188406, recall=0.125, fmeasure=0.025974025974025972)), 'rouge2': AggregateScore(low=Score(precision=0.0, recall=0.0, fmeasure=0.0), mid=Score(precision=0.0, recall=0.0, fmeasure=0.0), high=Score(precision=0.0, recall=0.0, fmeasure=0.0)), 'rougeL': AggregateScore(low=Score(precision=0.014492753623188406, recall=0.125, fmeasure=0.025974025974025972), mid=Score(precision=0.014492753623188406, recall=0.125, fmeasure=0.025974025974025972), high=Score(precision=0.014492753623188406, recall=0.125, fmeasure=0.025974025974025972)), 'rougeLsum': AggregateScore(low=Score(precision=0.014492753623188406, recall=0.125, fmeasure=0.025974025974025972), mid=Score(precision=0.014492753623188406, recall=0.125, fmeasure=0.025974025974025972), high=Score(precision=0.014492753623188406, recall=0.125, fmeasure=0.025974025974025972))}\n",
      "\n",
      "================================================================================\n",
      "\n",
      "Article 241 ROUGE scores:\n",
      "{'rouge1': AggregateScore(low=Score(precision=0.2894736842105263, recall=0.3333333333333333, fmeasure=0.3098591549295775), mid=Score(precision=0.2894736842105263, recall=0.3333333333333333, fmeasure=0.3098591549295775), high=Score(precision=0.2894736842105263, recall=0.3333333333333333, fmeasure=0.3098591549295775)), 'rouge2': AggregateScore(low=Score(precision=0.13513513513513514, recall=0.15625, fmeasure=0.14492753623188406), mid=Score(precision=0.13513513513513514, recall=0.15625, fmeasure=0.14492753623188406), high=Score(precision=0.13513513513513514, recall=0.15625, fmeasure=0.14492753623188406)), 'rougeL': AggregateScore(low=Score(precision=0.18421052631578946, recall=0.21212121212121213, fmeasure=0.1971830985915493), mid=Score(precision=0.18421052631578946, recall=0.21212121212121213, fmeasure=0.1971830985915493), high=Score(precision=0.18421052631578946, recall=0.21212121212121213, fmeasure=0.1971830985915493)), 'rougeLsum': AggregateScore(low=Score(precision=0.18421052631578946, recall=0.21212121212121213, fmeasure=0.1971830985915493), mid=Score(precision=0.18421052631578946, recall=0.21212121212121213, fmeasure=0.1971830985915493), high=Score(precision=0.18421052631578946, recall=0.21212121212121213, fmeasure=0.1971830985915493))}\n",
      "\n",
      "================================================================================\n",
      "\n",
      "Article 242 ROUGE scores:\n",
      "{'rouge1': AggregateScore(low=Score(precision=0.12162162162162163, recall=0.5625, fmeasure=0.20000000000000004), mid=Score(precision=0.12162162162162163, recall=0.5625, fmeasure=0.20000000000000004), high=Score(precision=0.12162162162162163, recall=0.5625, fmeasure=0.20000000000000004)), 'rouge2': AggregateScore(low=Score(precision=0.0273972602739726, recall=0.13333333333333333, fmeasure=0.045454545454545456), mid=Score(precision=0.0273972602739726, recall=0.13333333333333333, fmeasure=0.045454545454545456), high=Score(precision=0.0273972602739726, recall=0.13333333333333333, fmeasure=0.045454545454545456)), 'rougeL': AggregateScore(low=Score(precision=0.10810810810810811, recall=0.5, fmeasure=0.17777777777777778), mid=Score(precision=0.10810810810810811, recall=0.5, fmeasure=0.17777777777777778), high=Score(precision=0.10810810810810811, recall=0.5, fmeasure=0.17777777777777778)), 'rougeLsum': AggregateScore(low=Score(precision=0.10810810810810811, recall=0.5, fmeasure=0.17777777777777778), mid=Score(precision=0.10810810810810811, recall=0.5, fmeasure=0.17777777777777778), high=Score(precision=0.10810810810810811, recall=0.5, fmeasure=0.17777777777777778))}\n",
      "\n",
      "================================================================================\n",
      "\n",
      "Article 243 ROUGE scores:\n",
      "{'rouge1': AggregateScore(low=Score(precision=0.04, recall=0.14285714285714285, fmeasure=0.0625), mid=Score(precision=0.04, recall=0.14285714285714285, fmeasure=0.0625), high=Score(precision=0.04, recall=0.14285714285714285, fmeasure=0.0625)), 'rouge2': AggregateScore(low=Score(precision=0.02040816326530612, recall=0.07692307692307693, fmeasure=0.03225806451612903), mid=Score(precision=0.02040816326530612, recall=0.07692307692307693, fmeasure=0.03225806451612903), high=Score(precision=0.02040816326530612, recall=0.07692307692307693, fmeasure=0.03225806451612903)), 'rougeL': AggregateScore(low=Score(precision=0.04, recall=0.14285714285714285, fmeasure=0.0625), mid=Score(precision=0.04, recall=0.14285714285714285, fmeasure=0.0625), high=Score(precision=0.04, recall=0.14285714285714285, fmeasure=0.0625)), 'rougeLsum': AggregateScore(low=Score(precision=0.04, recall=0.14285714285714285, fmeasure=0.0625), mid=Score(precision=0.04, recall=0.14285714285714285, fmeasure=0.0625), high=Score(precision=0.04, recall=0.14285714285714285, fmeasure=0.0625))}\n",
      "\n",
      "================================================================================\n",
      "\n",
      "Article 244 ROUGE scores:\n",
      "{'rouge1': AggregateScore(low=Score(precision=0.0, recall=0.0, fmeasure=0.0), mid=Score(precision=0.0, recall=0.0, fmeasure=0.0), high=Score(precision=0.0, recall=0.0, fmeasure=0.0)), 'rouge2': AggregateScore(low=Score(precision=0.0, recall=0.0, fmeasure=0.0), mid=Score(precision=0.0, recall=0.0, fmeasure=0.0), high=Score(precision=0.0, recall=0.0, fmeasure=0.0)), 'rougeL': AggregateScore(low=Score(precision=0.0, recall=0.0, fmeasure=0.0), mid=Score(precision=0.0, recall=0.0, fmeasure=0.0), high=Score(precision=0.0, recall=0.0, fmeasure=0.0)), 'rougeLsum': AggregateScore(low=Score(precision=0.0, recall=0.0, fmeasure=0.0), mid=Score(precision=0.0, recall=0.0, fmeasure=0.0), high=Score(precision=0.0, recall=0.0, fmeasure=0.0))}\n",
      "\n",
      "================================================================================\n",
      "\n",
      "Article 245 ROUGE scores:\n",
      "{'rouge1': AggregateScore(low=Score(precision=0.2222222222222222, recall=0.4666666666666667, fmeasure=0.3010752688172043), mid=Score(precision=0.2222222222222222, recall=0.4666666666666667, fmeasure=0.3010752688172043), high=Score(precision=0.2222222222222222, recall=0.4666666666666667, fmeasure=0.3010752688172043)), 'rouge2': AggregateScore(low=Score(precision=0.04838709677419355, recall=0.10344827586206896, fmeasure=0.06593406593406594), mid=Score(precision=0.04838709677419355, recall=0.10344827586206896, fmeasure=0.06593406593406594), high=Score(precision=0.04838709677419355, recall=0.10344827586206896, fmeasure=0.06593406593406594)), 'rougeL': AggregateScore(low=Score(precision=0.1746031746031746, recall=0.36666666666666664, fmeasure=0.2365591397849462), mid=Score(precision=0.1746031746031746, recall=0.36666666666666664, fmeasure=0.2365591397849462), high=Score(precision=0.1746031746031746, recall=0.36666666666666664, fmeasure=0.2365591397849462)), 'rougeLsum': AggregateScore(low=Score(precision=0.1746031746031746, recall=0.36666666666666664, fmeasure=0.2365591397849462), mid=Score(precision=0.1746031746031746, recall=0.36666666666666664, fmeasure=0.2365591397849462), high=Score(precision=0.1746031746031746, recall=0.36666666666666664, fmeasure=0.2365591397849462))}\n",
      "\n",
      "================================================================================\n",
      "\n",
      "Article 246 ROUGE scores:\n",
      "{'rouge1': AggregateScore(low=Score(precision=0.5272727272727272, recall=0.725, fmeasure=0.6105263157894736), mid=Score(precision=0.5272727272727272, recall=0.725, fmeasure=0.6105263157894736), high=Score(precision=0.5272727272727272, recall=0.725, fmeasure=0.6105263157894736)), 'rouge2': AggregateScore(low=Score(precision=0.2777777777777778, recall=0.38461538461538464, fmeasure=0.3225806451612903), mid=Score(precision=0.2777777777777778, recall=0.38461538461538464, fmeasure=0.3225806451612903), high=Score(precision=0.2777777777777778, recall=0.38461538461538464, fmeasure=0.3225806451612903)), 'rougeL': AggregateScore(low=Score(precision=0.38181818181818183, recall=0.525, fmeasure=0.4421052631578947), mid=Score(precision=0.38181818181818183, recall=0.525, fmeasure=0.4421052631578947), high=Score(precision=0.38181818181818183, recall=0.525, fmeasure=0.4421052631578947)), 'rougeLsum': AggregateScore(low=Score(precision=0.38181818181818183, recall=0.525, fmeasure=0.4421052631578947), mid=Score(precision=0.38181818181818183, recall=0.525, fmeasure=0.4421052631578947), high=Score(precision=0.38181818181818183, recall=0.525, fmeasure=0.4421052631578947))}\n",
      "\n",
      "================================================================================\n",
      "\n",
      "Article 247 ROUGE scores:\n",
      "{'rouge1': AggregateScore(low=Score(precision=0.41379310344827586, recall=0.7741935483870968, fmeasure=0.5393258426966293), mid=Score(precision=0.41379310344827586, recall=0.7741935483870968, fmeasure=0.5393258426966293), high=Score(precision=0.41379310344827586, recall=0.7741935483870968, fmeasure=0.5393258426966293)), 'rouge2': AggregateScore(low=Score(precision=0.2631578947368421, recall=0.5, fmeasure=0.3448275862068966), mid=Score(precision=0.2631578947368421, recall=0.5, fmeasure=0.3448275862068966), high=Score(precision=0.2631578947368421, recall=0.5, fmeasure=0.3448275862068966)), 'rougeL': AggregateScore(low=Score(precision=0.3793103448275862, recall=0.7096774193548387, fmeasure=0.4943820224719101), mid=Score(precision=0.3793103448275862, recall=0.7096774193548387, fmeasure=0.4943820224719101), high=Score(precision=0.3793103448275862, recall=0.7096774193548387, fmeasure=0.4943820224719101)), 'rougeLsum': AggregateScore(low=Score(precision=0.3793103448275862, recall=0.7096774193548387, fmeasure=0.4943820224719101), mid=Score(precision=0.3793103448275862, recall=0.7096774193548387, fmeasure=0.4943820224719101), high=Score(precision=0.3793103448275862, recall=0.7096774193548387, fmeasure=0.4943820224719101))}\n",
      "\n",
      "================================================================================\n",
      "\n",
      "Article 248 ROUGE scores:\n",
      "{'rouge1': AggregateScore(low=Score(precision=0.15384615384615385, recall=0.46153846153846156, fmeasure=0.23076923076923075), mid=Score(precision=0.15384615384615385, recall=0.46153846153846156, fmeasure=0.23076923076923075), high=Score(precision=0.15384615384615385, recall=0.46153846153846156, fmeasure=0.23076923076923075)), 'rouge2': AggregateScore(low=Score(precision=0.025974025974025976, recall=0.08, fmeasure=0.0392156862745098), mid=Score(precision=0.025974025974025976, recall=0.08, fmeasure=0.0392156862745098), high=Score(precision=0.025974025974025976, recall=0.08, fmeasure=0.0392156862745098)), 'rougeL': AggregateScore(low=Score(precision=0.07692307692307693, recall=0.23076923076923078, fmeasure=0.11538461538461538), mid=Score(precision=0.07692307692307693, recall=0.23076923076923078, fmeasure=0.11538461538461538), high=Score(precision=0.07692307692307693, recall=0.23076923076923078, fmeasure=0.11538461538461538)), 'rougeLsum': AggregateScore(low=Score(precision=0.07692307692307693, recall=0.23076923076923078, fmeasure=0.11538461538461538), mid=Score(precision=0.07692307692307693, recall=0.23076923076923078, fmeasure=0.11538461538461538), high=Score(precision=0.07692307692307693, recall=0.23076923076923078, fmeasure=0.11538461538461538))}\n",
      "\n",
      "================================================================================\n",
      "\n",
      "Article 249 ROUGE scores:\n",
      "{'rouge1': AggregateScore(low=Score(precision=0.1, recall=0.26666666666666666, fmeasure=0.14545454545454545), mid=Score(precision=0.1, recall=0.26666666666666666, fmeasure=0.14545454545454545), high=Score(precision=0.1, recall=0.26666666666666666, fmeasure=0.14545454545454545)), 'rouge2': AggregateScore(low=Score(precision=0.0, recall=0.0, fmeasure=0.0), mid=Score(precision=0.0, recall=0.0, fmeasure=0.0), high=Score(precision=0.0, recall=0.0, fmeasure=0.0)), 'rougeL': AggregateScore(low=Score(precision=0.1, recall=0.26666666666666666, fmeasure=0.14545454545454545), mid=Score(precision=0.1, recall=0.26666666666666666, fmeasure=0.14545454545454545), high=Score(precision=0.1, recall=0.26666666666666666, fmeasure=0.14545454545454545)), 'rougeLsum': AggregateScore(low=Score(precision=0.1, recall=0.26666666666666666, fmeasure=0.14545454545454545), mid=Score(precision=0.1, recall=0.26666666666666666, fmeasure=0.14545454545454545), high=Score(precision=0.1, recall=0.26666666666666666, fmeasure=0.14545454545454545))}\n",
      "\n",
      "================================================================================\n",
      "\n",
      "Article 250 ROUGE scores:\n",
      "{'rouge1': AggregateScore(low=Score(precision=0.20833333333333334, recall=0.23809523809523808, fmeasure=0.22222222222222224), mid=Score(precision=0.20833333333333334, recall=0.23809523809523808, fmeasure=0.22222222222222224), high=Score(precision=0.20833333333333334, recall=0.23809523809523808, fmeasure=0.22222222222222224)), 'rouge2': AggregateScore(low=Score(precision=0.0, recall=0.0, fmeasure=0.0), mid=Score(precision=0.0, recall=0.0, fmeasure=0.0), high=Score(precision=0.0, recall=0.0, fmeasure=0.0)), 'rougeL': AggregateScore(low=Score(precision=0.125, recall=0.14285714285714285, fmeasure=0.13333333333333333), mid=Score(precision=0.125, recall=0.14285714285714285, fmeasure=0.13333333333333333), high=Score(precision=0.125, recall=0.14285714285714285, fmeasure=0.13333333333333333)), 'rougeLsum': AggregateScore(low=Score(precision=0.125, recall=0.14285714285714285, fmeasure=0.13333333333333333), mid=Score(precision=0.125, recall=0.14285714285714285, fmeasure=0.13333333333333333), high=Score(precision=0.125, recall=0.14285714285714285, fmeasure=0.13333333333333333))}\n",
      "\n",
      "================================================================================\n",
      "\n",
      "Article 251 ROUGE scores:\n",
      "{'rouge1': AggregateScore(low=Score(precision=0.3333333333333333, recall=0.4166666666666667, fmeasure=0.3703703703703704), mid=Score(precision=0.3333333333333333, recall=0.4166666666666667, fmeasure=0.3703703703703704), high=Score(precision=0.3333333333333333, recall=0.4166666666666667, fmeasure=0.3703703703703704)), 'rouge2': AggregateScore(low=Score(precision=0.06896551724137931, recall=0.08695652173913043, fmeasure=0.07692307692307693), mid=Score(precision=0.06896551724137931, recall=0.08695652173913043, fmeasure=0.07692307692307693), high=Score(precision=0.06896551724137931, recall=0.08695652173913043, fmeasure=0.07692307692307693)), 'rougeL': AggregateScore(low=Score(precision=0.16666666666666666, recall=0.20833333333333334, fmeasure=0.1851851851851852), mid=Score(precision=0.16666666666666666, recall=0.20833333333333334, fmeasure=0.1851851851851852), high=Score(precision=0.16666666666666666, recall=0.20833333333333334, fmeasure=0.1851851851851852)), 'rougeLsum': AggregateScore(low=Score(precision=0.16666666666666666, recall=0.20833333333333334, fmeasure=0.1851851851851852), mid=Score(precision=0.16666666666666666, recall=0.20833333333333334, fmeasure=0.1851851851851852), high=Score(precision=0.16666666666666666, recall=0.20833333333333334, fmeasure=0.1851851851851852))}\n",
      "\n",
      "================================================================================\n",
      "\n",
      "Article 252 ROUGE scores:\n",
      "{'rouge1': AggregateScore(low=Score(precision=0.3783783783783784, recall=0.45161290322580644, fmeasure=0.411764705882353), mid=Score(precision=0.3783783783783784, recall=0.45161290322580644, fmeasure=0.411764705882353), high=Score(precision=0.3783783783783784, recall=0.45161290322580644, fmeasure=0.411764705882353)), 'rouge2': AggregateScore(low=Score(precision=0.1388888888888889, recall=0.16666666666666666, fmeasure=0.1515151515151515), mid=Score(precision=0.1388888888888889, recall=0.16666666666666666, fmeasure=0.1515151515151515), high=Score(precision=0.1388888888888889, recall=0.16666666666666666, fmeasure=0.1515151515151515)), 'rougeL': AggregateScore(low=Score(precision=0.24324324324324326, recall=0.2903225806451613, fmeasure=0.2647058823529412), mid=Score(precision=0.24324324324324326, recall=0.2903225806451613, fmeasure=0.2647058823529412), high=Score(precision=0.24324324324324326, recall=0.2903225806451613, fmeasure=0.2647058823529412)), 'rougeLsum': AggregateScore(low=Score(precision=0.24324324324324326, recall=0.2903225806451613, fmeasure=0.2647058823529412), mid=Score(precision=0.24324324324324326, recall=0.2903225806451613, fmeasure=0.2647058823529412), high=Score(precision=0.24324324324324326, recall=0.2903225806451613, fmeasure=0.2647058823529412))}\n",
      "\n",
      "================================================================================\n",
      "\n",
      "Article 253 ROUGE scores:\n",
      "{'rouge1': AggregateScore(low=Score(precision=0.26865671641791045, recall=0.5142857142857142, fmeasure=0.3529411764705882), mid=Score(precision=0.26865671641791045, recall=0.5142857142857142, fmeasure=0.3529411764705882), high=Score(precision=0.26865671641791045, recall=0.5142857142857142, fmeasure=0.3529411764705882)), 'rouge2': AggregateScore(low=Score(precision=0.13636363636363635, recall=0.2647058823529412, fmeasure=0.18), mid=Score(precision=0.13636363636363635, recall=0.2647058823529412, fmeasure=0.18), high=Score(precision=0.13636363636363635, recall=0.2647058823529412, fmeasure=0.18)), 'rougeL': AggregateScore(low=Score(precision=0.16417910447761194, recall=0.3142857142857143, fmeasure=0.2156862745098039), mid=Score(precision=0.16417910447761194, recall=0.3142857142857143, fmeasure=0.2156862745098039), high=Score(precision=0.16417910447761194, recall=0.3142857142857143, fmeasure=0.2156862745098039)), 'rougeLsum': AggregateScore(low=Score(precision=0.16417910447761194, recall=0.3142857142857143, fmeasure=0.2156862745098039), mid=Score(precision=0.16417910447761194, recall=0.3142857142857143, fmeasure=0.2156862745098039), high=Score(precision=0.16417910447761194, recall=0.3142857142857143, fmeasure=0.2156862745098039))}\n",
      "\n",
      "================================================================================\n",
      "\n",
      "Article 254 ROUGE scores:\n",
      "{'rouge1': AggregateScore(low=Score(precision=0.28205128205128205, recall=0.3793103448275862, fmeasure=0.3235294117647059), mid=Score(precision=0.28205128205128205, recall=0.3793103448275862, fmeasure=0.3235294117647059), high=Score(precision=0.28205128205128205, recall=0.3793103448275862, fmeasure=0.3235294117647059)), 'rouge2': AggregateScore(low=Score(precision=0.05263157894736842, recall=0.07142857142857142, fmeasure=0.06060606060606061), mid=Score(precision=0.05263157894736842, recall=0.07142857142857142, fmeasure=0.06060606060606061), high=Score(precision=0.05263157894736842, recall=0.07142857142857142, fmeasure=0.06060606060606061)), 'rougeL': AggregateScore(low=Score(precision=0.20512820512820512, recall=0.27586206896551724, fmeasure=0.23529411764705882), mid=Score(precision=0.20512820512820512, recall=0.27586206896551724, fmeasure=0.23529411764705882), high=Score(precision=0.20512820512820512, recall=0.27586206896551724, fmeasure=0.23529411764705882)), 'rougeLsum': AggregateScore(low=Score(precision=0.20512820512820512, recall=0.27586206896551724, fmeasure=0.23529411764705882), mid=Score(precision=0.20512820512820512, recall=0.27586206896551724, fmeasure=0.23529411764705882), high=Score(precision=0.20512820512820512, recall=0.27586206896551724, fmeasure=0.23529411764705882))}\n",
      "\n",
      "================================================================================\n",
      "\n",
      "Article 255 ROUGE scores:\n",
      "{'rouge1': AggregateScore(low=Score(precision=0.12903225806451613, recall=0.7272727272727273, fmeasure=0.2191780821917808), mid=Score(precision=0.12903225806451613, recall=0.7272727272727273, fmeasure=0.2191780821917808), high=Score(precision=0.12903225806451613, recall=0.7272727272727273, fmeasure=0.2191780821917808)), 'rouge2': AggregateScore(low=Score(precision=0.08196721311475409, recall=0.5, fmeasure=0.14084507042253522), mid=Score(precision=0.08196721311475409, recall=0.5, fmeasure=0.14084507042253522), high=Score(precision=0.08196721311475409, recall=0.5, fmeasure=0.14084507042253522)), 'rougeL': AggregateScore(low=Score(precision=0.0967741935483871, recall=0.5454545454545454, fmeasure=0.1643835616438356), mid=Score(precision=0.0967741935483871, recall=0.5454545454545454, fmeasure=0.1643835616438356), high=Score(precision=0.0967741935483871, recall=0.5454545454545454, fmeasure=0.1643835616438356)), 'rougeLsum': AggregateScore(low=Score(precision=0.0967741935483871, recall=0.5454545454545454, fmeasure=0.1643835616438356), mid=Score(precision=0.0967741935483871, recall=0.5454545454545454, fmeasure=0.1643835616438356), high=Score(precision=0.0967741935483871, recall=0.5454545454545454, fmeasure=0.1643835616438356))}\n",
      "\n",
      "================================================================================\n",
      "\n",
      "Article 256 ROUGE scores:\n",
      "{'rouge1': AggregateScore(low=Score(precision=0.2222222222222222, recall=0.2857142857142857, fmeasure=0.25), mid=Score(precision=0.2222222222222222, recall=0.2857142857142857, fmeasure=0.25), high=Score(precision=0.2222222222222222, recall=0.2857142857142857, fmeasure=0.25)), 'rouge2': AggregateScore(low=Score(precision=0.08571428571428572, recall=0.1111111111111111, fmeasure=0.0967741935483871), mid=Score(precision=0.08571428571428572, recall=0.1111111111111111, fmeasure=0.0967741935483871), high=Score(precision=0.08571428571428572, recall=0.1111111111111111, fmeasure=0.0967741935483871)), 'rougeL': AggregateScore(low=Score(precision=0.2222222222222222, recall=0.2857142857142857, fmeasure=0.25), mid=Score(precision=0.2222222222222222, recall=0.2857142857142857, fmeasure=0.25), high=Score(precision=0.2222222222222222, recall=0.2857142857142857, fmeasure=0.25)), 'rougeLsum': AggregateScore(low=Score(precision=0.2222222222222222, recall=0.2857142857142857, fmeasure=0.25), mid=Score(precision=0.2222222222222222, recall=0.2857142857142857, fmeasure=0.25), high=Score(precision=0.2222222222222222, recall=0.2857142857142857, fmeasure=0.25))}\n",
      "\n",
      "================================================================================\n",
      "\n",
      "Article 257 ROUGE scores:\n",
      "{'rouge1': AggregateScore(low=Score(precision=0.16455696202531644, recall=0.52, fmeasure=0.25), mid=Score(precision=0.16455696202531644, recall=0.52, fmeasure=0.25), high=Score(precision=0.16455696202531644, recall=0.52, fmeasure=0.25)), 'rouge2': AggregateScore(low=Score(precision=0.07692307692307693, recall=0.25, fmeasure=0.11764705882352941), mid=Score(precision=0.07692307692307693, recall=0.25, fmeasure=0.11764705882352941), high=Score(precision=0.07692307692307693, recall=0.25, fmeasure=0.11764705882352941)), 'rougeL': AggregateScore(low=Score(precision=0.13924050632911392, recall=0.44, fmeasure=0.2115384615384615), mid=Score(precision=0.13924050632911392, recall=0.44, fmeasure=0.2115384615384615), high=Score(precision=0.13924050632911392, recall=0.44, fmeasure=0.2115384615384615)), 'rougeLsum': AggregateScore(low=Score(precision=0.13924050632911392, recall=0.44, fmeasure=0.2115384615384615), mid=Score(precision=0.13924050632911392, recall=0.44, fmeasure=0.2115384615384615), high=Score(precision=0.13924050632911392, recall=0.44, fmeasure=0.2115384615384615))}\n",
      "\n",
      "================================================================================\n",
      "\n",
      "Article 258 ROUGE scores:\n",
      "{'rouge1': AggregateScore(low=Score(precision=0.23529411764705882, recall=0.46153846153846156, fmeasure=0.31168831168831174), mid=Score(precision=0.23529411764705882, recall=0.46153846153846156, fmeasure=0.31168831168831174), high=Score(precision=0.23529411764705882, recall=0.46153846153846156, fmeasure=0.31168831168831174)), 'rouge2': AggregateScore(low=Score(precision=0.04, recall=0.08, fmeasure=0.05333333333333334), mid=Score(precision=0.04, recall=0.08, fmeasure=0.05333333333333334), high=Score(precision=0.04, recall=0.08, fmeasure=0.05333333333333334)), 'rougeL': AggregateScore(low=Score(precision=0.13725490196078433, recall=0.2692307692307692, fmeasure=0.18181818181818182), mid=Score(precision=0.13725490196078433, recall=0.2692307692307692, fmeasure=0.18181818181818182), high=Score(precision=0.13725490196078433, recall=0.2692307692307692, fmeasure=0.18181818181818182)), 'rougeLsum': AggregateScore(low=Score(precision=0.13725490196078433, recall=0.2692307692307692, fmeasure=0.18181818181818182), mid=Score(precision=0.13725490196078433, recall=0.2692307692307692, fmeasure=0.18181818181818182), high=Score(precision=0.13725490196078433, recall=0.2692307692307692, fmeasure=0.18181818181818182))}\n",
      "\n",
      "================================================================================\n",
      "\n",
      "Article 259 ROUGE scores:\n",
      "{'rouge1': AggregateScore(low=Score(precision=0.2289156626506024, recall=0.48717948717948717, fmeasure=0.3114754098360656), mid=Score(precision=0.2289156626506024, recall=0.48717948717948717, fmeasure=0.3114754098360656), high=Score(precision=0.2289156626506024, recall=0.48717948717948717, fmeasure=0.3114754098360656)), 'rouge2': AggregateScore(low=Score(precision=0.07317073170731707, recall=0.15789473684210525, fmeasure=0.09999999999999999), mid=Score(precision=0.07317073170731707, recall=0.15789473684210525, fmeasure=0.09999999999999999), high=Score(precision=0.07317073170731707, recall=0.15789473684210525, fmeasure=0.09999999999999999)), 'rougeL': AggregateScore(low=Score(precision=0.1686746987951807, recall=0.358974358974359, fmeasure=0.2295081967213115), mid=Score(precision=0.1686746987951807, recall=0.358974358974359, fmeasure=0.2295081967213115), high=Score(precision=0.1686746987951807, recall=0.358974358974359, fmeasure=0.2295081967213115)), 'rougeLsum': AggregateScore(low=Score(precision=0.1686746987951807, recall=0.358974358974359, fmeasure=0.2295081967213115), mid=Score(precision=0.1686746987951807, recall=0.358974358974359, fmeasure=0.2295081967213115), high=Score(precision=0.1686746987951807, recall=0.358974358974359, fmeasure=0.2295081967213115))}\n",
      "\n",
      "================================================================================\n",
      "\n",
      "Article 260 ROUGE scores:\n",
      "{'rouge1': AggregateScore(low=Score(precision=0.2033898305084746, recall=0.3333333333333333, fmeasure=0.2526315789473684), mid=Score(precision=0.2033898305084746, recall=0.3333333333333333, fmeasure=0.2526315789473684), high=Score(precision=0.2033898305084746, recall=0.3333333333333333, fmeasure=0.2526315789473684)), 'rouge2': AggregateScore(low=Score(precision=0.08620689655172414, recall=0.14285714285714285, fmeasure=0.10752688172043011), mid=Score(precision=0.08620689655172414, recall=0.14285714285714285, fmeasure=0.10752688172043011), high=Score(precision=0.08620689655172414, recall=0.14285714285714285, fmeasure=0.10752688172043011)), 'rougeL': AggregateScore(low=Score(precision=0.11864406779661017, recall=0.19444444444444445, fmeasure=0.1473684210526316), mid=Score(precision=0.11864406779661017, recall=0.19444444444444445, fmeasure=0.1473684210526316), high=Score(precision=0.11864406779661017, recall=0.19444444444444445, fmeasure=0.1473684210526316)), 'rougeLsum': AggregateScore(low=Score(precision=0.11864406779661017, recall=0.19444444444444445, fmeasure=0.1473684210526316), mid=Score(precision=0.11864406779661017, recall=0.19444444444444445, fmeasure=0.1473684210526316), high=Score(precision=0.11864406779661017, recall=0.19444444444444445, fmeasure=0.1473684210526316))}\n",
      "\n",
      "================================================================================\n",
      "\n",
      "Article 261 ROUGE scores:\n",
      "{'rouge1': AggregateScore(low=Score(precision=0.1111111111111111, recall=0.17073170731707318, fmeasure=0.1346153846153846), mid=Score(precision=0.1111111111111111, recall=0.17073170731707318, fmeasure=0.1346153846153846), high=Score(precision=0.1111111111111111, recall=0.17073170731707318, fmeasure=0.1346153846153846)), 'rouge2': AggregateScore(low=Score(precision=0.03225806451612903, recall=0.05, fmeasure=0.0392156862745098), mid=Score(precision=0.03225806451612903, recall=0.05, fmeasure=0.0392156862745098), high=Score(precision=0.03225806451612903, recall=0.05, fmeasure=0.0392156862745098)), 'rougeL': AggregateScore(low=Score(precision=0.09523809523809523, recall=0.14634146341463414, fmeasure=0.11538461538461538), mid=Score(precision=0.09523809523809523, recall=0.14634146341463414, fmeasure=0.11538461538461538), high=Score(precision=0.09523809523809523, recall=0.14634146341463414, fmeasure=0.11538461538461538)), 'rougeLsum': AggregateScore(low=Score(precision=0.09523809523809523, recall=0.14634146341463414, fmeasure=0.11538461538461538), mid=Score(precision=0.09523809523809523, recall=0.14634146341463414, fmeasure=0.11538461538461538), high=Score(precision=0.09523809523809523, recall=0.14634146341463414, fmeasure=0.11538461538461538))}\n",
      "\n",
      "================================================================================\n",
      "\n",
      "Article 262 ROUGE scores:\n",
      "{'rouge1': AggregateScore(low=Score(precision=0.3157894736842105, recall=0.3333333333333333, fmeasure=0.3243243243243243), mid=Score(precision=0.3157894736842105, recall=0.3333333333333333, fmeasure=0.3243243243243243), high=Score(precision=0.3157894736842105, recall=0.3333333333333333, fmeasure=0.3243243243243243)), 'rouge2': AggregateScore(low=Score(precision=0.10810810810810811, recall=0.11428571428571428, fmeasure=0.11111111111111112), mid=Score(precision=0.10810810810810811, recall=0.11428571428571428, fmeasure=0.11111111111111112), high=Score(precision=0.10810810810810811, recall=0.11428571428571428, fmeasure=0.11111111111111112)), 'rougeL': AggregateScore(low=Score(precision=0.23684210526315788, recall=0.25, fmeasure=0.24324324324324326), mid=Score(precision=0.23684210526315788, recall=0.25, fmeasure=0.24324324324324326), high=Score(precision=0.23684210526315788, recall=0.25, fmeasure=0.24324324324324326)), 'rougeLsum': AggregateScore(low=Score(precision=0.23684210526315788, recall=0.25, fmeasure=0.24324324324324326), mid=Score(precision=0.23684210526315788, recall=0.25, fmeasure=0.24324324324324326), high=Score(precision=0.23684210526315788, recall=0.25, fmeasure=0.24324324324324326))}\n",
      "\n",
      "================================================================================\n",
      "\n",
      "Article 263 ROUGE scores:\n",
      "{'rouge1': AggregateScore(low=Score(precision=0.23076923076923078, recall=0.375, fmeasure=0.2857142857142857), mid=Score(precision=0.23076923076923078, recall=0.375, fmeasure=0.2857142857142857), high=Score(precision=0.23076923076923078, recall=0.375, fmeasure=0.2857142857142857)), 'rouge2': AggregateScore(low=Score(precision=0.04, recall=0.06666666666666667, fmeasure=0.05), mid=Score(precision=0.04, recall=0.06666666666666667, fmeasure=0.05), high=Score(precision=0.04, recall=0.06666666666666667, fmeasure=0.05)), 'rougeL': AggregateScore(low=Score(precision=0.19230769230769232, recall=0.3125, fmeasure=0.2380952380952381), mid=Score(precision=0.19230769230769232, recall=0.3125, fmeasure=0.2380952380952381), high=Score(precision=0.19230769230769232, recall=0.3125, fmeasure=0.2380952380952381)), 'rougeLsum': AggregateScore(low=Score(precision=0.19230769230769232, recall=0.3125, fmeasure=0.2380952380952381), mid=Score(precision=0.19230769230769232, recall=0.3125, fmeasure=0.2380952380952381), high=Score(precision=0.19230769230769232, recall=0.3125, fmeasure=0.2380952380952381))}\n",
      "\n",
      "================================================================================\n",
      "\n",
      "Article 264 ROUGE scores:\n",
      "{'rouge1': AggregateScore(low=Score(precision=0.26666666666666666, recall=0.5454545454545454, fmeasure=0.35820895522388063), mid=Score(precision=0.26666666666666666, recall=0.5454545454545454, fmeasure=0.35820895522388063), high=Score(precision=0.26666666666666666, recall=0.5454545454545454, fmeasure=0.35820895522388063)), 'rouge2': AggregateScore(low=Score(precision=0.06818181818181818, recall=0.14285714285714285, fmeasure=0.0923076923076923), mid=Score(precision=0.06818181818181818, recall=0.14285714285714285, fmeasure=0.0923076923076923), high=Score(precision=0.06818181818181818, recall=0.14285714285714285, fmeasure=0.0923076923076923)), 'rougeL': AggregateScore(low=Score(precision=0.17777777777777778, recall=0.36363636363636365, fmeasure=0.2388059701492537), mid=Score(precision=0.17777777777777778, recall=0.36363636363636365, fmeasure=0.2388059701492537), high=Score(precision=0.17777777777777778, recall=0.36363636363636365, fmeasure=0.2388059701492537)), 'rougeLsum': AggregateScore(low=Score(precision=0.17777777777777778, recall=0.36363636363636365, fmeasure=0.2388059701492537), mid=Score(precision=0.17777777777777778, recall=0.36363636363636365, fmeasure=0.2388059701492537), high=Score(precision=0.17777777777777778, recall=0.36363636363636365, fmeasure=0.2388059701492537))}\n",
      "\n",
      "================================================================================\n",
      "\n",
      "Article 265 ROUGE scores:\n",
      "{'rouge1': AggregateScore(low=Score(precision=0.3246753246753247, recall=0.6097560975609756, fmeasure=0.423728813559322), mid=Score(precision=0.3246753246753247, recall=0.6097560975609756, fmeasure=0.423728813559322), high=Score(precision=0.3246753246753247, recall=0.6097560975609756, fmeasure=0.423728813559322)), 'rouge2': AggregateScore(low=Score(precision=0.21052631578947367, recall=0.4, fmeasure=0.27586206896551724), mid=Score(precision=0.21052631578947367, recall=0.4, fmeasure=0.27586206896551724), high=Score(precision=0.21052631578947367, recall=0.4, fmeasure=0.27586206896551724)), 'rougeL': AggregateScore(low=Score(precision=0.2857142857142857, recall=0.5365853658536586, fmeasure=0.37288135593220334), mid=Score(precision=0.2857142857142857, recall=0.5365853658536586, fmeasure=0.37288135593220334), high=Score(precision=0.2857142857142857, recall=0.5365853658536586, fmeasure=0.37288135593220334)), 'rougeLsum': AggregateScore(low=Score(precision=0.2857142857142857, recall=0.5365853658536586, fmeasure=0.37288135593220334), mid=Score(precision=0.2857142857142857, recall=0.5365853658536586, fmeasure=0.37288135593220334), high=Score(precision=0.2857142857142857, recall=0.5365853658536586, fmeasure=0.37288135593220334))}\n",
      "\n",
      "================================================================================\n",
      "\n",
      "Article 266 ROUGE scores:\n",
      "{'rouge1': AggregateScore(low=Score(precision=0.20588235294117646, recall=0.175, fmeasure=0.18918918918918917), mid=Score(precision=0.20588235294117646, recall=0.175, fmeasure=0.18918918918918917), high=Score(precision=0.20588235294117646, recall=0.175, fmeasure=0.18918918918918917)), 'rouge2': AggregateScore(low=Score(precision=0.09090909090909091, recall=0.07692307692307693, fmeasure=0.08333333333333334), mid=Score(precision=0.09090909090909091, recall=0.07692307692307693, fmeasure=0.08333333333333334), high=Score(precision=0.09090909090909091, recall=0.07692307692307693, fmeasure=0.08333333333333334)), 'rougeL': AggregateScore(low=Score(precision=0.17647058823529413, recall=0.15, fmeasure=0.16216216216216214), mid=Score(precision=0.17647058823529413, recall=0.15, fmeasure=0.16216216216216214), high=Score(precision=0.17647058823529413, recall=0.15, fmeasure=0.16216216216216214)), 'rougeLsum': AggregateScore(low=Score(precision=0.17647058823529413, recall=0.15, fmeasure=0.16216216216216214), mid=Score(precision=0.17647058823529413, recall=0.15, fmeasure=0.16216216216216214), high=Score(precision=0.17647058823529413, recall=0.15, fmeasure=0.16216216216216214))}\n",
      "\n",
      "================================================================================\n",
      "\n",
      "Article 267 ROUGE scores:\n",
      "{'rouge1': AggregateScore(low=Score(precision=0.1875, recall=0.6, fmeasure=0.2857142857142857), mid=Score(precision=0.1875, recall=0.6, fmeasure=0.2857142857142857), high=Score(precision=0.1875, recall=0.6, fmeasure=0.2857142857142857)), 'rouge2': AggregateScore(low=Score(precision=0.0851063829787234, recall=0.2857142857142857, fmeasure=0.13114754098360654), mid=Score(precision=0.0851063829787234, recall=0.2857142857142857, fmeasure=0.13114754098360654), high=Score(precision=0.0851063829787234, recall=0.2857142857142857, fmeasure=0.13114754098360654)), 'rougeL': AggregateScore(low=Score(precision=0.16666666666666666, recall=0.5333333333333333, fmeasure=0.25396825396825395), mid=Score(precision=0.16666666666666666, recall=0.5333333333333333, fmeasure=0.25396825396825395), high=Score(precision=0.16666666666666666, recall=0.5333333333333333, fmeasure=0.25396825396825395)), 'rougeLsum': AggregateScore(low=Score(precision=0.16666666666666666, recall=0.5333333333333333, fmeasure=0.25396825396825395), mid=Score(precision=0.16666666666666666, recall=0.5333333333333333, fmeasure=0.25396825396825395), high=Score(precision=0.16666666666666666, recall=0.5333333333333333, fmeasure=0.25396825396825395))}\n",
      "\n",
      "================================================================================\n",
      "\n",
      "Article 268 ROUGE scores:\n",
      "{'rouge1': AggregateScore(low=Score(precision=0.15492957746478872, recall=0.4782608695652174, fmeasure=0.23404255319148937), mid=Score(precision=0.15492957746478872, recall=0.4782608695652174, fmeasure=0.23404255319148937), high=Score(precision=0.15492957746478872, recall=0.4782608695652174, fmeasure=0.23404255319148937)), 'rouge2': AggregateScore(low=Score(precision=0.04285714285714286, recall=0.13636363636363635, fmeasure=0.06521739130434781), mid=Score(precision=0.04285714285714286, recall=0.13636363636363635, fmeasure=0.06521739130434781), high=Score(precision=0.04285714285714286, recall=0.13636363636363635, fmeasure=0.06521739130434781)), 'rougeL': AggregateScore(low=Score(precision=0.08450704225352113, recall=0.2608695652173913, fmeasure=0.1276595744680851), mid=Score(precision=0.08450704225352113, recall=0.2608695652173913, fmeasure=0.1276595744680851), high=Score(precision=0.08450704225352113, recall=0.2608695652173913, fmeasure=0.1276595744680851)), 'rougeLsum': AggregateScore(low=Score(precision=0.08450704225352113, recall=0.2608695652173913, fmeasure=0.1276595744680851), mid=Score(precision=0.08450704225352113, recall=0.2608695652173913, fmeasure=0.1276595744680851), high=Score(precision=0.08450704225352113, recall=0.2608695652173913, fmeasure=0.1276595744680851))}\n",
      "\n",
      "================================================================================\n",
      "\n",
      "Article 269 ROUGE scores:\n",
      "{'rouge1': AggregateScore(low=Score(precision=0.14285714285714285, recall=0.625, fmeasure=0.23255813953488372), mid=Score(precision=0.14285714285714285, recall=0.625, fmeasure=0.23255813953488372), high=Score(precision=0.14285714285714285, recall=0.625, fmeasure=0.23255813953488372)), 'rouge2': AggregateScore(low=Score(precision=0.058823529411764705, recall=0.2857142857142857, fmeasure=0.0975609756097561), mid=Score(precision=0.058823529411764705, recall=0.2857142857142857, fmeasure=0.0975609756097561), high=Score(precision=0.058823529411764705, recall=0.2857142857142857, fmeasure=0.0975609756097561)), 'rougeL': AggregateScore(low=Score(precision=0.11428571428571428, recall=0.5, fmeasure=0.18604651162790695), mid=Score(precision=0.11428571428571428, recall=0.5, fmeasure=0.18604651162790695), high=Score(precision=0.11428571428571428, recall=0.5, fmeasure=0.18604651162790695)), 'rougeLsum': AggregateScore(low=Score(precision=0.11428571428571428, recall=0.5, fmeasure=0.18604651162790695), mid=Score(precision=0.11428571428571428, recall=0.5, fmeasure=0.18604651162790695), high=Score(precision=0.11428571428571428, recall=0.5, fmeasure=0.18604651162790695))}\n",
      "\n",
      "================================================================================\n",
      "\n",
      "Article 270 ROUGE scores:\n",
      "{'rouge1': AggregateScore(low=Score(precision=0.22916666666666666, recall=0.5789473684210527, fmeasure=0.3283582089552239), mid=Score(precision=0.22916666666666666, recall=0.5789473684210527, fmeasure=0.3283582089552239), high=Score(precision=0.22916666666666666, recall=0.5789473684210527, fmeasure=0.3283582089552239)), 'rouge2': AggregateScore(low=Score(precision=0.0425531914893617, recall=0.1111111111111111, fmeasure=0.061538461538461535), mid=Score(precision=0.0425531914893617, recall=0.1111111111111111, fmeasure=0.061538461538461535), high=Score(precision=0.0425531914893617, recall=0.1111111111111111, fmeasure=0.061538461538461535)), 'rougeL': AggregateScore(low=Score(precision=0.16666666666666666, recall=0.42105263157894735, fmeasure=0.23880597014925375), mid=Score(precision=0.16666666666666666, recall=0.42105263157894735, fmeasure=0.23880597014925375), high=Score(precision=0.16666666666666666, recall=0.42105263157894735, fmeasure=0.23880597014925375)), 'rougeLsum': AggregateScore(low=Score(precision=0.16666666666666666, recall=0.42105263157894735, fmeasure=0.23880597014925375), mid=Score(precision=0.16666666666666666, recall=0.42105263157894735, fmeasure=0.23880597014925375), high=Score(precision=0.16666666666666666, recall=0.42105263157894735, fmeasure=0.23880597014925375))}\n",
      "\n",
      "================================================================================\n",
      "\n",
      "Article 271 ROUGE scores:\n",
      "{'rouge1': AggregateScore(low=Score(precision=0.25, recall=0.43478260869565216, fmeasure=0.3174603174603175), mid=Score(precision=0.25, recall=0.43478260869565216, fmeasure=0.3174603174603175), high=Score(precision=0.25, recall=0.43478260869565216, fmeasure=0.3174603174603175)), 'rouge2': AggregateScore(low=Score(precision=0.07692307692307693, recall=0.13636363636363635, fmeasure=0.09836065573770493), mid=Score(precision=0.07692307692307693, recall=0.13636363636363635, fmeasure=0.09836065573770493), high=Score(precision=0.07692307692307693, recall=0.13636363636363635, fmeasure=0.09836065573770493)), 'rougeL': AggregateScore(low=Score(precision=0.2, recall=0.34782608695652173, fmeasure=0.253968253968254), mid=Score(precision=0.2, recall=0.34782608695652173, fmeasure=0.253968253968254), high=Score(precision=0.2, recall=0.34782608695652173, fmeasure=0.253968253968254)), 'rougeLsum': AggregateScore(low=Score(precision=0.2, recall=0.34782608695652173, fmeasure=0.253968253968254), mid=Score(precision=0.2, recall=0.34782608695652173, fmeasure=0.253968253968254), high=Score(precision=0.2, recall=0.34782608695652173, fmeasure=0.253968253968254))}\n",
      "\n",
      "================================================================================\n",
      "\n",
      "Article 272 ROUGE scores:\n",
      "{'rouge1': AggregateScore(low=Score(precision=0.07246376811594203, recall=0.35714285714285715, fmeasure=0.12048192771084339), mid=Score(precision=0.07246376811594203, recall=0.35714285714285715, fmeasure=0.12048192771084339), high=Score(precision=0.07246376811594203, recall=0.35714285714285715, fmeasure=0.12048192771084339)), 'rouge2': AggregateScore(low=Score(precision=0.029411764705882353, recall=0.15384615384615385, fmeasure=0.04938271604938271), mid=Score(precision=0.029411764705882353, recall=0.15384615384615385, fmeasure=0.04938271604938271), high=Score(precision=0.029411764705882353, recall=0.15384615384615385, fmeasure=0.04938271604938271)), 'rougeL': AggregateScore(low=Score(precision=0.07246376811594203, recall=0.35714285714285715, fmeasure=0.12048192771084339), mid=Score(precision=0.07246376811594203, recall=0.35714285714285715, fmeasure=0.12048192771084339), high=Score(precision=0.07246376811594203, recall=0.35714285714285715, fmeasure=0.12048192771084339)), 'rougeLsum': AggregateScore(low=Score(precision=0.07246376811594203, recall=0.35714285714285715, fmeasure=0.12048192771084339), mid=Score(precision=0.07246376811594203, recall=0.35714285714285715, fmeasure=0.12048192771084339), high=Score(precision=0.07246376811594203, recall=0.35714285714285715, fmeasure=0.12048192771084339))}\n",
      "\n",
      "================================================================================\n",
      "\n",
      "Article 273 ROUGE scores:\n",
      "{'rouge1': AggregateScore(low=Score(precision=0.13333333333333333, recall=0.2727272727272727, fmeasure=0.17910447761194032), mid=Score(precision=0.13333333333333333, recall=0.2727272727272727, fmeasure=0.17910447761194032), high=Score(precision=0.13333333333333333, recall=0.2727272727272727, fmeasure=0.17910447761194032)), 'rouge2': AggregateScore(low=Score(precision=0.045454545454545456, recall=0.09523809523809523, fmeasure=0.061538461538461535), mid=Score(precision=0.045454545454545456, recall=0.09523809523809523, fmeasure=0.061538461538461535), high=Score(precision=0.045454545454545456, recall=0.09523809523809523, fmeasure=0.061538461538461535)), 'rougeL': AggregateScore(low=Score(precision=0.08888888888888889, recall=0.18181818181818182, fmeasure=0.11940298507462685), mid=Score(precision=0.08888888888888889, recall=0.18181818181818182, fmeasure=0.11940298507462685), high=Score(precision=0.08888888888888889, recall=0.18181818181818182, fmeasure=0.11940298507462685)), 'rougeLsum': AggregateScore(low=Score(precision=0.08888888888888889, recall=0.18181818181818182, fmeasure=0.11940298507462685), mid=Score(precision=0.08888888888888889, recall=0.18181818181818182, fmeasure=0.11940298507462685), high=Score(precision=0.08888888888888889, recall=0.18181818181818182, fmeasure=0.11940298507462685))}\n",
      "\n",
      "================================================================================\n",
      "\n",
      "Article 274 ROUGE scores:\n",
      "{'rouge1': AggregateScore(low=Score(precision=0.30303030303030304, recall=0.3333333333333333, fmeasure=0.31746031746031744), mid=Score(precision=0.30303030303030304, recall=0.3333333333333333, fmeasure=0.31746031746031744), high=Score(precision=0.30303030303030304, recall=0.3333333333333333, fmeasure=0.31746031746031744)), 'rouge2': AggregateScore(low=Score(precision=0.03125, recall=0.034482758620689655, fmeasure=0.03278688524590164), mid=Score(precision=0.03125, recall=0.034482758620689655, fmeasure=0.03278688524590164), high=Score(precision=0.03125, recall=0.034482758620689655, fmeasure=0.03278688524590164)), 'rougeL': AggregateScore(low=Score(precision=0.18181818181818182, recall=0.2, fmeasure=0.1904761904761905), mid=Score(precision=0.18181818181818182, recall=0.2, fmeasure=0.1904761904761905), high=Score(precision=0.18181818181818182, recall=0.2, fmeasure=0.1904761904761905)), 'rougeLsum': AggregateScore(low=Score(precision=0.18181818181818182, recall=0.2, fmeasure=0.1904761904761905), mid=Score(precision=0.18181818181818182, recall=0.2, fmeasure=0.1904761904761905), high=Score(precision=0.18181818181818182, recall=0.2, fmeasure=0.1904761904761905))}\n",
      "\n",
      "================================================================================\n",
      "\n",
      "Article 275 ROUGE scores:\n",
      "{'rouge1': AggregateScore(low=Score(precision=0.3617021276595745, recall=0.53125, fmeasure=0.4303797468354431), mid=Score(precision=0.3617021276595745, recall=0.53125, fmeasure=0.4303797468354431), high=Score(precision=0.3617021276595745, recall=0.53125, fmeasure=0.4303797468354431)), 'rouge2': AggregateScore(low=Score(precision=0.1956521739130435, recall=0.2903225806451613, fmeasure=0.23376623376623376), mid=Score(precision=0.1956521739130435, recall=0.2903225806451613, fmeasure=0.23376623376623376), high=Score(precision=0.1956521739130435, recall=0.2903225806451613, fmeasure=0.23376623376623376)), 'rougeL': AggregateScore(low=Score(precision=0.23404255319148937, recall=0.34375, fmeasure=0.27848101265822783), mid=Score(precision=0.23404255319148937, recall=0.34375, fmeasure=0.27848101265822783), high=Score(precision=0.23404255319148937, recall=0.34375, fmeasure=0.27848101265822783)), 'rougeLsum': AggregateScore(low=Score(precision=0.23404255319148937, recall=0.34375, fmeasure=0.27848101265822783), mid=Score(precision=0.23404255319148937, recall=0.34375, fmeasure=0.27848101265822783), high=Score(precision=0.23404255319148937, recall=0.34375, fmeasure=0.27848101265822783))}\n",
      "\n",
      "================================================================================\n",
      "\n",
      "Article 276 ROUGE scores:\n",
      "{'rouge1': AggregateScore(low=Score(precision=0.21052631578947367, recall=0.8421052631578947, fmeasure=0.3368421052631579), mid=Score(precision=0.21052631578947367, recall=0.8421052631578947, fmeasure=0.3368421052631579), high=Score(precision=0.21052631578947367, recall=0.8421052631578947, fmeasure=0.3368421052631579)), 'rouge2': AggregateScore(low=Score(precision=0.09333333333333334, recall=0.3888888888888889, fmeasure=0.15053763440860216), mid=Score(precision=0.09333333333333334, recall=0.3888888888888889, fmeasure=0.15053763440860216), high=Score(precision=0.09333333333333334, recall=0.3888888888888889, fmeasure=0.15053763440860216)), 'rougeL': AggregateScore(low=Score(precision=0.18421052631578946, recall=0.7368421052631579, fmeasure=0.29473684210526313), mid=Score(precision=0.18421052631578946, recall=0.7368421052631579, fmeasure=0.29473684210526313), high=Score(precision=0.18421052631578946, recall=0.7368421052631579, fmeasure=0.29473684210526313)), 'rougeLsum': AggregateScore(low=Score(precision=0.18421052631578946, recall=0.7368421052631579, fmeasure=0.29473684210526313), mid=Score(precision=0.18421052631578946, recall=0.7368421052631579, fmeasure=0.29473684210526313), high=Score(precision=0.18421052631578946, recall=0.7368421052631579, fmeasure=0.29473684210526313))}\n",
      "\n",
      "================================================================================\n",
      "\n",
      "Article 277 ROUGE scores:\n",
      "{'rouge1': AggregateScore(low=Score(precision=0.40540540540540543, recall=0.38461538461538464, fmeasure=0.39473684210526316), mid=Score(precision=0.40540540540540543, recall=0.38461538461538464, fmeasure=0.39473684210526316), high=Score(precision=0.40540540540540543, recall=0.38461538461538464, fmeasure=0.39473684210526316)), 'rouge2': AggregateScore(low=Score(precision=0.1111111111111111, recall=0.10526315789473684, fmeasure=0.10810810810810811), mid=Score(precision=0.1111111111111111, recall=0.10526315789473684, fmeasure=0.10810810810810811), high=Score(precision=0.1111111111111111, recall=0.10526315789473684, fmeasure=0.10810810810810811)), 'rougeL': AggregateScore(low=Score(precision=0.16216216216216217, recall=0.15384615384615385, fmeasure=0.15789473684210525), mid=Score(precision=0.16216216216216217, recall=0.15384615384615385, fmeasure=0.15789473684210525), high=Score(precision=0.16216216216216217, recall=0.15384615384615385, fmeasure=0.15789473684210525)), 'rougeLsum': AggregateScore(low=Score(precision=0.16216216216216217, recall=0.15384615384615385, fmeasure=0.15789473684210525), mid=Score(precision=0.16216216216216217, recall=0.15384615384615385, fmeasure=0.15789473684210525), high=Score(precision=0.16216216216216217, recall=0.15384615384615385, fmeasure=0.15789473684210525))}\n",
      "\n",
      "================================================================================\n",
      "\n",
      "Article 278 ROUGE scores:\n",
      "{'rouge1': AggregateScore(low=Score(precision=0.19718309859154928, recall=0.6363636363636364, fmeasure=0.3010752688172043), mid=Score(precision=0.19718309859154928, recall=0.6363636363636364, fmeasure=0.3010752688172043), high=Score(precision=0.19718309859154928, recall=0.6363636363636364, fmeasure=0.3010752688172043)), 'rouge2': AggregateScore(low=Score(precision=0.1, recall=0.3333333333333333, fmeasure=0.15384615384615383), mid=Score(precision=0.1, recall=0.3333333333333333, fmeasure=0.15384615384615383), high=Score(precision=0.1, recall=0.3333333333333333, fmeasure=0.15384615384615383)), 'rougeL': AggregateScore(low=Score(precision=0.14084507042253522, recall=0.45454545454545453, fmeasure=0.21505376344086022), mid=Score(precision=0.14084507042253522, recall=0.45454545454545453, fmeasure=0.21505376344086022), high=Score(precision=0.14084507042253522, recall=0.45454545454545453, fmeasure=0.21505376344086022)), 'rougeLsum': AggregateScore(low=Score(precision=0.14084507042253522, recall=0.45454545454545453, fmeasure=0.21505376344086022), mid=Score(precision=0.14084507042253522, recall=0.45454545454545453, fmeasure=0.21505376344086022), high=Score(precision=0.14084507042253522, recall=0.45454545454545453, fmeasure=0.21505376344086022))}\n",
      "\n",
      "================================================================================\n",
      "\n",
      "Article 279 ROUGE scores:\n",
      "{'rouge1': AggregateScore(low=Score(precision=0.171875, recall=0.4782608695652174, fmeasure=0.25287356321839083), mid=Score(precision=0.171875, recall=0.4782608695652174, fmeasure=0.25287356321839083), high=Score(precision=0.171875, recall=0.4782608695652174, fmeasure=0.25287356321839083)), 'rouge2': AggregateScore(low=Score(precision=0.015873015873015872, recall=0.045454545454545456, fmeasure=0.023529411764705882), mid=Score(precision=0.015873015873015872, recall=0.045454545454545456, fmeasure=0.023529411764705882), high=Score(precision=0.015873015873015872, recall=0.045454545454545456, fmeasure=0.023529411764705882)), 'rougeL': AggregateScore(low=Score(precision=0.09375, recall=0.2608695652173913, fmeasure=0.13793103448275862), mid=Score(precision=0.09375, recall=0.2608695652173913, fmeasure=0.13793103448275862), high=Score(precision=0.09375, recall=0.2608695652173913, fmeasure=0.13793103448275862)), 'rougeLsum': AggregateScore(low=Score(precision=0.09375, recall=0.2608695652173913, fmeasure=0.13793103448275862), mid=Score(precision=0.09375, recall=0.2608695652173913, fmeasure=0.13793103448275862), high=Score(precision=0.09375, recall=0.2608695652173913, fmeasure=0.13793103448275862))}\n",
      "\n",
      "================================================================================\n",
      "\n",
      "Article 280 ROUGE scores:\n",
      "{'rouge1': AggregateScore(low=Score(precision=0.30434782608695654, recall=0.4827586206896552, fmeasure=0.3733333333333333), mid=Score(precision=0.30434782608695654, recall=0.4827586206896552, fmeasure=0.3733333333333333), high=Score(precision=0.30434782608695654, recall=0.4827586206896552, fmeasure=0.3733333333333333)), 'rouge2': AggregateScore(low=Score(precision=0.2222222222222222, recall=0.35714285714285715, fmeasure=0.27397260273972607), mid=Score(precision=0.2222222222222222, recall=0.35714285714285715, fmeasure=0.27397260273972607), high=Score(precision=0.2222222222222222, recall=0.35714285714285715, fmeasure=0.27397260273972607)), 'rougeL': AggregateScore(low=Score(precision=0.2826086956521739, recall=0.4482758620689655, fmeasure=0.3466666666666666), mid=Score(precision=0.2826086956521739, recall=0.4482758620689655, fmeasure=0.3466666666666666), high=Score(precision=0.2826086956521739, recall=0.4482758620689655, fmeasure=0.3466666666666666)), 'rougeLsum': AggregateScore(low=Score(precision=0.2826086956521739, recall=0.4482758620689655, fmeasure=0.3466666666666666), mid=Score(precision=0.2826086956521739, recall=0.4482758620689655, fmeasure=0.3466666666666666), high=Score(precision=0.2826086956521739, recall=0.4482758620689655, fmeasure=0.3466666666666666))}\n",
      "\n",
      "================================================================================\n",
      "\n",
      "Article 281 ROUGE scores:\n",
      "{'rouge1': AggregateScore(low=Score(precision=0.21951219512195122, recall=0.45, fmeasure=0.29508196721311475), mid=Score(precision=0.21951219512195122, recall=0.45, fmeasure=0.29508196721311475), high=Score(precision=0.21951219512195122, recall=0.45, fmeasure=0.29508196721311475)), 'rouge2': AggregateScore(low=Score(precision=0.15, recall=0.3157894736842105, fmeasure=0.20338983050847456), mid=Score(precision=0.15, recall=0.3157894736842105, fmeasure=0.20338983050847456), high=Score(precision=0.15, recall=0.3157894736842105, fmeasure=0.20338983050847456)), 'rougeL': AggregateScore(low=Score(precision=0.17073170731707318, recall=0.35, fmeasure=0.22950819672131145), mid=Score(precision=0.17073170731707318, recall=0.35, fmeasure=0.22950819672131145), high=Score(precision=0.17073170731707318, recall=0.35, fmeasure=0.22950819672131145)), 'rougeLsum': AggregateScore(low=Score(precision=0.17073170731707318, recall=0.35, fmeasure=0.22950819672131145), mid=Score(precision=0.17073170731707318, recall=0.35, fmeasure=0.22950819672131145), high=Score(precision=0.17073170731707318, recall=0.35, fmeasure=0.22950819672131145))}\n",
      "\n",
      "================================================================================\n",
      "\n",
      "Article 282 ROUGE scores:\n",
      "{'rouge1': AggregateScore(low=Score(precision=0.2909090909090909, recall=0.6666666666666666, fmeasure=0.40506329113924044), mid=Score(precision=0.2909090909090909, recall=0.6666666666666666, fmeasure=0.40506329113924044), high=Score(precision=0.2909090909090909, recall=0.6666666666666666, fmeasure=0.40506329113924044)), 'rouge2': AggregateScore(low=Score(precision=0.16666666666666666, recall=0.391304347826087, fmeasure=0.23376623376623373), mid=Score(precision=0.16666666666666666, recall=0.391304347826087, fmeasure=0.23376623376623373), high=Score(precision=0.16666666666666666, recall=0.391304347826087, fmeasure=0.23376623376623373)), 'rougeL': AggregateScore(low=Score(precision=0.21818181818181817, recall=0.5, fmeasure=0.3037974683544304), mid=Score(precision=0.21818181818181817, recall=0.5, fmeasure=0.3037974683544304), high=Score(precision=0.21818181818181817, recall=0.5, fmeasure=0.3037974683544304)), 'rougeLsum': AggregateScore(low=Score(precision=0.21818181818181817, recall=0.5, fmeasure=0.3037974683544304), mid=Score(precision=0.21818181818181817, recall=0.5, fmeasure=0.3037974683544304), high=Score(precision=0.21818181818181817, recall=0.5, fmeasure=0.3037974683544304))}\n",
      "\n",
      "================================================================================\n",
      "\n",
      "Article 283 ROUGE scores:\n",
      "{'rouge1': AggregateScore(low=Score(precision=0.32, recall=0.48484848484848486, fmeasure=0.38554216867469876), mid=Score(precision=0.32, recall=0.48484848484848486, fmeasure=0.38554216867469876), high=Score(precision=0.32, recall=0.48484848484848486, fmeasure=0.38554216867469876)), 'rouge2': AggregateScore(low=Score(precision=0.12244897959183673, recall=0.1875, fmeasure=0.1481481481481481), mid=Score(precision=0.12244897959183673, recall=0.1875, fmeasure=0.1481481481481481), high=Score(precision=0.12244897959183673, recall=0.1875, fmeasure=0.1481481481481481)), 'rougeL': AggregateScore(low=Score(precision=0.26, recall=0.3939393939393939, fmeasure=0.3132530120481928), mid=Score(precision=0.26, recall=0.3939393939393939, fmeasure=0.3132530120481928), high=Score(precision=0.26, recall=0.3939393939393939, fmeasure=0.3132530120481928)), 'rougeLsum': AggregateScore(low=Score(precision=0.26, recall=0.3939393939393939, fmeasure=0.3132530120481928), mid=Score(precision=0.26, recall=0.3939393939393939, fmeasure=0.3132530120481928), high=Score(precision=0.26, recall=0.3939393939393939, fmeasure=0.3132530120481928))}\n",
      "\n",
      "================================================================================\n",
      "\n",
      "Article 284 ROUGE scores:\n",
      "{'rouge1': AggregateScore(low=Score(precision=0.40476190476190477, recall=0.3090909090909091, fmeasure=0.3505154639175258), mid=Score(precision=0.40476190476190477, recall=0.3090909090909091, fmeasure=0.3505154639175258), high=Score(precision=0.40476190476190477, recall=0.3090909090909091, fmeasure=0.3505154639175258)), 'rouge2': AggregateScore(low=Score(precision=0.12195121951219512, recall=0.09259259259259259, fmeasure=0.10526315789473684), mid=Score(precision=0.12195121951219512, recall=0.09259259259259259, fmeasure=0.10526315789473684), high=Score(precision=0.12195121951219512, recall=0.09259259259259259, fmeasure=0.10526315789473684)), 'rougeL': AggregateScore(low=Score(precision=0.21428571428571427, recall=0.16363636363636364, fmeasure=0.18556701030927836), mid=Score(precision=0.21428571428571427, recall=0.16363636363636364, fmeasure=0.18556701030927836), high=Score(precision=0.21428571428571427, recall=0.16363636363636364, fmeasure=0.18556701030927836)), 'rougeLsum': AggregateScore(low=Score(precision=0.21428571428571427, recall=0.16363636363636364, fmeasure=0.18556701030927836), mid=Score(precision=0.21428571428571427, recall=0.16363636363636364, fmeasure=0.18556701030927836), high=Score(precision=0.21428571428571427, recall=0.16363636363636364, fmeasure=0.18556701030927836))}\n",
      "\n",
      "================================================================================\n",
      "\n",
      "Article 285 ROUGE scores:\n",
      "{'rouge1': AggregateScore(low=Score(precision=0.0, recall=0.0, fmeasure=0.0), mid=Score(precision=0.0, recall=0.0, fmeasure=0.0), high=Score(precision=0.0, recall=0.0, fmeasure=0.0)), 'rouge2': AggregateScore(low=Score(precision=0.0, recall=0.0, fmeasure=0.0), mid=Score(precision=0.0, recall=0.0, fmeasure=0.0), high=Score(precision=0.0, recall=0.0, fmeasure=0.0)), 'rougeL': AggregateScore(low=Score(precision=0.0, recall=0.0, fmeasure=0.0), mid=Score(precision=0.0, recall=0.0, fmeasure=0.0), high=Score(precision=0.0, recall=0.0, fmeasure=0.0)), 'rougeLsum': AggregateScore(low=Score(precision=0.0, recall=0.0, fmeasure=0.0), mid=Score(precision=0.0, recall=0.0, fmeasure=0.0), high=Score(precision=0.0, recall=0.0, fmeasure=0.0))}\n",
      "\n",
      "================================================================================\n",
      "\n",
      "Article 286 ROUGE scores:\n",
      "{'rouge1': AggregateScore(low=Score(precision=0.12, recall=0.2608695652173913, fmeasure=0.1643835616438356), mid=Score(precision=0.12, recall=0.2608695652173913, fmeasure=0.1643835616438356), high=Score(precision=0.12, recall=0.2608695652173913, fmeasure=0.1643835616438356)), 'rouge2': AggregateScore(low=Score(precision=0.02040816326530612, recall=0.045454545454545456, fmeasure=0.02816901408450704), mid=Score(precision=0.02040816326530612, recall=0.045454545454545456, fmeasure=0.02816901408450704), high=Score(precision=0.02040816326530612, recall=0.045454545454545456, fmeasure=0.02816901408450704)), 'rougeL': AggregateScore(low=Score(precision=0.08, recall=0.17391304347826086, fmeasure=0.1095890410958904), mid=Score(precision=0.08, recall=0.17391304347826086, fmeasure=0.1095890410958904), high=Score(precision=0.08, recall=0.17391304347826086, fmeasure=0.1095890410958904)), 'rougeLsum': AggregateScore(low=Score(precision=0.08, recall=0.17391304347826086, fmeasure=0.1095890410958904), mid=Score(precision=0.08, recall=0.17391304347826086, fmeasure=0.1095890410958904), high=Score(precision=0.08, recall=0.17391304347826086, fmeasure=0.1095890410958904))}\n",
      "\n",
      "================================================================================\n",
      "\n",
      "Article 287 ROUGE scores:\n",
      "{'rouge1': AggregateScore(low=Score(precision=0.2857142857142857, recall=0.75, fmeasure=0.4137931034482759), mid=Score(precision=0.2857142857142857, recall=0.75, fmeasure=0.4137931034482759), high=Score(precision=0.2857142857142857, recall=0.75, fmeasure=0.4137931034482759)), 'rouge2': AggregateScore(low=Score(precision=0.17073170731707318, recall=0.4666666666666667, fmeasure=0.25), mid=Score(precision=0.17073170731707318, recall=0.4666666666666667, fmeasure=0.25), high=Score(precision=0.17073170731707318, recall=0.4666666666666667, fmeasure=0.25)), 'rougeL': AggregateScore(low=Score(precision=0.23809523809523808, recall=0.625, fmeasure=0.3448275862068965), mid=Score(precision=0.23809523809523808, recall=0.625, fmeasure=0.3448275862068965), high=Score(precision=0.23809523809523808, recall=0.625, fmeasure=0.3448275862068965)), 'rougeLsum': AggregateScore(low=Score(precision=0.23809523809523808, recall=0.625, fmeasure=0.3448275862068965), mid=Score(precision=0.23809523809523808, recall=0.625, fmeasure=0.3448275862068965), high=Score(precision=0.23809523809523808, recall=0.625, fmeasure=0.3448275862068965))}\n",
      "\n",
      "================================================================================\n",
      "\n",
      "Article 288 ROUGE scores:\n",
      "{'rouge1': AggregateScore(low=Score(precision=0.25, recall=0.2903225806451613, fmeasure=0.2686567164179105), mid=Score(precision=0.25, recall=0.2903225806451613, fmeasure=0.2686567164179105), high=Score(precision=0.25, recall=0.2903225806451613, fmeasure=0.2686567164179105)), 'rouge2': AggregateScore(low=Score(precision=0.17142857142857143, recall=0.2, fmeasure=0.18461538461538463), mid=Score(precision=0.17142857142857143, recall=0.2, fmeasure=0.18461538461538463), high=Score(precision=0.17142857142857143, recall=0.2, fmeasure=0.18461538461538463)), 'rougeL': AggregateScore(low=Score(precision=0.2222222222222222, recall=0.25806451612903225, fmeasure=0.2388059701492537), mid=Score(precision=0.2222222222222222, recall=0.25806451612903225, fmeasure=0.2388059701492537), high=Score(precision=0.2222222222222222, recall=0.25806451612903225, fmeasure=0.2388059701492537)), 'rougeLsum': AggregateScore(low=Score(precision=0.2222222222222222, recall=0.25806451612903225, fmeasure=0.2388059701492537), mid=Score(precision=0.2222222222222222, recall=0.25806451612903225, fmeasure=0.2388059701492537), high=Score(precision=0.2222222222222222, recall=0.25806451612903225, fmeasure=0.2388059701492537))}\n",
      "\n",
      "================================================================================\n",
      "\n",
      "Article 289 ROUGE scores:\n",
      "{'rouge1': AggregateScore(low=Score(precision=0.30952380952380953, recall=0.3939393939393939, fmeasure=0.3466666666666667), mid=Score(precision=0.30952380952380953, recall=0.3939393939393939, fmeasure=0.3466666666666667), high=Score(precision=0.30952380952380953, recall=0.3939393939393939, fmeasure=0.3466666666666667)), 'rouge2': AggregateScore(low=Score(precision=0.12195121951219512, recall=0.15625, fmeasure=0.136986301369863), mid=Score(precision=0.12195121951219512, recall=0.15625, fmeasure=0.136986301369863), high=Score(precision=0.12195121951219512, recall=0.15625, fmeasure=0.136986301369863)), 'rougeL': AggregateScore(low=Score(precision=0.23809523809523808, recall=0.30303030303030304, fmeasure=0.26666666666666666), mid=Score(precision=0.23809523809523808, recall=0.30303030303030304, fmeasure=0.26666666666666666), high=Score(precision=0.23809523809523808, recall=0.30303030303030304, fmeasure=0.26666666666666666)), 'rougeLsum': AggregateScore(low=Score(precision=0.23809523809523808, recall=0.30303030303030304, fmeasure=0.26666666666666666), mid=Score(precision=0.23809523809523808, recall=0.30303030303030304, fmeasure=0.26666666666666666), high=Score(precision=0.23809523809523808, recall=0.30303030303030304, fmeasure=0.26666666666666666))}\n",
      "\n",
      "================================================================================\n",
      "\n",
      "Article 290 ROUGE scores:\n",
      "{'rouge1': AggregateScore(low=Score(precision=0.5454545454545454, recall=1.0, fmeasure=0.7058823529411764), mid=Score(precision=0.5454545454545454, recall=1.0, fmeasure=0.7058823529411764), high=Score(precision=0.5454545454545454, recall=1.0, fmeasure=0.7058823529411764)), 'rouge2': AggregateScore(low=Score(precision=0.3488372093023256, recall=0.6521739130434783, fmeasure=0.4545454545454546), mid=Score(precision=0.3488372093023256, recall=0.6521739130434783, fmeasure=0.4545454545454546), high=Score(precision=0.3488372093023256, recall=0.6521739130434783, fmeasure=0.4545454545454546)), 'rougeL': AggregateScore(low=Score(precision=0.3409090909090909, recall=0.625, fmeasure=0.4411764705882353), mid=Score(precision=0.3409090909090909, recall=0.625, fmeasure=0.4411764705882353), high=Score(precision=0.3409090909090909, recall=0.625, fmeasure=0.4411764705882353)), 'rougeLsum': AggregateScore(low=Score(precision=0.3409090909090909, recall=0.625, fmeasure=0.4411764705882353), mid=Score(precision=0.3409090909090909, recall=0.625, fmeasure=0.4411764705882353), high=Score(precision=0.3409090909090909, recall=0.625, fmeasure=0.4411764705882353))}\n",
      "\n",
      "================================================================================\n",
      "\n",
      "Article 291 ROUGE scores:\n",
      "{'rouge1': AggregateScore(low=Score(precision=0.24193548387096775, recall=0.3, fmeasure=0.26785714285714285), mid=Score(precision=0.24193548387096775, recall=0.3, fmeasure=0.26785714285714285), high=Score(precision=0.24193548387096775, recall=0.3, fmeasure=0.26785714285714285)), 'rouge2': AggregateScore(low=Score(precision=0.08196721311475409, recall=0.10204081632653061, fmeasure=0.09090909090909091), mid=Score(precision=0.08196721311475409, recall=0.10204081632653061, fmeasure=0.09090909090909091), high=Score(precision=0.08196721311475409, recall=0.10204081632653061, fmeasure=0.09090909090909091)), 'rougeL': AggregateScore(low=Score(precision=0.1774193548387097, recall=0.22, fmeasure=0.1964285714285714), mid=Score(precision=0.1774193548387097, recall=0.22, fmeasure=0.1964285714285714), high=Score(precision=0.1774193548387097, recall=0.22, fmeasure=0.1964285714285714)), 'rougeLsum': AggregateScore(low=Score(precision=0.1774193548387097, recall=0.22, fmeasure=0.1964285714285714), mid=Score(precision=0.1774193548387097, recall=0.22, fmeasure=0.1964285714285714), high=Score(precision=0.1774193548387097, recall=0.22, fmeasure=0.1964285714285714))}\n",
      "\n",
      "================================================================================\n",
      "\n",
      "Article 292 ROUGE scores:\n",
      "{'rouge1': AggregateScore(low=Score(precision=0.10975609756097561, recall=0.23684210526315788, fmeasure=0.15), mid=Score(precision=0.10975609756097561, recall=0.23684210526315788, fmeasure=0.15), high=Score(precision=0.10975609756097561, recall=0.23684210526315788, fmeasure=0.15)), 'rouge2': AggregateScore(low=Score(precision=0.0, recall=0.0, fmeasure=0.0), mid=Score(precision=0.0, recall=0.0, fmeasure=0.0), high=Score(precision=0.0, recall=0.0, fmeasure=0.0)), 'rougeL': AggregateScore(low=Score(precision=0.08536585365853659, recall=0.18421052631578946, fmeasure=0.11666666666666668), mid=Score(precision=0.08536585365853659, recall=0.18421052631578946, fmeasure=0.11666666666666668), high=Score(precision=0.08536585365853659, recall=0.18421052631578946, fmeasure=0.11666666666666668)), 'rougeLsum': AggregateScore(low=Score(precision=0.08536585365853659, recall=0.18421052631578946, fmeasure=0.11666666666666668), mid=Score(precision=0.08536585365853659, recall=0.18421052631578946, fmeasure=0.11666666666666668), high=Score(precision=0.08536585365853659, recall=0.18421052631578946, fmeasure=0.11666666666666668))}\n",
      "\n",
      "================================================================================\n",
      "\n",
      "Article 293 ROUGE scores:\n",
      "{'rouge1': AggregateScore(low=Score(precision=0.2222222222222222, recall=0.46153846153846156, fmeasure=0.3), mid=Score(precision=0.2222222222222222, recall=0.46153846153846156, fmeasure=0.3), high=Score(precision=0.2222222222222222, recall=0.46153846153846156, fmeasure=0.3)), 'rouge2': AggregateScore(low=Score(precision=0.1320754716981132, recall=0.28, fmeasure=0.1794871794871795), mid=Score(precision=0.1320754716981132, recall=0.28, fmeasure=0.1794871794871795), high=Score(precision=0.1320754716981132, recall=0.28, fmeasure=0.1794871794871795)), 'rougeL': AggregateScore(low=Score(precision=0.2037037037037037, recall=0.4230769230769231, fmeasure=0.27499999999999997), mid=Score(precision=0.2037037037037037, recall=0.4230769230769231, fmeasure=0.27499999999999997), high=Score(precision=0.2037037037037037, recall=0.4230769230769231, fmeasure=0.27499999999999997)), 'rougeLsum': AggregateScore(low=Score(precision=0.2037037037037037, recall=0.4230769230769231, fmeasure=0.27499999999999997), mid=Score(precision=0.2037037037037037, recall=0.4230769230769231, fmeasure=0.27499999999999997), high=Score(precision=0.2037037037037037, recall=0.4230769230769231, fmeasure=0.27499999999999997))}\n",
      "\n",
      "================================================================================\n",
      "\n",
      "Article 294 ROUGE scores:\n",
      "{'rouge1': AggregateScore(low=Score(precision=0.3076923076923077, recall=0.3870967741935484, fmeasure=0.34285714285714286), mid=Score(precision=0.3076923076923077, recall=0.3870967741935484, fmeasure=0.34285714285714286), high=Score(precision=0.3076923076923077, recall=0.3870967741935484, fmeasure=0.34285714285714286)), 'rouge2': AggregateScore(low=Score(precision=0.18421052631578946, recall=0.23333333333333334, fmeasure=0.20588235294117646), mid=Score(precision=0.18421052631578946, recall=0.23333333333333334, fmeasure=0.20588235294117646), high=Score(precision=0.18421052631578946, recall=0.23333333333333334, fmeasure=0.20588235294117646)), 'rougeL': AggregateScore(low=Score(precision=0.20512820512820512, recall=0.25806451612903225, fmeasure=0.2285714285714286), mid=Score(precision=0.20512820512820512, recall=0.25806451612903225, fmeasure=0.2285714285714286), high=Score(precision=0.20512820512820512, recall=0.25806451612903225, fmeasure=0.2285714285714286)), 'rougeLsum': AggregateScore(low=Score(precision=0.20512820512820512, recall=0.25806451612903225, fmeasure=0.2285714285714286), mid=Score(precision=0.20512820512820512, recall=0.25806451612903225, fmeasure=0.2285714285714286), high=Score(precision=0.20512820512820512, recall=0.25806451612903225, fmeasure=0.2285714285714286))}\n",
      "\n",
      "================================================================================\n",
      "\n",
      "Article 295 ROUGE scores:\n",
      "{'rouge1': AggregateScore(low=Score(precision=0.3103448275862069, recall=1.0, fmeasure=0.4736842105263158), mid=Score(precision=0.3103448275862069, recall=1.0, fmeasure=0.4736842105263158), high=Score(precision=0.3103448275862069, recall=1.0, fmeasure=0.4736842105263158)), 'rouge2': AggregateScore(low=Score(precision=0.2857142857142857, recall=1.0, fmeasure=0.4444444444444445), mid=Score(precision=0.2857142857142857, recall=1.0, fmeasure=0.4444444444444445), high=Score(precision=0.2857142857142857, recall=1.0, fmeasure=0.4444444444444445)), 'rougeL': AggregateScore(low=Score(precision=0.3103448275862069, recall=1.0, fmeasure=0.4736842105263158), mid=Score(precision=0.3103448275862069, recall=1.0, fmeasure=0.4736842105263158), high=Score(precision=0.3103448275862069, recall=1.0, fmeasure=0.4736842105263158)), 'rougeLsum': AggregateScore(low=Score(precision=0.3103448275862069, recall=1.0, fmeasure=0.4736842105263158), mid=Score(precision=0.3103448275862069, recall=1.0, fmeasure=0.4736842105263158), high=Score(precision=0.3103448275862069, recall=1.0, fmeasure=0.4736842105263158))}\n",
      "\n",
      "================================================================================\n",
      "\n",
      "Article 296 ROUGE scores:\n",
      "{'rouge1': AggregateScore(low=Score(precision=0.2153846153846154, recall=0.5833333333333334, fmeasure=0.31460674157303375), mid=Score(precision=0.2153846153846154, recall=0.5833333333333334, fmeasure=0.31460674157303375), high=Score(precision=0.2153846153846154, recall=0.5833333333333334, fmeasure=0.31460674157303375)), 'rouge2': AggregateScore(low=Score(precision=0.09375, recall=0.2608695652173913, fmeasure=0.13793103448275862), mid=Score(precision=0.09375, recall=0.2608695652173913, fmeasure=0.13793103448275862), high=Score(precision=0.09375, recall=0.2608695652173913, fmeasure=0.13793103448275862)), 'rougeL': AggregateScore(low=Score(precision=0.15384615384615385, recall=0.4166666666666667, fmeasure=0.22471910112359555), mid=Score(precision=0.15384615384615385, recall=0.4166666666666667, fmeasure=0.22471910112359555), high=Score(precision=0.15384615384615385, recall=0.4166666666666667, fmeasure=0.22471910112359555)), 'rougeLsum': AggregateScore(low=Score(precision=0.15384615384615385, recall=0.4166666666666667, fmeasure=0.22471910112359555), mid=Score(precision=0.15384615384615385, recall=0.4166666666666667, fmeasure=0.22471910112359555), high=Score(precision=0.15384615384615385, recall=0.4166666666666667, fmeasure=0.22471910112359555))}\n",
      "\n",
      "================================================================================\n",
      "\n",
      "Article 297 ROUGE scores:\n",
      "{'rouge1': AggregateScore(low=Score(precision=0.25757575757575757, recall=0.5862068965517241, fmeasure=0.35789473684210527), mid=Score(precision=0.25757575757575757, recall=0.5862068965517241, fmeasure=0.35789473684210527), high=Score(precision=0.25757575757575757, recall=0.5862068965517241, fmeasure=0.35789473684210527)), 'rouge2': AggregateScore(low=Score(precision=0.06153846153846154, recall=0.14285714285714285, fmeasure=0.08602150537634409), mid=Score(precision=0.06153846153846154, recall=0.14285714285714285, fmeasure=0.08602150537634409), high=Score(precision=0.06153846153846154, recall=0.14285714285714285, fmeasure=0.08602150537634409)), 'rougeL': AggregateScore(low=Score(precision=0.09090909090909091, recall=0.20689655172413793, fmeasure=0.12631578947368421), mid=Score(precision=0.09090909090909091, recall=0.20689655172413793, fmeasure=0.12631578947368421), high=Score(precision=0.09090909090909091, recall=0.20689655172413793, fmeasure=0.12631578947368421)), 'rougeLsum': AggregateScore(low=Score(precision=0.09090909090909091, recall=0.20689655172413793, fmeasure=0.12631578947368421), mid=Score(precision=0.09090909090909091, recall=0.20689655172413793, fmeasure=0.12631578947368421), high=Score(precision=0.09090909090909091, recall=0.20689655172413793, fmeasure=0.12631578947368421))}\n",
      "\n",
      "================================================================================\n",
      "\n",
      "Article 298 ROUGE scores:\n",
      "{'rouge1': AggregateScore(low=Score(precision=0.22580645161290322, recall=0.3888888888888889, fmeasure=0.2857142857142857), mid=Score(precision=0.22580645161290322, recall=0.3888888888888889, fmeasure=0.2857142857142857), high=Score(precision=0.22580645161290322, recall=0.3888888888888889, fmeasure=0.2857142857142857)), 'rouge2': AggregateScore(low=Score(precision=0.09836065573770492, recall=0.17142857142857143, fmeasure=0.125), mid=Score(precision=0.09836065573770492, recall=0.17142857142857143, fmeasure=0.125), high=Score(precision=0.09836065573770492, recall=0.17142857142857143, fmeasure=0.125)), 'rougeL': AggregateScore(low=Score(precision=0.16129032258064516, recall=0.2777777777777778, fmeasure=0.20408163265306123), mid=Score(precision=0.16129032258064516, recall=0.2777777777777778, fmeasure=0.20408163265306123), high=Score(precision=0.16129032258064516, recall=0.2777777777777778, fmeasure=0.20408163265306123)), 'rougeLsum': AggregateScore(low=Score(precision=0.16129032258064516, recall=0.2777777777777778, fmeasure=0.20408163265306123), mid=Score(precision=0.16129032258064516, recall=0.2777777777777778, fmeasure=0.20408163265306123), high=Score(precision=0.16129032258064516, recall=0.2777777777777778, fmeasure=0.20408163265306123))}\n",
      "\n",
      "================================================================================\n",
      "\n",
      "Article 299 ROUGE scores:\n",
      "{'rouge1': AggregateScore(low=Score(precision=0.24050632911392406, recall=0.6551724137931034, fmeasure=0.35185185185185186), mid=Score(precision=0.24050632911392406, recall=0.6551724137931034, fmeasure=0.35185185185185186), high=Score(precision=0.24050632911392406, recall=0.6551724137931034, fmeasure=0.35185185185185186)), 'rouge2': AggregateScore(low=Score(precision=0.08974358974358974, recall=0.25, fmeasure=0.1320754716981132), mid=Score(precision=0.08974358974358974, recall=0.25, fmeasure=0.1320754716981132), high=Score(precision=0.08974358974358974, recall=0.25, fmeasure=0.1320754716981132)), 'rougeL': AggregateScore(low=Score(precision=0.20253164556962025, recall=0.5517241379310345, fmeasure=0.2962962962962963), mid=Score(precision=0.20253164556962025, recall=0.5517241379310345, fmeasure=0.2962962962962963), high=Score(precision=0.20253164556962025, recall=0.5517241379310345, fmeasure=0.2962962962962963)), 'rougeLsum': AggregateScore(low=Score(precision=0.20253164556962025, recall=0.5517241379310345, fmeasure=0.2962962962962963), mid=Score(precision=0.20253164556962025, recall=0.5517241379310345, fmeasure=0.2962962962962963), high=Score(precision=0.20253164556962025, recall=0.5517241379310345, fmeasure=0.2962962962962963))}\n",
      "\n",
      "================================================================================\n",
      "\n",
      "Article 300 ROUGE scores:\n",
      "{'rouge1': AggregateScore(low=Score(precision=0.23076923076923078, recall=0.7, fmeasure=0.34710743801652894), mid=Score(precision=0.23076923076923078, recall=0.7, fmeasure=0.34710743801652894), high=Score(precision=0.23076923076923078, recall=0.7, fmeasure=0.34710743801652894)), 'rouge2': AggregateScore(low=Score(precision=0.1111111111111111, recall=0.3448275862068966, fmeasure=0.1680672268907563), mid=Score(precision=0.1111111111111111, recall=0.3448275862068966, fmeasure=0.1680672268907563), high=Score(precision=0.1111111111111111, recall=0.3448275862068966, fmeasure=0.1680672268907563)), 'rougeL': AggregateScore(low=Score(precision=0.12087912087912088, recall=0.36666666666666664, fmeasure=0.1818181818181818), mid=Score(precision=0.12087912087912088, recall=0.36666666666666664, fmeasure=0.1818181818181818), high=Score(precision=0.12087912087912088, recall=0.36666666666666664, fmeasure=0.1818181818181818)), 'rougeLsum': AggregateScore(low=Score(precision=0.12087912087912088, recall=0.36666666666666664, fmeasure=0.1818181818181818), mid=Score(precision=0.12087912087912088, recall=0.36666666666666664, fmeasure=0.1818181818181818), high=Score(precision=0.12087912087912088, recall=0.36666666666666664, fmeasure=0.1818181818181818))}\n",
      "\n",
      "================================================================================\n",
      "\n",
      "Article 301 ROUGE scores:\n",
      "{'rouge1': AggregateScore(low=Score(precision=0.29508196721311475, recall=0.9, fmeasure=0.4444444444444445), mid=Score(precision=0.29508196721311475, recall=0.9, fmeasure=0.4444444444444445), high=Score(precision=0.29508196721311475, recall=0.9, fmeasure=0.4444444444444445)), 'rouge2': AggregateScore(low=Score(precision=0.21666666666666667, recall=0.6842105263157895, fmeasure=0.32911392405063294), mid=Score(precision=0.21666666666666667, recall=0.6842105263157895, fmeasure=0.32911392405063294), high=Score(precision=0.21666666666666667, recall=0.6842105263157895, fmeasure=0.32911392405063294)), 'rougeL': AggregateScore(low=Score(precision=0.29508196721311475, recall=0.9, fmeasure=0.4444444444444445), mid=Score(precision=0.29508196721311475, recall=0.9, fmeasure=0.4444444444444445), high=Score(precision=0.29508196721311475, recall=0.9, fmeasure=0.4444444444444445)), 'rougeLsum': AggregateScore(low=Score(precision=0.29508196721311475, recall=0.9, fmeasure=0.4444444444444445), mid=Score(precision=0.29508196721311475, recall=0.9, fmeasure=0.4444444444444445), high=Score(precision=0.29508196721311475, recall=0.9, fmeasure=0.4444444444444445))}\n",
      "\n",
      "================================================================================\n",
      "\n",
      "Article 302 ROUGE scores:\n",
      "{'rouge1': AggregateScore(low=Score(precision=0.11864406779661017, recall=0.4666666666666667, fmeasure=0.18918918918918917), mid=Score(precision=0.11864406779661017, recall=0.4666666666666667, fmeasure=0.18918918918918917), high=Score(precision=0.11864406779661017, recall=0.4666666666666667, fmeasure=0.18918918918918917)), 'rouge2': AggregateScore(low=Score(precision=0.034482758620689655, recall=0.14285714285714285, fmeasure=0.05555555555555555), mid=Score(precision=0.034482758620689655, recall=0.14285714285714285, fmeasure=0.05555555555555555), high=Score(precision=0.034482758620689655, recall=0.14285714285714285, fmeasure=0.05555555555555555)), 'rougeL': AggregateScore(low=Score(precision=0.0847457627118644, recall=0.3333333333333333, fmeasure=0.13513513513513511), mid=Score(precision=0.0847457627118644, recall=0.3333333333333333, fmeasure=0.13513513513513511), high=Score(precision=0.0847457627118644, recall=0.3333333333333333, fmeasure=0.13513513513513511)), 'rougeLsum': AggregateScore(low=Score(precision=0.0847457627118644, recall=0.3333333333333333, fmeasure=0.13513513513513511), mid=Score(precision=0.0847457627118644, recall=0.3333333333333333, fmeasure=0.13513513513513511), high=Score(precision=0.0847457627118644, recall=0.3333333333333333, fmeasure=0.13513513513513511))}\n",
      "\n",
      "================================================================================\n",
      "\n",
      "Article 303 ROUGE scores:\n",
      "{'rouge1': AggregateScore(low=Score(precision=0.0, recall=0.0, fmeasure=0.0), mid=Score(precision=0.0, recall=0.0, fmeasure=0.0), high=Score(precision=0.0, recall=0.0, fmeasure=0.0)), 'rouge2': AggregateScore(low=Score(precision=0.0, recall=0.0, fmeasure=0.0), mid=Score(precision=0.0, recall=0.0, fmeasure=0.0), high=Score(precision=0.0, recall=0.0, fmeasure=0.0)), 'rougeL': AggregateScore(low=Score(precision=0.0, recall=0.0, fmeasure=0.0), mid=Score(precision=0.0, recall=0.0, fmeasure=0.0), high=Score(precision=0.0, recall=0.0, fmeasure=0.0)), 'rougeLsum': AggregateScore(low=Score(precision=0.0, recall=0.0, fmeasure=0.0), mid=Score(precision=0.0, recall=0.0, fmeasure=0.0), high=Score(precision=0.0, recall=0.0, fmeasure=0.0))}\n",
      "\n",
      "================================================================================\n",
      "\n",
      "Article 304 ROUGE scores:\n",
      "{'rouge1': AggregateScore(low=Score(precision=0.37142857142857144, recall=0.7027027027027027, fmeasure=0.485981308411215), mid=Score(precision=0.37142857142857144, recall=0.7027027027027027, fmeasure=0.485981308411215), high=Score(precision=0.37142857142857144, recall=0.7027027027027027, fmeasure=0.485981308411215)), 'rouge2': AggregateScore(low=Score(precision=0.18840579710144928, recall=0.3611111111111111, fmeasure=0.2476190476190476), mid=Score(precision=0.18840579710144928, recall=0.3611111111111111, fmeasure=0.2476190476190476), high=Score(precision=0.18840579710144928, recall=0.3611111111111111, fmeasure=0.2476190476190476)), 'rougeL': AggregateScore(low=Score(precision=0.2, recall=0.3783783783783784, fmeasure=0.2616822429906542), mid=Score(precision=0.2, recall=0.3783783783783784, fmeasure=0.2616822429906542), high=Score(precision=0.2, recall=0.3783783783783784, fmeasure=0.2616822429906542)), 'rougeLsum': AggregateScore(low=Score(precision=0.2, recall=0.3783783783783784, fmeasure=0.2616822429906542), mid=Score(precision=0.2, recall=0.3783783783783784, fmeasure=0.2616822429906542), high=Score(precision=0.2, recall=0.3783783783783784, fmeasure=0.2616822429906542))}\n",
      "\n",
      "================================================================================\n",
      "\n",
      "Article 305 ROUGE scores:\n",
      "{'rouge1': AggregateScore(low=Score(precision=0.4897959183673469, recall=0.7741935483870968, fmeasure=0.6), mid=Score(precision=0.4897959183673469, recall=0.7741935483870968, fmeasure=0.6), high=Score(precision=0.4897959183673469, recall=0.7741935483870968, fmeasure=0.6)), 'rouge2': AggregateScore(low=Score(precision=0.3125, recall=0.5, fmeasure=0.38461538461538464), mid=Score(precision=0.3125, recall=0.5, fmeasure=0.38461538461538464), high=Score(precision=0.3125, recall=0.5, fmeasure=0.38461538461538464)), 'rougeL': AggregateScore(low=Score(precision=0.30612244897959184, recall=0.4838709677419355, fmeasure=0.375), mid=Score(precision=0.30612244897959184, recall=0.4838709677419355, fmeasure=0.375), high=Score(precision=0.30612244897959184, recall=0.4838709677419355, fmeasure=0.375)), 'rougeLsum': AggregateScore(low=Score(precision=0.30612244897959184, recall=0.4838709677419355, fmeasure=0.375), mid=Score(precision=0.30612244897959184, recall=0.4838709677419355, fmeasure=0.375), high=Score(precision=0.30612244897959184, recall=0.4838709677419355, fmeasure=0.375))}\n",
      "\n",
      "================================================================================\n",
      "\n",
      "Article 306 ROUGE scores:\n",
      "{'rouge1': AggregateScore(low=Score(precision=0.4444444444444444, recall=0.8695652173913043, fmeasure=0.5882352941176471), mid=Score(precision=0.4444444444444444, recall=0.8695652173913043, fmeasure=0.5882352941176471), high=Score(precision=0.4444444444444444, recall=0.8695652173913043, fmeasure=0.5882352941176471)), 'rouge2': AggregateScore(low=Score(precision=0.20454545454545456, recall=0.4090909090909091, fmeasure=0.27272727272727276), mid=Score(precision=0.20454545454545456, recall=0.4090909090909091, fmeasure=0.27272727272727276), high=Score(precision=0.20454545454545456, recall=0.4090909090909091, fmeasure=0.27272727272727276)), 'rougeL': AggregateScore(low=Score(precision=0.3111111111111111, recall=0.6086956521739131, fmeasure=0.411764705882353), mid=Score(precision=0.3111111111111111, recall=0.6086956521739131, fmeasure=0.411764705882353), high=Score(precision=0.3111111111111111, recall=0.6086956521739131, fmeasure=0.411764705882353)), 'rougeLsum': AggregateScore(low=Score(precision=0.3111111111111111, recall=0.6086956521739131, fmeasure=0.411764705882353), mid=Score(precision=0.3111111111111111, recall=0.6086956521739131, fmeasure=0.411764705882353), high=Score(precision=0.3111111111111111, recall=0.6086956521739131, fmeasure=0.411764705882353))}\n",
      "\n",
      "================================================================================\n",
      "\n",
      "Article 307 ROUGE scores:\n",
      "{'rouge1': AggregateScore(low=Score(precision=0.1643835616438356, recall=0.42857142857142855, fmeasure=0.2376237623762376), mid=Score(precision=0.1643835616438356, recall=0.42857142857142855, fmeasure=0.2376237623762376), high=Score(precision=0.1643835616438356, recall=0.42857142857142855, fmeasure=0.2376237623762376)), 'rouge2': AggregateScore(low=Score(precision=0.06944444444444445, recall=0.18518518518518517, fmeasure=0.10101010101010101), mid=Score(precision=0.06944444444444445, recall=0.18518518518518517, fmeasure=0.10101010101010101), high=Score(precision=0.06944444444444445, recall=0.18518518518518517, fmeasure=0.10101010101010101)), 'rougeL': AggregateScore(low=Score(precision=0.1232876712328767, recall=0.32142857142857145, fmeasure=0.1782178217821782), mid=Score(precision=0.1232876712328767, recall=0.32142857142857145, fmeasure=0.1782178217821782), high=Score(precision=0.1232876712328767, recall=0.32142857142857145, fmeasure=0.1782178217821782)), 'rougeLsum': AggregateScore(low=Score(precision=0.1232876712328767, recall=0.32142857142857145, fmeasure=0.1782178217821782), mid=Score(precision=0.1232876712328767, recall=0.32142857142857145, fmeasure=0.1782178217821782), high=Score(precision=0.1232876712328767, recall=0.32142857142857145, fmeasure=0.1782178217821782))}\n",
      "\n",
      "================================================================================\n",
      "\n",
      "Article 308 ROUGE scores:\n",
      "{'rouge1': AggregateScore(low=Score(precision=0.0625, recall=0.06060606060606061, fmeasure=0.06153846153846154), mid=Score(precision=0.0625, recall=0.06060606060606061, fmeasure=0.06153846153846154), high=Score(precision=0.0625, recall=0.06060606060606061, fmeasure=0.06153846153846154)), 'rouge2': AggregateScore(low=Score(precision=0.0, recall=0.0, fmeasure=0.0), mid=Score(precision=0.0, recall=0.0, fmeasure=0.0), high=Score(precision=0.0, recall=0.0, fmeasure=0.0)), 'rougeL': AggregateScore(low=Score(precision=0.0625, recall=0.06060606060606061, fmeasure=0.06153846153846154), mid=Score(precision=0.0625, recall=0.06060606060606061, fmeasure=0.06153846153846154), high=Score(precision=0.0625, recall=0.06060606060606061, fmeasure=0.06153846153846154)), 'rougeLsum': AggregateScore(low=Score(precision=0.0625, recall=0.06060606060606061, fmeasure=0.06153846153846154), mid=Score(precision=0.0625, recall=0.06060606060606061, fmeasure=0.06153846153846154), high=Score(precision=0.0625, recall=0.06060606060606061, fmeasure=0.06153846153846154))}\n",
      "\n",
      "================================================================================\n",
      "\n",
      "Article 309 ROUGE scores:\n",
      "{'rouge1': AggregateScore(low=Score(precision=0.2727272727272727, recall=0.34615384615384615, fmeasure=0.3050847457627119), mid=Score(precision=0.2727272727272727, recall=0.34615384615384615, fmeasure=0.3050847457627119), high=Score(precision=0.2727272727272727, recall=0.34615384615384615, fmeasure=0.3050847457627119)), 'rouge2': AggregateScore(low=Score(precision=0.09375, recall=0.12, fmeasure=0.10526315789473684), mid=Score(precision=0.09375, recall=0.12, fmeasure=0.10526315789473684), high=Score(precision=0.09375, recall=0.12, fmeasure=0.10526315789473684)), 'rougeL': AggregateScore(low=Score(precision=0.21212121212121213, recall=0.2692307692307692, fmeasure=0.23728813559322037), mid=Score(precision=0.21212121212121213, recall=0.2692307692307692, fmeasure=0.23728813559322037), high=Score(precision=0.21212121212121213, recall=0.2692307692307692, fmeasure=0.23728813559322037)), 'rougeLsum': AggregateScore(low=Score(precision=0.21212121212121213, recall=0.2692307692307692, fmeasure=0.23728813559322037), mid=Score(precision=0.21212121212121213, recall=0.2692307692307692, fmeasure=0.23728813559322037), high=Score(precision=0.21212121212121213, recall=0.2692307692307692, fmeasure=0.23728813559322037))}\n",
      "\n",
      "================================================================================\n",
      "\n",
      "Article 310 ROUGE scores:\n",
      "{'rouge1': AggregateScore(low=Score(precision=0.11666666666666667, recall=0.3684210526315789, fmeasure=0.17721518987341772), mid=Score(precision=0.11666666666666667, recall=0.3684210526315789, fmeasure=0.17721518987341772), high=Score(precision=0.11666666666666667, recall=0.3684210526315789, fmeasure=0.17721518987341772)), 'rouge2': AggregateScore(low=Score(precision=0.01694915254237288, recall=0.05555555555555555, fmeasure=0.025974025974025976), mid=Score(precision=0.01694915254237288, recall=0.05555555555555555, fmeasure=0.025974025974025976), high=Score(precision=0.01694915254237288, recall=0.05555555555555555, fmeasure=0.025974025974025976)), 'rougeL': AggregateScore(low=Score(precision=0.08333333333333333, recall=0.2631578947368421, fmeasure=0.12658227848101267), mid=Score(precision=0.08333333333333333, recall=0.2631578947368421, fmeasure=0.12658227848101267), high=Score(precision=0.08333333333333333, recall=0.2631578947368421, fmeasure=0.12658227848101267)), 'rougeLsum': AggregateScore(low=Score(precision=0.08333333333333333, recall=0.2631578947368421, fmeasure=0.12658227848101267), mid=Score(precision=0.08333333333333333, recall=0.2631578947368421, fmeasure=0.12658227848101267), high=Score(precision=0.08333333333333333, recall=0.2631578947368421, fmeasure=0.12658227848101267))}\n",
      "\n",
      "================================================================================\n",
      "\n",
      "Article 311 ROUGE scores:\n",
      "{'rouge1': AggregateScore(low=Score(precision=0.18, recall=0.36, fmeasure=0.23999999999999996), mid=Score(precision=0.18, recall=0.36, fmeasure=0.23999999999999996), high=Score(precision=0.18, recall=0.36, fmeasure=0.23999999999999996)), 'rouge2': AggregateScore(low=Score(precision=0.061224489795918366, recall=0.125, fmeasure=0.0821917808219178), mid=Score(precision=0.061224489795918366, recall=0.125, fmeasure=0.0821917808219178), high=Score(precision=0.061224489795918366, recall=0.125, fmeasure=0.0821917808219178)), 'rougeL': AggregateScore(low=Score(precision=0.14, recall=0.28, fmeasure=0.18666666666666668), mid=Score(precision=0.14, recall=0.28, fmeasure=0.18666666666666668), high=Score(precision=0.14, recall=0.28, fmeasure=0.18666666666666668)), 'rougeLsum': AggregateScore(low=Score(precision=0.14, recall=0.28, fmeasure=0.18666666666666668), mid=Score(precision=0.14, recall=0.28, fmeasure=0.18666666666666668), high=Score(precision=0.14, recall=0.28, fmeasure=0.18666666666666668))}\n",
      "\n",
      "================================================================================\n",
      "\n",
      "Article 312 ROUGE scores:\n",
      "{'rouge1': AggregateScore(low=Score(precision=0.5625, recall=0.5142857142857142, fmeasure=0.5373134328358209), mid=Score(precision=0.5625, recall=0.5142857142857142, fmeasure=0.5373134328358209), high=Score(precision=0.5625, recall=0.5142857142857142, fmeasure=0.5373134328358209)), 'rouge2': AggregateScore(low=Score(precision=0.1935483870967742, recall=0.17647058823529413, fmeasure=0.18461538461538463), mid=Score(precision=0.1935483870967742, recall=0.17647058823529413, fmeasure=0.18461538461538463), high=Score(precision=0.1935483870967742, recall=0.17647058823529413, fmeasure=0.18461538461538463)), 'rougeL': AggregateScore(low=Score(precision=0.4375, recall=0.4, fmeasure=0.41791044776119407), mid=Score(precision=0.4375, recall=0.4, fmeasure=0.41791044776119407), high=Score(precision=0.4375, recall=0.4, fmeasure=0.41791044776119407)), 'rougeLsum': AggregateScore(low=Score(precision=0.4375, recall=0.4, fmeasure=0.41791044776119407), mid=Score(precision=0.4375, recall=0.4, fmeasure=0.41791044776119407), high=Score(precision=0.4375, recall=0.4, fmeasure=0.41791044776119407))}\n",
      "\n",
      "================================================================================\n",
      "\n",
      "Article 313 ROUGE scores:\n",
      "{'rouge1': AggregateScore(low=Score(precision=0.0, recall=0.0, fmeasure=0.0), mid=Score(precision=0.0, recall=0.0, fmeasure=0.0), high=Score(precision=0.0, recall=0.0, fmeasure=0.0)), 'rouge2': AggregateScore(low=Score(precision=0.0, recall=0.0, fmeasure=0.0), mid=Score(precision=0.0, recall=0.0, fmeasure=0.0), high=Score(precision=0.0, recall=0.0, fmeasure=0.0)), 'rougeL': AggregateScore(low=Score(precision=0.0, recall=0.0, fmeasure=0.0), mid=Score(precision=0.0, recall=0.0, fmeasure=0.0), high=Score(precision=0.0, recall=0.0, fmeasure=0.0)), 'rougeLsum': AggregateScore(low=Score(precision=0.0, recall=0.0, fmeasure=0.0), mid=Score(precision=0.0, recall=0.0, fmeasure=0.0), high=Score(precision=0.0, recall=0.0, fmeasure=0.0))}\n",
      "\n",
      "================================================================================\n",
      "\n",
      "Article 314 ROUGE scores:\n",
      "{'rouge1': AggregateScore(low=Score(precision=0.23636363636363636, recall=0.43333333333333335, fmeasure=0.3058823529411765), mid=Score(precision=0.23636363636363636, recall=0.43333333333333335, fmeasure=0.3058823529411765), high=Score(precision=0.23636363636363636, recall=0.43333333333333335, fmeasure=0.3058823529411765)), 'rouge2': AggregateScore(low=Score(precision=0.12962962962962962, recall=0.2413793103448276, fmeasure=0.1686746987951807), mid=Score(precision=0.12962962962962962, recall=0.2413793103448276, fmeasure=0.1686746987951807), high=Score(precision=0.12962962962962962, recall=0.2413793103448276, fmeasure=0.1686746987951807)), 'rougeL': AggregateScore(low=Score(precision=0.16363636363636364, recall=0.3, fmeasure=0.21176470588235294), mid=Score(precision=0.16363636363636364, recall=0.3, fmeasure=0.21176470588235294), high=Score(precision=0.16363636363636364, recall=0.3, fmeasure=0.21176470588235294)), 'rougeLsum': AggregateScore(low=Score(precision=0.16363636363636364, recall=0.3, fmeasure=0.21176470588235294), mid=Score(precision=0.16363636363636364, recall=0.3, fmeasure=0.21176470588235294), high=Score(precision=0.16363636363636364, recall=0.3, fmeasure=0.21176470588235294))}\n",
      "\n",
      "================================================================================\n",
      "\n",
      "Article 315 ROUGE scores:\n",
      "{'rouge1': AggregateScore(low=Score(precision=0.28205128205128205, recall=0.5238095238095238, fmeasure=0.36666666666666664), mid=Score(precision=0.28205128205128205, recall=0.5238095238095238, fmeasure=0.36666666666666664), high=Score(precision=0.28205128205128205, recall=0.5238095238095238, fmeasure=0.36666666666666664)), 'rouge2': AggregateScore(low=Score(precision=0.10526315789473684, recall=0.2, fmeasure=0.13793103448275862), mid=Score(precision=0.10526315789473684, recall=0.2, fmeasure=0.13793103448275862), high=Score(precision=0.10526315789473684, recall=0.2, fmeasure=0.13793103448275862)), 'rougeL': AggregateScore(low=Score(precision=0.20512820512820512, recall=0.38095238095238093, fmeasure=0.26666666666666666), mid=Score(precision=0.20512820512820512, recall=0.38095238095238093, fmeasure=0.26666666666666666), high=Score(precision=0.20512820512820512, recall=0.38095238095238093, fmeasure=0.26666666666666666)), 'rougeLsum': AggregateScore(low=Score(precision=0.20512820512820512, recall=0.38095238095238093, fmeasure=0.26666666666666666), mid=Score(precision=0.20512820512820512, recall=0.38095238095238093, fmeasure=0.26666666666666666), high=Score(precision=0.20512820512820512, recall=0.38095238095238093, fmeasure=0.26666666666666666))}\n",
      "\n",
      "================================================================================\n",
      "\n",
      "Article 316 ROUGE scores:\n",
      "{'rouge1': AggregateScore(low=Score(precision=0.12903225806451613, recall=0.16666666666666666, fmeasure=0.14545454545454548), mid=Score(precision=0.12903225806451613, recall=0.16666666666666666, fmeasure=0.14545454545454548), high=Score(precision=0.12903225806451613, recall=0.16666666666666666, fmeasure=0.14545454545454548)), 'rouge2': AggregateScore(low=Score(precision=0.0, recall=0.0, fmeasure=0.0), mid=Score(precision=0.0, recall=0.0, fmeasure=0.0), high=Score(precision=0.0, recall=0.0, fmeasure=0.0)), 'rougeL': AggregateScore(low=Score(precision=0.12903225806451613, recall=0.16666666666666666, fmeasure=0.14545454545454548), mid=Score(precision=0.12903225806451613, recall=0.16666666666666666, fmeasure=0.14545454545454548), high=Score(precision=0.12903225806451613, recall=0.16666666666666666, fmeasure=0.14545454545454548)), 'rougeLsum': AggregateScore(low=Score(precision=0.12903225806451613, recall=0.16666666666666666, fmeasure=0.14545454545454548), mid=Score(precision=0.12903225806451613, recall=0.16666666666666666, fmeasure=0.14545454545454548), high=Score(precision=0.12903225806451613, recall=0.16666666666666666, fmeasure=0.14545454545454548))}\n",
      "\n",
      "================================================================================\n",
      "\n",
      "Article 317 ROUGE scores:\n",
      "{'rouge1': AggregateScore(low=Score(precision=0.32075471698113206, recall=0.3953488372093023, fmeasure=0.3541666666666667), mid=Score(precision=0.32075471698113206, recall=0.3953488372093023, fmeasure=0.3541666666666667), high=Score(precision=0.32075471698113206, recall=0.3953488372093023, fmeasure=0.3541666666666667)), 'rouge2': AggregateScore(low=Score(precision=0.057692307692307696, recall=0.07142857142857142, fmeasure=0.06382978723404256), mid=Score(precision=0.057692307692307696, recall=0.07142857142857142, fmeasure=0.06382978723404256), high=Score(precision=0.057692307692307696, recall=0.07142857142857142, fmeasure=0.06382978723404256)), 'rougeL': AggregateScore(low=Score(precision=0.1509433962264151, recall=0.18604651162790697, fmeasure=0.16666666666666666), mid=Score(precision=0.1509433962264151, recall=0.18604651162790697, fmeasure=0.16666666666666666), high=Score(precision=0.1509433962264151, recall=0.18604651162790697, fmeasure=0.16666666666666666)), 'rougeLsum': AggregateScore(low=Score(precision=0.1509433962264151, recall=0.18604651162790697, fmeasure=0.16666666666666666), mid=Score(precision=0.1509433962264151, recall=0.18604651162790697, fmeasure=0.16666666666666666), high=Score(precision=0.1509433962264151, recall=0.18604651162790697, fmeasure=0.16666666666666666))}\n",
      "\n",
      "================================================================================\n",
      "\n",
      "Article 318 ROUGE scores:\n",
      "{'rouge1': AggregateScore(low=Score(precision=0.42, recall=0.45652173913043476, fmeasure=0.43749999999999994), mid=Score(precision=0.42, recall=0.45652173913043476, fmeasure=0.43749999999999994), high=Score(precision=0.42, recall=0.45652173913043476, fmeasure=0.43749999999999994)), 'rouge2': AggregateScore(low=Score(precision=0.22448979591836735, recall=0.24444444444444444, fmeasure=0.23404255319148937), mid=Score(precision=0.22448979591836735, recall=0.24444444444444444, fmeasure=0.23404255319148937), high=Score(precision=0.22448979591836735, recall=0.24444444444444444, fmeasure=0.23404255319148937)), 'rougeL': AggregateScore(low=Score(precision=0.32, recall=0.34782608695652173, fmeasure=0.3333333333333333), mid=Score(precision=0.32, recall=0.34782608695652173, fmeasure=0.3333333333333333), high=Score(precision=0.32, recall=0.34782608695652173, fmeasure=0.3333333333333333)), 'rougeLsum': AggregateScore(low=Score(precision=0.32, recall=0.34782608695652173, fmeasure=0.3333333333333333), mid=Score(precision=0.32, recall=0.34782608695652173, fmeasure=0.3333333333333333), high=Score(precision=0.32, recall=0.34782608695652173, fmeasure=0.3333333333333333))}\n",
      "\n",
      "================================================================================\n",
      "\n",
      "Article 319 ROUGE scores:\n",
      "{'rouge1': AggregateScore(low=Score(precision=0.26153846153846155, recall=0.3148148148148148, fmeasure=0.2857142857142857), mid=Score(precision=0.26153846153846155, recall=0.3148148148148148, fmeasure=0.2857142857142857), high=Score(precision=0.26153846153846155, recall=0.3148148148148148, fmeasure=0.2857142857142857)), 'rouge2': AggregateScore(low=Score(precision=0.09375, recall=0.11320754716981132, fmeasure=0.10256410256410257), mid=Score(precision=0.09375, recall=0.11320754716981132, fmeasure=0.10256410256410257), high=Score(precision=0.09375, recall=0.11320754716981132, fmeasure=0.10256410256410257)), 'rougeL': AggregateScore(low=Score(precision=0.16923076923076924, recall=0.2037037037037037, fmeasure=0.18487394957983194), mid=Score(precision=0.16923076923076924, recall=0.2037037037037037, fmeasure=0.18487394957983194), high=Score(precision=0.16923076923076924, recall=0.2037037037037037, fmeasure=0.18487394957983194)), 'rougeLsum': AggregateScore(low=Score(precision=0.16923076923076924, recall=0.2037037037037037, fmeasure=0.18487394957983194), mid=Score(precision=0.16923076923076924, recall=0.2037037037037037, fmeasure=0.18487394957983194), high=Score(precision=0.16923076923076924, recall=0.2037037037037037, fmeasure=0.18487394957983194))}\n",
      "\n",
      "================================================================================\n",
      "\n",
      "Article 320 ROUGE scores:\n",
      "{'rouge1': AggregateScore(low=Score(precision=0.2127659574468085, recall=0.4166666666666667, fmeasure=0.28169014084507044), mid=Score(precision=0.2127659574468085, recall=0.4166666666666667, fmeasure=0.28169014084507044), high=Score(precision=0.2127659574468085, recall=0.4166666666666667, fmeasure=0.28169014084507044)), 'rouge2': AggregateScore(low=Score(precision=0.08695652173913043, recall=0.17391304347826086, fmeasure=0.11594202898550723), mid=Score(precision=0.08695652173913043, recall=0.17391304347826086, fmeasure=0.11594202898550723), high=Score(precision=0.08695652173913043, recall=0.17391304347826086, fmeasure=0.11594202898550723)), 'rougeL': AggregateScore(low=Score(precision=0.14893617021276595, recall=0.2916666666666667, fmeasure=0.19718309859154928), mid=Score(precision=0.14893617021276595, recall=0.2916666666666667, fmeasure=0.19718309859154928), high=Score(precision=0.14893617021276595, recall=0.2916666666666667, fmeasure=0.19718309859154928)), 'rougeLsum': AggregateScore(low=Score(precision=0.14893617021276595, recall=0.2916666666666667, fmeasure=0.19718309859154928), mid=Score(precision=0.14893617021276595, recall=0.2916666666666667, fmeasure=0.19718309859154928), high=Score(precision=0.14893617021276595, recall=0.2916666666666667, fmeasure=0.19718309859154928))}\n",
      "\n",
      "================================================================================\n",
      "\n",
      "Article 321 ROUGE scores:\n",
      "{'rouge1': AggregateScore(low=Score(precision=0.12280701754385964, recall=0.20588235294117646, fmeasure=0.15384615384615385), mid=Score(precision=0.12280701754385964, recall=0.20588235294117646, fmeasure=0.15384615384615385), high=Score(precision=0.12280701754385964, recall=0.20588235294117646, fmeasure=0.15384615384615385)), 'rouge2': AggregateScore(low=Score(precision=0.017857142857142856, recall=0.030303030303030304, fmeasure=0.02247191011235955), mid=Score(precision=0.017857142857142856, recall=0.030303030303030304, fmeasure=0.02247191011235955), high=Score(precision=0.017857142857142856, recall=0.030303030303030304, fmeasure=0.02247191011235955)), 'rougeL': AggregateScore(low=Score(precision=0.07017543859649122, recall=0.11764705882352941, fmeasure=0.0879120879120879), mid=Score(precision=0.07017543859649122, recall=0.11764705882352941, fmeasure=0.0879120879120879), high=Score(precision=0.07017543859649122, recall=0.11764705882352941, fmeasure=0.0879120879120879)), 'rougeLsum': AggregateScore(low=Score(precision=0.07017543859649122, recall=0.11764705882352941, fmeasure=0.0879120879120879), mid=Score(precision=0.07017543859649122, recall=0.11764705882352941, fmeasure=0.0879120879120879), high=Score(precision=0.07017543859649122, recall=0.11764705882352941, fmeasure=0.0879120879120879))}\n",
      "\n",
      "================================================================================\n",
      "\n",
      "Article 322 ROUGE scores:\n",
      "{'rouge1': AggregateScore(low=Score(precision=0.1956521739130435, recall=0.3103448275862069, fmeasure=0.24), mid=Score(precision=0.1956521739130435, recall=0.3103448275862069, fmeasure=0.24), high=Score(precision=0.1956521739130435, recall=0.3103448275862069, fmeasure=0.24)), 'rouge2': AggregateScore(low=Score(precision=0.08888888888888889, recall=0.14285714285714285, fmeasure=0.1095890410958904), mid=Score(precision=0.08888888888888889, recall=0.14285714285714285, fmeasure=0.1095890410958904), high=Score(precision=0.08888888888888889, recall=0.14285714285714285, fmeasure=0.1095890410958904)), 'rougeL': AggregateScore(low=Score(precision=0.13043478260869565, recall=0.20689655172413793, fmeasure=0.16), mid=Score(precision=0.13043478260869565, recall=0.20689655172413793, fmeasure=0.16), high=Score(precision=0.13043478260869565, recall=0.20689655172413793, fmeasure=0.16)), 'rougeLsum': AggregateScore(low=Score(precision=0.13043478260869565, recall=0.20689655172413793, fmeasure=0.16), mid=Score(precision=0.13043478260869565, recall=0.20689655172413793, fmeasure=0.16), high=Score(precision=0.13043478260869565, recall=0.20689655172413793, fmeasure=0.16))}\n",
      "\n",
      "================================================================================\n",
      "\n",
      "Article 323 ROUGE scores:\n",
      "{'rouge1': AggregateScore(low=Score(precision=0.08974358974358974, recall=0.3333333333333333, fmeasure=0.1414141414141414), mid=Score(precision=0.08974358974358974, recall=0.3333333333333333, fmeasure=0.1414141414141414), high=Score(precision=0.08974358974358974, recall=0.3333333333333333, fmeasure=0.1414141414141414)), 'rouge2': AggregateScore(low=Score(precision=0.025974025974025976, recall=0.1, fmeasure=0.041237113402061855), mid=Score(precision=0.025974025974025976, recall=0.1, fmeasure=0.041237113402061855), high=Score(precision=0.025974025974025976, recall=0.1, fmeasure=0.041237113402061855)), 'rougeL': AggregateScore(low=Score(precision=0.07692307692307693, recall=0.2857142857142857, fmeasure=0.12121212121212123), mid=Score(precision=0.07692307692307693, recall=0.2857142857142857, fmeasure=0.12121212121212123), high=Score(precision=0.07692307692307693, recall=0.2857142857142857, fmeasure=0.12121212121212123)), 'rougeLsum': AggregateScore(low=Score(precision=0.07692307692307693, recall=0.2857142857142857, fmeasure=0.12121212121212123), mid=Score(precision=0.07692307692307693, recall=0.2857142857142857, fmeasure=0.12121212121212123), high=Score(precision=0.07692307692307693, recall=0.2857142857142857, fmeasure=0.12121212121212123))}\n",
      "\n",
      "================================================================================\n",
      "\n",
      "Article 324 ROUGE scores:\n",
      "{'rouge1': AggregateScore(low=Score(precision=0.40540540540540543, recall=0.7317073170731707, fmeasure=0.5217391304347826), mid=Score(precision=0.40540540540540543, recall=0.7317073170731707, fmeasure=0.5217391304347826), high=Score(precision=0.40540540540540543, recall=0.7317073170731707, fmeasure=0.5217391304347826)), 'rouge2': AggregateScore(low=Score(precision=0.273972602739726, recall=0.5, fmeasure=0.35398230088495575), mid=Score(precision=0.273972602739726, recall=0.5, fmeasure=0.35398230088495575), high=Score(precision=0.273972602739726, recall=0.5, fmeasure=0.35398230088495575)), 'rougeL': AggregateScore(low=Score(precision=0.3108108108108108, recall=0.5609756097560976, fmeasure=0.4000000000000001), mid=Score(precision=0.3108108108108108, recall=0.5609756097560976, fmeasure=0.4000000000000001), high=Score(precision=0.3108108108108108, recall=0.5609756097560976, fmeasure=0.4000000000000001)), 'rougeLsum': AggregateScore(low=Score(precision=0.3108108108108108, recall=0.5609756097560976, fmeasure=0.4000000000000001), mid=Score(precision=0.3108108108108108, recall=0.5609756097560976, fmeasure=0.4000000000000001), high=Score(precision=0.3108108108108108, recall=0.5609756097560976, fmeasure=0.4000000000000001))}\n",
      "\n",
      "================================================================================\n",
      "\n",
      "Article 325 ROUGE scores:\n",
      "{'rouge1': AggregateScore(low=Score(precision=0.2982456140350877, recall=0.4722222222222222, fmeasure=0.3655913978494624), mid=Score(precision=0.2982456140350877, recall=0.4722222222222222, fmeasure=0.3655913978494624), high=Score(precision=0.2982456140350877, recall=0.4722222222222222, fmeasure=0.3655913978494624)), 'rouge2': AggregateScore(low=Score(precision=0.07142857142857142, recall=0.11428571428571428, fmeasure=0.0879120879120879), mid=Score(precision=0.07142857142857142, recall=0.11428571428571428, fmeasure=0.0879120879120879), high=Score(precision=0.07142857142857142, recall=0.11428571428571428, fmeasure=0.0879120879120879)), 'rougeL': AggregateScore(low=Score(precision=0.15789473684210525, recall=0.25, fmeasure=0.1935483870967742), mid=Score(precision=0.15789473684210525, recall=0.25, fmeasure=0.1935483870967742), high=Score(precision=0.15789473684210525, recall=0.25, fmeasure=0.1935483870967742)), 'rougeLsum': AggregateScore(low=Score(precision=0.15789473684210525, recall=0.25, fmeasure=0.1935483870967742), mid=Score(precision=0.15789473684210525, recall=0.25, fmeasure=0.1935483870967742), high=Score(precision=0.15789473684210525, recall=0.25, fmeasure=0.1935483870967742))}\n",
      "\n",
      "================================================================================\n",
      "\n",
      "Article 326 ROUGE scores:\n",
      "{'rouge1': AggregateScore(low=Score(precision=0.1509433962264151, recall=0.3076923076923077, fmeasure=0.20253164556962025), mid=Score(precision=0.1509433962264151, recall=0.3076923076923077, fmeasure=0.20253164556962025), high=Score(precision=0.1509433962264151, recall=0.3076923076923077, fmeasure=0.20253164556962025)), 'rouge2': AggregateScore(low=Score(precision=0.0, recall=0.0, fmeasure=0.0), mid=Score(precision=0.0, recall=0.0, fmeasure=0.0), high=Score(precision=0.0, recall=0.0, fmeasure=0.0)), 'rougeL': AggregateScore(low=Score(precision=0.05660377358490566, recall=0.11538461538461539, fmeasure=0.07594936708860758), mid=Score(precision=0.05660377358490566, recall=0.11538461538461539, fmeasure=0.07594936708860758), high=Score(precision=0.05660377358490566, recall=0.11538461538461539, fmeasure=0.07594936708860758)), 'rougeLsum': AggregateScore(low=Score(precision=0.05660377358490566, recall=0.11538461538461539, fmeasure=0.07594936708860758), mid=Score(precision=0.05660377358490566, recall=0.11538461538461539, fmeasure=0.07594936708860758), high=Score(precision=0.05660377358490566, recall=0.11538461538461539, fmeasure=0.07594936708860758))}\n",
      "\n",
      "================================================================================\n",
      "\n"
     ]
    }
   ],
   "source": [
    "!pip install --quiet evaluate\n",
    "import evaluate\n",
    "\n",
    "# Function to calculate and print ROUGE scores for the first few entries\n",
    "def calculate_rouge(df):\n",
    "    for i in range(len(df)):\n",
    "        reference = df.iloc[i]['cleaned_summaries']\n",
    "        hypothesis = df.iloc[i]['bart_summary']\n",
    "        scores = rouge.compute(predictions=[hypothesis], references=[reference])\n",
    "        print(f\"Article {i+1} ROUGE scores:\")\n",
    "        print(scores)\n",
    "        print(\"\\n\" + \"=\"*80 + \"\\n\")\n",
    "\n",
    "calculate_rouge(df_w_summaries)"
   ]
  },
  {
   "cell_type": "code",
   "execution_count": 16,
   "metadata": {},
   "outputs": [
    {
     "data": {
      "text/html": [
       "<div>\n",
       "<style scoped>\n",
       "    .dataframe tbody tr th:only-of-type {\n",
       "        vertical-align: middle;\n",
       "    }\n",
       "\n",
       "    .dataframe tbody tr th {\n",
       "        vertical-align: top;\n",
       "    }\n",
       "\n",
       "    .dataframe thead th {\n",
       "        text-align: right;\n",
       "    }\n",
       "</style>\n",
       "<table border=\"1\" class=\"dataframe\">\n",
       "  <thead>\n",
       "    <tr style=\"text-align: right;\">\n",
       "      <th></th>\n",
       "      <th>cleaned_article</th>\n",
       "      <th>bart_summary</th>\n",
       "      <th>cleaned_summaries</th>\n",
       "    </tr>\n",
       "  </thead>\n",
       "  <tbody>\n",
       "    <tr>\n",
       "      <th>0</th>\n",
       "      <td>police officer pulled shoplifter decided help ...</td>\n",
       "      <td>Police officer pulled shoplifter decided help ...</td>\n",
       "      <td>justin roby london pd kentucky called shoplift...</td>\n",
       "    </tr>\n",
       "    <tr>\n",
       "      <th>1</th>\n",
       "      <td>cnn billed astronomical equivalent large hadro...</td>\n",
       "      <td>Ska international effort build world largest r...</td>\n",
       "      <td>world largest radio telescope uncover secret h...</td>\n",
       "    </tr>\n",
       "    <tr>\n",
       "      <th>2</th>\n",
       "      <td>expert discovered mount snowdon whole metre ta...</td>\n",
       "      <td>mount snowdon whole metre taller originally t...</td>\n",
       "      <td>snowdon one metre taller recognised ordnance s...</td>\n",
       "    </tr>\n",
       "    <tr>\n",
       "      <th>3</th>\n",
       "      <td>lucy waterlow published est july updated est j...</td>\n",
       "      <td>Teenager cramlington northumberland went missi...</td>\n",
       "      <td>teenager appeared morning mother rhonda said h...</td>\n",
       "    </tr>\n",
       "    <tr>\n",
       "      <th>4</th>\n",
       "      <td>man armed kitchen knife rugbytackled ground po...</td>\n",
       "      <td>David belmar haringey north london admitted tr...</td>\n",
       "      <td>david belmar admitted trespass possession blad...</td>\n",
       "    </tr>\n",
       "  </tbody>\n",
       "</table>\n",
       "</div>"
      ],
      "text/plain": [
       "                                     cleaned_article  \\\n",
       "0  police officer pulled shoplifter decided help ...   \n",
       "1  cnn billed astronomical equivalent large hadro...   \n",
       "2  expert discovered mount snowdon whole metre ta...   \n",
       "3  lucy waterlow published est july updated est j...   \n",
       "4  man armed kitchen knife rugbytackled ground po...   \n",
       "\n",
       "                                        bart_summary  \\\n",
       "0  Police officer pulled shoplifter decided help ...   \n",
       "1  Ska international effort build world largest r...   \n",
       "2   mount snowdon whole metre taller originally t...   \n",
       "3  Teenager cramlington northumberland went missi...   \n",
       "4  David belmar haringey north london admitted tr...   \n",
       "\n",
       "                                   cleaned_summaries  \n",
       "0  justin roby london pd kentucky called shoplift...  \n",
       "1  world largest radio telescope uncover secret h...  \n",
       "2  snowdon one metre taller recognised ordnance s...  \n",
       "3  teenager appeared morning mother rhonda said h...  \n",
       "4  david belmar admitted trespass possession blad...  "
      ]
     },
     "execution_count": 16,
     "metadata": {},
     "output_type": "execute_result"
    }
   ],
   "source": [
    "df_w_summaries = pd.read_csv('df_w_summaries.csv')\n",
    "df_w_summaries.head()"
   ]
  },
  {
   "cell_type": "code",
   "execution_count": 19,
   "metadata": {},
   "outputs": [
    {
     "name": "stdout",
     "output_type": "stream",
     "text": [
      "Article 1:\n",
      "police officer pulled shoplifter decided help alleged criminal saw single father trying feed sixmonthold son justin roby detective london police department kentucky called incident supermarket saturday january refused detain man instead bought formula needed let walk free scroll video kind justin roby detective london police department kentucky bought shoplifter baby formula citing court wouldnt done good roby told wkyt he already short money cant afford formula making appear court he still going food baby police officer black white u said officer justin roby there lot gray cipher everything really need figure whole story put situation said black white roby insists police officer show discretion situation help people think well son u think lot people look u see uniform car tool belt roby said behind uniform im human im person community like little boy im father like gentleman robot said there human behind badge\n",
      "\n",
      "BART Summary:\n",
      "Police officer pulled shoplifter decided help alleged criminal saw single father trying feed sixmonthold son justin roby detective london police department kentucky called incident supermarket saturday january refused detain man instead bought formula needed let walk free. Police officer said behind uniform im human im person community like little boy im father like gentleman robot.\n",
      "\n",
      "Reference Summary:\n",
      "justin roby london pd kentucky called shoplifting found single dad trying steal formula baby son detective roby bought baby formula let go\n",
      "\n",
      "Differences:\n",
      "- Police\n",
      "- officer\n",
      "- pulled\n",
      "- shoplifter\n",
      "- decided\n",
      "- help\n",
      "- alleged\n",
      "- criminal\n",
      "- saw\n",
      "- single\n",
      "- father\n",
      "- trying\n",
      "- feed\n",
      "- sixmonthold\n",
      "- son\n",
      "  justin\n",
      "  roby\n",
      "- detective\n",
      "  london\n",
      "+ pd\n",
      "- police\n",
      "- department\n",
      "  kentucky\n",
      "  called\n",
      "- incident\n",
      "- supermarket\n",
      "- saturday\n",
      "- january\n",
      "- refused\n",
      "- detain\n",
      "- man\n",
      "- instead\n",
      "+ shoplifting\n",
      "+ found\n",
      "+ single\n",
      "+ dad\n",
      "+ trying\n",
      "+ steal\n",
      "+ formula\n",
      "+ baby\n",
      "+ son\n",
      "+ detective\n",
      "+ roby\n",
      "  bought\n",
      "+ baby\n",
      "  formula\n",
      "- needed\n",
      "  let\n",
      "+ go\n",
      "- walk\n",
      "- free.\n",
      "- Police\n",
      "- officer\n",
      "- said\n",
      "- behind\n",
      "- uniform\n",
      "- im\n",
      "- human\n",
      "- im\n",
      "- person\n",
      "- community\n",
      "- like\n",
      "- little\n",
      "- boy\n",
      "- im\n",
      "- father\n",
      "- like\n",
      "- gentleman\n",
      "- robot.\n",
      "\n",
      "================================================================================\n",
      "\n",
      "Article 2:\n",
      "cnn billed astronomical equivalent large hadron collider offering new insight formation universe powerful might even detect alien life square kilometer array ska international effort build world largest radio telescope one probe dark heart space shedding new light dark matter black hole star galaxy deep impact way perceive place universe understand history future say michiel van haarlem interim director general ska project know going discover thing havent already going exciting van haarlem said taking name total size collecting area ska telescope consist dish antenna one around meter wide construction slated begin collectively surface area dish amount one square kilometer hence name combining detect radio wave penetrate earth atmosphere emitted star galaxy quasar two type radio receptor aperture antenna array antenna combine dish provide continuous frequency coverage mhz ghz like optical telescope see image sky directly measure signal antenna process van haarlem say around half antenna sit central core region made three separate fivekilometer cluster remainder extend five carefully aligned spiral arm stretching ever sparsely area excess kilometer mile configuration say scientist create sensitive radio telescope ever built currently honor held large array vla new mexico say alastair edge durham university leading uk center astronomical research vla undergone large refit telescope havent changed computing back end changed dramatically edge said see also mapping new era brain research moment simply dont computing power ska telescope perform full tilt edge say van haarlem concurs talking huge computing hardware still need developed there big challenge said supercomputer capable performing billion billion operation per second required result spectacular van haarlem say highresolution image actually peer center going galaxy van haarlem said also big picture make survey vast area sky map largescale structure universe project entering crucial stage announcement array based expected imminently two location one south africa northern cape western australia running brian boyle project director australianew zealand bid extols virtue western australia intrinsic radio quietness excellent geophysics proposed australian site meanwhile ska south africa project director bernie fanaroff say hosting world largest science project would extremely important country continent could carry immense importance perception africa african rest world fanaroff said already attracted lot young people science mathematics south africa african country attracted lot toprate scientist added recent report suggest south africa favorite host ska van haarlem wouldnt drawn matter wherever location effort build operate ska international one country institution already board well private backer whatever outcome bid array running construction slated start four year full operation expected total cost estimated billion around billion money well spent van haarlem think tell u first star galaxy formed would already contributed huge amount understanding alastair edge agrees possibly complex experiment could possibly huge potential allowing u determine distance every galaxy local universe edge said large hadron collider produce certain amount data per hour produce amount data space couple minute\n",
      "\n",
      "BART Summary:\n",
      "Ska international effort build world largest radio telescope one probe dark heart space shedding new light dark matter black hole star galaxy deep impact way perceive place universe understand history future say michiel van haarlem interim director general ska project. cnn billed astronomical equivalent large hadron collider offering new insight formation universe powerful might even detect alien life square kilometer array.\n",
      "\n",
      "Reference Summary:\n",
      "world largest radio telescope uncover secret history future universe extraterrestrial life may also detected square kilometer array telescope dish used array spread massive area south africa australia bidding host project start construction\n",
      "\n",
      "Differences:\n",
      "- Ska\n",
      "- international\n",
      "- effort\n",
      "- build\n",
      "  world\n",
      "  largest\n",
      "  radio\n",
      "  telescope\n",
      "+ uncover\n",
      "+ secret\n",
      "- one\n",
      "- probe\n",
      "- dark\n",
      "- heart\n",
      "- space\n",
      "- shedding\n",
      "- new\n",
      "- light\n",
      "- dark\n",
      "- matter\n",
      "- black\n",
      "- hole\n",
      "- star\n",
      "- galaxy\n",
      "- deep\n",
      "- impact\n",
      "- way\n",
      "- perceive\n",
      "- place\n",
      "- universe\n",
      "- understand\n",
      "  history\n",
      "  future\n",
      "- say\n",
      "- michiel\n",
      "- van\n",
      "- haarlem\n",
      "- interim\n",
      "- director\n",
      "- general\n",
      "- ska\n",
      "- project.\n",
      "- cnn\n",
      "- billed\n",
      "- astronomical\n",
      "- equivalent\n",
      "- large\n",
      "- hadron\n",
      "- collider\n",
      "- offering\n",
      "- new\n",
      "- insight\n",
      "- formation\n",
      "  universe\n",
      "+ extraterrestrial\n",
      "- powerful\n",
      "- might\n",
      "- even\n",
      "- detect\n",
      "- alien\n",
      "  life\n",
      "+ may\n",
      "+ also\n",
      "+ detected\n",
      "  square\n",
      "  kilometer\n",
      "- array.\n",
      "?      -\n",
      "\n",
      "+ array\n",
      "+ telescope\n",
      "+ dish\n",
      "+ used\n",
      "+ array\n",
      "+ spread\n",
      "+ massive\n",
      "+ area\n",
      "+ south\n",
      "+ africa\n",
      "+ australia\n",
      "+ bidding\n",
      "+ host\n",
      "+ project\n",
      "+ start\n",
      "+ construction\n",
      "\n",
      "================================================================================\n",
      "\n",
      "Article 3:\n",
      "expert discovered mount snowdon whole metre taller originally thought three rambler john barnard graham jackson myrddyn phillips remeasured uk second tallest mountain using stateofthe art gps technology found actually stand recognised ordnance survey o however o altering map natural summit welsh peak still although manmade plinth erected mark top added extra metre scroll video mount snowdon second tallest mountain united kingdom three rambler learned fact metre higher recorded ordnance survey graham jackson john barnard second right right pictured two rambler measured mount snowdon found actually metre higher ordnance survey record village llanberis bottom right lie shadow mount snowdon top left addition mean hillwalkers ascend snowdon every year physically climb reach top mr hughes said survey snowdon accumulated six hour data later postprocessed using ordnance survey state art software gave result rounded john barnard right switch leica g gather first two set three hour data needed measure exact height mount snowdon result mean highest part natural summit tor buried summit plinth approximately high although natural bedrock ordnance survey map height remain mean thousand hill walker struggle think mountain height affect climbing one extra metre arriving top snowdon peering land early morning vigil discover exact height snowdon left right aled llyr graham jackson mark greave john barnard stephen edward aerial view manmade plinth erected mark top added extra metre mountaineer sir chris bonington hold olympic torch summit mount snowdon may mr barnard mr jackson retired research chemist mold north wale cheshire respectively mr hughes former manager printing firm life near shrewsbury measured hill england scotland wale since elevated two hill mountain status england wale classed ft measured mynydd graig goch snowdonia ft six inch ft upgraded thack moor cumbrian penines ft ft precise international definition constitutes mountain ordnance survey accepts local tradition name however generally agreed minimum height ft sir george everest measured mount everest found exactly ft high thought one would believe recorded ft various subsequent measuring mountain listed ft high\n",
      "\n",
      "BART Summary:\n",
      " mount snowdon whole metre taller originally thought three rambler john barnard graham jackson myrddyn phillips remeasured uk second tallest mountain using stateofthe art gps technology. Mount snowdon accumulated six hour data later postprocessed using ordnance survey state art software.\n",
      "\n",
      "Reference Summary:\n",
      "snowdon one metre taller recognised ordnance survey o extra metre caused manmade plinth installed o changing record natural summit still rambler measured hill britain since elevated two hill mountain status\n",
      "\n",
      "Differences:\n",
      "- mount\n",
      "  snowdon\n",
      "- whole\n",
      "+ one\n",
      "  metre\n",
      "  taller\n",
      "+ recognised\n",
      "- originally\n",
      "- thought\n",
      "- three\n",
      "- rambler\n",
      "- john\n",
      "- barnard\n",
      "- graham\n",
      "- jackson\n",
      "- myrddyn\n",
      "- phillips\n",
      "- remeasured\n",
      "- uk\n",
      "- second\n",
      "- tallest\n",
      "- mountain\n",
      "- using\n",
      "- stateofthe\n",
      "- art\n",
      "- gps\n",
      "- technology.\n",
      "- Mount\n",
      "- snowdon\n",
      "- accumulated\n",
      "- six\n",
      "- hour\n",
      "- data\n",
      "- later\n",
      "- postprocessed\n",
      "- using\n",
      "  ordnance\n",
      "  survey\n",
      "- state\n",
      "- art\n",
      "- software.\n",
      "+ o\n",
      "+ extra\n",
      "+ metre\n",
      "+ caused\n",
      "+ manmade\n",
      "+ plinth\n",
      "+ installed\n",
      "+ o\n",
      "+ changing\n",
      "+ record\n",
      "+ natural\n",
      "+ summit\n",
      "+ still\n",
      "+ rambler\n",
      "+ measured\n",
      "+ hill\n",
      "+ britain\n",
      "+ since\n",
      "+ elevated\n",
      "+ two\n",
      "+ hill\n",
      "+ mountain\n",
      "+ status\n",
      "\n",
      "================================================================================\n",
      "\n",
      "Article 4:\n",
      "lucy waterlow published est july updated est july runaway school girl faye jones gave first tv interview today revealed feel ashamed behaviour must take responsibility selfish outburst teenager cramlington northumberland went missing earlier week fleeing mother murat ertani holiday turkish holiday resort marmaris found police four day later trying hitch ride mile last seen reunited distraught mother rhonda right away back uk pair appeared itvs morning scroll video moment madness teenager faye jones said didnt know ran away murat ertani bad behaviour morning teen said shes ashamed put mother rhonda right faye saw video clip mother desperate appeal find daughter said awful see reaction disappearing act explained woke didnt plan run away planned done half hour faye said argued mother returning uk wanted stay turkey grandmother rhonda said concerned daughter proximity seen slap another girl bar want leave faye behind couldnt leave knowing could rhonda said faye vented anguish messaging facebook complaining leave told didnt long outside hotel car sympathy presenter emma bunton said must scary time rhonda got car thrill time crazy admitted didnt really know rhonda said chased car road tankini flip flop rushed police station report daughter missing said calmed beside never dreamt would something like shes always really good homely girl character presenter emma bunton sympathised saying must scary mother worry much asked former spice girl didnt contact mother let know safe faye said later hoping found ashamed ring home knew would forgive ashamed knew must going selfish outburst dont really know took smiling mother said wont returning turkey asked managed day run said didnt money sold gold ring got u food get apart money stayed different horrible place didnt much eat enough keep going turkish waiter prison six time released police faye decided press charge said sex force run away explained went willingly idea even though he older people say know better also fault take responsibility dont think go jail charge faye said wouldnt right ertani go jail idea run away photo already emerged back prowl marmaris revealed yesterday unrepentant reported said english girl easy claimed would run away faye another english girl long turkish age consent love girl next said leaf always another one girl love bad boy girl get boring stay one week however rhonda said wont putting daughter situation wont going back turkey said\n",
      "\n",
      "BART Summary:\n",
      "Teenager cramlington northumberland went missing earlier week fleeing mother murat ertani holiday turkish holiday resort marmaris found police four day later trying hitch ride mile last seen reunited distraught mother rhonda right away back uk pair appeared itvs morning scroll video moment madness teenager faye jones said didnt know ran away.\n",
      "\n",
      "Reference Summary:\n",
      "teenager appeared morning mother rhonda said hadnt planned run away selfish outburst getting murat ertanis car thrill later became ashamed ring home wanted found\n",
      "\n",
      "Differences:\n",
      "- Teenager\n",
      "? ^\n",
      "\n",
      "+ teenager\n",
      "? ^\n",
      "\n",
      "+ appeared\n",
      "+ morning\n",
      "- cramlington\n",
      "- northumberland\n",
      "- went\n",
      "- missing\n",
      "- earlier\n",
      "- week\n",
      "- fleeing\n",
      "- mother\n",
      "- murat\n",
      "- ertani\n",
      "- holiday\n",
      "- turkish\n",
      "- holiday\n",
      "- resort\n",
      "- marmaris\n",
      "- found\n",
      "- police\n",
      "- four\n",
      "- day\n",
      "- later\n",
      "- trying\n",
      "- hitch\n",
      "- ride\n",
      "- mile\n",
      "- last\n",
      "- seen\n",
      "- reunited\n",
      "- distraught\n",
      "  mother\n",
      "  rhonda\n",
      "- right\n",
      "+ said\n",
      "+ hadnt\n",
      "+ planned\n",
      "+ run\n",
      "  away\n",
      "+ selfish\n",
      "+ outburst\n",
      "+ getting\n",
      "+ murat\n",
      "+ ertanis\n",
      "+ car\n",
      "+ thrill\n",
      "+ later\n",
      "+ became\n",
      "+ ashamed\n",
      "+ ring\n",
      "+ home\n",
      "+ wanted\n",
      "+ found\n",
      "- back\n",
      "- uk\n",
      "- pair\n",
      "- appeared\n",
      "- itvs\n",
      "- morning\n",
      "- scroll\n",
      "- video\n",
      "- moment\n",
      "- madness\n",
      "- teenager\n",
      "- faye\n",
      "- jones\n",
      "- said\n",
      "- didnt\n",
      "- know\n",
      "- ran\n",
      "- away.\n",
      "\n",
      "================================================================================\n",
      "\n",
      "Article 5:\n",
      "man armed kitchen knife rugbytackled ground police outside buckingham palace attempted see queen painted many picture royal family david belmar haringey north london admitted trespass possession bladed article tried run palace north centre gate monday court heard yesterday police searched belmar bringing ground found kitchen knife wrapped plastic bag jacket pocket yearold posted gallery painting including portrait queen kate middleton prince charles princess anne scroll video portrait duchess cambridge painted buckingham palace intruder david belmar belmar said wanted talk queen benefit painted portrait posted online david belmar painted series portrait including pencil drawing also painted mona lisa piccadilly circus also included portrait piccadilly circus mona lisa jesus christ selfportraits facebook gallery posted photograph wearing shirt say artist simple painting pencil drawing also depict barack obama arnold schwarzenegger mother artist wanted discus benefit queen court heard yesterday edward aydin prosecuting told westminster magistrate court central london police custody said police wanted see queen im happy benefit david belmar painted picture jesus picture also painted picture various celebrity iconic landmark added belmar mental health issue fixation queen received caution lighting firework throwing ground buckingham palace queen building time incident buckingham palace said district judge quentin purdy adjourned sentencing presentence report could carried remanded belmar custody sentenced southwark crown court date set belmar appeared court wearing black jumper umbro logo blue jean went front buckingham palace mr aydin said told court mr belmar seen suddenly break run royal incident police outside buckingham palace yearold tried get knife arrest intruder sprinted via north gate pictured guarded police open car around turned ground palace jumped vehicle barrier putting foot barrier said mr aydin two police officer armed one shouted stop continued run see he quite large man rugby tackled ground wouldnt stop police called two occasion added officer rushed help apprehend belmar number child gate palace watching incident unfolding court heard armed guard stop said mr aydin could fired upon people could hurt risk form disorder outside palace belmar care mental health service life father brother sat court public gallery today hearing relief queen elizabeth ii pictured last week home security alert happened mr aydin said belmar man long history mental illness danger added behaviour morning yesterday unpredictable danger public carrying knife central london danger queen robert katz defending denied belmar fixation queen buckingham palace claimed said client incapacity benefit past year stopped assessed september mr katz said became upset decision didnt know going cope added belmar brandish knife going use wanted draw publicity happened belmar admitted trespass protected site possession bladed pointed article number previous conviction including actual bodily harm criminal damage sky news fly scene moment arrest interest tourist crowd area take photograph armed yearold wrestled floor mr aydin told court belmar becomes violent taking medication mental health problem district judge purdy said case serious dealt magistrate court given past conviction making decision remand belmar custody accepted living community prescription medication added something clearly gone wrong could go wrong yesterday granted bail real risk properly assessed perhaps medication prescribed danger others last month separate security incident sparked palace suspected burglar got building scaling fence found around pm september room open public day second man arrested outside palace suspicion conspiracy commit burglary le hour later amid heightened security two police officer confronted duke york palace garden demanding know scotland yard later issued public apology duke response issued statement saying protection officer difficult job grateful force apologised sorry currently accepting comment article\n",
      "\n",
      "BART Summary:\n",
      "David belmar haringey north london admitted trespass possession bladed article tried run palace north centre gate monday court heard yesterday police searched belmar bringing ground found kitchen knife wrapped plastic bag jacket pocket yearold posted gallery painting including portrait queen kate middleton prince charles princess anne scroll video portrait duchess cambridge painted buckingham palace intruder. man armed kitchen knife rugbytackled ground police outside Buckingham palace attempted see queen painted many picture royal family.\n",
      "\n",
      "Reference Summary:\n",
      "david belmar admitted trespass possession bladed article watched tourist tried run palace north centre gate police found kitchen knife wrapped plastic bag jacket pocket lit firework threw buckingham palace ground paint picture queen kate middleton mother politician\n",
      "\n",
      "Differences:\n",
      "- David\n",
      "? ^\n",
      "\n",
      "+ david\n",
      "? ^\n",
      "\n",
      "  belmar\n",
      "- haringey\n",
      "- north\n",
      "- london\n",
      "  admitted\n",
      "  trespass\n",
      "  possession\n",
      "  bladed\n",
      "  article\n",
      "+ watched\n",
      "+ tourist\n",
      "  tried\n",
      "  run\n",
      "  palace\n",
      "  north\n",
      "  centre\n",
      "  gate\n",
      "- monday\n",
      "- court\n",
      "- heard\n",
      "- yesterday\n",
      "  police\n",
      "- searched\n",
      "- belmar\n",
      "- bringing\n",
      "- ground\n",
      "  found\n",
      "  kitchen\n",
      "  knife\n",
      "  wrapped\n",
      "  plastic\n",
      "  bag\n",
      "  jacket\n",
      "  pocket\n",
      "- yearold\n",
      "- posted\n",
      "- gallery\n",
      "+ lit\n",
      "+ firework\n",
      "+ threw\n",
      "+ buckingham\n",
      "+ palace\n",
      "+ ground\n",
      "- painting\n",
      "?      ---\n",
      "\n",
      "+ paint\n",
      "+ picture\n",
      "- including\n",
      "- portrait\n",
      "  queen\n",
      "  kate\n",
      "  middleton\n",
      "+ mother\n",
      "+ politician\n",
      "- prince\n",
      "- charles\n",
      "- princess\n",
      "- anne\n",
      "- scroll\n",
      "- video\n",
      "- portrait\n",
      "- duchess\n",
      "- cambridge\n",
      "- painted\n",
      "- buckingham\n",
      "- palace\n",
      "- intruder.\n",
      "- man\n",
      "- armed\n",
      "- kitchen\n",
      "- knife\n",
      "- rugbytackled\n",
      "- ground\n",
      "- police\n",
      "- outside\n",
      "- Buckingham\n",
      "- palace\n",
      "- attempted\n",
      "- see\n",
      "- queen\n",
      "- painted\n",
      "- many\n",
      "- picture\n",
      "- royal\n",
      "- family.\n",
      "\n",
      "================================================================================\n",
      "\n"
     ]
    }
   ],
   "source": [
    "import difflib\n",
    "\n",
    "def highlight_differences(text1, text2):\n",
    "    d = difflib.Differ()\n",
    "    diff = d.compare(text1.split(), text2.split())\n",
    "    return '\\n'.join(diff)\n",
    "\n",
    "# Display differences for the first few entries\n",
    "for i in range(5):\n",
    "    print(f\"Article {i+1}:\\n{df_w_summaries.iloc[i]['cleaned_article']}\\n\")\n",
    "    print(f\"BART Summary:\\n{df_w_summaries.iloc[i]['bart_summary']}\\n\")\n",
    "    print(f\"Reference Summary:\\n{df_w_summaries.iloc[i]['cleaned_summaries']}\\n\")\n",
    "    print(\"Differences:\")\n",
    "    print(highlight_differences(df_w_summaries.iloc[i]['bart_summary'], df_w_summaries.iloc[i]['cleaned_summaries']))\n",
    "    print(\"\\n\" + \"=\"*80 + \"\\n\")\n"
   ]
  },
  {
   "cell_type": "code",
   "execution_count": 18,
   "metadata": {},
   "outputs": [
    {
     "ename": "KeyError",
     "evalue": "'cleaned_article'",
     "output_type": "error",
     "traceback": [
      "\u001b[0;31m---------------------------------------------------------------------------\u001b[0m",
      "\u001b[0;31mKeyError\u001b[0m                                  Traceback (most recent call last)",
      "File \u001b[0;32m/opt/conda/lib/python3.10/site-packages/pandas/core/indexes/base.py:3805\u001b[0m, in \u001b[0;36mIndex.get_loc\u001b[0;34m(self, key)\u001b[0m\n\u001b[1;32m   3804\u001b[0m \u001b[38;5;28;01mtry\u001b[39;00m:\n\u001b[0;32m-> 3805\u001b[0m     \u001b[38;5;28;01mreturn\u001b[39;00m \u001b[38;5;28;43mself\u001b[39;49m\u001b[38;5;241;43m.\u001b[39;49m\u001b[43m_engine\u001b[49m\u001b[38;5;241;43m.\u001b[39;49m\u001b[43mget_loc\u001b[49m\u001b[43m(\u001b[49m\u001b[43mcasted_key\u001b[49m\u001b[43m)\u001b[49m\n\u001b[1;32m   3806\u001b[0m \u001b[38;5;28;01mexcept\u001b[39;00m \u001b[38;5;167;01mKeyError\u001b[39;00m \u001b[38;5;28;01mas\u001b[39;00m err:\n",
      "File \u001b[0;32mindex.pyx:167\u001b[0m, in \u001b[0;36mpandas._libs.index.IndexEngine.get_loc\u001b[0;34m()\u001b[0m\n",
      "File \u001b[0;32mindex.pyx:196\u001b[0m, in \u001b[0;36mpandas._libs.index.IndexEngine.get_loc\u001b[0;34m()\u001b[0m\n",
      "File \u001b[0;32mpandas/_libs/hashtable_class_helper.pxi:7081\u001b[0m, in \u001b[0;36mpandas._libs.hashtable.PyObjectHashTable.get_item\u001b[0;34m()\u001b[0m\n",
      "File \u001b[0;32mpandas/_libs/hashtable_class_helper.pxi:7089\u001b[0m, in \u001b[0;36mpandas._libs.hashtable.PyObjectHashTable.get_item\u001b[0;34m()\u001b[0m\n",
      "\u001b[0;31mKeyError\u001b[0m: 'cleaned_article'",
      "\nThe above exception was the direct cause of the following exception:\n",
      "\u001b[0;31mKeyError\u001b[0m                                  Traceback (most recent call last)",
      "Cell \u001b[0;32mIn[18], line 10\u001b[0m\n\u001b[1;32m      8\u001b[0m \u001b[38;5;66;03m# Example comparison\u001b[39;00m\n\u001b[1;32m      9\u001b[0m \u001b[38;5;28;01mfor\u001b[39;00m i \u001b[38;5;129;01min\u001b[39;00m \u001b[38;5;28mrange\u001b[39m(\u001b[38;5;28mlen\u001b[39m(df)):\n\u001b[0;32m---> 10\u001b[0m     \u001b[38;5;28mprint\u001b[39m(\u001b[38;5;124mf\u001b[39m\u001b[38;5;124m\"\u001b[39m\u001b[38;5;124mArticle \u001b[39m\u001b[38;5;132;01m{\u001b[39;00mi\u001b[38;5;241m+\u001b[39m\u001b[38;5;241m1\u001b[39m\u001b[38;5;132;01m}\u001b[39;00m\u001b[38;5;124m:\u001b[39m\u001b[38;5;130;01m\\n\u001b[39;00m\u001b[38;5;132;01m{\u001b[39;00m\u001b[43mdf\u001b[49m\u001b[38;5;241;43m.\u001b[39;49m\u001b[43miloc\u001b[49m\u001b[43m[\u001b[49m\u001b[43mi\u001b[49m\u001b[43m]\u001b[49m\u001b[43m[\u001b[49m\u001b[38;5;124;43m'\u001b[39;49m\u001b[38;5;124;43mcleaned_article\u001b[39;49m\u001b[38;5;124;43m'\u001b[39;49m\u001b[43m]\u001b[49m\u001b[38;5;132;01m}\u001b[39;00m\u001b[38;5;130;01m\\n\u001b[39;00m\u001b[38;5;124m\"\u001b[39m)\n\u001b[1;32m     11\u001b[0m     \u001b[38;5;28mprint\u001b[39m(\u001b[38;5;124mf\u001b[39m\u001b[38;5;124m\"\u001b[39m\u001b[38;5;124mBART Summary:\u001b[39m\u001b[38;5;130;01m\\n\u001b[39;00m\u001b[38;5;132;01m{\u001b[39;00mdf\u001b[38;5;241m.\u001b[39miloc[i][\u001b[38;5;124m'\u001b[39m\u001b[38;5;124mbart_summary\u001b[39m\u001b[38;5;124m'\u001b[39m]\u001b[38;5;132;01m}\u001b[39;00m\u001b[38;5;130;01m\\n\u001b[39;00m\u001b[38;5;124m\"\u001b[39m)\n\u001b[1;32m     12\u001b[0m     \u001b[38;5;28mprint\u001b[39m(\u001b[38;5;124mf\u001b[39m\u001b[38;5;124m\"\u001b[39m\u001b[38;5;124mReference Summary:\u001b[39m\u001b[38;5;130;01m\\n\u001b[39;00m\u001b[38;5;132;01m{\u001b[39;00mdf\u001b[38;5;241m.\u001b[39miloc[i][\u001b[38;5;124m'\u001b[39m\u001b[38;5;124mcleaned_summaries\u001b[39m\u001b[38;5;124m'\u001b[39m]\u001b[38;5;132;01m}\u001b[39;00m\u001b[38;5;130;01m\\n\u001b[39;00m\u001b[38;5;124m\"\u001b[39m)\n",
      "File \u001b[0;32m/opt/conda/lib/python3.10/site-packages/pandas/core/series.py:1121\u001b[0m, in \u001b[0;36mSeries.__getitem__\u001b[0;34m(self, key)\u001b[0m\n\u001b[1;32m   1118\u001b[0m     \u001b[38;5;28;01mreturn\u001b[39;00m \u001b[38;5;28mself\u001b[39m\u001b[38;5;241m.\u001b[39m_values[key]\n\u001b[1;32m   1120\u001b[0m \u001b[38;5;28;01melif\u001b[39;00m key_is_scalar:\n\u001b[0;32m-> 1121\u001b[0m     \u001b[38;5;28;01mreturn\u001b[39;00m \u001b[38;5;28;43mself\u001b[39;49m\u001b[38;5;241;43m.\u001b[39;49m\u001b[43m_get_value\u001b[49m\u001b[43m(\u001b[49m\u001b[43mkey\u001b[49m\u001b[43m)\u001b[49m\n\u001b[1;32m   1123\u001b[0m \u001b[38;5;66;03m# Convert generator to list before going through hashable part\u001b[39;00m\n\u001b[1;32m   1124\u001b[0m \u001b[38;5;66;03m# (We will iterate through the generator there to check for slices)\u001b[39;00m\n\u001b[1;32m   1125\u001b[0m \u001b[38;5;28;01mif\u001b[39;00m is_iterator(key):\n",
      "File \u001b[0;32m/opt/conda/lib/python3.10/site-packages/pandas/core/series.py:1237\u001b[0m, in \u001b[0;36mSeries._get_value\u001b[0;34m(self, label, takeable)\u001b[0m\n\u001b[1;32m   1234\u001b[0m     \u001b[38;5;28;01mreturn\u001b[39;00m \u001b[38;5;28mself\u001b[39m\u001b[38;5;241m.\u001b[39m_values[label]\n\u001b[1;32m   1236\u001b[0m \u001b[38;5;66;03m# Similar to Index.get_value, but we do not fall back to positional\u001b[39;00m\n\u001b[0;32m-> 1237\u001b[0m loc \u001b[38;5;241m=\u001b[39m \u001b[38;5;28;43mself\u001b[39;49m\u001b[38;5;241;43m.\u001b[39;49m\u001b[43mindex\u001b[49m\u001b[38;5;241;43m.\u001b[39;49m\u001b[43mget_loc\u001b[49m\u001b[43m(\u001b[49m\u001b[43mlabel\u001b[49m\u001b[43m)\u001b[49m\n\u001b[1;32m   1239\u001b[0m \u001b[38;5;28;01mif\u001b[39;00m is_integer(loc):\n\u001b[1;32m   1240\u001b[0m     \u001b[38;5;28;01mreturn\u001b[39;00m \u001b[38;5;28mself\u001b[39m\u001b[38;5;241m.\u001b[39m_values[loc]\n",
      "File \u001b[0;32m/opt/conda/lib/python3.10/site-packages/pandas/core/indexes/base.py:3812\u001b[0m, in \u001b[0;36mIndex.get_loc\u001b[0;34m(self, key)\u001b[0m\n\u001b[1;32m   3807\u001b[0m     \u001b[38;5;28;01mif\u001b[39;00m \u001b[38;5;28misinstance\u001b[39m(casted_key, \u001b[38;5;28mslice\u001b[39m) \u001b[38;5;129;01mor\u001b[39;00m (\n\u001b[1;32m   3808\u001b[0m         \u001b[38;5;28misinstance\u001b[39m(casted_key, abc\u001b[38;5;241m.\u001b[39mIterable)\n\u001b[1;32m   3809\u001b[0m         \u001b[38;5;129;01mand\u001b[39;00m \u001b[38;5;28many\u001b[39m(\u001b[38;5;28misinstance\u001b[39m(x, \u001b[38;5;28mslice\u001b[39m) \u001b[38;5;28;01mfor\u001b[39;00m x \u001b[38;5;129;01min\u001b[39;00m casted_key)\n\u001b[1;32m   3810\u001b[0m     ):\n\u001b[1;32m   3811\u001b[0m         \u001b[38;5;28;01mraise\u001b[39;00m InvalidIndexError(key)\n\u001b[0;32m-> 3812\u001b[0m     \u001b[38;5;28;01mraise\u001b[39;00m \u001b[38;5;167;01mKeyError\u001b[39;00m(key) \u001b[38;5;28;01mfrom\u001b[39;00m \u001b[38;5;21;01merr\u001b[39;00m\n\u001b[1;32m   3813\u001b[0m \u001b[38;5;28;01mexcept\u001b[39;00m \u001b[38;5;167;01mTypeError\u001b[39;00m:\n\u001b[1;32m   3814\u001b[0m     \u001b[38;5;66;03m# If we have a listlike key, _check_indexing_error will raise\u001b[39;00m\n\u001b[1;32m   3815\u001b[0m     \u001b[38;5;66;03m#  InvalidIndexError. Otherwise we fall through and re-raise\u001b[39;00m\n\u001b[1;32m   3816\u001b[0m     \u001b[38;5;66;03m#  the TypeError.\u001b[39;00m\n\u001b[1;32m   3817\u001b[0m     \u001b[38;5;28mself\u001b[39m\u001b[38;5;241m.\u001b[39m_check_indexing_error(key)\n",
      "\u001b[0;31mKeyError\u001b[0m: 'cleaned_article'"
     ]
    }
   ],
   "source": [
    "import difflib\n",
    "\n",
    "def highlight_differences(text1, text2):\n",
    "    d = difflib.Differ()\n",
    "    diff = d.compare(text1.split(), text2.split())\n",
    "    return '\\n'.join(diff)\n",
    "\n",
    "# Example comparison\n",
    "for i in range(len(df)):\n",
    "    print(f\"Article {i+1}:\\n{df.iloc[i]['cleaned_article']}\\n\")\n",
    "    print(f\"BART Summary:\\n{df.iloc[i]['bart_summary']}\\n\")\n",
    "    print(f\"Reference Summary:\\n{df.iloc[i]['cleaned_summaries']}\\n\")\n",
    "    print(\"Differences:\")\n",
    "    print(highlight_differences(df.iloc[i]['bart_summary'], df.iloc[i]['cleaned_summaries']))\n",
    "    print(\"\\n\" + \"=\"*80 + \"\\n\")\n"
   ]
  },
  {
   "cell_type": "code",
   "execution_count": null,
   "metadata": {},
   "outputs": [],
   "source": []
  }
 ],
 "metadata": {
  "kernelspec": {
   "display_name": "Python 3 ",
   "language": "python",
   "name": "python3"
  },
  "language_info": {
   "codemirror_mode": {
    "name": "ipython",
    "version": 3
   },
   "file_extension": ".py",
   "mimetype": "text/x-python",
   "name": "python",
   "nbconvert_exporter": "python",
   "pygments_lexer": "ipython3",
   "version": "3.10.14"
  }
 },
 "nbformat": 4,
 "nbformat_minor": 4
}
