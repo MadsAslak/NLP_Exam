{
 "cells": [
  {
   "cell_type": "code",
   "execution_count": 1,
   "metadata": {},
   "outputs": [],
   "source": [
    "import pandas as pd"
   ]
  },
  {
   "cell_type": "code",
   "execution_count": 2,
   "metadata": {},
   "outputs": [
    {
     "name": "stdout",
     "output_type": "stream",
     "text": [
      "                                         id  \\\n",
      "0  1211a23db42e7dd52a43e564a899ebbf1b2d1251   \n",
      "1  aff92aa2fc6e294efeeed70e9b0a0aefac32b030   \n",
      "2  bb7757b7bf3d90ec4f1d1915a4699eecafc25d1a   \n",
      "3  8f25b2c54cb563b98e1f2619401df7137a3f0c77   \n",
      "4  daa6ca8fe860fa70bed00e2bfd05ab7414b7cb0e   \n",
      "\n",
      "                                     cleaned_article  \\\n",
      "0  daily mail reporter published est june updated...   \n",
      "1  lizzie parry mailonline young cancer victim to...   \n",
      "2  rebel aided al qaedalinked militant seized con...   \n",
      "3  cnn two right group launched stinging critique...   \n",
      "4  cnn puffing electronic cigarette already nono ...   \n",
      "\n",
      "                                  cleaned_highlights  \n",
      "0  president barack obamas top national security ...  \n",
      "1  sophie walton diagnosed bone cancer discoverin...  \n",
      "2  israeli military closed area around crossing o...  \n",
      "3  new trial resume kremlin critic aleksei navaln...  \n",
      "4  government proposes explicitly ban use electro...  \n"
     ]
    }
   ],
   "source": [
    "data = pd.read_csv('/Users/sebastiansoderberg/Documents/CBS/Master/2nd Semester/NLP/NLP Exam/cleaned_data.csv')\n",
    "print(data.head())"
   ]
  },
  {
   "cell_type": "code",
   "execution_count": 3,
   "metadata": {},
   "outputs": [
    {
     "name": "stdout",
     "output_type": "stream",
     "text": [
      "Requirement already satisfied: nltk in /Library/Frameworks/Python.framework/Versions/3.10/lib/python3.10/site-packages (3.8.1)\n",
      "Requirement already satisfied: click in /Library/Frameworks/Python.framework/Versions/3.10/lib/python3.10/site-packages (from nltk) (8.1.7)\n",
      "Requirement already satisfied: joblib in /Library/Frameworks/Python.framework/Versions/3.10/lib/python3.10/site-packages (from nltk) (1.3.2)\n",
      "Requirement already satisfied: regex>=2021.8.3 in /Library/Frameworks/Python.framework/Versions/3.10/lib/python3.10/site-packages (from nltk) (2024.5.15)\n",
      "Requirement already satisfied: tqdm in /Library/Frameworks/Python.framework/Versions/3.10/lib/python3.10/site-packages (from nltk) (4.66.4)\n",
      "Note: you may need to restart the kernel to use updated packages.\n"
     ]
    }
   ],
   "source": [
    "pip install nltk"
   ]
  },
  {
   "cell_type": "code",
   "execution_count": 4,
   "metadata": {},
   "outputs": [],
   "source": [
    "from collections import defaultdict, Counter\n",
    "import nltk\n",
    "from nltk.util import ngrams\n",
    "import random"
   ]
  },
  {
   "cell_type": "code",
   "execution_count": 5,
   "metadata": {},
   "outputs": [
    {
     "name": "stdout",
     "output_type": "stream",
     "text": [
      "                                              id  \\\n",
      "59770   e44535866d0ffef16786e9ab2dccbf3c4d690778   \n",
      "21362   2c7fb7b897db7f304961e919cd5ef1a5a93877a4   \n",
      "127324  edf5aaf6c48a14789eec105b32a5ccb3efe5970a   \n",
      "140509  47b7bda07fc0f09b7c8f4fe52e8d63ce22d0ee9e   \n",
      "144297  7a37e591a3250e5791f1238e0092e728decf7100   \n",
      "\n",
      "                                          cleaned_article  \\\n",
      "59770   gerri peev matt chorley published est may upda...   \n",
      "21362   cnn five cent chinese yuan coin gave tan yuan ...   \n",
      "127324  victoria woollaston keeping track polar bear p...   \n",
      "140509  katie davy published est march updated est mar...   \n",
      "144297  ted thornhill published est january updated es...   \n",
      "\n",
      "                                       cleaned_highlights  \n",
      "59770   poll reveals voter trust current leader le pre...  \n",
      "21362   tan yuan yuan san francisco ballet principal d...  \n",
      "127324  researcher tracked polar bear canada using hig...  \n",
      "140509  celebration underway across u today day extrav...  \n",
      "144297  jerome hauer reportedly used laser sighting po...  \n"
     ]
    }
   ],
   "source": [
    "sampled_data = data.sample(n=1500, random_state=42)\n",
    "print(sampled_data.head())"
   ]
  },
  {
   "cell_type": "code",
   "execution_count": 6,
   "metadata": {},
   "outputs": [],
   "source": [
    "def generate_ngrams(text, n):\n",
    "    tokens = text.split()\n",
    "    return list(ngrams(tokens, n))\n",
    "\n",
    "def build_ngram_model(data, n=3):\n",
    "    ngram_model = defaultdict(Counter)\n",
    "    for article in data['cleaned_article']:\n",
    "        ngrams_list = generate_ngrams(article, n)\n",
    "        for ngram in ngrams_list:\n",
    "            prefix = ngram[:-1]\n",
    "            next_word = ngram[-1]\n",
    "            ngram_model[prefix][next_word] +=1\n",
    "    return ngram_model\n",
    "\n",
    "ngram_model = build_ngram_model(sampled_data, n=3)\n"
   ]
  },
  {
   "cell_type": "code",
   "execution_count": 7,
   "metadata": {},
   "outputs": [],
   "source": [
    "def generate_summary(model, start_words, max_length = 40):\n",
    "    current_words = tuple(start_words.split()[:2])\n",
    "    summary = list(current_words)\n",
    "\n",
    "    for _ in range(max_length - len(current_words)):\n",
    "        if current_words in model:\n",
    "            next_word_candidates = model[current_words]\n",
    "            next_word = random.choices(list(next_word_candidates.keys()), weights=next_word_candidates.values())[0]\n",
    "            summary.append(next_word)\n",
    "            current_words = tuple(summary[-2:])\n",
    "        else:\n",
    "            break\n",
    "    return ' '.join(summary)"
   ]
  },
  {
   "cell_type": "code",
   "execution_count": 8,
   "metadata": {},
   "outputs": [
    {
     "name": "stdout",
     "output_type": "stream",
     "text": [
      "daily mail angry hurt jury discharged burst tear whole thing difficult frightening recognising bellfield court giving evidence dewani middle man tasked tongo recruiting killer spared prosecution return giving evidence mcmurray senior told jury snaresbrook crown court august driver bus told\n"
     ]
    }
   ],
   "source": [
    "#Exmaple usage\n",
    "start_words = 'daily mail reporter'\n",
    "summary = generate_summary(ngram_model, start_words)\n",
    "print(summary)"
   ]
  },
  {
   "cell_type": "code",
   "execution_count": 9,
   "metadata": {},
   "outputs": [
    {
     "name": "stdout",
     "output_type": "stream",
     "text": [
      "Requirement already satisfied: rouge in /Library/Frameworks/Python.framework/Versions/3.10/lib/python3.10/site-packages (1.0.1)\n",
      "Requirement already satisfied: six in /Library/Frameworks/Python.framework/Versions/3.10/lib/python3.10/site-packages (from rouge) (1.16.0)\n",
      "Note: you may need to restart the kernel to use updated packages.\n"
     ]
    }
   ],
   "source": [
    "pip install rouge"
   ]
  },
  {
   "cell_type": "code",
   "execution_count": 10,
   "metadata": {},
   "outputs": [],
   "source": [
    "from rouge import Rouge\n",
    "def evaluate_summary(reference, generated):\n",
    "    rouge = Rouge()\n",
    "    scores = rouge.get_scores(generated, reference, avg=True)\n",
    "    return scores\n",
    "\n",
    "# Generate and evaluate summaries for the sampled data\n",
    "results = []\n",
    "for index, row in sampled_data.iterrows():\n",
    "    start_words = ' '.join(row['cleaned_article'].split()[:3])\n",
    "    generated_summary = generate_summary(ngram_model, start_words)\n",
    "    reference_summary = row['cleaned_highlights']\n",
    "    scores = evaluate_summary(reference_summary, generated_summary)\n",
    "    results.append({\n",
    "        'id': row['id'],\n",
    "        'generated_summary': generated_summary,\n",
    "        'reference_summary': reference_summary,\n",
    "        'rouge_scores': scores\n",
    "    })\n",
    "\n",
    "# Sort results by ROUGE-1 F1 score in descending order\n",
    "sorted_results = sorted(results, key=lambda x: x['rouge_scores']['rouge-1']['f'], reverse=True)"
   ]
  },
  {
   "cell_type": "code",
   "execution_count": 11,
   "metadata": {},
   "outputs": [
    {
     "name": "stdout",
     "output_type": "stream",
     "text": [
      "Article ID: 10886eec4f22bc5366ff9653746dd67b5d8ec874\n",
      "Generated Summary: spelling error including trail instead trial sited rather cited manger instead manager yearold taught science served freshman girl basketball coach academy school student said hoped case would accelerate slow slow said start one omarska guard testified released served twothirds sevenyear\n",
      "Reference Summary: spelling error including trail instead trial sited rather cited manger instead manager yearold taught science new york year\n",
      "ROUGE Scores: {'rouge-1': {'r': 0.8235294117647058, 'p': 0.3888888888888889, 'f': 0.5283018824350303}, 'rouge-2': {'r': 0.8235294117647058, 'p': 0.358974358974359, 'f': 0.49999999577168375}, 'rouge-l': {'r': 0.8235294117647058, 'p': 0.3888888888888889, 'f': 0.5283018824350303}}\n",
      "\n",
      "\n",
      "Article ID: 6cd1aa494e1c18d98eba4ddb2fa68c6557858479\n",
      "Generated Summary: cnn peter hedblom overcame finalround charge fellow swedish golfer martin erlandsson win johnnie walker championship one shot adrift thirdround leader hedblom surged leaderboard sensational underpar set clubhouse lead yearold third gleneagles two year probation fined also ordered vehicle said goodbye\n",
      "Reference Summary: peter hedblom win johnnie walker championship one shot scotland swede card fiveunderpar hold compatriot martin erlandsson erlandsson closed superb set clubhouse lead hedblom parred last two hole clinch third european tour title\n",
      "ROUGE Scores: {'rouge-1': {'r': 0.5, 'p': 0.38461538461538464, 'f': 0.4347826037807184}, 'rouge-2': {'r': 0.2903225806451613, 'p': 0.23076923076923078, 'f': 0.25714285220816335}, 'rouge-l': {'r': 0.4, 'p': 0.3076923076923077, 'f': 0.34782608204158794}}\n",
      "\n",
      "\n",
      "Article ID: c2b71736efe9baf4c217f461181be2a12a561ac4\n",
      "Generated Summary: paintworks soak light daylight hour glow darkness travelodge created uk first night sky room great concept help destress long day extra cost completed time safety certificate issued host five rugby world cup well abu dhabis massive guggenheim louvre museum scheduled\n",
      "Reference Summary: paintworks soak light daylight hour glow darkness travelodge created uk first night sky panorama hotel room response finding latest sleep study investigated nation desirable sleeping location\n",
      "ROUGE Scores: {'rouge-1': {'r': 0.5384615384615384, 'p': 0.35, 'f': 0.42424241946740127}, 'rouge-2': {'r': 0.48, 'p': 0.3076923076923077, 'f': 0.37499999523925787}, 'rouge-l': {'r': 0.5384615384615384, 'p': 0.35, 'f': 0.42424241946740127}}\n",
      "\n",
      "\n",
      "Article ID: b40aa3948b5673bfefb21877b0477678f4e01ece\n",
      "Generated Summary: sara malm icelandic brewery launching beer containing dead fin whale claiming healthy lowfat alternative brugghs steja teamed whaling company create beer made whale meal byproduct commercial processing whale make healthy drink according microbrewery high protein file photo woman witnessed shooting\n",
      "Reference Summary: icelandic brewery brugghs steja making beer whale meal steja teamed whaling company make brew real viking environmentalist group outraged risk endangered fin whale\n",
      "ROUGE Scores: {'rouge-1': {'r': 0.5714285714285714, 'p': 0.3333333333333333, 'f': 0.4210526269252078}, 'rouge-2': {'r': 0.3181818181818182, 'p': 0.1794871794871795, 'f': 0.22950819210964807}, 'rouge-l': {'r': 0.38095238095238093, 'p': 0.2222222222222222, 'f': 0.28070174973222534}}\n",
      "\n",
      "\n",
      "Article ID: 678e6b143c594e7f5c978b8f653523237037af75\n",
      "Generated Summary: cnn alleged wouldbe smuggler caught thailand airport dozen rare wildlife including snake squirrel tortoise stuffed three suitcase wildlife monitoring organization say indonesian man whose career held promise early total recall million diary wimpy kid dog day though wont smash studio\n",
      "Reference Summary: indonesian man arrested airport thailand wildlife monitoring group say three suitcase stuffed rare creature traffic say tortoise lizard spider parrot luggage say\n",
      "ROUGE Scores: {'rouge-1': {'r': 0.6, 'p': 0.3076923076923077, 'f': 0.4067796565354784}, 'rouge-2': {'r': 0.14285714285714285, 'p': 0.07692307692307693, 'f': 0.09999999545000023}, 'rouge-l': {'r': 0.25, 'p': 0.1282051282051282, 'f': 0.16949152094225808}}\n",
      "\n",
      "\n",
      "Article ID: 6ac4f02d69d120d5a8570214affcf2f14908d8ad\n",
      "Generated Summary: cnn physicianassisted suicide mandated law reporting process oregon physicianassisted suicide violate constitution case washington v glucksberg court left matter constitutionality right physician aid dying state october oregon death dignity initiative appears november ballot announced indicated bond clemens sosa total announced\n",
      "Reference Summary: legal montana oregon vermont washington bernalillo county new mexico process reporting application death varies state u supreme court ruled state law banning physicianassisted suicide violate constitution\n",
      "ROUGE Scores: {'rouge-1': {'r': 0.48, 'p': 0.3333333333333333, 'f': 0.3934426181134104}, 'rouge-2': {'r': 0.12, 'p': 0.07894736842105263, 'f': 0.09523809045099545}, 'rouge-l': {'r': 0.2, 'p': 0.1388888888888889, 'f': 0.16393442139209904}}\n",
      "\n",
      "\n",
      "Article ID: 5a4b79a905172cd00b2187c70ce3b25b6452805a\n",
      "Generated Summary: andre agassi smashed prized wimbledon cup every tennis trophy jealous rage girlfriend brooke shield right watching sound stage guest star shield licked finger joey played matt leblanc threw head back headbutted hitting bridge nose causing blackout couple second dancer walked\n",
      "Reference Summary: andre agassi smashed wimbledon u open trophy jealous rage actress brooke shield said stormed set filming friend tennis star angry licked joeys finger started laughing told actress made look like fool scene matt leblanc revealed took three year trophy replaced\n",
      "ROUGE Scores: {'rouge-1': {'r': 0.39473684210526316, 'p': 0.38461538461538464, 'f': 0.389610384611233}, 'rouge-2': {'r': 0.15384615384615385, 'p': 0.15384615384615385, 'f': 0.15384614884615402}, 'rouge-l': {'r': 0.3684210526315789, 'p': 0.358974358974359, 'f': 0.363636358637207}}\n",
      "\n",
      "\n",
      "Article ID: fb25df8e0b320c4860dcf1638551b419bcc4920e\n",
      "Generated Summary: moment high drama usually involve burnt cake soggy bottom viewer great british bakeoff bbc instead passing tactfully incident producer treated show dedicated fan closeup shot bloodsoaked hand took twitter facebook said deeply saddened news incident started yearold daughter gardening tool\n",
      "Reference Summary: john whaite manchester forced withdraw round instead passing incident producer showed closeup shot hand fan took twitter saying expect see blood show\n",
      "ROUGE Scores: {'rouge-1': {'r': 0.5, 'p': 0.28205128205128205, 'f': 0.36065573309325455}, 'rouge-2': {'r': 0.19047619047619047, 'p': 0.10256410256410256, 'f': 0.13333332878333348}, 'rouge-l': {'r': 0.4090909090909091, 'p': 0.23076923076923078, 'f': 0.2950819626014513}}\n",
      "\n",
      "\n",
      "Article ID: 3c5b5fc95250ccb3ea6461b0baf573c7f78c3306\n",
      "Generated Summary: jenny awford mailonline oswald lewis also suspect violent stabbing tracked apartment queen new york william rufus de vane king franklin pierce vp william r king sworn office cuba becoming executive officer company computergenerated voice accompanied vision anonymous group condemned two\n",
      "Reference Summary: oswald lewis arrested apartment queen new york wanted two decade cocaine trafficking charge fugitive also suspect violent brooklyn stabbing fired officer surrendered shot hand lewis expected appear federal court brooklyn later week\n",
      "ROUGE Scores: {'rouge-1': {'r': 0.4, 'p': 0.3157894736842105, 'f': 0.35294117153979243}, 'rouge-2': {'r': 0.1935483870967742, 'p': 0.15384615384615385, 'f': 0.1714285664938777}, 'rouge-l': {'r': 0.23333333333333334, 'p': 0.18421052631578946, 'f': 0.20588234801038074}}\n",
      "\n",
      "\n",
      "Article ID: 08a1563bccf8ed7526f2409fef7bd210faabc77e\n",
      "Generated Summary: cnnprivate spaceflight company spacex scrubbed scheduled rocket launch tuesday planned attempt pioneering step landing rocket stage reuse target x mark spot company try soft landing falcon first stage stellar development startobe ball gas dust contracting force gravity sun moon could\n",
      "Reference Summary: problem thrust vector actuator second stage space x say spacexs scheduled launch tuesday aborted next possible attempt friday first company plan try land rocket first stage\n",
      "ROUGE Scores: {'rouge-1': {'r': 0.4166666666666667, 'p': 0.2777777777777778, 'f': 0.3333333285333334}, 'rouge-2': {'r': 0.08, 'p': 0.05128205128205128, 'f': 0.06249999523925818}, 'rouge-l': {'r': 0.3333333333333333, 'p': 0.2222222222222222, 'f': 0.2666666618666667}}\n",
      "\n",
      "\n",
      "Explanation of ROUGE scores:\n",
      "ROUGE-1, ROUGE-2, and ROUGE-L measure different aspects of overlap between the generated and reference summaries.\n",
      " - 'r' (Recall): Measures how much of the reference summary is captured by the generated summary.\n",
      " - 'p' (Precision): Measures how much of the generated summary is relevant compared to the reference summary.\n",
      " - 'f' (F1 Score): Harmonic mean of precision and recall, providing a balance between the two.\n"
     ]
    }
   ],
   "source": [
    "# Display the top 10 results\n",
    "top_results = sorted_results[:10]\n",
    "\n",
    "for result in top_results:\n",
    "    print(f\"Article ID: {result['id']}\")\n",
    "    print(f\"Generated Summary: {result['generated_summary']}\")\n",
    "    print(f\"Reference Summary: {result['reference_summary']}\")\n",
    "    print(f\"ROUGE Scores: {result['rouge_scores']}\")\n",
    "    print(\"\\n\")\n",
    "\n",
    "# Explanation of ROUGE scores\n",
    "print(\"Explanation of ROUGE scores:\")\n",
    "print(\"ROUGE-1, ROUGE-2, and ROUGE-L measure different aspects of overlap between the generated and reference summaries.\")\n",
    "print(\" - 'r' (Recall): Measures how much of the reference summary is captured by the generated summary.\")\n",
    "print(\" - 'p' (Precision): Measures how much of the generated summary is relevant compared to the reference summary.\")\n",
    "print(\" - 'f' (F1 Score): Harmonic mean of precision and recall, providing a balance between the two.\")\n"
   ]
  },
  {
   "cell_type": "code",
   "execution_count": null,
   "metadata": {},
   "outputs": [],
   "source": []
  }
 ],
 "metadata": {
  "kernelspec": {
   "display_name": "Python 3",
   "language": "python",
   "name": "python3"
  },
  "language_info": {
   "codemirror_mode": {
    "name": "ipython",
    "version": 3
   },
   "file_extension": ".py",
   "mimetype": "text/x-python",
   "name": "python",
   "nbconvert_exporter": "python",
   "pygments_lexer": "ipython3",
   "version": "3.10.7"
  }
 },
 "nbformat": 4,
 "nbformat_minor": 2
}
