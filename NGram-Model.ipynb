{
 "cells": [
  {
   "cell_type": "code",
   "execution_count": 1,
   "metadata": {},
   "outputs": [],
   "source": [
    "import pandas as pd"
   ]
  },
  {
   "cell_type": "code",
   "execution_count": 2,
   "metadata": {},
   "outputs": [
    {
     "name": "stdout",
     "output_type": "stream",
     "text": [
      "                                         id  \\\n",
      "0  1211a23db42e7dd52a43e564a899ebbf1b2d1251   \n",
      "1  aff92aa2fc6e294efeeed70e9b0a0aefac32b030   \n",
      "2  bb7757b7bf3d90ec4f1d1915a4699eecafc25d1a   \n",
      "3  8f25b2c54cb563b98e1f2619401df7137a3f0c77   \n",
      "4  daa6ca8fe860fa70bed00e2bfd05ab7414b7cb0e   \n",
      "\n",
      "                                     cleaned_article  \\\n",
      "0  daily mail reporter published est june updated...   \n",
      "1  lizzie parry mailonline young cancer victim to...   \n",
      "2  rebel aided al qaedalinked militant seized con...   \n",
      "3  cnn two right group launched stinging critique...   \n",
      "4  cnn puffing electronic cigarette already nono ...   \n",
      "\n",
      "                                  cleaned_highlights  \n",
      "0  president barack obamas top national security ...  \n",
      "1  sophie walton diagnosed bone cancer discoverin...  \n",
      "2  israeli military closed area around crossing o...  \n",
      "3  new trial resume kremlin critic aleksei navaln...  \n",
      "4  government proposes explicitly ban use electro...  \n"
     ]
    }
   ],
   "source": [
    "data = pd.read_csv('/Users/sebastiansoderberg/Documents/CBS/Master/2nd Semester/NLP/NLP Exam/cleaned_data.csv')\n",
    "print(data.head())"
   ]
  },
  {
   "cell_type": "code",
   "execution_count": 4,
   "metadata": {},
   "outputs": [
    {
     "name": "stdout",
     "output_type": "stream",
     "text": [
      "Collecting nltk\n",
      "  Downloading nltk-3.8.1-py3-none-any.whl.metadata (2.8 kB)\n",
      "Collecting click (from nltk)\n",
      "  Downloading click-8.1.7-py3-none-any.whl.metadata (3.0 kB)\n",
      "Requirement already satisfied: joblib in /Library/Frameworks/Python.framework/Versions/3.10/lib/python3.10/site-packages (from nltk) (1.3.2)\n",
      "Collecting regex>=2021.8.3 (from nltk)\n",
      "  Downloading regex-2024.5.15-cp310-cp310-macosx_10_9_x86_64.whl.metadata (40 kB)\n",
      "\u001b[2K     \u001b[90m━━━━━━━━━━━━━━━━━━━━━━━━━━━━━━━━━━━━━━━━\u001b[0m \u001b[32m40.9/40.9 kB\u001b[0m \u001b[31m2.1 MB/s\u001b[0m eta \u001b[36m0:00:00\u001b[0m\n",
      "\u001b[?25hCollecting tqdm (from nltk)\n",
      "  Downloading tqdm-4.66.4-py3-none-any.whl.metadata (57 kB)\n",
      "\u001b[2K     \u001b[90m━━━━━━━━━━━━━━━━━━━━━━━━━━━━━━━━━━━━━━━━\u001b[0m \u001b[32m57.6/57.6 kB\u001b[0m \u001b[31m2.4 MB/s\u001b[0m eta \u001b[36m0:00:00\u001b[0m\n",
      "\u001b[?25hDownloading nltk-3.8.1-py3-none-any.whl (1.5 MB)\n",
      "\u001b[2K   \u001b[90m━━━━━━━━━━━━━━━━━━━━━━━━━━━━━━━━━━━━━━━━\u001b[0m \u001b[32m1.5/1.5 MB\u001b[0m \u001b[31m17.6 MB/s\u001b[0m eta \u001b[36m0:00:00\u001b[0m00:01\u001b[0m00:01\u001b[0m\n",
      "\u001b[?25hDownloading regex-2024.5.15-cp310-cp310-macosx_10_9_x86_64.whl (281 kB)\n",
      "\u001b[2K   \u001b[90m━━━━━━━━━━━━━━━━━━━━━━━━━━━━━━━━━━━━━━━━\u001b[0m \u001b[32m281.7/281.7 kB\u001b[0m \u001b[31m6.1 MB/s\u001b[0m eta \u001b[36m0:00:00\u001b[0m:00:01\u001b[0m\n",
      "\u001b[?25hDownloading click-8.1.7-py3-none-any.whl (97 kB)\n",
      "\u001b[2K   \u001b[90m━━━━━━━━━━━━━━━━━━━━━━━━━━━━━━━━━━━━━━━━\u001b[0m \u001b[32m97.9/97.9 kB\u001b[0m \u001b[31m4.1 MB/s\u001b[0m eta \u001b[36m0:00:00\u001b[0m\n",
      "\u001b[?25hDownloading tqdm-4.66.4-py3-none-any.whl (78 kB)\n",
      "\u001b[2K   \u001b[90m━━━━━━━━━━━━━━━━━━━━━━━━━━━━━━━━━━━━━━━━\u001b[0m \u001b[32m78.3/78.3 kB\u001b[0m \u001b[31m3.2 MB/s\u001b[0m eta \u001b[36m0:00:00\u001b[0m\n",
      "\u001b[?25hInstalling collected packages: tqdm, regex, click, nltk\n",
      "Successfully installed click-8.1.7 nltk-3.8.1 regex-2024.5.15 tqdm-4.66.4\n",
      "Note: you may need to restart the kernel to use updated packages.\n"
     ]
    }
   ],
   "source": [
    "pip install nltk"
   ]
  },
  {
   "cell_type": "code",
   "execution_count": 5,
   "metadata": {},
   "outputs": [],
   "source": [
    "from collections import defaultdict, Counter\n",
    "import nltk\n",
    "from nltk.util import ngrams\n",
    "import random"
   ]
  },
  {
   "cell_type": "code",
   "execution_count": 9,
   "metadata": {},
   "outputs": [
    {
     "name": "stdout",
     "output_type": "stream",
     "text": [
      "                                              id  \\\n",
      "59770   e44535866d0ffef16786e9ab2dccbf3c4d690778   \n",
      "21362   2c7fb7b897db7f304961e919cd5ef1a5a93877a4   \n",
      "127324  edf5aaf6c48a14789eec105b32a5ccb3efe5970a   \n",
      "140509  47b7bda07fc0f09b7c8f4fe52e8d63ce22d0ee9e   \n",
      "144297  7a37e591a3250e5791f1238e0092e728decf7100   \n",
      "\n",
      "                                          cleaned_article  \\\n",
      "59770   gerri peev matt chorley published est may upda...   \n",
      "21362   cnn five cent chinese yuan coin gave tan yuan ...   \n",
      "127324  victoria woollaston keeping track polar bear p...   \n",
      "140509  katie davy published est march updated est mar...   \n",
      "144297  ted thornhill published est january updated es...   \n",
      "\n",
      "                                       cleaned_highlights  \n",
      "59770   poll reveals voter trust current leader le pre...  \n",
      "21362   tan yuan yuan san francisco ballet principal d...  \n",
      "127324  researcher tracked polar bear canada using hig...  \n",
      "140509  celebration underway across u today day extrav...  \n",
      "144297  jerome hauer reportedly used laser sighting po...  \n"
     ]
    }
   ],
   "source": [
    "sampled_data = data.sample(n=150, random_state=42)\n",
    "print(sampled_data.head())"
   ]
  },
  {
   "cell_type": "code",
   "execution_count": 10,
   "metadata": {},
   "outputs": [],
   "source": [
    "def generate_ngrams(text, n):\n",
    "    tokens = text.split()\n",
    "    return list(ngrams(tokens, n))\n",
    "\n",
    "def build_ngram_model(data, n=3):\n",
    "    ngram_model = defaultdict(Counter)\n",
    "    for article in data['cleaned_article']:\n",
    "        ngrams_list = generate_ngrams(article, n)\n",
    "        for ngram in ngrams_list:\n",
    "            prefix = ngram[:-1]\n",
    "            next_word = ngram[-1]\n",
    "            ngram_model[prefix][next_word] +=1\n",
    "    return ngram_model\n",
    "\n",
    "ngram_model = build_ngram_model(sampled_data, n=3)\n"
   ]
  },
  {
   "cell_type": "code",
   "execution_count": 12,
   "metadata": {},
   "outputs": [],
   "source": [
    "def generate_summary(model, start_words, max_length = 80):\n",
    "    current_words = tuple(start_words.split()[:2])\n",
    "    summary = list(current_words)\n",
    "\n",
    "    for _ in range(max_length - len(current_words)):\n",
    "        if current_words in model:\n",
    "            next_word_candidates = model[current_words]\n",
    "            next_word = random.choices(list(next_word_candidates.keys()), weights=next_word_candidates.values())[0]\n",
    "            summary.append(next_word)\n",
    "            current_words = tuple(summary[-2:])\n",
    "        else:\n",
    "            break\n",
    "    return ' '.join(summary)"
   ]
  },
  {
   "cell_type": "code",
   "execution_count": 13,
   "metadata": {},
   "outputs": [
    {
     "name": "stdout",
     "output_type": "stream",
     "text": [
      "daily mail last year drink driving incident one user commented hope doesnt get p stack wd afterwards stevens hit back saying theory false flatly rejected president clinton receives flower girl tuesday upon landing pyongyang north korea trip lot nostalgia pyongyang administration relation north korea much time devoted global philanthropic interest speech clinton never strayed far campaign trail remains one world recognizable statesman clinton jumped back onto world stage tuesday unannounced trip north korea u stronger said john mill chairman shopping\n"
     ]
    }
   ],
   "source": [
    "#Exmaple usage\n",
    "start_words = 'daily mail reporter'\n",
    "summary = generate_summary(ngram_model, start_words)\n",
    "print(summary)"
   ]
  },
  {
   "cell_type": "code",
   "execution_count": 16,
   "metadata": {},
   "outputs": [
    {
     "name": "stdout",
     "output_type": "stream",
     "text": [
      "Collecting rouge\n",
      "  Downloading rouge-1.0.1-py3-none-any.whl.metadata (4.1 kB)\n",
      "Requirement already satisfied: six in /Library/Frameworks/Python.framework/Versions/3.10/lib/python3.10/site-packages (from rouge) (1.16.0)\n",
      "Downloading rouge-1.0.1-py3-none-any.whl (13 kB)\n",
      "Installing collected packages: rouge\n",
      "Successfully installed rouge-1.0.1\n",
      "Note: you may need to restart the kernel to use updated packages.\n"
     ]
    }
   ],
   "source": [
    "pip install rouge"
   ]
  },
  {
   "cell_type": "code",
   "execution_count": 23,
   "metadata": {},
   "outputs": [],
   "source": [
    "from rouge import Rouge\n",
    "def evaluate_summary(reference, generated):\n",
    "    rouge = Rouge()\n",
    "    scores = rouge.get_scores(generated, reference, avg=True)\n",
    "    return scores\n",
    "\n",
    "# Generate and evaluate summaries for the sampled data\n",
    "results = []\n",
    "for index, row in sampled_data.iterrows():\n",
    "    start_words = ' '.join(row['cleaned_article'].split()[:3])\n",
    "    generated_summary = generate_summary(ngram_model, start_words)\n",
    "    reference_summary = row['cleaned_highlights']\n",
    "    scores = evaluate_summary(reference_summary, generated_summary)\n",
    "    results.append({\n",
    "        'id': row['id'],\n",
    "        'generated_summary': generated_summary,\n",
    "        'reference_summary': reference_summary,\n",
    "        'rouge_scores': scores\n",
    "    })\n",
    "\n",
    "# Sort results by ROUGE-1 F1 score in descending order\n",
    "sorted_results = sorted(results, key=lambda x: x['rouge_scores']['rouge-1']['f'], reverse=True)"
   ]
  },
  {
   "cell_type": "code",
   "execution_count": 24,
   "metadata": {},
   "outputs": [
    {
     "name": "stdout",
     "output_type": "stream",
     "text": [
      "Article ID: 4275495cbab368496369e875568dad4a839e971b\n",
      "Generated Summary: ewcom mischief phil get ew learned exclusively kevin hart little fockers signed gueststarring role modern family hell play andre new neighbor phil dunphy happens physician yearold comedian see familiar face begin production abc comedy costarred opposite sofia vergara movie soul plane recently hart hartbeat production notched unexpected victory box office debut standup film laugh pain follows recent national tour run stop hometown philadelphia debuted inside box office top ranking pulled nearly million people pub crawl going weekend boston beer garden\n",
      "Reference Summary: kevin hart play andre new neighbor phil dunphy hart costarred opposite sofia vergara movie soul plane hart notched unexpected victory box office\n",
      "ROUGE Scores: {'rouge-1': {'r': 1.0, 'p': 0.26666666666666666, 'f': 0.4210526282548477}, 'rouge-2': {'r': 0.7619047619047619, 'p': 0.20512820512820512, 'f': 0.32323231988980716}, 'rouge-l': {'r': 1.0, 'p': 0.26666666666666666, 'f': 0.4210526282548477}}\n",
      "\n",
      "\n",
      "Article ID: a97b82a0812d7204c41d95fdf148ab2804cdf1f4\n",
      "Generated Summary: john obi mikel r battle olivier giroud c escaped warning appearing elbow john obi mikel r battle olivier giroud appears aim elbow john obi mikel r battle olivier giroud c escaped warning appearing elbow john obi mikel round clash let olivier giroud c escaped warning appearing elbow john obi mikel compete ball france victory nigeria telling u referee mark geiger send chelsea midfielder whose nigeria team lost france world cup live forever cant remember moment bad fairytale lambert completed dream\n",
      "Reference Summary: france defeated nigeria world cup round clash brazil john obi mikel insists olivier giroud sent elbowing referee mark geiger saw incident gave arsenal striker warning nigeria also upset challenge ogenyi onazi left suspected broken ankle\n",
      "ROUGE Scores: {'rouge-1': {'r': 0.4411764705882353, 'p': 0.3333333333333333, 'f': 0.3797468305399776}, 'rouge-2': {'r': 0.20588235294117646, 'p': 0.14285714285714285, 'f': 0.16867469395848467}, 'rouge-l': {'r': 0.2647058823529412, 'p': 0.2, 'f': 0.22784809636276251}}\n",
      "\n",
      "\n",
      "Article ID: 1985775060e1c196fab2140813e2565cd77b1e7b\n",
      "Generated Summary: anyone watching weight tellspec perfect gadget keyring sized sensor tell exactly many calorie food simply scanning small handheld gadget work scanning food uploading data special web server analysed information allergen chemical nutrient calorie ingredient food firm say fast simple easytouse way learn whats food tellspec identify allergen chemical nutrient calorie ingredient food small scanner contains spectrometer analyse chemical compound food canadian inventor claim tell allergen chemical nutrient calorie ingredient food small scanner contains spectrometer analyse chemical compound food canadian inventor\n",
      "Reference Summary: tellspec contains spectrometer analyse chemical compound food keyringsized device also list allergen chemical nutrient ingredient food well calorie canadian creator hope raise fund via crowdsourcing site indiegogo gadget even scan food plastic\n",
      "ROUGE Scores: {'rouge-1': {'r': 0.4482758620689655, 'p': 0.2765957446808511, 'f': 0.34210525843836564}, 'rouge-2': {'r': 0.25806451612903225, 'p': 0.13559322033898305, 'f': 0.17777777326172853}, 'rouge-l': {'r': 0.3448275862068966, 'p': 0.2127659574468085, 'f': 0.2631578900173131}}\n",
      "\n",
      "\n",
      "Article ID: c1887adae038f8d5c5697e267a081dd7856e1cb4\n",
      "Generated Summary: beijing china cnn head china quality watchdog reported resigned tainted baby milk powder dairy across china crisis initially thought confined baby milk powder dairy across china crisis initially thought confined baby milk powder dairy across china crisis initially thought confined baby milk scandal killed four child sickened nearly others official xinhua news agency said report mussel badly worded presence mussel would argument dredging protected specie living river dredging would revelation came emerged eu waste regulation made regular dredging britain river\n",
      "Reference Summary: head china quality watchdog resigns tainted baby formula scandal representative said scandal show flaw china food supply chain four infant china dead reported ill tainted milk powder\n",
      "ROUGE Scores: {'rouge-1': {'r': 0.5217391304347826, 'p': 0.23529411764705882, 'f': 0.32432432004017536}, 'rouge-2': {'r': 0.19230769230769232, 'p': 0.08620689655172414, 'f': 0.11904761477324279}, 'rouge-l': {'r': 0.34782608695652173, 'p': 0.1568627450980392, 'f': 0.21621621193206728}}\n",
      "\n",
      "\n",
      "Article ID: 6e0375a6eed1298da9fbbf0ed6bc67fec2cd25ad\n",
      "Generated Summary: recent fatherdaughter dance miami held unusual location miami federal detention center miami pedro bello adjusts tie mirror daddy daughter dance federal detention center miami dance attended national law enforcement official including bop director u attorney office federal court atlanta name defendant gaston glock complete control trust lawsuit say divorced gaston glock claim bilked family inheritance scheming shell company around globe several lawyer previously represented glock inc legal dispute immediately respond voice message gun battle helga glock left percent interest company\n",
      "Reference Summary: inmate daughter gathered prison meeting room transformed ballroom two hour dance attended national law enforcement official including bop director u attorney southern district florida official hope hold similar dance federal prison around nation\n",
      "ROUGE Scores: {'rouge-1': {'r': 0.4666666666666667, 'p': 0.21212121212121213, 'f': 0.29166666236979166}, 'rouge-2': {'r': 0.34375, 'p': 0.14666666666666667, 'f': 0.2056074724430082}, 'rouge-l': {'r': 0.4666666666666667, 'p': 0.21212121212121213, 'f': 0.29166666236979166}}\n",
      "\n",
      "\n",
      "Article ID: e7b744da64dc39ae8ab5fa067437fccf61f2e86d\n",
      "Generated Summary: wearing huge doorknocker nose may epitome high fashion u catwalk trend hitting high street look first seen givenchys autumnwinter fashion show paris designer ricardo tisci sent male female model runway intricately embellished oversized nose ring wing jet crystal detail sale barneys wearing septum ring cost doesnt require nose pierced born way lady gaga posted video hole punched nostril scarlett johansson done way back year punkthemed costume institute gala metropolitan museum art wearing septum ring year left school gcse helping stepfather\n",
      "Reference Summary: huge embellished septum ring seen givenchys aw catwalk male female model wore elaborate jewellery givenchys gold hoop cost hundred pound asoscom brought stainless steel clipon version lady gaga septum pierced last week\n",
      "ROUGE Scores: {'rouge-1': {'r': 0.4666666666666667, 'p': 0.2028985507246377, 'f': 0.2828282786042241}, 'rouge-2': {'r': 0.16129032258064516, 'p': 0.06493506493506493, 'f': 0.09259258849965725}, 'rouge-l': {'r': 0.3333333333333333, 'p': 0.14492753623188406, 'f': 0.20202019779614333}}\n",
      "\n",
      "\n",
      "Article ID: 919aa94d228a522397fca9c4a4de0c027353997b\n",
      "Generated Summary: year scientist thought eternal flame fall small waterfall shale creek preserve chestnut ridge park small chamber waterfall produce natural gas keep flame alight researcher indiana university since discovered way gas produced rock beneath gas used keep flame burning case new york gas seep also feature highest concentration ethane propane seep world according study flibanserin seemed like potential answer many u food drug administration rejected application greenlight drug sprout pharmaceutical pursuing approval drug appealed fda recent decision scheduled meeting fda official\n",
      "Reference Summary: thousand eternal flame across world usually kept alight gas formed boiling hot ancient rock rock found beneath new york flame chestnut ridge county park arent hot enough produce gas\n",
      "ROUGE Scores: {'rouge-1': {'r': 0.52, 'p': 0.19117647058823528, 'f': 0.279569888542028}, 'rouge-2': {'r': 0.10714285714285714, 'p': 0.038461538461538464, 'f': 0.05660376969740149}, 'rouge-l': {'r': 0.32, 'p': 0.11764705882352941, 'f': 0.17204300682159798}}\n",
      "\n",
      "\n",
      "Article ID: 96c5b3f2b8c3489dd99a9e4ff2a090444102dc4d\n",
      "Generated Summary: identity twoyearold boy sixyearold sister died horrific apartment fire pregnant mother hospital giving birth third child revealed joey suarez sibling candra leetch found unconscious huddled together behind living room entertainment center rather primarily video game console may soon become standard practice hospital scientist cambridge used technology identify member staff may unwittingly carrying spreading infection mrsa methicillin resistant staphylococcus aureus antibiotic resistant form common skin bug cause potentially deadly wound infection hospital around death mrsa death cdiff year mids rate rose\n",
      "Reference Summary: blaze broke apartment san bernardino california thursday joey suarez two candra leetch six found huddled behind couch sibling rushed hospital burn declared dead arrival father saul leetch critical condition nd rd degree burn mother angelica suarez giving birth third child time fire informed tragedy newborn daughter taken custody family living illegally property illegal electricity gas\n",
      "ROUGE Scores: {'rouge-1': {'r': 0.3269230769230769, 'p': 0.2328767123287671, 'f': 0.27199999514112005}, 'rouge-2': {'r': 0.09259259259259259, 'p': 0.06329113924050633, 'f': 0.07518796510147581}, 'rouge-l': {'r': 0.17307692307692307, 'p': 0.1232876712328767, 'f': 0.14399999514112016}}\n",
      "\n",
      "\n",
      "Article ID: c19e56a7515e665c94fe201108e57c9eb33f168e\n",
      "Generated Summary: celtic could face disciplinary action uefa fan let flare europa league encounter police moved try stop potential trouble erupting game celtic fan cover eye police spray substance believed c gas game red flare lit away end dinamo zagreb ground spark confrontation stand celtic player look dejected conceding fourth goal dinamo zagreb croatian police intervened appearing spray away supporter liquid near start europa league group winning two six game kris common stefan scepovic goal josip pivaric enough celtic claim three point\n",
      "Reference Summary: report suggest travelling celtic fan let flare european match riot police moved control away fan start game c spay used local police according report celtic went lose europa league match\n",
      "ROUGE Scores: {'rouge-1': {'r': 0.48, 'p': 0.1875, 'f': 0.2696629173084207}, 'rouge-2': {'r': 0.1724137931034483, 'p': 0.06493506493506493, 'f': 0.09433961866678549}, 'rouge-l': {'r': 0.36, 'p': 0.140625, 'f': 0.20224718697134206}}\n",
      "\n",
      "\n",
      "Article ID: 1013c938ba5840f79f604d437e69eb2e10f3c9b7\n",
      "Generated Summary: tara brady new technique away filling instead encourages teeth repair whats procedure involves injection making opening wide dentist far painfree prospect tooth decay technique also used whiten teeth said company reminova ltd set commercialise research based perth scotland process seeking private investment develop eaer tooth decay technique also used whiten teeth said company president chief operating officer cindy whitehead given drug numerous rigorous clinical trial flibanserin positive action drug could spell doom pharmacological effort manage female sexual desire said go\n",
      "Reference Summary: technique developed king college london away filling encourages teeth repair without need injection tooth decay normally removed drilling cavity filled well fighting tooth decay technique also used whiten teeth\n",
      "ROUGE Scores: {'rouge-1': {'r': 0.48, 'p': 0.1791044776119403, 'f': 0.2608695612594518}, 'rouge-2': {'r': 0.3333333333333333, 'p': 0.1267605633802817, 'f': 0.18367346539566856}, 'rouge-l': {'r': 0.48, 'p': 0.1791044776119403, 'f': 0.2608695612594518}}\n",
      "\n",
      "\n",
      "Explanation of ROUGE scores:\n",
      "ROUGE-1, ROUGE-2, and ROUGE-L measure different aspects of overlap between the generated and reference summaries.\n",
      " - 'r' (Recall): Measures how much of the reference summary is captured by the generated summary.\n",
      " - 'p' (Precision): Measures how much of the generated summary is relevant compared to the reference summary.\n",
      " - 'f' (F1 Score): Harmonic mean of precision and recall, providing a balance between the two.\n"
     ]
    }
   ],
   "source": [
    "# Display the top 10 results\n",
    "top_results = sorted_results[:10]\n",
    "\n",
    "for result in top_results:\n",
    "    print(f\"Article ID: {result['id']}\")\n",
    "    print(f\"Generated Summary: {result['generated_summary']}\")\n",
    "    print(f\"Reference Summary: {result['reference_summary']}\")\n",
    "    print(f\"ROUGE Scores: {result['rouge_scores']}\")\n",
    "    print(\"\\n\")\n",
    "\n",
    "# Explanation of ROUGE scores\n",
    "print(\"Explanation of ROUGE scores:\")\n",
    "print(\"ROUGE-1, ROUGE-2, and ROUGE-L measure different aspects of overlap between the generated and reference summaries.\")\n",
    "print(\" - 'r' (Recall): Measures how much of the reference summary is captured by the generated summary.\")\n",
    "print(\" - 'p' (Precision): Measures how much of the generated summary is relevant compared to the reference summary.\")\n",
    "print(\" - 'f' (F1 Score): Harmonic mean of precision and recall, providing a balance between the two.\")\n"
   ]
  },
  {
   "cell_type": "code",
   "execution_count": null,
   "metadata": {},
   "outputs": [],
   "source": []
  }
 ],
 "metadata": {
  "kernelspec": {
   "display_name": "Python 3",
   "language": "python",
   "name": "python3"
  },
  "language_info": {
   "codemirror_mode": {
    "name": "ipython",
    "version": 3
   },
   "file_extension": ".py",
   "mimetype": "text/x-python",
   "name": "python",
   "nbconvert_exporter": "python",
   "pygments_lexer": "ipython3",
   "version": "3.10.7"
  }
 },
 "nbformat": 4,
 "nbformat_minor": 2
}
